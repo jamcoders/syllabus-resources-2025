{
  "cells": [
    {
      "cell_type": "markdown",
      "metadata": {
        "id": "wyJwBjEje4bg"
      },
      "source": [
        "![Reminder to Save](https://github.com/jamcoders/jamcoders-public-2025/blob/main/images/warning.png?raw=true)"
      ]
    },
    {
      "cell_type": "code",
      "execution_count": null,
      "metadata": {
        "id": "USEMKByUhuhT"
      },
      "outputs": [],
      "source": [
        "# Always run this code.\n",
        "%config InteractiveShell.ast_node_interactivity=\"none\"\n",
        "import sys\n",
        "if 'google.colab' in sys.modules:\n",
        "  !pip install --force-reinstall git+https://github.com/jamcoders/jamcoders-public-2025.git --quiet\n",
        "from jamcoders.base_utils import *"
      ]
    },
    {
      "cell_type": "markdown",
      "metadata": {
        "id": "0MMAzJeUfjGb"
      },
      "source": [
        "# Week 3, Day 3A: Intro to Sorting\n"
      ]
    },
    {
      "cell_type": "markdown",
      "metadata": {
        "id": "hTMjCToQhuhT"
      },
      "source": [
        "# Question 1: Selection Sort"
      ]
    },
    {
      "cell_type": "markdown",
      "metadata": {
        "id": "N7dauyZghuhU"
      },
      "source": [
        "Here is the pseudocode for selection sort on a list `lst`:\n",
        "\n",
        "> 1. Set a variable `i=0` (which tracks the current index that we're interested in)\n",
        "> 2. Find the smallest element in `lst[i:]`\n",
        "> 3. If the smallest element in `lst[i:]` is at index `j`, swap `lst[i]` with `lst[j]`.\n",
        "> 4. Repeat steps 2 and 3, incrementing `i` while `i < len(L)`"
      ]
    },
    {
      "cell_type": "markdown",
      "metadata": {
        "id": "lR4BJ1zIhuhU"
      },
      "source": [
        "## 1.2 Selection Sort Code\n",
        "\n",
        "Let's now implement selection sort in code. There are two main functions to implement for selection sort:\n",
        "\n",
        "1. Swap two elements in our input list `L`.\n",
        "2. Find the smallest element in a list\n",
        "\n",
        "Let's start with implementing a function that swaps two elements in `L`.\n",
        "\n",
        "*Hint: You can use a new variable to swap two elements.*"
      ]
    },
    {
      "cell_type": "code",
      "execution_count": null,
      "metadata": {
        "id": "us_FRiw8huhU"
      },
      "outputs": [],
      "source": [
        "def swap(L, i, j):\n",
        "    \"\"\"\n",
        "    Swaps elements L[i] and L[j].\n",
        "\n",
        "    Examples:\n",
        "    - L = [37, 3],         i = 0, j = 1 --> L = [3, 37]\n",
        "    - L = [5, 3, 2, 1, 9], i = 1, j = 3 --> L = [5, 1, 2, 3, 9]\n",
        "\n",
        "    Arguments:\n",
        "        L (list of ints)\n",
        "        i, j (indices to swap)\n",
        "    Returns: None\n",
        "    Side Effects: L has swapped elements L[i] and L[j]\n",
        "    \"\"\"\n",
        "    # YOUR CODE HERE\n",
        "\n",
        "\n",
        "# This tests your solution\n",
        "L = [1, 4, 5, 3, 2, 7, 0]\n",
        "swap(L, 1, 6)\n",
        "assert_equal(want=[1, 0, 5, 3, 2, 7, 4], got=L)\n",
        "\n",
        "swap(L, 0, 2)\n",
        "assert_equal(want=[5, 0, 1, 3, 2, 7, 4], got=L)"
      ]
    },
    {
      "cell_type": "markdown",
      "metadata": {
        "id": "GmKgnH1qhuhV"
      },
      "source": [
        "Now that we've implemented swapping two elements in `L`, let's implement the other main function in selection sort: finding the smallest element in a list `L` starting from index `k`."
      ]
    },
    {
      "cell_type": "code",
      "execution_count": null,
      "metadata": {
        "id": "hZjOInnXhuhV"
      },
      "outputs": [],
      "source": [
        "def find_min_idx(L, k):\n",
        "    \"\"\"\n",
        "    Find the index of the smallest element in L starting from index k\n",
        "\n",
        "    Examples:\n",
        "    - L = [37], k=0 -> 0\n",
        "    - L = [5, 3, 2, 1, 9], k=1 -> 3\n",
        "    - L = [5, 1, 3, 2, 9], k=2 -> 3\n",
        "\n",
        "    Arguments:\n",
        "        L (sorted list of ints)\n",
        "    Returns: (int)\n",
        "    \"\"\"\n",
        "\n",
        "    # YOUR CODE HERE\n",
        "\n",
        "\n",
        "# This tests your solution\n",
        "L = [37]\n",
        "assert_equal(want=0, got=find_min_idx(L, 0))\n",
        "\n",
        "L = [5, 3, 2, 1, 9]\n",
        "assert_equal(want=3, got=find_min_idx(L, 1))\n",
        "assert_equal(want=3, got=find_min_idx(L, 2))\n",
        "assert_equal(want=4, got=find_min_idx(L, 4))"
      ]
    },
    {
      "cell_type": "markdown",
      "metadata": {
        "id": "mqjE825rhuhV"
      },
      "source": [
        "Amazing! We have a function that swaps two elements in a list, and a function that finds the smallest element in a list. Lets combine them together to implement selection sort."
      ]
    },
    {
      "cell_type": "code",
      "execution_count": null,
      "metadata": {
        "id": "pvvLRs67huhV"
      },
      "outputs": [],
      "source": [
        "def selection_sort(L):\n",
        "    \"\"\"\n",
        "    Sorts L using selection sort algorithm.\n",
        "    Arguments: L (list of ints)\n",
        "    Returns: (list of ints)\n",
        "    \"\"\"\n",
        "    # YOUR CODE HERE\n",
        "\n",
        "\n",
        "# This tests your solution\n",
        "L = [1, 4, 5, 3, 2, 7, 0]\n",
        "assert_equal(want=[0, 1, 2, 3, 4, 5, 7], got=selection_sort(L))\n",
        "\n",
        "L = [1, 4, 5, 3, 2, 0, 7]\n",
        "assert_equal(want=[0, 1, 2, 3, 4, 5, 7], got=selection_sort(L))\n",
        "\n",
        "L = [5, 6, 11, 12, 13]\n",
        "assert_equal(want=[5, 6, 11, 12, 13], got=selection_sort(L))\n",
        "\n",
        "L = [12, 11, 13, 5, 6]\n",
        "assert_equal(want=[5, 6, 11, 12, 13], got=selection_sort(L))"
      ]
    },
    {
      "cell_type": "markdown",
      "metadata": {
        "id": "YT8rzG4Be4bk"
      },
      "source": [
        "# Question 2: MergeSort\n",
        "\n",
        "Let's dance with merge sort! https://www.youtube.com/watch?v=XaqR3G_NVoo <br>\n",
        "Write a function ```merge_sort``` that will sort a list of any size. The function should make two recursive calls to itself .\n",
        "\n",
        "\n",
        "__Algorithm Merge Sort:__ Input `L`.\n",
        "    \n",
        "1. Split the list into two equal halves and sort them by calling ```merge_sort``` recursively until it reaches the base case (`len(L) == 1`).  \n",
        "\n",
        "2. Create a new sorted list by merging the two now sorted halves together and return it.\n",
        "\n",
        "```\n",
        "Merge Sort Visualization\n",
        "Sorting Process: [3,6,1,4,7,2,5]\n",
        "\n",
        "     Splitting Phase (Divide)                      Merging Phase (Conquer)\n",
        "┌───────────────────────────────┐          ┌───────────────────────────────┐\n",
        "│         [3,6,1,4,7,2,5]       │          │         [1,2,3,4,5,6,7]       │\n",
        "│         /           \\         │          │         /           \\         │\n",
        "│      [3,6,1,4]    [7,2,5]     │ ======>  │     [1,3,4,6]    [2,5,7]      │\n",
        "│      /     \\       /   \\      │          │      /    \\        /   \\      │\n",
        "│   [3,6]  [1,4]  [7,2]  [5]    │          │   [3,6] [1,4]   [2,7]  [5]    │\n",
        "│   /  \\   /  \\    /  \\         │          │   /  \\   /  \\    /  \\         │\n",
        "└─ [3][6] [1][4] [7][2] ────────┘          └─ [3][6] [1][4]  [7][2] ───────┘\n",
        "```\n",
        "\n",
        "The most complex step in ```merge_sort``` is the merge step (i.e. step 2 above). If we have two sorted lists `L1` and `L2`, we can merge these into a sorted list `Lr` by setting variables `i=0,j=0` and **repeatedly copying the smaller of `L1[i]` and `L2[j]` into `Lr`**. The pseudocode for merging would look like the following\n",
        "\n",
        "```python\n",
        "i = 0, j = 0\n",
        "while i < len(L1) and j < len(L2)\n",
        "    if L1[i] is smaller than L2[j]\n",
        "        copy L1[i] into Lr\n",
        "        increment i\n",
        "    else\n",
        "        copy L2[j] into Lr\n",
        "        increment j\n",
        "\n",
        "copy elements at index i onwards from L1 into Lr\n",
        "copy elements at index j onwards from L2 into Lr\n",
        "```"
      ]
    },
    {
      "cell_type": "code",
      "execution_count": null,
      "metadata": {
        "id": "dCH21TMLWUWk"
      },
      "outputs": [],
      "source": [
        "def merge_lists(L1, L2) :\n",
        "    \"\"\"Merges two lists L1 and L2 using the step 2 above.\n",
        "    Arguments: L1 (list), L2 (list)\n",
        "    Returns: (list)\n",
        "    \"\"\"\n",
        "    # YOUR CODE HERE\n",
        "\n",
        "\n",
        "# This tests your solution\n",
        "L1 = [1, 4, 5]\n",
        "L2 = [2, 3, 6]\n",
        "assert_equal(want=[1, 2, 3, 4, 5, 6], got=merge_lists(L1, L2))\n",
        "\n",
        "M1 = [1, 2, 4]\n",
        "M2 = [3, 5, 7]\n",
        "assert_equal(want=[1, 2, 3, 4, 5, 7], got=merge_lists(M1, M2))\n",
        "\n",
        "N1 = [4, 5]\n",
        "N2 = [1, 2, 3]\n",
        "assert_equal(want=[1, 2, 3, 4, 5], got=merge_lists(N1, N2))\n",
        "\n",
        "O1 = [1, 3]\n",
        "O2 = [2, 4, 5]\n",
        "assert_equal(want=[1, 2, 3, 4, 5], got=merge_lists(O1, O2))"
      ]
    },
    {
      "cell_type": "markdown",
      "metadata": {
        "id": "gAFfVOfHhuhV"
      },
      "source": [
        "Congrats! Now that you've implemented ```merge_lists```, we can use that function to implemente ```merge_sort```."
      ]
    },
    {
      "cell_type": "code",
      "execution_count": null,
      "metadata": {
        "id": "FquzLtfSe4bl"
      },
      "outputs": [],
      "source": [
        "def merge_sort(L):\n",
        "    \"\"\"Sorts the list L of any size using the merge sort algorithm.\n",
        "    Arguments: L (list)\n",
        "    Returns: (list)\n",
        "    \"\"\"\n",
        "\n",
        "    # YOUR CODE HERE (Base case)\n",
        "\n",
        "    # YOUR CODE HERE (Split the list into two halves and call merge_sort on each half)\n",
        "\n",
        "    # YOUR CODE HERE Merge the two lists from the recursive call, return result. Hint: You can use merge_lists here\n",
        "\n",
        "\n",
        "# This tests your solution\n",
        "L = [23, 10, 5, 1, 4]\n",
        "assert_equal(want=[1, 4, 5, 10, 23], got=merge_sort(L))\n",
        "\n",
        "M = [4, 3, 2, 1]\n",
        "assert_equal(want=[1, 2, 3, 4], got=merge_sort(M))\n",
        "\n",
        "N = [-4, 3, 14, 15]\n",
        "assert_equal(want=[-4, 3, 14, 15], got=merge_sort(N))"
      ]
    }
  ],
  "metadata": {
    "colab": {
      "provenance": []
    },
    "kernelspec": {
      "display_name": "Python 3 (ipykernel)",
      "language": "python",
      "name": "python3"
    },
    "language_info": {
      "codemirror_mode": {
        "name": "ipython",
        "version": 3
      },
      "file_extension": ".py",
      "mimetype": "text/x-python",
      "name": "python",
      "nbconvert_exporter": "python",
      "pygments_lexer": "ipython3",
      "version": "3.11.2"
    }
  },
  "nbformat": 4,
  "nbformat_minor": 0
}