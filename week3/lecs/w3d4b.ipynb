{
 "cells": [
  {
   "cell_type": "markdown",
   "metadata": {
    "slideshow": {
     "slide_type": "slide"
    }
   },
   "source": [
    "## Week 3 Day 4 afternoon: Graphs and BFS"
   ]
  },
  {
   "cell_type": "markdown",
   "metadata": {},
   "source": [
    "## Another algorithm for exploring graphs: Breadth First Search"
   ]
  },
  {
   "cell_type": "code",
   "execution_count": 18,
   "metadata": {},
   "outputs": [],
   "source": [
    "%run \"boaz_utils.ipynb\""
   ]
  },
  {
   "cell_type": "code",
   "execution_count": 2,
   "metadata": {},
   "outputs": [],
   "source": [
    "def neighbors(G,u):\n",
    "    return G[u][:]\n",
    "\n",
    "def isedge(G,u,v):\n",
    "    for x in neighbors(G, u):\n",
    "        if x == v:\n",
    "            return True\n",
    "    return False\n",
    "\n",
    "def vertices(G):\n",
    "    return list(range(len(G)))\n",
    "\n",
    "def addedge(G,i,j): \n",
    "    if not isedge(G, i, j):\n",
    "        G[i].append(j)\n",
    "        \n",
    "def emptygraph(n):\n",
    "    G = []\n",
    "    for i in range(n):\n",
    "        G.append([])\n",
    "    return G\n",
    "\n",
    "def undirect(G):\n",
    "    H = emptygraph(len(G))\n",
    "    for u in vertices(G):\n",
    "        for v in neighbors(G, u):\n",
    "            addedge(H, u, v)\n",
    "            addedge(H, v, u)\n",
    "    return H"
   ]
  },
  {
   "cell_type": "code",
   "execution_count": 36,
   "metadata": {
    "slideshow": {
     "slide_type": "slide"
    }
   },
   "outputs": [],
   "source": [
    "from collections import deque\n",
    "\n",
    "# return list of all distances from source to all other vertices\n",
    "def bfs(source, G):\n",
    "    vis = [False]*len(G)\n",
    "    dist = [float('infinity')]*len(G)\n",
    "    Q = deque()\n",
    "    Q.append(source)\n",
    "    vis[source] = True\n",
    "    dist[source] = 0\n",
    "    \n",
    "    while len(Q) > 0:\n",
    "        u = Q.popleft()\n",
    "        for v in neighbors(G, u):\n",
    "            if not vis[v]:\n",
    "                Q.append(v)\n",
    "                vis[v] = True\n",
    "                dist[v] = dist[u] + 1\n",
    "\n",
    "    return dist"
   ]
  },
  {
   "cell_type": "code",
   "execution_count": 37,
   "metadata": {
    "slideshow": {
     "slide_type": "slide"
    }
   },
   "outputs": [
    {
     "data": {
      "image/png": "[encoded data removed]",
      "text/plain": [
       "<Figure size 640x480 with 1 Axes>"
      ]
     },
     "metadata": {},
     "output_type": "display_data"
    }
   ],
   "source": [
    "G = undirect([[1],[2],[0],[]])\n",
    "draw_graph(G)"
   ]
  },
  {
   "cell_type": "code",
   "execution_count": 39,
   "metadata": {
    "scrolled": true,
    "slideshow": {
     "slide_type": "fragment"
    }
   },
   "outputs": [
    {
     "name": "stdout",
     "output_type": "stream",
     "text": [
      "[0, 1, 1, inf]\n"
     ]
    }
   ],
   "source": [
    "print(bfs(0, G))"
   ]
  },
  {
   "cell_type": "markdown",
   "metadata": {},
   "source": [
    "## Can also use Breadth First Search to find the actual shortest path"
   ]
  },
  {
   "cell_type": "code",
   "execution_count": 3,
   "metadata": {
    "slideshow": {
     "slide_type": "slide"
    }
   },
   "outputs": [],
   "source": [
    "from collections import deque\n",
    "\n",
    "# return list of all distances from source to all other vertices\n",
    "def bfs(source, target, G):\n",
    "    visited = [False]*len(G)\n",
    "    dist = [float('infinity')]*len(G)\n",
    "    pre = [-1]*len(G)\n",
    "    Q = deque()\n",
    "\n",
    "    Q.append(source)\n",
    "    dist[source] = 0\n",
    "    visited[source] = True\n",
    "    \n",
    "    while len(Q) > 0:\n",
    "        u = Q.popleft()\n",
    "        for v in neighbors(G, u):\n",
    "            if not visited[v]:\n",
    "                Q.append(v)\n",
    "                visited[v] = True\n",
    "                dist[v] = dist[u] + 1\n",
    "                pre[v] = u\n",
    "    \n",
    "    if not visited[target]:\n",
    "        return None\n",
    "    else:\n",
    "        ans = [target]\n",
    "        while pre[ans[-1]] != -1:\n",
    "            ans.append(pre[ans[-1]])\n",
    "        return ans[::-1]"
   ]
  },
  {
   "cell_type": "markdown",
   "metadata": {},
   "source": [
    "## Example of BFS: word game"
   ]
  },
  {
   "cell_type": "code",
   "execution_count": 5,
   "metadata": {},
   "outputs": [],
   "source": [
    "file_path = 'words.txt'\n",
    "with open(file_path, 'r') as file:\n",
    "    content = file.read()\n",
    "words = content.split('\\n')[:-1]"
   ]
  },
  {
   "cell_type": "code",
   "execution_count": 6,
   "metadata": {},
   "outputs": [],
   "source": [
    "# make the word graph\n",
    "W = []\n",
    "for _ in range(len(words)):\n",
    "    W.append([])\n",
    "for i in range(len(words)):\n",
    "    for j in range(len(words)):\n",
    "        matches = 0\n",
    "        for c in range(4):\n",
    "            if words[i][c] == words[j][c]:\n",
    "                matches += 1\n",
    "        if matches == 3:\n",
    "            W[i].append(j)"
   ]
  },
  {
   "cell_type": "code",
   "execution_count": 7,
   "metadata": {},
   "outputs": [],
   "source": [
    "# figure out shortest way to get from one 4-letter word to another, changing only one letter at a time\n",
    "# all intermediate words have to be real words\n",
    "def word_game(source, target):\n",
    "    s = -1 # index of source in words\n",
    "    t = -1 # index of target in words\n",
    "\n",
    "    for i in range(len(words)):\n",
    "        if words[i] == source:\n",
    "            s = i\n",
    "        if words[i] == target:\n",
    "            t = i\n",
    "            \n",
    "    if s == -1:\n",
    "        print(source + ' is not a real word')\n",
    "        return\n",
    "    elif t == -1:\n",
    "        print(target + ' is not a real word')\n",
    "        return\n",
    "        \n",
    "    path = bfs(s, t, W)\n",
    "    if path == None:\n",
    "        print('Impossible')\n",
    "    else:\n",
    "        for w in path:\n",
    "            print(words[w])"
   ]
  },
  {
   "cell_type": "code",
   "execution_count": 10,
   "metadata": {},
   "outputs": [
    {
     "name": "stdout",
     "output_type": "stream",
     "text": [
      "glue\n",
      "glum\n",
      "gaum\n",
      "gaud\n",
      "baud\n",
      "bard\n",
      "card\n"
     ]
    }
   ],
   "source": [
    "word_game('glue', 'card')"
   ]
  }
 ],
 "metadata": {
  "anaconda-cloud": {},
  "celltoolbar": "Slideshow",
  "kernelspec": {
   "display_name": "Python 3 (ipykernel)",
   "language": "python",
   "name": "python3"
  },
  "language_info": {
   "codemirror_mode": {
    "name": "ipython",
    "version": 3
   },
   "file_extension": ".py",
   "mimetype": "text/x-python",
   "name": "python",
   "nbconvert_exporter": "python",
   "pygments_lexer": "ipython3",
   "version": "3.12.3"
  },
  "varInspector": {
   "cols": {
    "lenName": 16,
    "lenType": 16,
    "lenVar": 40
   },
   "kernels_config": {
    "python": {
     "delete_cmd_postfix": "",
     "delete_cmd_prefix": "del ",
     "library": "var_list.py",
     "varRefreshCmd": "print(var_dic_list())"
    },
    "r": {
     "delete_cmd_postfix": ") ",
     "delete_cmd_prefix": "rm(",
     "library": "var_list.r",
     "varRefreshCmd": "cat(var_dic_list()) "
    }
   },
   "types_to_exclude": [
    "module",
    "function",
    "builtin_function_or_method",
    "instance",
    "_Feature"
   ],
   "window_display": false
  }
 },
 "nbformat": 4,
 "nbformat_minor": 4
}
