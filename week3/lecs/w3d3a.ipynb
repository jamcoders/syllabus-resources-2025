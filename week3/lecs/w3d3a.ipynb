{
 "cells": [
  {
   "cell_type": "markdown",
   "id": "fa8f3ff1",
   "metadata": {},
   "source": [
    "# Week 3, Day 3, Morning Session\n",
    "## Sorting wrap-up"
   ]
  },
  {
   "cell_type": "code",
   "execution_count": 1,
   "id": "6e8743df",
   "metadata": {},
   "outputs": [],
   "source": [
    "from collections import deque"
   ]
  },
  {
   "cell_type": "markdown",
   "id": "64e883c4",
   "metadata": {},
   "source": [
    "### MergeSort\n",
    "\n",
    "Yesterday we saw how to implement **MergeSort** using recursion, and now we will see an iterative implementation.\n",
    "\n",
    "We pair up L[0] and L[1] merge them into a single sorted list, then do the same for L[2] and L[3], etc. Once all pairs are merged, we now have $n/2$ groups of pairs. We then pair these groups and merge the L[0],L[1] group with the L[1],L[2] group, then merge the L[3],L[4] group with the L[5],L[6] group, etc.\n"
   ]
  },
  {
   "cell_type": "markdown",
   "id": "f3eecee9",
   "metadata": {},
   "source": [
    "In order to process these merges, we will use a data structure called a **queue** (in Python, the object is called `deque`). A queue is very similar to a Python list; the only advantage (for us) is that it supports removing the 0th element in O(1) time (whereas the operation L.pop(0) for a Python list, or L[1:], both take O(n) time)."
   ]
  },
  {
   "cell_type": "code",
   "execution_count": 5,
   "id": "ceacc95e",
   "metadata": {},
   "outputs": [
    {
     "name": "stdout",
     "output_type": "stream",
     "text": [
      "about to start loop\n",
      "done\n"
     ]
    }
   ],
   "source": [
    "# for loop with n iterations, and each pop takes ~n time, so O(n^2) time total\n",
    "n = 100000000\n",
    "L = list(range(n))\n",
    "print(\"about to start loop\")\n",
    "for i in range(100):\n",
    "    L.pop(0) # returns L[0] and also removes it from L\n",
    "print('done')"
   ]
  },
  {
   "cell_type": "code",
   "execution_count": 4,
   "id": "b9cdad6b",
   "metadata": {},
   "outputs": [
    {
     "name": "stdout",
     "output_type": "stream",
     "text": [
      "about to do loop\n",
      "done\n"
     ]
    }
   ],
   "source": [
    "# for loop wih n iterations, and each popleft takes O(1) time, so O(n) time total\n",
    "n = 100000000\n",
    "Q = deque(range(n))\n",
    "print('about to do loop')\n",
    "for i in range(100):\n",
    "    Q.popleft() # returns Q[0] and also removes it from Q\n",
    "print('done')"
   ]
  },
  {
   "cell_type": "code",
   "execution_count": 11,
   "id": "238bbb6f",
   "metadata": {},
   "outputs": [],
   "source": [
    "def merge(A, B):\n",
    "    C = []\n",
    "    i = 0\n",
    "    j = 0\n",
    "    while i<len(A) and j<len(B):\n",
    "        if A[i] < B[j]:\n",
    "            C.append(A[i])\n",
    "            i += 1\n",
    "        else:\n",
    "            C.append(B[j])\n",
    "            j += 1\n",
    "    return C + A[i:] + B[j:]\n",
    "    \n",
    "def iterative_merge_sort(L):\n",
    "    Q = deque()\n",
    "    for i in L:\n",
    "        Q.append([i])\n",
    "    while len(Q) >= 2:\n",
    "        A = Q.popleft()\n",
    "        B = Q.popleft()\n",
    "        Q.append(merge(A, B))\n",
    "    return Q[0]"
   ]
  },
  {
   "cell_type": "code",
   "execution_count": null,
   "id": "61c6b541",
   "metadata": {
    "scrolled": true
   },
   "outputs": [],
   "source": [
    "L = [12, 9, 6, 3, 0]\n",
    "print(iterative_merge_sort(L))"
   ]
  },
  {
   "cell_type": "code",
   "execution_count": 18,
   "id": "19c7d127",
   "metadata": {},
   "outputs": [],
   "source": [
    "def iterative_selection_sort(L):\n",
    "    L = L[:]\n",
    "    for i in range(len(L) - 1): # sort L[i:]\n",
    "        min_idx = i\n",
    "        for j in range(i+1, len(L)):\n",
    "            if L[j] < L[min_idx]:\n",
    "                min_idx = j\n",
    "        temp = L[i]\n",
    "        L[i] = L[min_idx]\n",
    "        L[min_idx] = temp\n",
    "    return L\n",
    "        "
   ]
  },
  {
   "cell_type": "code",
   "execution_count": 15,
   "id": "2a83d0e4",
   "metadata": {},
   "outputs": [
    {
     "name": "stdout",
     "output_type": "stream",
     "text": [
      "[1, 2, 3, 4, 5, 6, 7, 8]\n"
     ]
    }
   ],
   "source": [
    "print(iterative_selection_sort([8,7,6,5,4,3,2,1]))"
   ]
  },
  {
   "cell_type": "markdown",
   "id": "e66f894f",
   "metadata": {},
   "source": [
    "Next main topic: **graphs**"
   ]
  },
  {
   "cell_type": "markdown",
   "id": "d537fcea",
   "metadata": {},
   "source": [
    "# Graphs"
   ]
  },
  {
   "cell_type": "markdown",
   "id": "2ba0b5e3",
   "metadata": {},
   "source": [
    "Central to computer science is the idea of _how to represent information_, and then how to create algorithms or programs that process those representations to compute useful things."
   ]
  },
  {
   "cell_type": "markdown",
   "id": "5160e56e",
   "metadata": {},
   "source": [
    "For example, I may be a shopkeeper and want to keep track of the items I've sold throughout the day, and how much I was paid for them.\n",
    "\n",
    "`L = [ ['soap', 250], ['yam', 500] , ['yam', 500], ... ]`"
   ]
  },
  {
   "cell_type": "markdown",
   "id": "53f10279",
   "metadata": {},
   "source": [
    "Then, given that representation I may want to compute various things, such as \"what were my gross sales yesterday?\", or \"how many times did I sell a yam\"? I can then write programs to process this list L to find these answers."
   ]
  },
  {
   "cell_type": "markdown",
   "id": "7c24e41c",
   "metadata": {},
   "source": [
    "A graph is just yet another way to represent information, and in the case of graphs, I want to represent information about _connections_ between pairs of objects (for example the \"objects\" could be people, and a \"connection\" could be that one person follows another on Instagram --- or the \"objects\" could be road intersections, and the \"connections\" are the road segments connecting one intersection to another)."
   ]
  },
  {
   "cell_type": "markdown",
   "id": "8a5d437d",
   "metadata": {},
   "source": [
    "When we talk about graphs, we call these \"objects\" **vertices**, and we call the \"connections\" **edges**. We will see more about graphs, and how to run algorithms on graphs, in the afternoon."
   ]
  }
 ],
 "metadata": {
  "kernelspec": {
   "display_name": "Python 3 (ipykernel)",
   "language": "python",
   "name": "python3"
  },
  "language_info": {
   "codemirror_mode": {
    "name": "ipython",
    "version": 3
   },
   "file_extension": ".py",
   "mimetype": "text/x-python",
   "name": "python",
   "nbconvert_exporter": "python",
   "pygments_lexer": "ipython3",
   "version": "3.12.3"
  }
 },
 "nbformat": 4,
 "nbformat_minor": 5
}
