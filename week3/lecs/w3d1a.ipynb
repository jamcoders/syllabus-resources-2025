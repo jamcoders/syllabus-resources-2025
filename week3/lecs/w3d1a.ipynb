{
 "cells": [
  {
   "cell_type": "raw",
   "metadata": {},
   "source": []
  },
  {
   "cell_type": "markdown",
   "metadata": {
    "slideshow": {
     "slide_type": "slide"
    }
   },
   "source": [
    "# Week 3 Lecture 1a: Logarithms and binary search"
   ]
  },
  {
   "cell_type": "code",
   "execution_count": null,
   "metadata": {
    "scrolled": true
   },
   "outputs": [],
   "source": [
    "%pip install scipy"
   ]
  },
  {
   "cell_type": "code",
   "execution_count": null,
   "metadata": {},
   "outputs": [],
   "source": [
    "%pip install scikit-learn"
   ]
  },
  {
   "cell_type": "code",
   "execution_count": null,
   "metadata": {},
   "outputs": [],
   "source": [
    "%pip install networkx"
   ]
  },
  {
   "cell_type": "code",
   "execution_count": null,
   "metadata": {
    "slideshow": {
     "slide_type": "skip"
    }
   },
   "outputs": [],
   "source": [
    "%run \"boaz_utils.ipynb\""
   ]
  },
  {
   "cell_type": "markdown",
   "metadata": {
    "slideshow": {
     "slide_type": "slide"
    }
   },
   "source": [
    "## Who am I?\n",
    "\n",
    "__Jelani Nelson__\n",
    "\n",
    "![](jelani.jpg)\n",
    "\n",
    "[http://people.eecs.berkeley.edu/~minilek](http://people.eecs.berkeley.edu/~minilek)\n",
    "\n",
    "minilek@berkeley.edu (or minilek@jamcoders.org.jm) "
   ]
  },
  {
   "cell_type": "markdown",
   "metadata": {},
   "source": [
    "## From: St. Thomas, US Virgin Islands\n",
    "![](stt.png)"
   ]
  },
  {
   "cell_type": "markdown",
   "metadata": {},
   "source": [
    "![](baby_passport2.png)"
   ]
  },
  {
   "cell_type": "markdown",
   "metadata": {},
   "source": [
    "![](baby_passport1.png)"
   ]
  },
  {
   "cell_type": "markdown",
   "metadata": {
    "slideshow": {
     "slide_type": "slide"
    }
   },
   "source": [
    "## Searching"
   ]
  },
  {
   "cell_type": "markdown",
   "metadata": {
    "slideshow": {
     "slide_type": "fragment"
    }
   },
   "source": [
    "You have list of strings and want to find one inside it"
   ]
  },
  {
   "cell_type": "markdown",
   "metadata": {
    "slideshow": {
     "slide_type": "fragment"
    }
   },
   "source": [
    "<img src=\"search2.png\" width=\"800\">"
   ]
  },
  {
   "cell_type": "markdown",
   "metadata": {
    "slideshow": {
     "slide_type": "slide"
    }
   },
   "source": [
    "Google database size is $\\approx 10^{12}$ web pages. At very least need to perform following task:\n",
    "\n",
    "Given list $L = [ s_1, s_2 , \\ldots, s_N ]$ of strings and string $s$, find $i$ such that $s_i=s$."
   ]
  },
  {
   "cell_type": "markdown",
   "metadata": {
    "slideshow": {
     "slide_type": "fragment"
    }
   },
   "source": [
    "__Question:__ Write function `find(L,s)` that takes as input a list `L` of strings and a string `s` and returns the first index `i` such that `L[i]==s` if there is such an index, or `-1` otherwise."
   ]
  },
  {
   "cell_type": "code",
   "execution_count": null,
   "metadata": {},
   "outputs": [],
   "source": [
    "def find(L, s):\n",
    "    for i in range(len(L)):\n",
    "        if L[i] == s:\n",
    "            return i\n",
    "    return -1"
   ]
  },
  {
   "cell_type": "code",
   "execution_count": null,
   "metadata": {},
   "outputs": [],
   "source": [
    "def find2(L, s):\n",
    "    i = 0\n",
    "    while i < len(L):\n",
    "        if L[i] == s:\n",
    "            return i\n",
    "        i += 1\n",
    "    return -1"
   ]
  },
  {
   "cell_type": "code",
   "execution_count": null,
   "metadata": {},
   "outputs": [],
   "source": [
    "def find_recursive(L, s):\n",
    "    # base case\n",
    "    if len(L) == 0:\n",
    "        return -1\n",
    "    # recursive step\n",
    "    elif L[0] == s:\n",
    "        return 0\n",
    "    else:\n",
    "        ans = find_recursive(L[1:], s)\n",
    "        if ans == -1:\n",
    "            return -1\n",
    "        else:\n",
    "            return 1 + ans"
   ]
  },
  {
   "cell_type": "code",
   "execution_count": null,
   "metadata": {
    "slideshow": {
     "slide_type": "fragment"
    }
   },
   "outputs": [],
   "source": [
    "ja_players = [\n",
    " \"Amari'i Bell\",\n",
    " 'Andre Blake',\n",
    " 'Damion Lowe',\n",
    " 'Demarai Gray',\n",
    " 'Dexter Lembikisa',\n",
    " 'Dwayne Atkinson',\n",
    " 'Greg Leigh',\n",
    " 'Isaac Hayden',\n",
    " 'Jahmali Waite',\n",
    " 'Joel Latibeaudiere',\n",
    " 'Jon Russell',\n",
    " 'Kaheim Dixon',\n",
    " 'Kasey Palmer',\n",
    " 'Kyle Ming',\n",
    " 'Leon Bailey',\n",
    " 'Mason Holgate',\n",
    " 'Ravel Morrison',\n",
    " 'Renaldo Cephas',\n",
    " 'Richard King',\n",
    " 'Romario Williams',\n",
    " 'Rumarn Burrell',\n",
    " 'Shaquan Davis',\n",
    " 'Tyreece Campbell',\n",
    " 'Warner Brown'\n",
    "]"
   ]
  },
  {
   "cell_type": "code",
   "execution_count": null,
   "metadata": {
    "slideshow": {
     "slide_type": "fragment"
    }
   },
   "outputs": [],
   "source": [
    "binary_search(ja_players,'Leon Bailey')"
   ]
  },
  {
   "cell_type": "markdown",
   "metadata": {
    "slideshow": {
     "slide_type": "slide"
    }
   },
   "source": [
    "## Efficiency"
   ]
  },
  {
   "cell_type": "markdown",
   "metadata": {
    "slideshow": {
     "slide_type": "fragment"
    }
   },
   "source": [
    "A computer is _fast_ but it is not _magical_"
   ]
  },
  {
   "cell_type": "code",
   "execution_count": null,
   "metadata": {
    "slideshow": {
     "slide_type": "skip"
    }
   },
   "outputs": [],
   "source": [
    "randomstring()"
   ]
  },
  {
   "cell_type": "code",
   "execution_count": null,
   "metadata": {
    "slideshow": {
     "slide_type": "skip"
    }
   },
   "outputs": [],
   "source": [
    "def listofstrings(n):\n",
    "    L = []\n",
    "    for i in range(n):\n",
    "        L.append(randomstring())\n",
    "    L.sort()\n",
    "    return L"
   ]
  },
  {
   "cell_type": "code",
   "execution_count": null,
   "metadata": {},
   "outputs": [],
   "source": [
    "L = listofstrings(10000000)"
   ]
  },
  {
   "cell_type": "code",
   "execution_count": null,
   "metadata": {
    "slideshow": {
     "slide_type": "skip"
    }
   },
   "outputs": [],
   "source": [
    "binary_search(L,randomstring())"
   ]
  },
  {
   "cell_type": "code",
   "execution_count": null,
   "metadata": {
    "slideshow": {
     "slide_type": "slide"
    }
   },
   "outputs": [],
   "source": [
    "inputs = [[listofstrings(n),randomstring()] for n in range(1,10000,100)]"
   ]
  },
  {
   "cell_type": "code",
   "execution_count": null,
   "metadata": {
    "slideshow": {
     "slide_type": "fragment"
    }
   },
   "outputs": [],
   "source": [
    "c,*_ = timer(find,inputs)"
   ]
  },
  {
   "cell_type": "code",
   "execution_count": null,
   "metadata": {
    "slideshow": {
     "slide_type": "fragment"
    }
   },
   "outputs": [],
   "source": [
    "# Estimate for time for n= 100000 (in seconds)\n",
    "c(100000)"
   ]
  },
  {
   "cell_type": "code",
   "execution_count": null,
   "metadata": {
    "slideshow": {
     "slide_type": "fragment"
    }
   },
   "outputs": [],
   "source": [
    "# estimate for n=10**12 \n",
    "c(10**12)"
   ]
  },
  {
   "cell_type": "code",
   "execution_count": null,
   "metadata": {},
   "outputs": [],
   "source": [
    "3777015.3519052/(60*60*24)"
   ]
  },
  {
   "cell_type": "markdown",
   "metadata": {
    "slideshow": {
     "slide_type": "slide"
    }
   },
   "source": [
    "## Can we do better?"
   ]
  },
  {
   "cell_type": "code",
   "execution_count": null,
   "metadata": {
    "slideshow": {
     "slide_type": "fragment"
    }
   },
   "outputs": [],
   "source": [
    "print(ja_players)"
   ]
  },
  {
   "cell_type": "markdown",
   "metadata": {
    "slideshow": {
     "slide_type": "fragment"
    }
   },
   "source": [
    "__Crucial observation:__ List is _sorted_."
   ]
  },
  {
   "cell_type": "markdown",
   "metadata": {
    "slideshow": {
     "slide_type": "slide"
    }
   },
   "source": [
    "__Question:__ Suppose you were in a school with 1000 students, and you see on the bulletin board the list of students _in alphabetical order_ and their grades. Do you need to look at all names to find your grade?"
   ]
  },
  {
   "cell_type": "markdown",
   "metadata": {
    "slideshow": {
     "slide_type": "fragment"
    }
   },
   "source": [
    "__Example:__ (on board) We can search through 8 sorted strings with only $3$ comparisons."
   ]
  },
  {
   "cell_type": "code",
   "execution_count": null,
   "metadata": {},
   "outputs": [],
   "source": [
    "# if element is in L, it's somewhere in L[start:stop]\n",
    "def bin_search_helper(L, x, start, stop):\n",
    "    # base case\n",
    "    if start == stop:\n",
    "        return -1\n",
    "    # recursive step\n",
    "    else:\n",
    "        mid = (start + stop) // 2\n",
    "        if L[mid] == x:\n",
    "            return mid\n",
    "        elif L[mid] < x:\n",
    "            return bin_search_helper(L, x, mid+1, stop)\n",
    "        else:\n",
    "            return bin_search_helper(L, x, start, mid)\n",
    "\n",
    "# \n",
    "def binary_search(L, x):\n",
    "    return bin_search_helper(L, x, 0, len(L))"
   ]
  },
  {
   "cell_type": "markdown",
   "metadata": {},
   "source": [
    "## Let $n$ represent the initial list of the length L\n",
    "## $n / 2 / 2 / 2 / 2 / \\cdots / 2$ is the length of the list left over after many recurisve steps\n",
    "## $n / (2 \\times 2 \\times 2 \\times \\cdots \\times 2)$\n",
    "## $n / 2^k < 1$ --- we are done when the length of the list left is less than 1 (then it's 0)\n",
    "## $\\log_2(n) < \\log_2(2^k)$ --- take logarithm of both sides\n",
    "## $k > \\log_2(n)$"
   ]
  },
  {
   "cell_type": "markdown",
   "metadata": {},
   "source": [
    "# Done when $\\frac n{2^k} \\le 1$,\n",
    "# which means we're done when $2^k \\ge n$,\n",
    "# which means we're done when $k \\ge \\log_2(n)$"
   ]
  },
  {
   "cell_type": "code",
   "execution_count": null,
   "metadata": {
    "slideshow": {
     "slide_type": "fragment"
    }
   },
   "outputs": [],
   "source": [
    "binary_search(ja_players,\"Warner Brown\")"
   ]
  },
  {
   "cell_type": "markdown",
   "metadata": {
    "slideshow": {
     "slide_type": "slide"
    }
   },
   "source": [
    "Is it faster?"
   ]
  },
  {
   "cell_type": "code",
   "execution_count": null,
   "metadata": {
    "slideshow": {
     "slide_type": "skip"
    }
   },
   "outputs": [],
   "source": [
    "random.seed(4943985)"
   ]
  },
  {
   "cell_type": "code",
   "execution_count": null,
   "metadata": {
    "slideshow": {
     "slide_type": "fragment"
    }
   },
   "outputs": [],
   "source": [
    "s_inputs = [[sorted(listofstrings(n)),randomstring()] for n in range(1,10000,100)]"
   ]
  },
  {
   "cell_type": "code",
   "execution_count": null,
   "metadata": {
    "slideshow": {
     "slide_type": "fragment"
    }
   },
   "outputs": [],
   "source": [
    "c,*_ = timer(binary_search,s_inputs)"
   ]
  },
  {
   "cell_type": "code",
   "execution_count": null,
   "metadata": {
    "slideshow": {
     "slide_type": "fragment"
    }
   },
   "outputs": [],
   "source": [
    "c(10**12)"
   ]
  },
  {
   "cell_type": "markdown",
   "metadata": {
    "slideshow": {
     "slide_type": "slide"
    }
   },
   "source": [
    "Binary search does in $1/1000$ of a second what linear search does in $>100$ days!"
   ]
  },
  {
   "cell_type": "code",
   "execution_count": null,
   "metadata": {
    "slideshow": {
     "slide_type": "fragment"
    }
   },
   "outputs": [],
   "source": [
    "compare_times(find,binary_search,s_inputs)"
   ]
  },
  {
   "cell_type": "markdown",
   "metadata": {
    "slideshow": {
     "slide_type": "slide"
    }
   },
   "source": [
    "__Intuition:__ One step of binary search reduces the size of the problem from $n$ to $n/2$"
   ]
  },
  {
   "cell_type": "markdown",
   "metadata": {
    "slideshow": {
     "slide_type": "fragment"
    }
   },
   "source": [
    "In $2$ steps we reduce the size to $n/4$.\n",
    "\n",
    "In $3$ steps we reduce the size to $n/8$\n",
    "\n",
    "In $4$ steps we reduce the size to $n/16$."
   ]
  },
  {
   "cell_type": "markdown",
   "metadata": {
    "slideshow": {
     "slide_type": "fragment"
    }
   },
   "source": [
    "Running time is proportional to number $k$ such that $n < 2^k$. This is $k = \\lceil \\log_2 n \\rceil$"
   ]
  },
  {
   "cell_type": "code",
   "execution_count": null,
   "metadata": {
    "slideshow": {
     "slide_type": "fragment"
    }
   },
   "outputs": [],
   "source": [
    "# Some sense of propotion:\n",
    "\n",
    "n = 100000000000000\n",
    "math.log2(n)"
   ]
  },
  {
   "cell_type": "markdown",
   "metadata": {
    "slideshow": {
     "slide_type": "fragment"
    }
   },
   "source": [
    "A more clever algorithm can make a huge difference!"
   ]
  },
  {
   "cell_type": "markdown",
   "metadata": {
    "slideshow": {
     "slide_type": "slide"
    }
   },
   "source": [
    "__Exercise:__ Find _non recursive_ implementation of binary search (hint: use a while loop)"
   ]
  },
  {
   "cell_type": "code",
   "execution_count": null,
   "metadata": {
    "slideshow": {
     "slide_type": "fragment"
    }
   },
   "outputs": [],
   "source": [
    "def binary_search_iterative(L,s):\n",
    "    pass\n",
    "    "
   ]
  }
 ],
 "metadata": {
  "celltoolbar": "Slideshow",
  "kernelspec": {
   "display_name": "Python 3 (ipykernel)",
   "language": "python",
   "name": "python3"
  },
  "language_info": {
   "codemirror_mode": {
    "name": "ipython",
    "version": 3
   },
   "file_extension": ".py",
   "mimetype": "text/x-python",
   "name": "python",
   "nbconvert_exporter": "python",
   "pygments_lexer": "ipython3",
   "version": "3.12.3"
  }
 },
 "nbformat": 4,
 "nbformat_minor": 4
}
