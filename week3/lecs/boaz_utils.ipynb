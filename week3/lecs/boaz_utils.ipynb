{
 "cells": [
  {
   "cell_type": "markdown",
   "metadata": {},
   "source": [
    "Some general purpose scripts.\n",
    "The code here is very ugly with extensive use of global variables. Do __not__ learn from it :)"
   ]
  },
  {
   "cell_type": "markdown",
   "metadata": {},
   "source": [
    "# Imports and general routines"
   ]
  },
  {
   "cell_type": "code",
   "execution_count": 2,
   "metadata": {},
   "outputs": [],
   "source": [
    "import numpy as np\n",
    "import matplotlib\n",
    "\n",
    "import matplotlib.pyplot as plt"
   ]
  },
  {
   "cell_type": "code",
   "execution_count": 3,
   "metadata": {},
   "outputs": [],
   "source": [
    "%matplotlib inline"
   ]
  },
  {
   "cell_type": "code",
   "execution_count": 4,
   "metadata": {},
   "outputs": [],
   "source": [
    "import sys"
   ]
  },
  {
   "cell_type": "code",
   "execution_count": 5,
   "metadata": {},
   "outputs": [],
   "source": [
    "import math\n",
    "from scipy import stats\n",
    "from scipy.optimize import curve_fit\n",
    "from numpy.polynomial import polynomial "
   ]
  },
  {
   "cell_type": "code",
   "execution_count": 2,
   "metadata": {},
   "outputs": [],
   "source": [
    "from sklearn import linear_model\n",
    "from sklearn.preprocessing import PolynomialFeatures\n",
    "from sklearn.linear_model import LinearRegression\n",
    "from sklearn.pipeline import Pipeline"
   ]
  },
  {
   "cell_type": "code",
   "execution_count": 7,
   "metadata": {},
   "outputs": [],
   "source": [
    "import itertools"
   ]
  },
  {
   "cell_type": "code",
   "execution_count": 8,
   "metadata": {},
   "outputs": [],
   "source": [
    "import matplotlib.animation as animation\n",
    "from IPython.display import HTML\n",
    "import IPython.display"
   ]
  },
  {
   "cell_type": "code",
   "execution_count": 9,
   "metadata": {},
   "outputs": [],
   "source": [
    "_my = sys.modules[__name__]"
   ]
  },
  {
   "cell_type": "markdown",
   "metadata": {},
   "source": [
    "# Timing and plotting time of functions"
   ]
  },
  {
   "cell_type": "code",
   "execution_count": 10,
   "metadata": {},
   "outputs": [],
   "source": [
    "def is_iterable(obj):\n",
    "    '''check if obj is iterable'''\n",
    "    try:\n",
    "        _ = iter(obj)\n",
    "        return 1\n",
    "    except TypeError:\n",
    "        return 0 "
   ]
  },
  {
   "cell_type": "code",
   "execution_count": 11,
   "metadata": {},
   "outputs": [],
   "source": [
    "def inputlen(inputs):\n",
    "    '''return some number that can be considered as the length of the input'''\n",
    "    MAXINT = 100\n",
    "    MAXLEN = 4\n",
    "    MAXSTR = 10\n",
    "    if not inputs:\n",
    "        return 0\n",
    "    if isinstance(inputs,(int,float)) and abs(inputs)< MAXINT:\n",
    "        return int(abs(inputs))\n",
    "    if isinstance(inputs,(list,tuple)):\n",
    "        if len(inputs) < MAXLEN:\n",
    "            return max(inputlen_(a,MAXINT,MAXSTR) for a in inputs)\n",
    "        MAXINT = max(MAXINT,len(inputs)*2)\n",
    "    return inputlen_(inputs,MAXINT,MAXSTR)\n",
    "    \n",
    "        \n",
    "\n",
    "def inputlen_(inputs,maxint=100,maxstr=10):\n",
    "    if isinstance(inputs,(list,tuple)):\n",
    "        if all(isinstance(a,(int,float,str)) for a in inputs):\n",
    "            return len(inputs)\n",
    "        return sum([inputlen_(a,max(maxint,2*len(inputs)),maxstr) for a in inputs])\n",
    "    if isinstance(inputs,str):\n",
    "        return max(len(inputs)-maxstr,1)\n",
    "    if isinstance(inputs,(int,float)):\n",
    "        m = int(abs(inputs))\n",
    "        if m<maxint: return 1\n",
    "        return 1+mylog2(m-maxint)\n",
    "    return len(repr(inputs))"
   ]
  },
  {
   "cell_type": "code",
   "execution_count": null,
   "metadata": {},
   "outputs": [],
   "source": []
  },
  {
   "cell_type": "code",
   "execution_count": 12,
   "metadata": {},
   "outputs": [],
   "source": [
    "# some global variables\n",
    "program_step_counter = 0\n",
    "execution_counters = []\n",
    "\n",
    "# these are temporary global variables needed due to quirks of %timeit magic\n",
    "temp_func = None\n",
    "temp_inputs = None\n",
    "temp_output = None"
   ]
  },
  {
   "cell_type": "code",
   "execution_count": 13,
   "metadata": {},
   "outputs": [],
   "source": [
    "import itertools\n",
    "def compare_times(func1,func2,gen,inlen=inputlen):\n",
    "    gen1, gen2 = walk, walk2 = itertools.tee(gen)\n",
    "    _,lengths,times1,*_ = timer(func1,gen1,doplot=False,doplot_logscale=False,interpolate=False)\n",
    "    _,lengths,times2,*_ = timer(func2,gen2,doplot=False,doplot_logscale=False,interpolate=False)\n",
    "    \n",
    "    fig, ax1 = plt.subplots()\n",
    "    lns1 = ax1.plot(lengths, times1, 'g-',label=func1.__name__)\n",
    "    lns2 = ax1.plot(lengths, times2, 'b-',label=func2.__name__)\n",
    "    lns = lns1+lns2\n",
    "    labs = [l.get_label() for l in lns]\n",
    "    ax1.legend(lns, labs, loc=0)\n",
    "\n",
    "    ax1.set_xlabel('Input length')\n",
    "    ax1.set_ylabel(r'Time ($\\mu$s)', color='g')\n",
    "    plt.show()"
   ]
  },
  {
   "cell_type": "code",
   "execution_count": 14,
   "metadata": {},
   "outputs": [],
   "source": [
    "import string\n",
    "import random\n",
    "\n",
    "def geninputs(gen,n,newseed = False):\n",
    "    if not newseed:\n",
    "        random.seed(50943875)\n",
    "    return (gen(i) for i in range(1,n,int(n/25)+1))\n",
    "\n",
    "def randomstring(l=10):\n",
    "        letters = string.ascii_lowercase\n",
    "        return ''.join(random.choice(letters) for i in range(l))\n",
    "    \n",
    "def genstrings(n,l=10):\n",
    "    return geninputs(lambda k: [randomstring(l) for _ in range(k)],n)\n",
    "\n",
    "def genintlist(n,l=0):\n",
    "    if not l: l = n\n",
    "    def g(k):\n",
    "        return [random.randint(1,l) for i in range(k)]\n",
    "    return geninputs(g,n)\n",
    "    "
   ]
  },
  {
   "cell_type": "code",
   "execution_count": 15,
   "metadata": {},
   "outputs": [],
   "source": [
    "import sys\n",
    "class SetTrace(object):\n",
    "    def __init__(self, func):\n",
    "        self.func = func\n",
    "\n",
    "    def __enter__(self):\n",
    "        sys.settrace(self.func)\n",
    "        return self\n",
    "\n",
    "    def __exit__(self, ext_type, exc_value, traceback):\n",
    "        sys.settrace(None)\n",
    "\n",
    "def monitor(frame, event, arg):\n",
    "    if event == \"line\":\n",
    "        stepit()\n",
    "    return monitor\n",
    "\n",
    "def countlines(func,inputs):\n",
    "    def g():\n",
    "        nonlocal func\n",
    "        nonlocal inputs\n",
    "        global temp_output\n",
    "        temp_output = None\n",
    "        global program_step_counter\n",
    "        program_step_counter = 0\n",
    "        with SetTrace(monitor):\n",
    "                temp_output =  func(*inputs)\n",
    "        global execution_counters\n",
    "        execution_counters.append(program_step_counter)\n",
    "\n",
    "    return g"
   ]
  },
  {
   "cell_type": "code",
   "execution_count": 16,
   "metadata": {},
   "outputs": [],
   "source": [
    "import functools\n",
    "import statistics\n",
    "\n",
    "import inspect \n",
    "\n",
    "\n",
    "def temp_func():\n",
    "    pass\n",
    "\n",
    "\n",
    "import json\n",
    "try:\n",
    "    timefunc_cache = json.load(open(\"timefunc_cache.json\", 'r'))\n",
    "except (IOError, ValueError):\n",
    "    timefunc_cache = {}\n",
    "\n",
    "    \n",
    "\n",
    "#@functools.lru_cache(maxsize=10000)\n",
    "def timefunc(func,inputs):\n",
    "    global execution_counters\n",
    "    global temp_output\n",
    "    global cache\n",
    "    key = (func, repr(inputs)) \n",
    "    if key in timefunc_cache:\n",
    "        return timefunc_cache[key]\n",
    "    if len(inspect.signature(func).parameters )==1:\n",
    "        inputs = [inputs]\n",
    "    temp_func = countlines(func,inputs)\n",
    "    execution_counters = []\n",
    "    temp_output = None\n",
    "    res = %timeit -n4 -r1 -o -q temp_func()\n",
    "    time =  statistics.median(res.all_runs)\n",
    "    steps = statistics.median(execution_counters)\n",
    "    timefunc_cache[key] = (time,steps,temp_output)\n",
    "    return timefunc_cache[key]\n",
    "    "
   ]
  },
  {
   "cell_type": "code",
   "execution_count": 47,
   "metadata": {},
   "outputs": [],
   "source": [
    "def getstats(func,gen,inlen=inputlen,usesteps = True):\n",
    "    lengths = []\n",
    "    times = []\n",
    "    steps = []\n",
    "    outputs = []\n",
    "    for inputs in gen:\n",
    "        # sys.stdout.write(\"Running for input length \"+ str(inlen(inputs))+\"..\")\n",
    "        inputlength = inlen(inputs)\n",
    "        lengths.append(inputlength)\n",
    "        IPython.display.clear_output()\n",
    "        sys.stdout.write(f'Profiling {func.__name__}: n={inputlength}')\n",
    "        sys.stdout.flush()\n",
    "        time,numsteps,output = timefunc(func,inputs)\n",
    "        outputs.append(output)\n",
    "        times.append(time)\n",
    "        if usesteps:\n",
    "            steps.append(numsteps)\n",
    "        else:\n",
    "            steps.append(int(time* (10**9)))\n",
    "    IPython.display.clear_output()\n",
    "    return lengths,times,steps,outputs"
   ]
  },
  {
   "cell_type": "code",
   "execution_count": 18,
   "metadata": {},
   "outputs": [],
   "source": [
    "def stepit(inc_step=1):\n",
    "    '''Increment the global counter of number of steps'''\n",
    "    global program_step_counter\n",
    "    # sys.stdout.write('*')\n",
    "    program_step_counter += inc_step"
   ]
  },
  {
   "cell_type": "code",
   "execution_count": 50,
   "metadata": {},
   "outputs": [],
   "source": [
    "def timer(func,gen,inlen=inputlen,doplot=True,doplot_logscale=False, \n",
    "          smoothing_filter=False,interpolate=True , usesteps = True):\n",
    "    '''time a function on different inputs and plot it\n",
    "       func: function to run\n",
    "       gen:  list/tuple/iterable of inputs\n",
    "       inlen: function to compute the input length (default: inlen)\n",
    "       doplot: print a plot or not (default: True)\n",
    "       \n",
    "       returns a tuple of equal lengthed lists as follows:\n",
    "       outputs: a list of the outputs\n",
    "       curve: a function f(n) that estimates the number of steps for input length n\n",
    "       lengths: a list of the input lengths\n",
    "       times: a list of the times (in seconds)\n",
    "       steps: a list of the number of steps (calls to stepit() ) that it took\n",
    "    \n",
    "    '''\n",
    "    lengths,times,steps,outputs = getstats(func,gen,inlen,usesteps)\n",
    "    #savecache()\n",
    "    if not lengths: raise ValueError(\"No inputs given\")\n",
    "    curve = plot_curve(lengths,times,steps,doplot,doplot_logscale,smoothing_filter,interpolate,usesteps)\n",
    "        \n",
    "    return curve,lengths,times,steps,outputs\n",
    "    \n",
    "    "
   ]
  },
  {
   "cell_type": "code",
   "execution_count": 20,
   "metadata": {},
   "outputs": [],
   "source": [
    "def integer_hist(map, n = None):\n",
    "    '''histogram of an array/list of integers'''\n",
    "    if not n:\n",
    "        n = max(map)\n",
    "    plt.hist(map,bins=np.linspace(0,n,n+1))\n",
    "    plt.xlabel('Value')\n",
    "    plt.ylabel('Frequency')\n",
    "    plt.show()"
   ]
  },
  {
   "cell_type": "code",
   "execution_count": 21,
   "metadata": {},
   "outputs": [],
   "source": [
    "def poly_and_log(lengths,a,b,c):\n",
    "    '''compute a function of the form f(n)=a*n^b*(log n)^c where c is effectively in {0,1}'''\n",
    "    # print 'n,a,b,c:',n,a,b,c\n",
    "    c = max(0,1-(c-1)*(c-1))\n",
    "    print (f\"n={n}\")\n",
    "    ans = np.multiply(a*np.power(n,b),np.power(np.log2(n),c))\n",
    "    print (f\"ans={ans}\")\n",
    "    return ans"
   ]
  },
  {
   "cell_type": "code",
   "execution_count": 22,
   "metadata": {},
   "outputs": [],
   "source": [
    "def mylog2(n):\n",
    "    return int(math.log2(max(n,2)))"
   ]
  },
  {
   "cell_type": "code",
   "execution_count": 23,
   "metadata": {},
   "outputs": [],
   "source": [
    "def myround(x):\n",
    "    return int(round(5*x)/5)\n",
    "\n",
    "def fit_poly_log(lengths,steps,smoothing_filter=False, allow_logs = True):\n",
    "    \"\"\"Fit to the steps vs lengths curve a function that has the form a*n^b(log n)^c \n",
    "       for some very specific choices of a,b,c\n",
    "    \"\"\"\n",
    "    #print (\"fitting lengths, steps:\", len(lengths),len(steps),lengths[:5],steps[:5])\n",
    "    if allow_logs:\n",
    "        funcs = [(lambda n:n**3),(lambda n: (n**2)*mylog2(n)),(lambda n: n**2),(lambda n: n*mylog2(n)),\n",
    "                     (lambda n: n),(lambda n: mylog2(n)),(lambda n:1)]\n",
    "        descs = [r\"n^3\",r\"n^2\\log n\",r\"n^2\",r\"n\\log n\",r\"n\",r\"\\log n\",\"1\"]\n",
    "    else:\n",
    "        funcs = [(lambda n:n**3),(lambda n: n**2), (lambda n: n), (lambda n:1)]\n",
    "        descs = [r\"n^3\",r\"n^2\",r\"n\",\"1\"]\n",
    "        \n",
    "    if len(lengths)>10:\n",
    "        offset = sum(lengths[:3])/3\n",
    "        lengths = lengths[6:]\n",
    "        steps   = steps[6:]\n",
    "        \n",
    "    \n",
    "    samples = [[float(f(n))  for f in funcs] for n in lengths]\n",
    "\n",
    "    # print \"Features:\", features\n",
    "    # features = np.reshape(features,(-1,len(funcs)))\n",
    "    if smoothing_filter:\n",
    "        window_size = int(len(steps)/10)\n",
    "        window_size = window_size + (window_size % 2) - 1\n",
    "        if window_size >= 5:\n",
    "            steps = savitzky_golay(steps, window_size, 3)\n",
    "    \n",
    "    # steps = np.reshape(steps,(-1,1))\n",
    "    \n",
    "    #print (\"Samples, steps\", samples[:5],steps[:5])\n",
    "    #clf = linear_model.LinearRegression()\n",
    "    clf = linear_model.LassoLars(max_iter=10000,alpha = 1.0, fit_intercept=False, positive=True)\n",
    "    #clf = linear_model.RANSACRegressor(clf,residual_threshold=np.max(steps))\n",
    "    clf.fit (samples,steps)\n",
    "    # return map(lambda c: round(c) if abs(c-round(c))<0.2  c,cls.coefs_)\n",
    "    # print \"Found coefficients:\", clf.coef_\n",
    "    coefs = [myround(i) for i in clf.coef_]\n",
    "    # print \"Rounded coefs:\", coefs\n",
    "    nonzero = np.nonzero(coefs)\n",
    "    #print(nonzero)\n",
    "    if not len(nonzero[0]):\n",
    "        def zerofunc(n): return 0\n",
    "        return (zerofunc , 1, \"0\")\n",
    "    idx = nonzero[0][0]\n",
    "    coef = coefs[idx]\n",
    "    #curve_text = \"$\" + (\"\" if coef==1 else \"{:}\".format(coef))+descs[idx]+\"$\"\n",
    "    \n",
    "    return (lambda n: coef*funcs[idx](n) , coef,  descs[idx] )"
   ]
  },
  {
   "cell_type": "code",
   "execution_count": 24,
   "metadata": {},
   "outputs": [],
   "source": [
    "def fit_exp(lengths,steps):\n",
    "    EXP_MIN = 0.4\n",
    "    observations = np.reshape([mylog2(n) for n in steps],(-1,1))\n",
    "    lengths = np.reshape(lengths,(-1,1))\n",
    "    # print \"lengths, observations:\", len(lengths),len(observations), lengths[:5], observations[:5]\n",
    "    \n",
    "    clf = linear_model.LinearRegression()\n",
    "    clf.fit (lengths,observations)\n",
    "    # return map(lambda c: round(c) if abs(c-round(c))<0.2 else c,cls.coefs_)\n",
    "    slope = round(clf.coef_[0][0],2)    \n",
    "    if slope < EXP_MIN:\n",
    "        return (None,None,None) # this is not an exponential function\n",
    "    \n",
    "    scale = int(round(2**clf.intercept_))\n",
    "    curve_text = r\"\\exp({0:g}n)\".format(slope)\n",
    "    return (lambda n: scale*(2**(slope*n)) , scale, curve_text)"
   ]
  },
  {
   "cell_type": "code",
   "execution_count": 25,
   "metadata": {},
   "outputs": [],
   "source": [
    "# Taken from https://scipy-cookbook.readthedocs.io/items/SavitzkyGolay.html \n",
    "def savitzky_golay(y, window_size, order, deriv=0, rate=1):\n",
    "    r\"\"\"Smooth (and optionally differentiate) data with a Savitzky-Golay filter.\n",
    "    The Savitzky-Golay filter removes high frequency noise from data.\n",
    "    It has the advantage of preserving the original shape and\n",
    "    features of the signal better than other types of filtering\n",
    "    approaches, such as moving averages techniques.\n",
    "    Parameters\n",
    "    ----------\n",
    "    y : array_like, shape (N,)\n",
    "        the values of the time history of the signal.\n",
    "    window_size : int\n",
    "        the length of the window. Must be an odd integer number.\n",
    "    order : int\n",
    "        the order of the polynomial used in the filtering.\n",
    "        Must be less then `window_size` - 1.\n",
    "    deriv: int\n",
    "        the order of the derivative to compute (default = 0 means only smoothing)\n",
    "    Returns\n",
    "    -------\n",
    "    ys : ndarray, shape (N)\n",
    "        the smoothed signal (or it's n-th derivative).\n",
    "    Notes\n",
    "    -----\n",
    "    The Savitzky-Golay is a type of low-pass filter, particularly\n",
    "    suited for smoothing noisy data. The main idea behind this\n",
    "    approach is to make for each point a least-square fit with a\n",
    "    polynomial of high order over a odd-sized window centered at\n",
    "    the point.\n",
    "    Examples\n",
    "    --------\n",
    "    t = np.linspace(-4, 4, 500)\n",
    "    y = np.exp( -t**2 ) + np.random.normal(0, 0.05, t.shape)\n",
    "    ysg = savitzky_golay(y, window_size=31, order=4)\n",
    "    import matplotlib.pyplot as plt\n",
    "    plt.plot(t, y, label='Noisy signal')\n",
    "    plt.plot(t, np.exp(-t**2), 'k', lw=1.5, label='Original signal')\n",
    "    plt.plot(t, ysg, 'r', label='Filtered signal')\n",
    "    plt.legend()\n",
    "    plt.show()\n",
    "    References\n",
    "    ----------\n",
    "    .. [1] A. Savitzky, M. J. E. Golay, Smoothing and Differentiation of\n",
    "       Data by Simplified Least Squares Procedures. Analytical\n",
    "       Chemistry, 1964, 36 (8), pp 1627-1639.\n",
    "    .. [2] Numerical Recipes 3rd Edition: The Art of Scientific Computing\n",
    "       W.H. Press, S.A. Teukolsky, W.T. Vetterling, B.P. Flannery\n",
    "       Cambridge University Press ISBN-13: 9780521880688\n",
    "    \"\"\"\n",
    "    import numpy as np\n",
    "    from math import factorial\n",
    "    \n",
    "    try:\n",
    "        window_size = np.abs(np.int(window_size))\n",
    "        order = np.abs(np.int(order))\n",
    "    except ValueError:\n",
    "        raise ValueError(\"window_size and order have to be of type int\")\n",
    "    if window_size % 2 != 1 or window_size < 1:\n",
    "        raise TypeError(\"window_size size must be a positive odd number\")\n",
    "    if window_size < order + 2:\n",
    "        raise TypeError(\"window_size is too small for the polynomials order\")\n",
    "    order_range = range(order+1)\n",
    "    half_window = (window_size -1) // 2\n",
    "    # precompute coefficients\n",
    "    b = np.mat([[k**i for i in order_range] for k in range(-half_window, half_window+1)])\n",
    "    m = np.linalg.pinv(b).A[deriv] * rate**deriv * factorial(deriv)\n",
    "    # pad the signal at the extremes with\n",
    "    # values taken from the signal itself\n",
    "    firstvals = y[0] - np.abs( y[1:half_window+1][::-1] - y[0] )\n",
    "    lastvals = y[-1] + np.abs(y[-half_window-1:-1][::-1] - y[-1])\n",
    "    y = np.concatenate((firstvals, y, lastvals))\n",
    "    return np.convolve( m[::-1], y, mode='valid')\n"
   ]
  },
  {
   "cell_type": "code",
   "execution_count": 49,
   "metadata": {},
   "outputs": [],
   "source": [
    "def plot_curve(lengths,times,steps,doplot=True, doplot_logscale=True, \n",
    "               smoothing_filter = False,interpolate=True, usesteps = True):\n",
    "    '''fit best curve to time vs input length curve'''\n",
    "    plot_steps = usesteps\n",
    "    orig_steps = steps\n",
    "    if plot_steps:\n",
    "        steps = [max(2,s) for s in steps]\n",
    "    else:\n",
    "        steps = [int(t*(10**6)) for t in times]\n",
    "    \n",
    "    times = [(10**6)*n for n in times]\n",
    "    curve_scale = sum(times)/sum(steps) if plot_steps else 10**(-6)\n",
    "    #print('{0:0.3g} micro-seconds per step'.format(curve_scale))\n",
    "    curve_text = '(none)'\n",
    "    exponential = False\n",
    "    EXP_SLOPE  = 0.4\n",
    "    MIN_FRACTION = 0.01\n",
    "    \n",
    "    \n",
    "    if interpolate:\n",
    "        (step_curve, coef,curve_text)= (fit_exp(lengths,steps) if plot_steps else fit_exp(lengths,times))\n",
    "        if step_curve:\n",
    "            exponential = True\n",
    "        else:\n",
    "            (step_curve,coef,curve_text) = fit_poly_log(lengths,steps, smoothing_filter)\n",
    "\n",
    "        #print(f\"Steps(n) ~ {coef}{curve_text}\")\n",
    "\n",
    "        def curve(n):\n",
    "            return (curve_scale * step_curve(n)) / (10**6)\n",
    "\n",
    "        approx = [max(step_curve(n),2) for n in lengths]\n",
    "    else:\n",
    "        def curve(n): \n",
    "            return 1\n",
    "    \n",
    "    if doplot:\n",
    "        fig, ax1 = plt.subplots()\n",
    "        ax2 = ax1.twinx()\n",
    "        ax3 = ax1.twinx()\n",
    "        lns1 = ax1.plot(lengths, times, 'g-',label='time')\n",
    "        if plot_steps:\n",
    "            lns2 = ax2.plot(lengths, orig_steps, 'b-',label='steps')\n",
    "        if interpolate:\n",
    "            lns3 = ax3.plot(lengths,approx,'r--',label='curve')\n",
    "        ax3.get_yaxis().set_visible(False)\n",
    "        \n",
    "        # added these three lines\n",
    "        lns = lns1\n",
    "        if plot_steps:\n",
    "            lns += lns2\n",
    "        if interpolate:\n",
    "            lns += lns3\n",
    "        labs = [l.get_label() for l in lns]\n",
    "        ax1.legend(lns, labs, loc=0)\n",
    "\n",
    "        #plt.legend()\n",
    "        if interpolate:\n",
    "            ax3.plot(lengths,approx,'r--')\n",
    "        ax1.set_xlabel('Input length')\n",
    "        ax1.set_ylabel(r'Time ($\\mu$s)', color='g')\n",
    "        if plot_steps:\n",
    "            ax2.set_ylabel('Steps', color='b')\n",
    "        \n",
    "        if interpolate:\n",
    "            fig.suptitle(rf'Best fit: ${coef*curve_scale:0.3g} \\times {curve_text}$ $\\mu$s') \n",
    "        plt.show()\n",
    "        \n",
    "        if doplot_logscale:\n",
    "            fig, bx1 = plt.subplots()\n",
    "            bx2 = bx1.twinx()\n",
    "            bx3 = bx1.twinx()\n",
    "            lns1= bx1.plot(lengths, [mylog2(n) for n in times], 'g-',label='log time')\n",
    "            if plot_steps:\n",
    "                lns2= bx2.plot(lengths, [mylog2(n) for n in steps], 'b-',label='log steps')\n",
    "            if interpolate:\n",
    "                lns3 = bx3.plot(lengths,np.log2(approx),'r--',label='log curve')\n",
    "            \n",
    "            lns = lns1\n",
    "            if plot_steps:\n",
    "                lns += lns2\n",
    "            if interpolate:\n",
    "                lns += lns3\n",
    "\n",
    "            labs = [l.get_label() for l in lns]\n",
    "            bx1.legend(lns, labs, loc=0)\n",
    "            \n",
    "            bx3.get_yaxis().set_visible(False)        \n",
    "            bx1.set_xlabel('Input length')\n",
    "            bx1.set_ylabel('log time', color='g')\n",
    "            if plot_steps:\n",
    "                bx2.set_ylabel('log steps', color='b')\n",
    "            #plt.legend()\n",
    "            fig.suptitle('Log scale') \n",
    "            plt.show()\n",
    "        \n",
    "    return curve\n",
    "        \n",
    "    \n",
    "    "
   ]
  },
  {
   "cell_type": "code",
   "execution_count": 27,
   "metadata": {},
   "outputs": [],
   "source": [
    "def plotfunctions(*L,n=500,logscale=False):\n",
    "    if not L: return\n",
    "    if len(L)==1: L += [L[0].__name__ ]\n",
    "    funcs = [(L[i],L[i+1]) for i in range(0,len(L),2)]\n",
    "    fig, ax1 = plt.subplots()\n",
    "    lengths = range(2,n,1)\n",
    "    lines = []\n",
    "    i = 0\n",
    "    \n",
    "    for (f,desc) in funcs:\n",
    "        lines += ax1.plot(lengths, [log(f(n)) if logscale else f(n) for n in lengths],color=f\"C{i}\", label=desc)\n",
    "        i += 1\n",
    "    labs = [l.get_label() for l in lines]\n",
    "    ax1.legend(lines, labs, loc=0)\n",
    "    ax1.set_xlabel(r'$n$')\n",
    "    ylabel = r'$\\log f(n)$' if logscale else r'$f(n)$'\n",
    "    ax1.set_ylabel(ylabel, color='g')\n",
    "    plt.show()\n",
    "\n"
   ]
  },
  {
   "cell_type": "markdown",
   "metadata": {},
   "source": [
    "### Testing"
   ]
  },
  {
   "cell_type": "code",
   "execution_count": 28,
   "metadata": {},
   "outputs": [],
   "source": [
    "# def find(L,s):\n",
    "#     for i in range(len(L)):\n",
    "#         if L[i]==s: return i\n",
    "#     return -1"
   ]
  },
  {
   "cell_type": "code",
   "execution_count": 29,
   "metadata": {},
   "outputs": [],
   "source": [
    "# def randlist(n):\n",
    "#     return [randomstring() for i in range(n)]"
   ]
  },
  {
   "cell_type": "code",
   "execution_count": 30,
   "metadata": {},
   "outputs": [],
   "source": [
    "# random.seed(2020)\n",
    "# inputs = ((randlist(n),randomstring()) for n in range(10,10000,100))"
   ]
  },
  {
   "cell_type": "code",
   "execution_count": 31,
   "metadata": {},
   "outputs": [],
   "source": [
    "# timefunc_cache[key]"
   ]
  },
  {
   "cell_type": "code",
   "execution_count": null,
   "metadata": {},
   "outputs": [],
   "source": []
  },
  {
   "cell_type": "code",
   "execution_count": 32,
   "metadata": {},
   "outputs": [],
   "source": [
    "# c, *_ = timer(find,inputs);"
   ]
  },
  {
   "cell_type": "code",
   "execution_count": 33,
   "metadata": {},
   "outputs": [],
   "source": [
    "# c(10000)"
   ]
  },
  {
   "cell_type": "markdown",
   "metadata": {},
   "source": [
    "# Meoization"
   ]
  },
  {
   "cell_type": "code",
   "execution_count": 34,
   "metadata": {},
   "outputs": [],
   "source": [
    "def memoized(f, return_table = False):\n",
    "    '''Return a \"memoized\" version of the function f using internal mem_table.'''\n",
    "    mem_table = dict()\n",
    "    def g(*input):\n",
    "        # step_pc()\n",
    "        key = repr(input)\n",
    "        print(\"Key:\",key)\n",
    "        if key not in mem_table:\n",
    "            print(\"not found - now value is\", mem_table[key])\n",
    "            mem_table[key] = f(*input)\n",
    "            return mem_table[key]\n",
    "        else:\n",
    "            return mem_table[key]\n",
    "    g.non_memoized = f\n",
    "    return (g,mem_table) if return_table else g"
   ]
  },
  {
   "cell_type": "markdown",
   "metadata": {},
   "source": [
    "# Graph utilities"
   ]
  },
  {
   "cell_type": "code",
   "execution_count": 35,
   "metadata": {},
   "outputs": [],
   "source": [
    "import networkx as nx"
   ]
  },
  {
   "cell_type": "code",
   "execution_count": 36,
   "metadata": {},
   "outputs": [],
   "source": [
    "def isundir(L):\n",
    "    for i in range(len(L)):\n",
    "        for j in L[i]:\n",
    "            if i not in L[j]: return False\n",
    "    return True"
   ]
  },
  {
   "cell_type": "code",
   "execution_count": 37,
   "metadata": {},
   "outputs": [],
   "source": [
    "def list_to_graph(L):\n",
    "    # print \"L=\",L\n",
    "    if isundir(L):\n",
    "        G=nx.Graph()\n",
    "    else:\n",
    "        G=nx.DiGraph()\n",
    "    for i in range(len(L)):\n",
    "        G.add_node(i)\n",
    "        # print \"i,L[i]\",i,L[i]\n",
    "        for j in L[i]:\n",
    "            G.add_edge(i,j)\n",
    "    return G"
   ]
  },
  {
   "cell_type": "code",
   "execution_count": 38,
   "metadata": {},
   "outputs": [],
   "source": [
    "def nxpos(x,y):\n",
    "    return np.transpose(np.asarray([x,y],dtype=np.float32))"
   ]
  },
  {
   "cell_type": "code",
   "execution_count": 39,
   "metadata": {},
   "outputs": [],
   "source": [
    "def grid_layout(G):\n",
    "    \"\"\"Takes nx.Graph object which we assume is a two dimensional grid and\n",
    "       returns a layout for it.\n",
    "    \"\"\"\n",
    "    n = nx.number_of_nodes(G)\n",
    "    k = int(math.floor(math.sqrt(n)))\n",
    "    _dict = {}\n",
    "    for i in range(k):\n",
    "        for j in range(k):\n",
    "            _dict[k*i+j] = nxpos(float(i)/float(k),float(j)/float(k))\n",
    "    t = n-k*k\n",
    "    for u in range(t):\n",
    "        _dict[k*k+u]=nxpos(1,float(u)/float(t))\n",
    "    return _dict"
   ]
  },
  {
   "cell_type": "code",
   "execution_count": 40,
   "metadata": {},
   "outputs": [],
   "source": [
    "def spring100_layout(G):\n",
    "        return nx.spring_layout(G,iterations=100)   "
   ]
  },
  {
   "cell_type": "code",
   "execution_count": 41,
   "metadata": {},
   "outputs": [],
   "source": [
    "def choose_layout_method(my_layout_method):\n",
    "    L = [nx.shell_layout\n",
    "         , spring100_layout, nx.spectral_layout]\n",
    "    S = [grid_layout] # special methods - only chosen if selected by name\n",
    "    M = [f for f in L+S if f.__name__ == my_layout_method]\n",
    "    return (M[0] if M else random.choice(L))\n"
   ]
  },
  {
   "cell_type": "code",
   "execution_count": 42,
   "metadata": {},
   "outputs": [],
   "source": [
    "def draw_graph(G, my_layout_method=None):\n",
    "    if not isinstance(G,nx.Graph):\n",
    "        G = list_to_graph(G)\n",
    "    f = choose_layout_method(my_layout_method)    \n",
    "    # print(f.__name__)\n",
    "    nx.draw(G,pos=f(G))\n",
    "    # plt.savefig(\"simple_path.png\") # save as png\n",
    "    plt.show() "
   ]
  },
  {
   "cell_type": "code",
   "execution_count": 43,
   "metadata": {},
   "outputs": [],
   "source": [
    "_my.anim_graph = None \n",
    "_my.anim_layout = None\n",
    "_my.anim_colors = None\n",
    "_my.anim_ax = None\n",
    "_my.anim_fig = None\n",
    "_my.anim_layout = None\n",
    "_my.anim = None\n",
    "_my.filename = \"nofile\""
   ]
  },
  {
   "cell_type": "code",
   "execution_count": 44,
   "metadata": {},
   "outputs": [],
   "source": [
    "def initialize_animation(G,default_color = 'b', my_layout_method = None, filename = \"alg_viz\"):\n",
    "    # print \"Graph:\", G\n",
    "    _my.anim_graph = list_to_graph(G)\n",
    "    # print \"Graph (nx):\",_my.anim_graph\n",
    "    _my.anim_fig, _my.anim_ax = plt.subplots()\n",
    "    f = choose_layout_method(my_layout_method)\n",
    "    # print \"Method =\", f\n",
    "    _my.anim_layout = f(_my.anim_graph)\n",
    "    # print \"Layout=\", _my.anim_layout\n",
    "    _my.anim_colors = [ [default_color for i in range(len(G))]]\n",
    "    _my.filename = filename\n",
    "\n",
    "def color(i,new_color):\n",
    "    last_list = _my.anim_colors[-1]\n",
    "    new_list = [c for c in last_list]\n",
    "    new_list[i] = new_color\n",
    "    _my.anim_colors.append(new_list)\n",
    "\n",
    "def animate(i):\n",
    "    nx.draw(_my.anim_graph, pos=_my.anim_layout, node_color = _my.anim_colors[i], ax = _my.anim_ax)\n",
    "\n",
    "def show_animation(total_time = 10, save=False):\n",
    "    # plt.rcParams['animation.ffmpeg_path'] =  '/c/Users/boazb/AppData/Local/Continuum/anaconda3/Library/bin/ffmpeg'\n",
    "    anim = animation.FuncAnimation(_my.anim_fig, animate, \n",
    "                                   frames=len(_my.anim_colors), \n",
    "                                   interval=(total_time*1000)/len(_my.anim_colors), \n",
    "                                   blit=False, repeat=False)\n",
    "    \n",
    "    \n",
    "    _my.anim = anim\n",
    "    if (save):\n",
    "        print('saving..')\n",
    "        anim.save(_my.filename + '.mp4', fps=10, extra_args=['-vcodec', 'libx264'])\n",
    "    print('rendering..')\n",
    "    return HTML(anim.to_html5_video())"
   ]
  },
  {
   "cell_type": "code",
   "execution_count": 45,
   "metadata": {},
   "outputs": [],
   "source": [
    "# G = [[1],[2],[0]]\n",
    "# initialize_animation(G)\n",
    "# color(0,'r')\n",
    "# color(1,'r')\n",
    "# color(2,'r')\n",
    "# show_animation()"
   ]
  },
  {
   "cell_type": "code",
   "execution_count": null,
   "metadata": {},
   "outputs": [],
   "source": []
  },
  {
   "cell_type": "markdown",
   "metadata": {},
   "source": [
    "## Some other useful functions"
   ]
  },
  {
   "cell_type": "code",
   "execution_count": 46,
   "metadata": {},
   "outputs": [],
   "source": [
    "def log(n):\n",
    "    return math.log2(max(n,2))"
   ]
  }
 ],
 "metadata": {
  "anaconda-cloud": {},
  "kernelspec": {
   "display_name": "Python 3 (ipykernel)",
   "language": "python",
   "name": "python3"
  },
  "language_info": {
   "codemirror_mode": {
    "name": "ipython",
    "version": 3
   },
   "file_extension": ".py",
   "mimetype": "text/x-python",
   "name": "python",
   "nbconvert_exporter": "python",
   "pygments_lexer": "ipython3",
   "version": "3.12.3"
  }
 },
 "nbformat": 4,
 "nbformat_minor": 4
}
