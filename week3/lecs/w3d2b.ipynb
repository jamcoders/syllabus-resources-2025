{
 "cells": [
  {
   "cell_type": "markdown",
   "id": "19086bdd",
   "metadata": {},
   "source": [
    "# Week 3, Day 2, Afternoon Session\n",
    "## Merge Sort"
   ]
  },
  {
   "cell_type": "code",
   "execution_count": 3,
   "id": "26b35661",
   "metadata": {},
   "outputs": [],
   "source": [
    "import time\n",
    "import functools\n",
    "%run boaz_utils.ipynb"
   ]
  },
  {
   "cell_type": "markdown",
   "id": "ecc71558",
   "metadata": {},
   "source": [
    "**SelectionSort** takes $O(n^2)$ time. Can we sort faster?"
   ]
  },
  {
   "cell_type": "code",
   "execution_count": 10,
   "id": "35d24986",
   "metadata": {},
   "outputs": [],
   "source": [
    "# A and B are each individually sorted, will return\n",
    "# the merge of them, also sorted\n",
    "def merge(A, B):\n",
    "    C = []\n",
    "    A_idx = 0\n",
    "    B_idx = 0\n",
    "    # \"while neither list is empty\"\n",
    "    # (we are trying to merge A[A_idx:] and B[B_idx:])\n",
    "    while A_idx < len(A) and B_idx < len(B):\n",
    "        if A[A_idx] < B[B_idx]:\n",
    "            C.append(A[A_idx])\n",
    "            A_idx += 1\n",
    "        else:\n",
    "            C.append(B[B_idx])\n",
    "            B_idx += 1\n",
    "    return C + A[A_idx:] + B[B_idx:]\n",
    "            \n",
    "def merge_sort(L):\n",
    "    if len(L) == 0:\n",
    "        return []\n",
    "    elif len(L) == 1:\n",
    "        return [L[0]]\n",
    "    A = merge_sort(L[:len(L)//2])\n",
    "    B = merge_sort(L[len(L)//2:])\n",
    "    return merge(A, B)"
   ]
  },
  {
   "cell_type": "code",
   "execution_count": 11,
   "id": "681281eb-ec44-417b-8860-59b08f9de18d",
   "metadata": {},
   "outputs": [
    {
     "data": {
      "text/plain": [
       "[1, 2, 3, 4, 5]"
      ]
     },
     "execution_count": 11,
     "metadata": {},
     "output_type": "execute_result"
    }
   ],
   "source": [
    "merge_sort([5,4,3,2,1])"
   ]
  },
  {
   "cell_type": "code",
   "execution_count": 18,
   "id": "8533e502",
   "metadata": {},
   "outputs": [],
   "source": [
    "# can also use a recursive implementation of merge\n",
    "def recursive_merge(A, B):\n",
    "    if len(A) == 0:\n",
    "        return B[:]\n",
    "    elif len(B) == 0:\n",
    "        return A[:]\n",
    "    else:\n",
    "        if A[0] < B[0]:\n",
    "            return [A[0]] + recursive_merge(A[1:], B)\n",
    "        else:\n",
    "            return [B[0]] + recursive_merge(A, B[1:])"
   ]
  },
  {
   "cell_type": "code",
   "execution_count": 20,
   "id": "23323ccf",
   "metadata": {},
   "outputs": [
    {
     "data": {
      "text/plain": [
       "[1, 2, 3, 4, 5]"
      ]
     },
     "execution_count": 20,
     "metadata": {},
     "output_type": "execute_result"
    }
   ],
   "source": [
    "merge_sort([5,4,3,2,1])"
   ]
  },
  {
   "cell_type": "code",
   "execution_count": 21,
   "id": "0c08efba",
   "metadata": {},
   "outputs": [
    {
     "name": "stdout",
     "output_type": "stream",
     "text": [
      "[10, 9, 8, 7, 6, 5, 4, 3, 2, 1]\n"
     ]
    }
   ],
   "source": [
    "print(list(range(10,0,-1)))"
   ]
  },
  {
   "cell_type": "code",
   "execution_count": 22,
   "id": "e81ae798",
   "metadata": {},
   "outputs": [],
   "source": [
    "big_list = list(range(20000,0,-1))"
   ]
  },
  {
   "cell_type": "code",
   "execution_count": 30,
   "id": "e1ded495",
   "metadata": {},
   "outputs": [
    {
     "data": {
      "text/plain": [
       "'finished'"
      ]
     },
     "execution_count": 30,
     "metadata": {},
     "output_type": "execute_result"
    }
   ],
   "source": [
    "merge_sort(big_list)\n",
    "'finished'"
   ]
  },
  {
   "cell_type": "code",
   "execution_count": 31,
   "id": "3418cc17",
   "metadata": {},
   "outputs": [],
   "source": [
    "# remember this slow O(n^2) implementation... def iterative_selection_sort(L):\n",
    "def iterative_selection_sort(L):\n",
    "    A = L[:]\n",
    "    for i in range(len(A)):\n",
    "        # try to find index idx of the min element in L[i:],\n",
    "        # then move it to L[i]\n",
    "        idx = i\n",
    "        for j in range(i+1, len(A)):\n",
    "            if A[j] < A[idx]:\n",
    "                idx = j\n",
    "        \n",
    "        # swap contents of A[i] and A[idx]\n",
    "        tmp = A[i]\n",
    "        A[i] = A[idx]\n",
    "        A[idx] = tmp\n",
    "    return A"
   ]
  },
  {
   "cell_type": "code",
   "execution_count": 32,
   "id": "abe773e2",
   "metadata": {},
   "outputs": [
    {
     "data": {
      "text/plain": [
       "'finished'"
      ]
     },
     "execution_count": 32,
     "metadata": {},
     "output_type": "execute_result"
    }
   ],
   "source": [
    "iterative_selection_sort(big_list)\n",
    "'finished'"
   ]
  },
  {
   "cell_type": "markdown",
   "id": "579dc108-3ab8-4741-9bef-d197110c708e",
   "metadata": {},
   "source": [
    "## Running time of MergeSort\n",
    "\n",
    "## merging two lists each of size k takes about 2k steps\n",
    "\n",
    "* We merge $n/2$ pairs of lists each of size $1$, taking $2\\times \\frac n2 = n$ steps\n",
    "* We merge $n/4$ pairs of lists each of size $2$, taking $4\\times \\frac n4 = n$ steps\n",
    "* We merge $n/8$ pairs of lists each of size $4$, taking $8\\times \\frac n8 = n$ steps\n",
    "\n",
    "and so forth. So, the total number of steps is $n \\times ($the number of list sizes we process$)$. The last list size we process is lists is when each list is half the original list, so the list size $2^k = n/2$. This value of $k$ is then $\\log_2(n/2) = \\log_2(n) - 1$. The number of list sizes we process is $k+1 = \\log_2 n$, so the total number of steps is proportional to $nk = n\\log_2 n$."
   ]
  },
  {
   "cell_type": "markdown",
   "id": "725421e2",
   "metadata": {},
   "source": [
    "Central to computer science is the idea of _how to represent information_, and then how to create algorithms or programs that process those representations to compute useful things."
   ]
  },
  {
   "cell_type": "markdown",
   "id": "64d16f4b",
   "metadata": {},
   "source": [
    "For example, I may be a shopkeeper and want to keep track of the items I've sold throughout the day, and how much I was paid for them.\n",
    "\n",
    "`L = [ ['soap', 250], ['yam', 500] , ['yam', 500], ... ]`"
   ]
  },
  {
   "cell_type": "markdown",
   "id": "290d4b8c",
   "metadata": {},
   "source": [
    "Then, given that representation I may want to compute various things, such as \"what were my gross sales yesterday?\", or \"how many times did I sell a yam\"? I can then write programs to process this list L to find these answers."
   ]
  },
  {
   "cell_type": "markdown",
   "id": "7ed9ea00",
   "metadata": {},
   "source": [
    "A graph is just yet another way to represent information, and in the case of graphs, I want to represent information about _connections_ between pairs of objects (for example the \"objects\" could be people, and a \"connection\" could be that one person follows another on Instagram --- or the \"objects\" could be road intersections, and the \"connections\" are the road segments connecting one intersection to another)."
   ]
  },
  {
   "cell_type": "markdown",
   "id": "64d72a8c",
   "metadata": {},
   "source": [
    "When we talk about graphs, we call these \"objects\" **vertices**, and we call the \"connections\" **edges**. We will see more about graphs, and how to run algorithms on graphs, in the afternoon."
   ]
  }
 ],
 "metadata": {
  "kernelspec": {
   "display_name": "Python 3 (ipykernel)",
   "language": "python",
   "name": "python3"
  },
  "language_info": {
   "codemirror_mode": {
    "name": "ipython",
    "version": 3
   },
   "file_extension": ".py",
   "mimetype": "text/x-python",
   "name": "python",
   "nbconvert_exporter": "python",
   "pygments_lexer": "ipython3",
   "version": "3.12.3"
  }
 },
 "nbformat": 4,
 "nbformat_minor": 5
}
