{
 "cells": [
  {
   "attachments": {},
   "cell_type": "markdown",
   "metadata": {
    "id": "tW41g3jp8Uzc"
   },
   "source": [
    "# Week 1 Lecture 3, Part 3 Extra Exercises \n",
    "\n",
    "![Reminder to Save](https://github.com/jamcoders/jamcoders-public-2025/blob/main/images/warning.png?raw=true)"
   ]
  },
  {
   "cell_type": "code",
   "execution_count": null,
   "metadata": {},
   "outputs": [],
   "source": [
    "# Always run this code.\n",
    "%config InteractiveShell.ast_node_interactivity=\"none\"\n",
    "!pip install --force-reinstall git+https://github.com/jamcoders/jamcoders-public-2025.git --quiet\n",
    "from jamcoders.base_utils import *"
   ]
  },
  {
   "attachments": {},
   "cell_type": "markdown",
   "metadata": {},
   "source": [
    "# Table of Contents  \n",
    "\n",
    "**[Question 1: Invert Booleans](#9)**\n",
    "\n",
    "**[Question 2: Diagonal Product](#10)**\n",
    "\n",
    "**[Question 3: Symmetric Matrix](#11)**\n",
    "\n",
    "**[Question 4: Checkerboard](#12)**\n",
    "\n",
    "**[Question 5: Get Primes](#12)**"
   ]
  },
  {
   "attachments": {},
   "cell_type": "markdown",
   "metadata": {
    "id": "KcWlufPo8Uzf"
   },
   "source": [
    "<a name=\"9\"></a>\n",
    "### Question 1: Invert Booleans"
   ]
  },
  {
   "attachments": {},
   "cell_type": "markdown",
   "metadata": {
    "id": "b70FClm_8Uzl"
   },
   "source": [
    "Write a function called `invert_bool(N, lists)` that takes in a non-negative integer `N` and a list called `lists` that contains `N` lists, each containing `N` booleans. The function should then invert every boolean and return the result.\n",
    "\n",
    "Note: You can visualize `lists` as a square matrix, where the first list is the first row, the second list is the second row, and so on.\n",
    "\n",
    "Don't worry if you haven't seen matrices. Knowledge of matrices isn't necessary for this question - you can just think of `lists` as a \"square\" of values.\n",
    "\n",
    "For example: \n",
    "\n",
    "`invert_bool([[True, False, True],\n",
    "  [False, True, True],  \n",
    "  [False, False, False]])`\n",
    "  \n",
    "  Should return:\n",
    "\n",
    "`[[False, True, False],\n",
    "  [True, False, False],  \n",
    "  [True, True, True]]` "
   ]
  },
  {
   "cell_type": "code",
   "execution_count": null,
   "metadata": {
    "id": "aZHJFSp58Uzn"
   },
   "outputs": [],
   "source": [
    "def invert_bool(N, lists):\n",
    "    # write code here\n",
    "    \n",
    "\n",
    "# test code here\n",
    "result1 = invert_bool(3, [[True, False, True],[False, True, True],[False, False, False]])\n",
    "result2 = invert_bool(3, [[False, True, False],[True, True, True],[False, False, False]])\n",
    "\n",
    "assert_equal([[False, True, False],[True, False, False],  [True, True, True]], result1)\n",
    "assert_equal([[True, False, True],[False, False, False],[True, True, True]], result2)\n"
   ]
  },
  {
   "attachments": {},
   "cell_type": "markdown",
   "metadata": {
    "id": "HEI8vFRq8Uz_"
   },
   "source": [
    "<a name=\"10\"></a>\n",
    "### Question 2: Diagonal Sum"
   ]
  },
  {
   "attachments": {},
   "cell_type": "markdown",
   "metadata": {
    "id": "rx3LGp088U0A"
   },
   "source": [
    "Write a function called `diagonal_sum(N, lists)` that takes in a N x N matrix as in question 1. The function should return the product of all the elements on the matrix's diagonal.\n",
    "\n",
    "Here, an element of the matrix is on the diagonal if its row is the same as its column. i.e., it can be accessed with `lists[i][i]` for some `i`,\n",
    "\n",
    "For example: \n",
    "\n",
    "`diagonal_product([[12, 5, 3],[2, 1, 3],[35, 23, 2]])`\n",
    "  \n",
    "  will return `15`. \n",
    "\n",
    "Note: This is called the *trace* of the matrix."
   ]
  },
  {
   "cell_type": "code",
   "execution_count": null,
   "metadata": {
    "id": "rcu6wMW38U0B"
   },
   "outputs": [],
   "source": [
    "def diagonal_sum(N, lists):\n",
    "    # write code here\n",
    "    \n",
    "\n",
    "assert_equal(15, diagonal_sum(3, [[12, 5, 3],[2, 1, 3],[35, 23, 2]]))\n",
    "assert_equal(162, diagonal_sum(4, [[54, 345, 23, 25],[135, 43, 3, 5],[75, 46, 63, 15],[16, 10, 9, 2]]))\n",
    "assert_equal(1, diagonal_sum(1, [[1]]))\n",
    "assert_equal(4, diagonal_sum(2, [[2,4],[4,2]]))"
   ]
  },
  {
   "attachments": {},
   "cell_type": "markdown",
   "metadata": {
    "id": "QoLPbYAp8U0J"
   },
   "source": [
    "<a name=\"11\"></a>\n",
    "### Question 3: Symmetric Matrix"
   ]
  },
  {
   "attachments": {},
   "cell_type": "markdown",
   "metadata": {
    "id": "0qKNs0pw8U0K"
   },
   "source": [
    "Write a function called `symmetric(N, lists)` that takes in a a matrix as above, and returns `True` if the matrix is symmetric, or `False` if the matrix is not symmetric.\n",
    "\n",
    "Definition: A matrix is symmetric if and only if it is still the same matrix when the $i^{th}$ columm is equal to the $i^{th}$ row, for all $i$. \n",
    "\n",
    "Note: This interchange of columsn and rows is called the *transpose* of the matrix.\n",
    "\n",
    "_Hint: You can do this without looking at the elements more than once._\n",
    "\n",
    "For example: \n",
    "\n",
    "`symmetric([[12, 5, 3],[2, 1, 3],[35, 23, 2]])` will return `False`, because the transpose is `[[12, 2, 35], [5, 1, 23], [3, 3, 2]]`.\n",
    "\n",
    "`symmetric([[1, 4, 5],[4, 2, 6],[5, 6, 3]])` will return `True`, because the transpose is `[[1, 4, 5], [4, 2, 6], [5, 6, 3]]`."
   ]
  },
  {
   "cell_type": "code",
   "execution_count": null,
   "metadata": {
    "id": "WsiRpY138U0L"
   },
   "outputs": [],
   "source": [
    "def symmetric(N, lists):\n",
    "    # write code here\n",
    "    \n",
    "    \n",
    "\n",
    "assert_equal(True, symmetric(1, [[1]]))\n",
    "assert_equal(False, symmetric(3, [[12, 5, 3],[2, 1, 3],[35, 23, 2]]))\n",
    "assert_equal(True, symmetric(3, [[1, 4, 5],[4, 2, 6],[5, 6, 3]]))\n",
    "assert_equal(True, symmetric(2, [[2,4],[4,2]]))\n",
    "assert_equal(False, symmetric(4, [[54, 345, 23, 25],[135, 43, 3, 5],[75, 46, 63, 15],[16, 10, 9, 2]]))\n"
   ]
  },
  {
   "attachments": {},
   "cell_type": "markdown",
   "metadata": {
    "id": "DZjcdLzl8U0U"
   },
   "source": [
    "<a name=\"12\"></a>\n",
    "### Question 4: Checkerboard"
   ]
  },
  {
   "attachments": {},
   "cell_type": "markdown",
   "metadata": {
    "id": "cpuGfM_U8U0V"
   },
   "source": [
    "Write the function `checkerboard(x)` that takes in an integer `x` and prints a `x` by `x` checkerboard that alternates between hashtags and percent signs on odd lines and percent signs and hashtags on even lines. \n",
    "\n",
    "For example: \n",
    "\n",
    "```\n",
    "checkerboard(4) → \n",
    "#%#%\n",
    "%#%#\n",
    "#%#%\n",
    "%#%#\n",
    "```"
   ]
  },
  {
   "cell_type": "code",
   "execution_count": null,
   "metadata": {
    "id": "ZR-ijaN_8U0W"
   },
   "outputs": [],
   "source": [
    "def checkerboard(x):\n",
    "    # write your code here\n",
    "    \n",
    "\n",
    "checkerboard(4)\n",
    "print()\n",
    "checkerboard(5)"
   ]
  },
  {
   "attachments": {},
   "cell_type": "markdown",
   "metadata": {},
   "source": [
    "<a name=\"13\"></a>\n",
    "### Question 5: Get Primes\n",
    "Write the function `get_primes(n)` that returns a list of the first `n` prime numbers."
   ]
  },
  {
   "cell_type": "code",
   "execution_count": null,
   "metadata": {},
   "outputs": [],
   "source": [
    "def get_primes(n):\n",
    "    primes = []\n",
    "    # write code here\n",
    "\n",
    "    return primes\n",
    "\n",
    "assert_equal([2,3,5,7,11], get_primes(5))\n",
    "assert_equal([2, 3, 5, 7, 11, 13, 17, 19, 23, 29], get_primes(10))\n",
    "assert_equal([2, 3, 5, 7, 11, 13, 17, 19, 23, 29, 31, 37, 41, 43, 47, 53, 59, 61, 67, 71, 73, 79, 83, 89, 97, 101, 103, 107, 109, 113, 127, 131, 137, 139, 149, 151, 157, 163, 167, 173, 179, 181, 191, 193, 197, 199, 211, 223, 227, 229], get_primes(50))\n"
   ]
  }
 ],
 "metadata": {
  "colab": {
   "collapsed_sections": [],
   "name": "jamcoders_probs3c.ipynb",
   "provenance": []
  },
  "kernelspec": {
   "display_name": "Python 3",
   "language": "python",
   "name": "python3"
  },
  "language_info": {
   "codemirror_mode": {
    "name": "ipython",
    "version": 3
   },
   "file_extension": ".py",
   "mimetype": "text/x-python",
   "name": "python",
   "nbconvert_exporter": "python",
   "pygments_lexer": "ipython3",
   "version": "3.10.6"
  }
 },
 "nbformat": 4,
 "nbformat_minor": 4
}
