{
 "cells": [
  {
   "cell_type": "markdown",
   "metadata": {},
   "source": [
    "# Week 1 Day 1, Part B Exercises: Variables, Types, Errors"
   ]
  },
  {
   "cell_type": "markdown",
   "metadata": {},
   "source": [
    "![Reminder to Save](https://i.imgur.com/JFukxlL.png)"
   ]
  },
  {
   "cell_type": "code",
   "execution_count": null,
   "metadata": {},
   "outputs": [],
   "source": [
    "# Always run this code.\n",
    "%config InteractiveShell.ast_node_interactivity=\"none\""
   ]
  },
  {
   "cell_type": "markdown",
   "metadata": {},
   "source": [
    "# Table of Contents  \n",
    "\n",
    "**[Question 1: Conceptual Recap from Part 1](#1)**\n",
    "\n",
    "**[Question 2: Types in Python](#2)**\n",
    "\n",
    "**[Question 3: String Math](#3)**\n",
    "\n",
    "**[Question 4: Errors](#4)**\n",
    "\n",
    "**[Question 5: len()](#5)**\n",
    "\n",
    "**[Question 6: Boolean Operators](#6)**\n",
    "\n",
    "**[Question 7: Obstacle Course](#7)**\n",
    "\n",
    "**[Optional Challenge Question: Create Your Own Obstacle Course](#8)**"
   ]
  },
  {
   "cell_type": "markdown",
   "metadata": {
    "id": "e5EtF5qpEoWH"
   },
   "source": [
    "<a name=\"1\"></a>\n",
    "## Question 1: Conceptual Recap from Part 1"
   ]
  },
  {
   "cell_type": "markdown",
   "metadata": {
    "id": "ab4moOGdFNyq"
   },
   "source": [
    "**1.1)** Loosely define the following terms in a comment below. Feel free to ask a TA if you want help!\n",
    "*   Code\n",
    "*   Python\n",
    "*   Programming Language\n",
    "*   Jupyter Notebook"
   ]
  },
  {
   "cell_type": "code",
   "execution_count": null,
   "metadata": {
    "id": "XaxM9-43EYOD"
   },
   "outputs": [],
   "source": [
    "# YOUR ANSWER HERE\n",
    "# Code: _______\n",
    "# Python: _______\n",
    "# Programming Language: _______\n",
    "# Jupyter Notebook: _______"
   ]
  },
  {
   "cell_type": "markdown",
   "metadata": {
    "id": "_zhrtgwlGTUN"
   },
   "source": [
    "**1.2)** In lecture, we saw that computer programs are made up of: \n",
    "*   Variables\n",
    "*   Operators (ex. `+`, `%`, `*`)\n",
    "*   Expressions\n",
    "\n",
    "What is the purpose of each of these things? What do they do?"
   ]
  },
  {
   "cell_type": "code",
   "execution_count": null,
   "metadata": {
    "id": "3csD6ZKQI_QQ"
   },
   "outputs": [],
   "source": [
    "# YOUR ANSWER HERE\n",
    "# Variables: _______\n",
    "# Operators: _______\n",
    "# Expressions: _______"
   ]
  },
  {
   "cell_type": "markdown",
   "metadata": {},
   "source": [
    "<a name=\"2\"></a>\n",
    "## Question 2: Types in Python"
   ]
  },
  {
   "cell_type": "markdown",
   "metadata": {},
   "source": [
    "Everything in python has a `type`, and the `type` determines how it gets used by the computer.\n",
    "\n",
    "First, let's see what `type`s look like in Python."
   ]
  },
  {
   "cell_type": "markdown",
   "metadata": {},
   "source": [
    "**2.1)** `type(...)` is an important function which we can use to determine the type of anything in Python!\n",
    "\n",
    "Let's use it to figure out the type of the number `1`."
   ]
  },
  {
   "cell_type": "code",
   "execution_count": null,
   "metadata": {},
   "outputs": [],
   "source": [
    "# This line prints out the type of the number 1\n",
    "print(type(1))"
   ]
  },
  {
   "cell_type": "markdown",
   "metadata": {},
   "source": [
    "**2.2)** Try writing some code that outputs the type of `3.50`."
   ]
  },
  {
   "cell_type": "code",
   "execution_count": null,
   "metadata": {},
   "outputs": [],
   "source": [
    "# YOUR ANSWER HERE"
   ]
  },
  {
   "cell_type": "markdown",
   "metadata": {},
   "source": [
    "Both of these values are numbers. Why did the different numbers output different types? After answering this question, call over a TA to check your work!\n",
    "\n",
    "*Write your answer in a comment below.*"
   ]
  },
  {
   "cell_type": "code",
   "execution_count": null,
   "metadata": {},
   "outputs": [],
   "source": [
    "# YOUR ANSWER HERE"
   ]
  },
  {
   "cell_type": "markdown",
   "metadata": {},
   "source": [
    "**2.3)** What is the resulting type of adding ```1``` with ```1```? "
   ]
  },
  {
   "cell_type": "code",
   "execution_count": null,
   "metadata": {},
   "outputs": [],
   "source": [
    "# YOUR CODE HERE"
   ]
  },
  {
   "cell_type": "markdown",
   "metadata": {},
   "source": [
    "**2.4)** What is the resulting type of adding ```1``` and ```3.50```? "
   ]
  },
  {
   "cell_type": "code",
   "execution_count": null,
   "metadata": {},
   "outputs": [],
   "source": [
    "# YOUR CODE HERE"
   ]
  },
  {
   "cell_type": "markdown",
   "metadata": {},
   "source": [
    "**2.5)** Why did question **2.3** and **2.4** have different outputs? They both are just adding numbers...\n",
    "\n",
    "*Write the answer in a comment below.*"
   ]
  },
  {
   "cell_type": "code",
   "execution_count": null,
   "metadata": {},
   "outputs": [],
   "source": [
    "# YOUR ANSWER HERE"
   ]
  },
  {
   "cell_type": "markdown",
   "metadata": {},
   "source": [
    "**2.6)** Similar to before, try comparing the type of these two expressions by doing the following 2 tasks:\n",
    "1. Print the type of `263 / 34`.\n",
    "2. Print the type of `263 // 34`.\n",
    "\n",
    "_Hint: `//` does whole number division._"
   ]
  },
  {
   "cell_type": "code",
   "execution_count": null,
   "metadata": {},
   "outputs": [],
   "source": [
    "# YOUR CODE HERE"
   ]
  },
  {
   "cell_type": "markdown",
   "metadata": {},
   "source": [
    "Explain the output. What is different about these 2 cases?\n",
    "\n",
    "*Write the answer in a comment below.*"
   ]
  },
  {
   "cell_type": "code",
   "execution_count": null,
   "metadata": {},
   "outputs": [],
   "source": [
    "# YOUR ANSWER HERE"
   ]
  },
  {
   "cell_type": "markdown",
   "metadata": {},
   "source": [
    "**2.7)** Let's look at the `type` of strings!\n",
    "\n",
    "1. Print the type of `\"Hello\"`.\n",
    "2. Print the type of `\"Goodbye\"`."
   ]
  },
  {
   "cell_type": "code",
   "execution_count": null,
   "metadata": {},
   "outputs": [],
   "source": [
    "# YOUR CODE HERE"
   ]
  },
  {
   "cell_type": "markdown",
   "metadata": {},
   "source": [
    "**2.8 - Trick Question 👻👻)** Piyush ran this code to check the type of `\"1\"`.\n",
    "\n",
    "Because `1` is a number Piyush knew that the output would say `int`."
   ]
  },
  {
   "cell_type": "code",
   "execution_count": null,
   "metadata": {},
   "outputs": [],
   "source": [
    "one = \"1\"\n",
    "\n",
    "print(type(one))"
   ]
  },
  {
   "cell_type": "markdown",
   "metadata": {},
   "source": [
    "Huh?? `<class 'str'>`?\n",
    "\n",
    "Why didn't it output `int` when `1` is a number?\n",
    "\n",
    "*Write the answer in a comment below.*"
   ]
  },
  {
   "cell_type": "code",
   "execution_count": null,
   "metadata": {},
   "outputs": [],
   "source": [
    "# YOUR ANSWER HERE"
   ]
  },
  {
   "cell_type": "markdown",
   "metadata": {},
   "source": [
    "To fix Piyush's problem, assign the variable `one_corrected` to an `int` using the `int()` function. Verify that `one_corrected` is an `int` by running the cell below."
   ]
  },
  {
   "cell_type": "code",
   "execution_count": null,
   "metadata": {},
   "outputs": [],
   "source": [
    "one_corrected = # YOUR CODE HERE\n",
    "print(type(one_corrected))"
   ]
  },
  {
   "cell_type": "markdown",
   "metadata": {},
   "source": [
    "Hooray! You have completed your first cast! As a reminder from lecture, casting is when you change the variable or value of one type to another type."
   ]
  },
  {
   "cell_type": "markdown",
   "metadata": {},
   "source": [
    "**2.9)** Piyush tried a different number and he got the same output!"
   ]
  },
  {
   "cell_type": "code",
   "execution_count": null,
   "metadata": {},
   "outputs": [],
   "source": [
    "three_point_five = 3.5\n",
    "\n",
    "print(type(\"three_point_five\"))"
   ]
  },
  {
   "cell_type": "markdown",
   "metadata": {},
   "source": [
    "Write code that does output the type correctly."
   ]
  },
  {
   "cell_type": "code",
   "execution_count": null,
   "metadata": {},
   "outputs": [],
   "source": [
    "# YOUR CODE HERE"
   ]
  },
  {
   "cell_type": "markdown",
   "metadata": {},
   "source": [
    "What did Piyush do wrong? What did you do to fix his mistake?\n",
    "\n",
    "*Write the answer in a comment below.*\n",
    "\n",
    "After answering this question, call over a TA to check your work for Question 2!"
   ]
  },
  {
   "cell_type": "code",
   "execution_count": null,
   "metadata": {},
   "outputs": [],
   "source": [
    "# YOUR ANSWER HERE"
   ]
  },
  {
   "cell_type": "markdown",
   "metadata": {},
   "source": [
    "<a name=\"3\"></a>\n",
    "## Question 3: String Math"
   ]
  },
  {
   "cell_type": "markdown",
   "metadata": {},
   "source": [
    "In the questions earlier today, we printed strings and added and multiplied numbers.\n",
    "\n",
    "Can we add and multiply strings?\n",
    "\n",
    "Let's find out!"
   ]
  },
  {
   "cell_type": "markdown",
   "metadata": {},
   "source": [
    "**3.1)** What is the result of adding `\"Hello\"` `+` `\"Goodbye\"`?\n",
    "\n",
    "Print out your answer to find out!"
   ]
  },
  {
   "cell_type": "code",
   "execution_count": null,
   "metadata": {},
   "outputs": [],
   "source": [
    "# YOUR CODE HERE"
   ]
  },
  {
   "cell_type": "markdown",
   "metadata": {},
   "source": [
    "**3.2)** Can you add two different strings so that they have a space between them?"
   ]
  },
  {
   "cell_type": "code",
   "execution_count": null,
   "metadata": {},
   "outputs": [],
   "source": [
    "# YOUR CODE HERE"
   ]
  },
  {
   "cell_type": "markdown",
   "metadata": {},
   "source": [
    "**3.3)** Now, I'm going to give you a challenge!\n",
    "\n",
    "In the next code block I want you to make the output say `YayYayYayYay`.\n",
    "\n",
    "But, try doing it without typing `\"Y\"` or `\"A\"` :)"
   ]
  },
  {
   "cell_type": "code",
   "execution_count": null,
   "metadata": {},
   "outputs": [],
   "source": [
    "# Don't touch the next line\n",
    "string = \"Yay\"\n",
    "\n",
    "# ↓↓ Start coding here ↓↓\n",
    "\n",
    "\n",
    "\n",
    "# ↑↑ Finish Coding here ↑↑\n",
    "\n",
    "# Print the text: YayYayYayYay\n",
    "print(string)"
   ]
  },
  {
   "cell_type": "markdown",
   "metadata": {},
   "source": [
    "**3.4)** Let's try multiplying two strings!\n",
    "\n",
    "Try multiplying `\"Hello\"` by `\"Goodbye\"`\n",
    "\n",
    "Does it work?"
   ]
  },
  {
   "cell_type": "code",
   "execution_count": null,
   "metadata": {},
   "outputs": [],
   "source": [
    "# YOUR CODE HERE"
   ]
  },
  {
   "cell_type": "markdown",
   "metadata": {},
   "source": [
    "**3.5)** Let's try mixing `type`s!\n",
    "\n",
    "We know that we can add two strings together, but let's try adding a string with a number! \n",
    "\n",
    "Try adding `\"Hello\"` to `5`.\n",
    "\n",
    "Does it work?"
   ]
  },
  {
   "cell_type": "code",
   "execution_count": null,
   "metadata": {},
   "outputs": [],
   "source": [
    "# YOUR CODE HERE"
   ]
  },
  {
   "cell_type": "markdown",
   "metadata": {},
   "source": [
    "**3.6)** Let's try multiplying strings!\n",
    "\n",
    "Try multiplying `\"Hello\"` by `5`\n",
    "\n",
    "Does it work? After answering this question, call over a TA to review your answers for questions 3.4-3.6."
   ]
  },
  {
   "cell_type": "code",
   "execution_count": null,
   "metadata": {},
   "outputs": [],
   "source": [
    "# YOUR CODE HERE"
   ]
  },
  {
   "cell_type": "markdown",
   "metadata": {
    "id": "iiN2sjdAJv_v"
   },
   "source": [
    "<a name=\"4\"></a>\n",
    "## Question 4: Errors"
   ]
  },
  {
   "cell_type": "markdown",
   "metadata": {},
   "source": [
    "The computer is a really hard worker, but sometimes it doesn't know how to do what we tell it. If the computer gets stuck it needs your help!\n",
    "\n",
    "`Error`s are how the computer tells you what it got confused with. The computer will tell you which line it got confused by, and then it'll say why it got confused by the line.\n",
    "\n",
    "For example **nobody** can divide by zero, not even calculators or computers. If we tell the computer to run `print(12 / 0)` it'll get confused and tell us it got confused trying to divide by zero."
   ]
  },
  {
   "cell_type": "markdown",
   "metadata": {},
   "source": [
    "**4.1)** The following code works perfectly! Can you change a single variable's value so that it makes the computer get stuck?\n",
    "\n",
    "_Hint: **nobody** and I mean **nobody** can divide by zero._"
   ]
  },
  {
   "cell_type": "code",
   "execution_count": null,
   "metadata": {},
   "outputs": [],
   "source": [
    "# Try changing the numerator\n",
    "numerator = 12\n",
    "print(\"Created the numerator\")\n",
    "\n",
    "# Try changing the denominator\n",
    "denominator = 6\n",
    "print(\"Created the denominator\")\n",
    "\n",
    "print(numerator / denominator)\n",
    "print(\"Finished printing numerator/denominator\")"
   ]
  },
  {
   "cell_type": "markdown",
   "metadata": {
    "id": "AeGOMF4vJ0I_"
   },
   "source": [
    "**4.2)** This code works perfectly! Can you change a variable's value so that the computer gets confused and Errors?\n",
    "\n",
    "_Hint: Review Question 3 type errors._"
   ]
  },
  {
   "cell_type": "code",
   "execution_count": null,
   "metadata": {
    "id": "dHtfjJ0tJzxj"
   },
   "outputs": [],
   "source": [
    "# Try changing the predicate\n",
    "predicate = \"Hello\"\n",
    "print(\"Created the predicate\")\n",
    "\n",
    "# Try changing the subject\n",
    "subject = \" World!\"\n",
    "print(\"Created the subject\")\n",
    "\n",
    "print(predicate + subject)\n",
    "print(\"Finished printing predicate + subject\")"
   ]
  },
  {
   "cell_type": "markdown",
   "metadata": {},
   "source": [
    "**4.3)** The computer gets confused because I didn't define the variable `my_name`.\n",
    "\n",
    "Can you fix the error by defining the variable `my_name`?"
   ]
  },
  {
   "cell_type": "code",
   "execution_count": null,
   "metadata": {},
   "outputs": [],
   "source": [
    "# YOUR CODE HERE\n",
    "\n",
    "# Tries to print my_name, but we didn't define it!\n",
    "print(my_name)"
   ]
  },
  {
   "cell_type": "markdown",
   "metadata": {
    "id": "QGqkjXtfJL-f"
   },
   "source": [
    "<a name=\"5\"></a>\n",
    "## Question 5: len()"
   ]
  },
  {
   "cell_type": "markdown",
   "metadata": {
    "id": "Za0vVfE-JZfw"
   },
   "source": [
    "**5.1)** Have you ever wondered how many letters that make up one of the longest words in the English dictionary is? \n",
    "\n",
    "Well, write the code to find the length of the word `\"Supercalifragilisticexpialidocious\"`."
   ]
  },
  {
   "cell_type": "code",
   "execution_count": null,
   "metadata": {
    "id": "4VStz_f8JZyR"
   },
   "outputs": [],
   "source": [
    "word_1 = \"Supercalifragilisticexpialidocious\"\n",
    "\n",
    "# YOUR CODE HERE"
   ]
  },
  {
   "cell_type": "markdown",
   "metadata": {
    "id": "8Mkw48xFMIPY"
   },
   "source": [
    "**5.2)** If we were to break this long word into smaller, more simpler parts, this would be `\"super cali fragil is tic ex pi ali do cious \"`.\n",
    "\n",
    "Now, what would the length of this string would be? (Let's see if there is a difference now that we have spaces in between and at the end)."
   ]
  },
  {
   "cell_type": "code",
   "execution_count": null,
   "metadata": {
    "id": "2lTyIRJnyoNo"
   },
   "outputs": [],
   "source": [
    "word_2 = \"super cali fragil is tic ex pi ali do cious \"\n",
    "\n",
    "# YOUR CODE HERE"
   ]
  },
  {
   "cell_type": "markdown",
   "metadata": {},
   "source": [
    "**5.3)** Now, let's make a word length calculator! Fill in the blank to prompt the user for a word. Then, calculate the length of that word."
   ]
  },
  {
   "cell_type": "code",
   "execution_count": null,
   "metadata": {},
   "outputs": [],
   "source": [
    "word_input = input(\"Enter a word.\")\n",
    "word_length = # YOUR CODE HERE\n",
    "print(\"The length of the word\", word_input, \"is\", word_length, \"characters.\")"
   ]
  },
  {
   "cell_type": "markdown",
   "metadata": {},
   "source": [
    "**5.4)** What happens when you try to find the length of the integer $10$?"
   ]
  },
  {
   "cell_type": "code",
   "execution_count": null,
   "metadata": {},
   "outputs": [],
   "source": [
    "word_4 = 10\n",
    "\n",
    "# YOUR CODE HERE"
   ]
  },
  {
   "cell_type": "markdown",
   "metadata": {},
   "source": [
    "<a name=\"6\"></a>\n",
    "## Question 6: Boolean Operators"
   ]
  },
  {
   "cell_type": "markdown",
   "metadata": {},
   "source": [
    "**6.1)** Values that can be either True or False are called booleans or `bool`s.\n",
    "\n",
    "Try outputting the type of `True` and `False` below."
   ]
  },
  {
   "cell_type": "code",
   "execution_count": null,
   "metadata": {},
   "outputs": [],
   "source": [
    "# Note: make sure to capitalize the first letter of True, False\n",
    "# YOUR CODE HERE"
   ]
  },
  {
   "cell_type": "markdown",
   "metadata": {},
   "source": [
    "**6.2)** Boolean Operators take in True/False values (booleans) and return a new True/False value.\n",
    "\n",
    "Below we have two tables enumerating all inputs/outputs for the Boolean Operators **and** as well as **or**. Tables of this form are called *truth tables*.\n",
    "\n",
    "These operators, **and** as well as **or**, can both take in two True/False values and return a third True/False value."
   ]
  },
  {
   "cell_type": "markdown",
   "metadata": {},
   "source": [
    "| AND      |  True | False |\n",
    "| -------- | ----- | ----- |\n",
    "| **True** |   A   |   B   |\n",
    "| **False**|   C   |   D   |\n"
   ]
  },
  {
   "cell_type": "markdown",
   "metadata": {},
   "source": [
    "|  OR      |  True | False |\n",
    "| -------- | ----- | ----- |\n",
    "| **True** |   E   |   F   |\n",
    "| **False**|   G   |   H   |"
   ]
  },
  {
   "cell_type": "markdown",
   "metadata": {},
   "source": [
    "What are the boolean values of A through H? Use your intuition to fill out the empty list in the text cell below.\n",
    "\n",
    "_Hint: A through H are the values returned by **and** as well as **or**, they can only be **True** or **False**._"
   ]
  },
  {
   "cell_type": "markdown",
   "metadata": {},
   "source": [
    "*Fill out this list.*\n",
    "\n",
    "A [True and True]: \n",
    "\n",
    "B [True and False]: \n",
    "\n",
    "C [False and True]: \n",
    "\n",
    "D [False and False]: \n",
    "\n",
    "-----------------------------\n",
    "\n",
    "E [True or True]: \n",
    "\n",
    "F [True or False]: \n",
    "\n",
    "G [False or True]: \n",
    "\n",
    "H [False or False]: "
   ]
  },
  {
   "cell_type": "markdown",
   "metadata": {},
   "source": [
    "Use code to check your above answers. "
   ]
  },
  {
   "cell_type": "code",
   "execution_count": null,
   "metadata": {},
   "outputs": [],
   "source": [
    "# For example, try running \"print(True and False)\".\n",
    "# Note that keywords {and, or} are all lowercase\n",
    "\n",
    "# YOUR CODE HERE"
   ]
  },
  {
   "cell_type": "markdown",
   "metadata": {},
   "source": [
    "Truth tables become more intuitive when you think of each operator as having a unique personality!\n",
    "\n",
    "**and** is _very strict_. They will freak out and answer `False` if **anything** you give them is false. The only way to make them satisfied is by ensuring everything they see is `True`.\n",
    "\n",
    "**or** is _very friendly_. As long as you give them at least one thing that's true they'll, be happy and output `True`. Be nice though, if everything you give them is false they'll get sad and output `False`."
   ]
  },
  {
   "cell_type": "markdown",
   "metadata": {},
   "source": [
    "**6.3)** Another boolean operator is called **not**. It takes in a single True/False value and returns a new corresponding True/False value.\n",
    "\n",
    "Try seeing what it outputs for `not True` and `not False`."
   ]
  },
  {
   "cell_type": "code",
   "execution_count": null,
   "metadata": {},
   "outputs": [],
   "source": [
    "# YOUR CODE HERE"
   ]
  },
  {
   "cell_type": "markdown",
   "metadata": {},
   "source": [
    "**6.4)** One common situation involving booleans is checking for equality and inequality using these operators:\n",
    "1. Equality `==`\n",
    "2. Not Equal `!=`\n",
    "3. Less than `<`\n",
    "4. Less than or Equal to `<=`\n",
    "5. Greater than `>`\n",
    "6. Greater than or equal to `>=` \n",
    "\n",
    "In the code cells below, try answering questions using the these operators."
   ]
  },
  {
   "cell_type": "code",
   "execution_count": null,
   "metadata": {},
   "outputs": [],
   "source": [
    "# Example Question\n",
    "print(\"Is 1 equal to 2?\")\n",
    "print(1 == 2) # Example Code\n",
    "\n",
    "print(\"Is 1 equal to 1?\")\n",
    "# YOUR CODE HERE\n",
    "\n",
    "print(\"Is 1 not equal to 2?\")\n",
    "# YOUR CODE HERE\n",
    "\n",
    "print(\"Is 1 less than 2?\")\n",
    "# YOUR CODE HERE\n",
    "\n",
    "print(\"Is 1 less than or equal to 1?\")\n",
    "# YOUR CODE HERE\n",
    "\n",
    "print(\"Is 1 greater than 2?\")\n",
    "# YOUR CODE HERE\n",
    "\n",
    "print(\"Is 1 greater than or equal to 2?\")\n",
    "# YOUR CODE HERE\n",
    "\n",
    "print(\"Is True equal to True?\")\n",
    "# YOUR CODE HERE"
   ]
  },
  {
   "cell_type": "markdown",
   "metadata": {},
   "source": [
    "**6.5)** Try answering all of the above questions but only using these operators, `not`, as well as `or`.\n",
    "1. Equality `==`\n",
    "3. Less than `<`\n",
    "5. Greater than `>`"
   ]
  },
  {
   "cell_type": "code",
   "execution_count": null,
   "metadata": {},
   "outputs": [],
   "source": [
    "print(\"Is 1 less than or equal to 1?\")\n",
    "# YOUR CODE HERE\n",
    "\n",
    "print(\"Is 1 greater than or equal to 2?\")\n",
    "# YOUR CODE HERE\n",
    "\n",
    "print(\"Is 1 not equal to 2?\")\n",
    "# YOUR CODE HERE\n",
    "\n",
    "print(\"Is 1 less than 2 and greater than 0?\")\n",
    "# YOUR CODE HERE"
   ]
  },
  {
   "cell_type": "markdown",
   "metadata": {},
   "source": [
    "**6.6 - Trick Question 👻👻)** Are ```3``` and ```'3'``` equivalent? Use code to confirm (Hint: use `==` to check equivalence). \n",
    "\n",
    "How about ```True``` and ```'True'```?"
   ]
  },
  {
   "cell_type": "code",
   "execution_count": null,
   "metadata": {},
   "outputs": [],
   "source": [
    "# YOUR CODE HERE"
   ]
  },
  {
   "cell_type": "markdown",
   "metadata": {},
   "source": [
    "**6.7)** Are ```\"Alex\"``` and ```'Alex'``` equivalent? Use code to confirm. "
   ]
  },
  {
   "cell_type": "code",
   "execution_count": null,
   "metadata": {},
   "outputs": [],
   "source": [
    "# YOUR CODE HERE"
   ]
  },
  {
   "cell_type": "markdown",
   "metadata": {},
   "source": [
    "**6.8)** Is ```(not False)``` equivalent to ``` True```? "
   ]
  },
  {
   "cell_type": "code",
   "execution_count": null,
   "metadata": {},
   "outputs": [],
   "source": [
    "# YOUR CODE HERE"
   ]
  },
  {
   "cell_type": "markdown",
   "metadata": {
    "id": "5g7T8qoj6wO8"
   },
   "source": [
    "<a name=\"7\"></a>\n",
    "## Question 7: Obstacle Course"
   ]
  },
  {
   "cell_type": "markdown",
   "metadata": {
    "id": "7efz_gcM7tl8"
   },
   "source": [
    "In this question, you control a variable called `player`. **Your goal is to never print out `False`, and never run into an `Error`.** However, there are some lines that you are not allowed to edit.\n",
    "\n",
    "In other words, the rules to the game are:\n",
    "*   Do not alter any `print` statement.\n",
    "*   Otherwise, add any code you want, anywhere.\n",
    "*   Make the code `Error`-free.\n",
    "*   Pass all levels!\n"
   ]
  },
  {
   "cell_type": "code",
   "execution_count": null,
   "metadata": {
    "id": "_79k4caF7vaD"
   },
   "outputs": [],
   "source": [
    "# Set player to any value you would like!\n",
    "player = None\n",
    "print('Level 1 passed?', type(player) == str) # Do not edit this print statement!\n",
    "\n",
    "# Set player to any value you would like!\n",
    "player = None\n",
    "print('Level 2 passed?', type(player) == int and player % 2 == 1) # Do not edit this print statement!\n",
    "\n",
    "# Set player to any value you would like!\n",
    "player = None\n",
    "print('Level 3 passed?', len(player) == 3) # Do not edit this print statement!\n",
    "\n",
    "# Set player to any value you would like!\n",
    "player = None\n",
    "print('Level 4 passed?', player == 'secret passcode') # Do not edit this print statement!\n",
    "\n",
    "# Set player to any value you would like!\n",
    "player = None\n",
    "print('Level 5 passed?', type(player) == str and len(player) == 5) # Do not edit this print statement!\n",
    "\n",
    "# Set player to any value you would like!\n",
    "player = None\n",
    "print('Level 6 passed?', type(player) == float and player < 100 and player > 18) # Do not edit this print statement!\n",
    "\n",
    "# Set player to any value you would like!\n",
    "player = None\n",
    "print('Level 7 passed?', type(player) == float and player < 100 and player > 18) # Do not edit this print statement!\n",
    "\n",
    "# Set player to any value you would like!\n",
    "player = None\n",
    "print('Level 8 passed?', type(player) == float and player // 2 == 3) # Do not edit this print statement!\n",
    "\n",
    "# Set player to any value you would like!\n",
    "player = None\n",
    "print('Level 9 passed?', len(player) == 2025 and type(player) == str) # Do not edit this print statement!\n",
    "\n",
    "# Set player to any value you would like!\n",
    "player = None\n",
    "print('Level 10 passed?', player % 3 == player % 5 == player % 7 and (player > 8)) # Do not edit this print statement!"
   ]
  },
  {
   "cell_type": "markdown",
   "metadata": {},
   "source": [
    "<a name=\"8\"></a>\n",
    "## Optional Challenge Question: Create Your Own Obstacle Course"
   ]
  },
  {
   "cell_type": "markdown",
   "metadata": {},
   "source": [
    "*This question is completely optional! Finish the other questions first, then come back to try it if you have extra time.*\n",
    "\n",
    "Write your own obstacle course, just like we did in question 7! Then, get a friend who has also finished the other exercises, or a TA, to play your obstacle course!\n",
    "\n",
    "**Please make sure the obstacle course is possible to complete :)**"
   ]
  },
  {
   "cell_type": "code",
   "execution_count": null,
   "metadata": {},
   "outputs": [],
   "source": [
    "# Write your obstacle course here!\n",
    "\n",
    "# Let the player set the values of the player\n",
    "player = None\n",
    "\n",
    "print(True) # Write your obstacles here! The player cannot edit these lines!"
   ]
  }
 ],
 "metadata": {
  "colab": {
   "collapsed_sections": [
    "e5EtF5qpEoWH",
    "QGqkjXtfJL-f",
    "iiN2sjdAJv_v",
    "QtCuLmzEKLvd",
    "shGWdTWJJ2wq",
    "Y0ShrROyKkNQ",
    "82akokxa60KZ",
    "5g7T8qoj6wO8",
    "Sc3zz0vJ7Dns",
    "1vRWCHqouUsk"
   ],
   "name": "jamcoders_probs1b.ipynb",
   "provenance": []
  },
  "kernelspec": {
   "display_name": "base",
   "language": "python",
   "name": "python3"
  },
  "language_info": {
   "codemirror_mode": {
    "name": "ipython",
    "version": 3
   },
   "file_extension": ".py",
   "mimetype": "text/x-python",
   "name": "python",
   "nbconvert_exporter": "python",
   "pygments_lexer": "ipython3",
   "version": "3.11.5"
  }
 },
 "nbformat": 4,
 "nbformat_minor": 4
}
