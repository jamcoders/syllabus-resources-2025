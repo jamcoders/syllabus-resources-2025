{
  "cells": [
    {
      "cell_type": "markdown",
      "metadata": {
        "id": "86kJ_ZBD9ovt"
      },
      "source": [
        "# Week 1 Day 3, Part 2 Exercises: Functions, Print vs Return!"
      ]
    },
    {
      "cell_type": "markdown",
      "metadata": {
        "id": "-wWj8wbnsEqK"
      },
      "source": [
        "![Reminder to Save](https://github.com/jamcoders/jamcoders-public-2025/blob/main/images/warning.png?raw=true)"
      ]
    },
    {
      "cell_type": "code",
      "execution_count": 3,
      "metadata": {
        "id": "dOLpsRZXsEqL"
      },
      "outputs": [],
      "source": [
        "# Always run this code.\n",
        "%config InteractiveShell.ast_node_interactivity=\"none\"\n",
        "import sys\n",
        "if 'google.colab' in sys.modules:\n",
        "  !pip install --force-reinstall git+https://github.com/jamcoders/jamcoders-public-2025.git --quiet\n",
        "  !pip install colorama --quiet\n",
        "from jamcoders.base_utils import *\n",
        "from jamcoders.week1.lab3b import *"
      ]
    },
    {
      "cell_type": "markdown",
      "metadata": {
        "id": "mZ3nu-sLsEqL"
      },
      "source": [
        "<a name=\"0\"></a>\n",
        "## Question 0: Printing vs Returning\n",
        "\n",
        "### 0.1\n",
        "Consider the following code:\n",
        "\n",
        "```python\n",
        "def my_function(name):\n",
        "  print(\"Hello \", name)\n",
        "\n",
        "```\n",
        "\n",
        "What should be printed to the console when I run the following?\n",
        "(*Note: the console shows the printed output from code when we run it*)\n",
        "  * `my_function(\"JamCoders\")`\n",
        "  <br /><br /><br />"
      ]
    },
    {
      "cell_type": "code",
      "execution_count": null,
      "metadata": {
        "id": "ULTCxe6UsEqM"
      },
      "outputs": [],
      "source": [
        "# Write your answer to question 0.1 here.\n",
        "answer_0_1 = ...\n",
        "\n",
        "check_answer_0_1(answer_0_1)"
      ]
    },
    {
      "cell_type": "markdown",
      "metadata": {},
      "source": [
        "### 0.2\n",
        "If I run the line: `print(my_function())`, I get:\n",
        "\n",
        "```python\n",
        "output:\n",
        ">>> Hello  JamCoders\n",
        ">>> None\n",
        "```\n",
        "\n",
        "*Why is `Hello  JamCoders` printed out? Why is `None` printed out?*"
      ]
    },
    {
      "cell_type": "code",
      "execution_count": null,
      "metadata": {},
      "outputs": [],
      "source": [
        "# Write your answer to question 0.2 here. Get it verified with a TA."
      ]
    },
    {
      "cell_type": "markdown",
      "metadata": {
        "id": "FPDYtwlxsEqM"
      },
      "source": [
        "### 0.3\n",
        "Consider the following code:\n",
        "\n",
        "```python\n",
        "def my_new_function():\n",
        "  return \"JamCoders\"\n",
        "\n",
        "```\n",
        "\n",
        "What should be printed to the console when I run the following?\n",
        "(*Note: the console shows the printed output from code when we run it*)\n",
        "  * `my_new_function()`\n",
        "  <br />\n"
      ]
    },
    {
      "cell_type": "code",
      "execution_count": null,
      "metadata": {
        "id": "AfuWXefXsEqM"
      },
      "outputs": [],
      "source": [
        "# Write your answer to question 0.3 here. Get it verified with a TA."
      ]
    },
    {
      "cell_type": "markdown",
      "metadata": {
        "id": "YT4oR619wk18"
      },
      "source": [
        "### 0.4\n",
        "Make a call to the function `my_new_function` and assign its returned value to a variable `answer_0_4`.\n"
      ]
    },
    {
      "cell_type": "code",
      "execution_count": null,
      "metadata": {
        "id": "6Z-a098mrNKF"
      },
      "outputs": [],
      "source": [
        "# Write your answer to question 0.4 here.\n",
        "answer_0_4 = ...\n",
        "\n",
        "check_answer_0_4(answer_0_4)"
      ]
    },
    {
      "cell_type": "markdown",
      "metadata": {
        "id": "iI2_e7SQwlUI"
      },
      "source": [
        "### 0.5\n",
        "Create a function that takes a list of strings and prints the lengths of all the strings in the list."
      ]
    },
    {
      "cell_type": "code",
      "execution_count": null,
      "metadata": {
        "id": "rRLNVWXos34d"
      },
      "outputs": [],
      "source": [
        "my_strings = [\"One\", \"good\", \"thing\" \"about music\", \" - \", \"when it hits you,\" \"you\" \"feel no pain.\"]\n",
        "\n",
        "def my_string_len_func(lst):\n",
        "    # Write your code here.\n",
        "\n",
        "my_string_len_func(my_strings)"
      ]
    },
    {
      "cell_type": "markdown",
      "metadata": {
        "id": "leFLwHmPs_SS"
      },
      "source": [
        "If you did it correctly, you should see the following output when you run the code above:<br/>\n",
        "3<br/>\n",
        "4<br/>\n",
        "16<br/>\n",
        "3<br/>\n",
        "33<br/>"
      ]
    },
    {
      "cell_type": "markdown",
      "metadata": {
        "id": "cGMHfZZedrdH"
      },
      "source": [
        "<a name=\"1\"></a>\n",
        "## Question 1: Build a square"
      ]
    },
    {
      "cell_type": "markdown",
      "metadata": {
        "id": "DREy3fS29oxj"
      },
      "source": [
        "Write a function that takes an integer x and prints an x by x checkerboard of hashes.\n",
        "\n",
        "Ex:\n",
        "```python\n",
        "build_checkerboard(4)\n",
        "# # # #\n",
        "# # # #\n",
        "# # # #\n",
        "# # # #\n",
        "```"
      ]
    },
    {
      "cell_type": "code",
      "execution_count": null,
      "metadata": {
        "id": "dQHI6ixVScTi"
      },
      "outputs": [],
      "source": [
        "# Write your build_checkerboard function here.\n",
        "\n",
        "\n",
        "# DO NOT MODIFY.\n",
        "build_checkerboard(4)"
      ]
    },
    {
      "cell_type": "markdown",
      "metadata": {
        "id": "o_JCcSBI9oxo"
      },
      "source": [
        "<a name=\"2\"></a>\n",
        "## Question 2: Build a pyramid\n"
      ]
    },
    {
      "cell_type": "markdown",
      "metadata": {
        "id": "B3JNFpXoWVOp"
      },
      "source": [
        "Write a function that takes an integer x and prints a pyramid with height x.\n",
        "\n",
        "Ex:\n",
        "```python\n",
        "build_pyramid(4)\n",
        "   #\n",
        "  # #\n",
        " # # #\n",
        "# # # #\n",
        "\n",
        "```"
      ]
    },
    {
      "cell_type": "code",
      "execution_count": null,
      "metadata": {
        "id": "q6Z-QUCG9oxo"
      },
      "outputs": [],
      "source": [
        "# Write your code here.\n",
        "\n",
        "\n",
        "# DO NOT MODIFY.\n",
        "build_pyramid(4)"
      ]
    },
    {
      "cell_type": "markdown",
      "metadata": {
        "id": "kvWHs3YlTbfw"
      },
      "source": [
        "<a name=\"3\"></a>\n",
        "## Question 3: Some cool Animations!\n",
        "\n"
      ]
    },
    {
      "cell_type": "markdown",
      "metadata": {
        "id": "ppYFmiJceuUX"
      },
      "source": [
        "### 3.1\n",
        "\n",
        "Run the code in the cell below. Here, we are using a function called `sleep` (that someone else wrote) from a module called `time`.\n",
        "\n",
        "What does `sleep()` seem to do?"
      ]
    },
    {
      "cell_type": "code",
      "execution_count": null,
      "metadata": {
        "id": "wBhscIkXfqGi"
      },
      "outputs": [],
      "source": [
        "from time import sleep\n",
        "\n",
        "print('print1')\n",
        "sleep(1)\n",
        "print('print2')\n",
        "sleep(2)\n",
        "print('print3')\n",
        "sleep(5)\n",
        "print('print4')"
      ]
    },
    {
      "cell_type": "code",
      "execution_count": null,
      "metadata": {
        "id": "S2i-BCsujMTW"
      },
      "outputs": [],
      "source": [
        "# Answer here. Get it verified with a TA."
      ]
    },
    {
      "cell_type": "markdown",
      "metadata": {
        "id": "VYDxGHy6g1ky"
      },
      "source": [
        "### 3.2\n",
        "\n",
        "Another function is a function called `clear_output` from `IPython`. What does `clear_output()` seem to do?"
      ]
    },
    {
      "cell_type": "code",
      "execution_count": null,
      "metadata": {
        "id": "u1wdsfZchGKi"
      },
      "outputs": [],
      "source": [
        "from time import sleep\n",
        "from IPython.display import clear_output\n",
        "\n",
        "print('print1')\n",
        "sleep(1)\n",
        "clear_output()\n",
        "\n",
        "print('print2')\n",
        "sleep(2)\n",
        "clear_output()\n",
        "\n",
        "print('print3')\n",
        "sleep(5)\n",
        "clear_output()"
      ]
    },
    {
      "cell_type": "code",
      "execution_count": null,
      "metadata": {
        "id": "YWpmxLsDjPyV"
      },
      "outputs": [],
      "source": [
        "# Answer here. Get it verified with a TA."
      ]
    },
    {
      "cell_type": "markdown",
      "metadata": {
        "id": "TJnuz7jbjWj-"
      },
      "source": [
        "### 3.3\n",
        "\n",
        "Using `sleep` and `clear_output`, we can build animations! Together, in the function `wait_and_clear`, the two functions allow us to pause to show the current 'frame', then clear the frame after some amount of time.\n",
        "\n",
        "Fix the code below so that there is a count-down animation, and finally at the end we print `'Ding!'`\n"
      ]
    },
    {
      "cell_type": "code",
      "execution_count": null,
      "metadata": {
        "id": "KdA2cVZjmZf1"
      },
      "outputs": [],
      "source": [
        "# Code your edits in this cell!\n",
        "\n",
        "from IPython.display import clear_output\n",
        "from time import sleep\n",
        "\n",
        "def wait_and_clear():\n",
        "    sleep(0.5)\n",
        "    clear_output()\n",
        "\n",
        "\n",
        "def count_down(number_of_seconds):\n",
        "    # Your code here! We recommend:\n",
        "\n",
        "    # 1. Use a while loop to decrement number_of_seconds one by one.\n",
        "\n",
        "    # 2. We want to first print the number of seconds left.\n",
        "\n",
        "    # 3. Then we want to wait_and_clear() the frame.\n",
        "\n",
        "    # At the very end, we print Ding!\n",
        "    print('Ding!')\n",
        "\n",
        "# DO NOT MODIFY.\n",
        "count_down(10)\n",
        "\n"
      ]
    },
    {
      "cell_type": "markdown",
      "metadata": {
        "id": "wVs2lyMTmFbz"
      },
      "source": [
        "### 3.4\n",
        "\n",
        "This code draws grids of increasing size. Try it out by running it:\n"
      ]
    },
    {
      "cell_type": "code",
      "execution_count": null,
      "metadata": {
        "id": "4BqIBtVEppy1"
      },
      "outputs": [],
      "source": [
        "from IPython.display import clear_output\n",
        "from time import sleep\n",
        "\n",
        "def wait_and_clear():\n",
        "  sleep(0.25)\n",
        "  clear_output(wait=True)\n",
        "\n",
        "# This function prints a solid grid of some size\n",
        "def print_grid(size):\n",
        "    for i in range(1, size + 1):\n",
        "      print('#' * (size + 1) * 2)\n",
        "\n",
        "# This function shows grids of increasing sizes, starting from size 0 to n-1!\n",
        "def increasing_grid(n):\n",
        "  # For loop, incrementing a variable called size\n",
        "  for size in range(n):\n",
        "    # Printing a new grid for a certain size\n",
        "    print_grid(size)\n",
        "    # Then wait_and_clear() the grid\n",
        "    wait_and_clear()\n",
        "\n",
        "# DO NOT MODIFY.\n",
        "increasing_grid(5)"
      ]
    },
    {
      "cell_type": "markdown",
      "metadata": {
        "id": "ZLyS81tqsEqO"
      },
      "source": [
        "Instead of printing grids, can you make pyramids? And instead of increasing sizes, can you make the size *decrease*? You can copy any code from above, and you can also copy any code from **Question 2**. Code your answer in the cell below:"
      ]
    },
    {
      "cell_type": "code",
      "execution_count": null,
      "metadata": {
        "id": "IfjZ8HQznle8"
      },
      "outputs": [],
      "source": [
        "from IPython.display import clear_output\n",
        "from time import sleep\n",
        "\n",
        "def wait_and_clear():\n",
        "    sleep(0.25)\n",
        "    clear_output(wait=True)\n",
        "\n",
        "# Make your edits to this function!\n",
        "def decreasing_pyramid(n):\n",
        "\n",
        "# DO NOT MODIFY.\n",
        "decreasing_pyramid(10)"
      ]
    },
    {
      "cell_type": "markdown",
      "metadata": {
        "id": "p0MYdGpvdsAf"
      },
      "source": [
        "<a name=\"4\"></a>\n",
        "## Question 4: colors!"
      ]
    },
    {
      "cell_type": "markdown",
      "metadata": {
        "id": "Dtt6-PhwidmX"
      },
      "source": [
        "You can print colored text using a function called `colored` that the JamCoders staff have written for you.\n",
        "\n",
        "* `colored` is a function\n",
        "* Runnning `colored(text, color)` returns the string `text` in a certain `color`\n",
        "  * `text` is the string we want to apply the color.\n",
        "  * `color` is the color we want to apply. It can be one of the following:\n",
        "    * `\"black\"`\n",
        "    * `\"blue\"`\n",
        "    * `\"cyan\"`\n",
        "    * `\"green\"`\n",
        "    * `\"grey\"`\n",
        "    * `\"magenta\"`\n",
        "    * `\"red\"`\n",
        "    * `\"white\"`\n",
        "    * `\"yellow\"`\n",
        "\n",
        "Try running the code sample below:"
      ]
    },
    {
      "cell_type": "code",
      "execution_count": null,
      "metadata": {
        "id": "SRR--a30eIZR"
      },
      "outputs": [],
      "source": [
        "block = '█'\n",
        "circle = '⬤'\n",
        "cross = '✖'\n",
        "plus = '＋'\n",
        "\n",
        "print(f\"The return value of colored has type: {type(colored(block, 'green'))}\")\n",
        "\n",
        "# print a red block\n",
        "print(colored(block, 'red'))\n",
        "\n",
        "# print a green circle\n",
        "print(colored(circle, 'green'))\n",
        "\n",
        "# print a magenta cross\n",
        "print(colored(cross, 'magenta'))"
      ]
    },
    {
      "cell_type": "markdown",
      "metadata": {
        "id": "RYKe1fwiiRM8"
      },
      "source": [
        "### 4.1\n",
        "\n",
        "Can you print a blue cross?"
      ]
    },
    {
      "cell_type": "code",
      "execution_count": null,
      "metadata": {
        "id": "IEH9Dh7jikeL"
      },
      "outputs": [],
      "source": [
        "# Code here!"
      ]
    },
    {
      "cell_type": "markdown",
      "metadata": {
        "id": "yVqDqc1EirJt"
      },
      "source": [
        "### 4.2\n",
        "\n",
        "Can you print a cyan hashtag?"
      ]
    },
    {
      "cell_type": "code",
      "execution_count": null,
      "metadata": {
        "id": "OlmVoiu4i2Jx"
      },
      "outputs": [],
      "source": [
        "# Code here!"
      ]
    },
    {
      "cell_type": "markdown",
      "metadata": {
        "id": "WPA9G2_mi2o-"
      },
      "source": [
        "### 4.3\n",
        "\n",
        "Anakai wants to make a rainbow animation that does the following:\n",
        "* Takes in some `text` and a list of `colors`.\n",
        "* For each color, it `prints()` the text, then `wait_and_clear()` the text\n",
        "* When we reach the end of the list, we finally `print()` the string `text` in the first color.\n",
        "\n",
        "For example, `rainbow_print('hi', ['red', 'green', 'blue'])` would first print `'hi'` in red, then in green, then in blue. Finally, at the end, it finishes by printing `'hi'` in the first color, `'red'`.\n",
        "\n"
      ]
    },
    {
      "cell_type": "code",
      "execution_count": null,
      "metadata": {
        "id": "UhwvqgWijW3I"
      },
      "outputs": [],
      "source": [
        "from IPython.display import clear_output\n",
        "from time import sleep\n",
        "\n",
        "def wait_and_clear():\n",
        "    sleep(1)\n",
        "    clear_output(wait=True)\n",
        "\n",
        "def rainbow_print(text, colors):\n",
        "    # Your code here!\n",
        "\n",
        "\n",
        "# DO NOT MODIFY.\n",
        "all_colors = [\"grey\", \"red\", \"green\", \"yellow\", \"blue\", \"magenta\", \"cyan\", \"white\"]\n",
        "rainbow_print('███<<<HELLO!>>███', all_colors)\n"
      ]
    },
    {
      "cell_type": "markdown",
      "metadata": {
        "id": "wEMouQjnnqqa"
      },
      "source": [
        "### 4.4: Arrow"
      ]
    },
    {
      "cell_type": "markdown",
      "metadata": {
        "id": "Xei1kCGZn2c0"
      },
      "source": [
        "Jabari wants to animate an arrow \">\" moving across the screen from left to right.\n",
        "He has written some code to draw the first arrow that starts on the left end of the screen, at column 0. Try running this code!"
      ]
    },
    {
      "cell_type": "code",
      "execution_count": null,
      "metadata": {
        "id": "kgd1rjPmnqVY"
      },
      "outputs": [],
      "source": [
        "# Jabari's code!\n",
        "block = '█'\n",
        "board = ''\n",
        "for row in range(3):\n",
        "    for column in range(40):\n",
        "        # The block at (row=1, col=2), should be white - the tip of the arrow\n",
        "        if (row == 1) and column == 1:\n",
        "            board += colored(block, 'white')\n",
        "\n",
        "        # The block at (row=0, column=1), (row=2, column=1) should be white - the ends of the arrow\n",
        "        elif (row == 0 or row == 2) and column == 0:\n",
        "            board += colored(block, 'white')\n",
        "\n",
        "        # This block is not on the arrow, just make it green\n",
        "        else:\n",
        "            board += colored(block, 'green')\n",
        "\n",
        "    board += '\\n' # '\\n' means a new line!\n",
        "\n",
        "# DO NOT MODIFY\n",
        "print(board)"
      ]
    },
    {
      "cell_type": "markdown",
      "metadata": {
        "id": "MJijOhspsEqS"
      },
      "source": [
        "* Can you turn this into a function called `print_arrow(column)`, that prints the white arrow on other parts of the screen\n",
        "* For example, `print_arrow(0)` should print out the same as Jabari's current code, and `print_arrow(1)` should print out Jabari's arrow shifted one square to the right.\n",
        "* (The function should work when `0 <= column <= 37`. In other words, don't worry about the arrow going off the screen)."
      ]
    },
    {
      "cell_type": "code",
      "execution_count": null,
      "metadata": {
        "id": "Zuy6ogFluf1S"
      },
      "outputs": [],
      "source": [
        "def print_arrow(column):\n",
        "    # Your code here!\n",
        "\n",
        "# DO NOT MODIFY\n",
        "print_arrow(5)\n"
      ]
    },
    {
      "cell_type": "markdown",
      "metadata": {
        "id": "vD6BJA0evT0c"
      },
      "source": [
        "### 4.5\n",
        "\n",
        "Can you use `print_arrow()` to animate moving the arrow to the right?"
      ]
    },
    {
      "cell_type": "code",
      "execution_count": null,
      "metadata": {
        "id": "pGh9NKFOvwXG"
      },
      "outputs": [],
      "source": [
        "from IPython.display import clear_output\n",
        "from time import sleep\n",
        "\n",
        "def wait_and_clear():\n",
        "    sleep(0.25)\n",
        "    clear_output(wait=True)\n",
        "\n",
        "# Your code to animate here:\n"
      ]
    },
    {
      "cell_type": "markdown",
      "metadata": {
        "id": "qucO6636pvgt"
      },
      "source": [
        "<a name=\"5\"></a>\n",
        "## Question 5: Make your own animation\n",
        "\n",
        "Now, try making your own animation. **It can be anything, so it is a chance to be creative!**\n",
        "\n",
        "Below is an example that the staff made. You can try running it if you'd like! You can show us or your friends who have finished when you are done!"
      ]
    },
    {
      "cell_type": "code",
      "execution_count": null,
      "metadata": {
        "id": "135WUAzOp7PR"
      },
      "outputs": [],
      "source": [
        "# Example, but we encourage you to do something completely different!\n",
        "from IPython.display import clear_output\n",
        "from time import sleep\n",
        "\n",
        "def show():\n",
        "    sleep(0.25)\n",
        "    clear_output(wait=True)\n",
        "\n",
        "def metaprint(text, pretext=''):\n",
        "    pretext += '>>> '\n",
        "    code_text = 'print(\\''+ text +'\\')'\n",
        "    output_text = text\n",
        "\n",
        "    for i in range(len(code_text)):\n",
        "        print(pretext, end='')\n",
        "        print(code_text[:i] + '_')\n",
        "        show()\n",
        "\n",
        "    print(pretext, end='')\n",
        "    print(code_text)\n",
        "    print(output_text)\n",
        "    show()\n",
        "\n",
        "    return pretext + code_text + '\\n' + output_text + '\\n'\n",
        "\n",
        "res = metaprint('I')\n",
        "res = metaprint('love', res)\n",
        "res = metaprint('JamCoders', res)\n",
        "res = metaprint('2023', res)"
      ]
    },
    {
      "cell_type": "code",
      "execution_count": null,
      "metadata": {
        "id": "uPpPg8AWwQHv"
      },
      "outputs": [],
      "source": [
        "# Your amazing animation here:\n"
      ]
    }
  ],
  "metadata": {
    "colab": {
      "provenance": []
    },
    "kernelspec": {
      "display_name": "Python 3 (ipykernel)",
      "language": "python",
      "name": "python3"
    },
    "language_info": {
      "codemirror_mode": {
        "name": "ipython",
        "version": 3
      },
      "file_extension": ".py",
      "mimetype": "text/x-python",
      "name": "python",
      "nbconvert_exporter": "python",
      "pygments_lexer": "ipython3",
      "version": "3.9.6"
    }
  },
  "nbformat": 4,
  "nbformat_minor": 0
}
