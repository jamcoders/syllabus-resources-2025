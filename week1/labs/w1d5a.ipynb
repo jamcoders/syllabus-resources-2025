{
 "cells": [
  {
   "cell_type": "markdown",
   "id": "e4e0770b",
   "metadata": {},
   "source": [
    "## Week 1 Day 5a: Nested Loops and Lists"
   ]
  },
  {
   "cell_type": "code",
   "execution_count": null,
   "id": "81364f1d",
   "metadata": {},
   "outputs": [],
   "source": [
    "# Always run this code first.\n",
    "%config InteractiveShell.ast_node_interactivity=\"none\"\n",
    "import sys\n",
    "if 'google.colab' in sys.modules:\n",
    "    !pip install --force-reinstall git+https://github.com/jamcoders/jamcoders-public-2025.git --quiet\n",
    "from jamcoders.base_utils import *"
   ]
  },
  {
   "cell_type": "markdown",
   "id": "85aad74f",
   "metadata": {},
   "source": [
    "## Table of Contents\n",
    "\n",
    "**[Question 1: Egg Hunt - Finding an element in a nested list](#1)**\n",
    "\n",
    "**[Question 2: Building Shapes with Nested Loops (Square, Rectangle, Triangle, Reverse Triangle)](#2)**\n",
    "\n",
    "**[Question 3 (Challenge): Combining Lists](#3)**\n",
    "\n",
    "**[Question 4 (Extra Super Hard Challenge): Matrices](#4)**"
   ]
  },
  {
   "cell_type": "markdown",
   "id": "8293fddb",
   "metadata": {},
   "source": [
    "## Question 1: Egg Hunt\n",
    "\n",
    "Joy loves eggs! In her quest to find more eggs, she has trapped herself in a magical rectangular grid with eggs at hidden spots. The eggs are at random grid positions represented by a string `\"O\"`. However, the eggs are hidden among patches of dirt, represented by a string `\"X\"`.\n",
    "\n",
    "Complete the function below, `egg_hunt(egg_list)`, which takes a 2 dimensional (nested) list and returns the number of eggs hidden in the list.\n",
    "\n",
    "`EGGSample:` The given list will look something like this:\n",
    "```\n",
    "[\n",
    "[O X X X],\n",
    "[X X O X],\n",
    "[X X X X],\n",
    "[X O X X]\n",
    "]\n",
    "```\n",
    "\n",
    "Answer: `3 eggs`"
   ]
  },
  {
   "cell_type": "code",
   "execution_count": null,
   "id": "15f8007f",
   "metadata": {},
   "outputs": [],
   "source": [
    "def egg_hunt(egg_list):\n",
    "    \"\"\"\n",
    "    Args:\n",
    "        egg_list (list(list(str))):\n",
    "            A 2 dimensional list of strings\n",
    "    \n",
    "    Returns (int):\n",
    "        An integer representing the total number \n",
    "        of occurrences of \"O\"\n",
    "    \"\"\"\n",
    "    # YOUR CODE HERE\n",
    "\n",
    "# Use your function here to test if you find all the eggs.\n",
    "assert_equal(got=egg_hunt([[\"X\", \"X\", \"O\", \"X\"], [\"X\", \"X\", \"X\", \"X\"], [\"X\", \"O\", \"X\", \"X\"]]), want = 2)\n",
    "assert_equal(got=egg_hunt([[\"X\", \"X\", \"O\", \"X\"], [\"X\", \"X\", \"X\", \"O\"], [\"O\", \"X\", \"X\", \"X\"], [\"X\", \"X\", \"X\", \"X\"]]), want = 3)\n",
    "assert_equal(got=egg_hunt([[\"X\", \"O\", \"O\", \"X\"], [\"O\", \"X\", \"O\", \"O\"]]), want = 5)\n",
    "assert_equal(got=egg_hunt([[\"X\"]]), want = 0)"
   ]
  },
  {
   "cell_type": "markdown",
   "id": "d554695a",
   "metadata": {},
   "source": [
    "## Question 1.2: Advanced Egg Counter\n",
    "\n",
    "Joy really loves eggs!!!!!!! Now, Joy has stumbled upon a field where multiple eggs are hidden at different spots. This grid now has integers, where each integer represents the number of eggs at a particular spot. If the spot's value is `0`, there are no eggs there, otherwise, its value will be the number of eggs at that spot.\n",
    "\n",
    "Write a function `advanced_egg_hunt(egg_list)` which takes a 2 dimensional (nested) list of integers and returns the sum of the integers in the list."
   ]
  },
  {
   "cell_type": "code",
   "execution_count": null,
   "id": "7a66d8e3",
   "metadata": {},
   "outputs": [],
   "source": [
    "def advanced_egg_hunt(egg_list):\n",
    "    \"\"\"\n",
    "    Args:\n",
    "        egg_list (list(list(int))):\n",
    "            A 2 dimensional list of integers\n",
    "    \n",
    "    Returns (int):\n",
    "        An integer representing the sum of \n",
    "        all integers in the list\n",
    "    \"\"\"\n",
    "    # YOUR CODE HERE\n",
    "\n",
    "# Use your function here to verify your answer\n",
    "assert_equal(got=advanced_egg_hunt([[1, 2, 0, 0], [2, 4, 2, 0], [0, 0, 0, 1]]), want=12)\n",
    "assert_equal(got=advanced_egg_hunt([[4, 2, 0, 5], [0, 11, 0, 0]]), want=22)\n",
    "assert_equal(got=advanced_egg_hunt([[1, 2, 0, 0], [2, 4, 2, 0], [0, 0, 0, 1], [3, 4, 5, 1]]), want=25)\n",
    "assert_equal(got=advanced_egg_hunt([[0]]), want=0)"
   ]
  },
  {
   "cell_type": "markdown",
   "id": "13e5338d",
   "metadata": {},
   "source": [
    "## Question 2: Building Shapes\n",
    "\n",
    "You've probably already made different shapes with a single for loop. Let's try making different shapes with nested loops.\n",
    "\n",
    "### You may use any characters you'd like for these shapes!"
   ]
  },
  {
   "cell_type": "markdown",
   "id": "846c5802",
   "metadata": {},
   "source": [
    "## Question 2.1: Square\n",
    "\n",
    "Write a function `draw_square(N)`, which takes an integer, N and prints a square with dimensions `N x N'. When you're done, call a TA to congratulate you!"
   ]
  },
  {
   "cell_type": "code",
   "execution_count": null,
   "id": "d855f307",
   "metadata": {},
   "outputs": [],
   "source": [
    "def draw_square(N):\n",
    "    \"\"\"\n",
    "    Args:\n",
    "        N (int):\n",
    "            An integer, N, representing the dimensions of the square to be printed\n",
    "    \n",
    "    Returns (None)\n",
    "    \"\"\"\n",
    "    # YOUR CODE HERE\n",
    "\n",
    "# Use your function here to verify your answer\n",
    "draw_square(5)\n",
    "draw_square(3)\n",
    "draw_square(2)\n",
    "draw_square(4)"
   ]
  },
  {
   "cell_type": "markdown",
   "id": "7eccb54c",
   "metadata": {},
   "source": [
    "## Question 2.2: Rectangle\n",
    "\n",
    "Write a function `draw_rectangle(N, M)`, which takes 2 integers, `N`, representing the length of the rectangle, and `M`, representing the width of the rectangle, and prints a rectangle with dimensions `N x M`.\n",
    "\n",
    "`Hint:` Use `print(\"#\", end=\"\")` to print a string without a new line.\n",
    "\n",
    "For example:\n",
    "\n",
    "draw_rectangle(4, 5) prints:\n",
    "\n",
    "    X X X X X\n",
    "    X X X X X\n",
    "    X X X X X\n",
    "    X X X X X"
   ]
  },
  {
   "cell_type": "code",
   "execution_count": null,
   "id": "c46eda73",
   "metadata": {},
   "outputs": [],
   "source": [
    "def draw_rectangle(N, M):\n",
    "    \"\"\"\n",
    "    Args:\n",
    "        N (int):\n",
    "            An integer, N, representing the length of the rectangle to be printed\n",
    "        M (int):\n",
    "            An integer, M, representing the width of the rectangle to be printed\n",
    "    \n",
    "    Returns (None)\n",
    "    \"\"\"\n",
    "    # YOUR CODE HERE\n",
    "\n",
    "# Use your function here to verify your answer\n",
    "draw_rectangle(5, 2)\n",
    "draw_rectangle(3, 3)\n",
    "draw_rectangle(6, 6)\n",
    "draw_rectangle(2, 2)"
   ]
  },
  {
   "cell_type": "markdown",
   "id": "a9a3f305",
   "metadata": {},
   "source": [
    "## Question 2.3: Triangle\n",
    "\n",
    "Write a function, `draw_triangle` which takes an integer, `n`, and prints a right angled triangle of height `n`\n",
    "\n",
    "`Example:`\n",
    "\n",
    "`draw_triangle(4)` prints\n",
    "\n",
    "    X\n",
    "    X X\n",
    "    X X X\n",
    "    X X X X"
   ]
  },
  {
   "cell_type": "code",
   "execution_count": null,
   "id": "916750e1",
   "metadata": {},
   "outputs": [],
   "source": [
    "def draw_triangle(n):\n",
    "    \"\"\"\n",
    "    Args:\n",
    "        n (int):\n",
    "            An integer, N, representing the height of the triangle to be printed\n",
    "    \n",
    "    Returns (None)\n",
    "    \"\"\"\n",
    "    # YOUR CODE HERE\n",
    "\n",
    "# Use your function here to verify your answer\n",
    "# || DO NOT MODIFY ||\n",
    "draw_triangle(3)\n",
    "draw_triangle(4)\n",
    "draw_triangle(5)\n",
    "draw_triangle(6)"
   ]
  },
  {
   "cell_type": "markdown",
   "id": "a34a17d4",
   "metadata": {},
   "source": [
    "## Question 2.4: Reversed Triangle\n",
    "\n",
    "You've written `draw_triangle(n)`, which takes an integer `n` and prints a right-angled triangle of height `n`. Now, try doing the same thing, but this time, align the triangle to the right.\n",
    "\n",
    "Write a function `reverse_triangle(n)`, which takes an integer `n` and prints a right-aligned, right-angled triangle of height `n`.\n",
    "\n",
    "`Example:` \n",
    "\n",
    "`reverse_triangle(4)` prints:\n",
    "\n",
    "          X\n",
    "        X X\n",
    "      X X X\n",
    "    X X X X"
   ]
  },
  {
   "cell_type": "code",
   "execution_count": null,
   "id": "6b71351b",
   "metadata": {},
   "outputs": [],
   "source": [
    "def reverse_triangle(n):\n",
    "    \"\"\"\n",
    "    Args:\n",
    "        n (int):\n",
    "            An integer, n, representing the height of the triangle to be printed\n",
    "    \n",
    "    Returns (None)\n",
    "    \"\"\"\n",
    "    # YOUR CODE HERE\n",
    "\n",
    "reverse_triangle(3)\n",
    "reverse_triangle(4)\n",
    "reverse_triangle(5)\n",
    "reverse_triangle(6)"
   ]
  },
  {
   "cell_type": "markdown",
   "id": "7bd1e078",
   "metadata": {},
   "source": [
    "## Question 3 (Challenge): Combining Nested Lists\n",
    "\n",
    "Adrianna is a professional code breaker for a secret government organization. She needs your help to transfer all the integers of a 2 dimensional list into a one-dimensional, list of integers. Write a function `combine_list(lst)`, which takes a 2-dimensional list and reutrns a 1-dimensional list with all the elements of the 2D list in the same order.\n",
    "\n",
    "For example, the return value of `combine_list([[1, 2, 3], [4, 3, 3], [5, 89, 0]])`, should be:\n",
    "`[1, 2, 3, 4, 3, 3, 5, 89, 0]`"
   ]
  },
  {
   "cell_type": "code",
   "execution_count": null,
   "id": "62759694",
   "metadata": {},
   "outputs": [],
   "source": [
    "def combine_list(lst):\n",
    "    \"\"\"\n",
    "    Args:\n",
    "        lst (lst(int)):\n",
    "            A two-dimensional list of integers\n",
    "    \n",
    "    Returns (lst(int)):\n",
    "            A list of integers equivalent to the 2D list\n",
    "    \"\"\"\n",
    "    # YOUR CODE HERE\n",
    "\n",
    "assert_equal(got=combine_list([[1, 2, 0, 0], [2, 4, 2, 0], [0, 0, 0, 1]]), want=[1, 2, 0, 0, 2, 4, 2, 0, 0, 0, 0, 1])\n",
    "assert_equal(got=combine_list([[4, 2, 0, 5], [0, 11, 0, 0]]), want=[4, 2, 0, 5, 0, 11, 0, 0])\n",
    "assert_equal(got=combine_list([[1, 2, 0, 0], [2, 4, 2, 0], [0, 0, 0, 1], [3, 4, 5, 1]]), want=[1, 2, 0, 0, 2, 4, 2, 0, 0, 0, 0, 1, 3, 4, 5, 1])\n",
    "assert_equal(got=combine_list([[0]]), want=[0])"
   ]
  },
  {
   "cell_type": "markdown",
   "id": "ede64567",
   "metadata": {},
   "source": [
    "![Arnold telling you to stop](image.png)\n",
    "\n",
    "## Congrats on finishing the notebook! The rest of this is optional. Please go back and complete previous notebooks before moving forward."
   ]
  },
  {
   "cell_type": "markdown",
   "id": "bd79c5f4",
   "metadata": {},
   "source": [
    "## Question 3.2: Combining Unique Elements\n",
    "\n",
    "You've combined a 2D list into a 1D list, but what if you wanted each value of the new list to appear only once?\n",
    "\n",
    "Write a function `combine_list2(lst)` which takes a 2 dimensional list of integers and returns a 1 dimensional list of unique values from the first list in the same order as before.\n",
    "\n",
    "For example, the return value of `combine_list2([[1, 2, 3], [4, 3, 3], [5, 89, 0]])`, should be:\n",
    "`[1, 2, 3, 4, 5, 89, 0]`"
   ]
  },
  {
   "cell_type": "code",
   "execution_count": null,
   "id": "b961d805",
   "metadata": {},
   "outputs": [],
   "source": [
    "def combine_list2(lst):\n",
    "    \"\"\"\n",
    "    Args:\n",
    "        lst (lst(int)):\n",
    "            A two-dimensional list of integers\n",
    "    \n",
    "    Returns (lst(int)):\n",
    "            A list of unqiue integers equivalent to the 2D list\n",
    "    \"\"\"\n",
    "    # YOUR CODE HERE\n",
    "\n",
    "assert_equal(got=combine_list2([[1, 2, 0, 0], [2, 4, 2, 0], [0, 0, 0, 1]]), want=[1, 2, 0, 4])\n",
    "assert_equal(got=combine_list2([[4, 2, 0, 5], [0, 11, 0, 0]]), want=[4, 2, 0, 5, 11])\n",
    "assert_equal(got=combine_list2([[1, 2, 0, 0], [2, 4, 2, 0], [0, 0, 0, 1], [3, 4, 5, 1]]), want=[1, 2, 0, 4, 3, 5])\n",
    "assert_equal(got=combine_list2([[0]]), want=[0])"
   ]
  },
  {
   "cell_type": "markdown",
   "id": "54379816",
   "metadata": {},
   "source": [
    "## Question 4: Adding Matrices\n",
    "\n",
    "Write a function, `matrix_add(lst1, lst2)` which takes two 2D lists of integers and returns a resulting 2D matrix which is the SUM of the two matrices.\n",
    "\n",
    "If you're unsure about the mathematics behind this question, ask a TA!"
   ]
  },
  {
   "cell_type": "code",
   "execution_count": null,
   "id": "bc9b5672",
   "metadata": {},
   "outputs": [],
   "source": [
    "def matrix_add(lst1, lst2):\n",
    "    \"\"\"\n",
    "    Args:\n",
    "        lst1 (lst(int)):\n",
    "            A two-dimensional list of integers\n",
    "        lst2 (lst(int)):\n",
    "            A two-dimensional list of integers\n",
    "    \n",
    "    Returns (lst(int)):\n",
    "            A two-dimensional list which is equal to the sum of the two matrices\n",
    "    \"\"\"\n",
    "    # YOUR CODE HERE\n",
    "\n",
    "\n",
    "# Test Cases!\n",
    "assert_equal(got=matrix_add([[2, 4], [4, 8]], [[4, 4], [2, 9]]), want=[[6, 8], [6, 13]])\n",
    "assert_equal(got=matrix_add([[1, 2], [1, 1], [4, 1]], [[1, 3], [1, 1], [1, 5]]), want=[[2, 5], [2, 2], [5, 6]])"
   ]
  },
  {
   "cell_type": "markdown",
   "id": "e39dd91d",
   "metadata": {},
   "source": [
    "## Question 5: Secret Extra Extra Challenge\n",
    "\n",
    "Write a function, `matrix_subtract(lst1, lst2)`, which takes two 2D lists and returns a 2D list which is equivalent to the first matrix subtracted from the second. For this, write your own function and test cases ;)"
   ]
  },
  {
   "cell_type": "code",
   "execution_count": null,
   "id": "762eb398",
   "metadata": {},
   "outputs": [],
   "source": []
  }
 ],
 "metadata": {
  "kernelspec": {
   "display_name": "Python 3",
   "language": "python",
   "name": "python3"
  },
  "language_info": {
   "codemirror_mode": {
    "name": "ipython",
    "version": 3
   },
   "file_extension": ".py",
   "mimetype": "text/x-python",
   "name": "python",
   "nbconvert_exporter": "python",
   "pygments_lexer": "ipython3",
   "version": "3.13.5"
  }
 },
 "nbformat": 4,
 "nbformat_minor": 5
}
