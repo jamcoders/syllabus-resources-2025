{
 "cells": [
  {
   "attachments": {},
   "cell_type": "markdown",
   "metadata": {},
   "source": [
    "![Reminder to Save](https://github.com/jamcoders/jamcoders-public-2025/blob/main/images/warning.png?raw=true)"
   ]
  },
  {
   "attachments": {},
   "cell_type": "markdown",
   "metadata": {
    "id": "hYtLkLkDwkfK"
   },
   "source": [
    "# Week 1, Day 2C Exercise (Challenge): Lists, Functions, Strings, Loops"
   ]
  },
  {
   "cell_type": "code",
   "execution_count": null,
   "metadata": {},
   "outputs": [],
   "source": [
    "# ALWAYS RUN THIS CELL FIRST\n",
    "%config InteractiveShell.ast_node_interactivity=\"none\""
   ]
  },
  {
   "attachments": {},
   "cell_type": "markdown",
   "metadata": {
    "id": "unhWBgNfwkfX"
   },
   "source": [
    "## Question 1: More printing"
   ]
  },
  {
   "attachments": {},
   "cell_type": "markdown",
   "metadata": {
    "id": "q0rVsp7bwkfY"
   },
   "source": [
    "### 1.1"
   ]
  },
  {
   "attachments": {},
   "cell_type": "markdown",
   "metadata": {
    "id": "nrNM9ca5wkfZ"
   },
   "source": [
    "Print the following string:\n",
    "```\n",
    "He said, \"Hello there!\"\n",
    "```\n",
    "\n",
    "_Note:_ there are a few ways to do this. (Hint: Google \"Python escape characters\".)"
   ]
  },
  {
   "cell_type": "code",
   "execution_count": null,
   "metadata": {
    "id": "niRQxSVWwkfa"
   },
   "outputs": [],
   "source": [
    "# Write your answer here!"
   ]
  },
  {
   "attachments": {},
   "cell_type": "markdown",
   "metadata": {
    "id": "YmiyGCz8wkff"
   },
   "source": [
    "### 1.2"
   ]
  },
  {
   "attachments": {},
   "cell_type": "markdown",
   "metadata": {
    "id": "jcnPxKE9wkfg"
   },
   "source": [
    "This print statement will fail with an error. Please fix the code so that it prints \"my age is 24\".\n",
    "\n",
    "_Note:_ there is more than one way of doing this as well."
   ]
  },
  {
   "cell_type": "code",
   "execution_count": null,
   "metadata": {
    "id": "G90bsdDdwkfj"
   },
   "outputs": [],
   "source": [
    "print('my age is ' + 24)"
   ]
  },
  {
   "attachments": {},
   "cell_type": "markdown",
   "metadata": {
    "id": "x04DNHFwwkfq"
   },
   "source": [
    "### 1.3"
   ]
  },
  {
   "attachments": {},
   "cell_type": "markdown",
   "metadata": {
    "id": "YBcICnTSwkfr"
   },
   "source": [
    "For what **value** of `x` will the following code segment print `\"yes\"`? Modify these lines to make this happen."
   ]
  },
  {
   "cell_type": "code",
   "execution_count": null,
   "metadata": {
    "id": "2WshS9jswkfs"
   },
   "outputs": [],
   "source": [
    "def print_x(x):\n",
    "    if x == 5:\n",
    "        print(\"yes\")\n",
    "\n",
    "\n",
    "# Modify this line to make this happen! e.g. what happens if you try print_x(2), print_x(3), etc..\n",
    "print_x(1)"
   ]
  },
  {
   "attachments": {},
   "cell_type": "markdown",
   "metadata": {
    "id": "UnzhtJFUwkfw"
   },
   "source": [
    "## Question 2: Guessing The Output #1"
   ]
  },
  {
   "attachments": {},
   "cell_type": "markdown",
   "metadata": {
    "id": "77SRLd8Pwkfx"
   },
   "source": [
    "### 2.1"
   ]
  },
  {
   "attachments": {},
   "cell_type": "markdown",
   "metadata": {
    "id": "JOEkbYPZwkfy"
   },
   "source": [
    "For what **value** of `x` would this function print `\"five\"`?  How about `\"six\"`? How about `\"other\"`? "
   ]
  },
  {
   "cell_type": "code",
   "execution_count": null,
   "metadata": {
    "id": "Z2cil7F5wkfz"
   },
   "outputs": [],
   "source": [
    "def print_x(x):\n",
    "    if x == 5:\n",
    "        print(\"five\")\n",
    "    elif x == 6:\n",
    "        print(\"six\")\n",
    "    else:\n",
    "        print(\"other\")\n",
    "\n",
    "\n",
    "print_x(1)  # Copy and modify this line"
   ]
  },
  {
   "attachments": {},
   "cell_type": "markdown",
   "metadata": {
    "id": "f3NJpio3wkf2"
   },
   "source": [
    "## Question 3: Guessing The Output #2\n"
   ]
  },
  {
   "attachments": {},
   "cell_type": "markdown",
   "metadata": {
    "id": "7asdwNXmwkf3"
   },
   "source": [
    "### 3.1\n",
    "\n",
    "What do you expect will be printed if you run this code?\n",
    "\n",
    "```python\n",
    "def foo():\n",
    "    if -10 == 10:\n",
    "        print('Hello world!')\n",
    "    else:\n",
    "        print('Goodbye world!')\n",
    "foo()\n",
    "```"
   ]
  },
  {
   "attachments": {},
   "cell_type": "markdown",
   "metadata": {
    "id": "UdFnVodGwkf6"
   },
   "source": [
    "**Your Answer**: "
   ]
  },
  {
   "attachments": {},
   "cell_type": "markdown",
   "metadata": {
    "id": "psehxPAQwkf7"
   },
   "source": [
    "How can you **verify** your solution using the **code** above?"
   ]
  },
  {
   "cell_type": "code",
   "execution_count": null,
   "metadata": {
    "id": "_A3S1IpBwkf8"
   },
   "outputs": [],
   "source": [
    "def foo():\n",
    "    if -10 == 10:\n",
    "        print('Hello world!')\n",
    "    else:\n",
    "        print('Goodbye world!')\n",
    "\n",
    "\n",
    "# Write code here to verify!"
   ]
  },
  {
   "attachments": {},
   "cell_type": "markdown",
   "metadata": {
    "id": "6pajjRWMwkgA"
   },
   "source": [
    "### 3.2"
   ]
  },
  {
   "attachments": {},
   "cell_type": "markdown",
   "metadata": {
    "id": "XTxwAMuDwkgB"
   },
   "source": [
    "What do you expect will be printed if you run this code?\n",
    "\n",
    "\n",
    "```python\n",
    "def bar():\n",
    "    if -10 < 10:\n",
    "        print('Hello world!')\n",
    "    else:\n",
    "        print('Goodbye world!')\n",
    "bar()\n",
    "```"
   ]
  },
  {
   "attachments": {},
   "cell_type": "markdown",
   "metadata": {
    "id": "esnJageqwkgC"
   },
   "source": [
    "**Your Answer**: "
   ]
  },
  {
   "attachments": {},
   "cell_type": "markdown",
   "metadata": {
    "id": "WukTHRVVwkgD"
   },
   "source": [
    "How can you **verify** your solution using the **code** above?"
   ]
  },
  {
   "cell_type": "code",
   "execution_count": null,
   "metadata": {
    "id": "ooMV_vYowkgH"
   },
   "outputs": [],
   "source": [
    "def bar():\n",
    "    if -10 < 10:\n",
    "        print('Hello world!')\n",
    "    else:\n",
    "        print('Goodbye world!')\n",
    "\n",
    "\n",
    "# Write code here to verify!"
   ]
  },
  {
   "attachments": {},
   "cell_type": "markdown",
   "metadata": {
    "id": "vuTBoCttwkgL"
   },
   "source": [
    "### 3.3"
   ]
  },
  {
   "attachments": {},
   "cell_type": "markdown",
   "metadata": {
    "id": "IN7NM1UKwkgN"
   },
   "source": [
    "What do you expect will be printed if you run this code?\n",
    "\n",
    "```python\n",
    "def foobar():\n",
    "    if -10 != 10:\n",
    "        print('Hello world!')\n",
    "    else:\n",
    "        print('Goodbye world!')\n",
    "foobar()\n",
    "```"
   ]
  },
  {
   "attachments": {},
   "cell_type": "markdown",
   "metadata": {
    "id": "lWxQAZ6cwkgP"
   },
   "source": [
    "**Your Answer**: "
   ]
  },
  {
   "attachments": {},
   "cell_type": "markdown",
   "metadata": {
    "id": "MI3hAr3GwkgR"
   },
   "source": [
    "How can you **verify** your solution using the **code** above? "
   ]
  },
  {
   "cell_type": "code",
   "execution_count": null,
   "metadata": {
    "id": "Ex2j5TOZwkgT"
   },
   "outputs": [],
   "source": [
    "def foobar():\n",
    "    if -10 != 10:\n",
    "        print('Hello world!')\n",
    "    else:\n",
    "        print('Goodbye world!')\n",
    "\n",
    "\n",
    "# Write code here to verify!"
   ]
  },
  {
   "attachments": {},
   "cell_type": "markdown",
   "metadata": {
    "id": "_zpCzeqwwkga"
   },
   "source": [
    "## Question 4: Grades?"
   ]
  },
  {
   "attachments": {},
   "cell_type": "markdown",
   "metadata": {
    "id": "IlAOLwRbwkgb"
   },
   "source": [
    "### 4.1"
   ]
  },
  {
   "attachments": {},
   "cell_type": "markdown",
   "metadata": {
    "id": "APN161Ghwkgd"
   },
   "source": [
    "We will present **incorrect functions** that take an **integer test score between 0 and 100 as an input**, and **prints** the corresponding **letter grade**. You will be asked to fix the errors in the code. \n",
    "\n",
    "(This process of finding and fixing the errors is called debugging.)\n",
    "\n",
    "Here are the cutoffs: \n",
    "\n",
    "    90-100   A\n",
    "\n",
    "    80-89    B\n",
    "\n",
    "    70-79    C\n",
    "    \n",
    "    60-69    D\n",
    "\n",
    "    0-60     F     "
   ]
  },
  {
   "attachments": {},
   "cell_type": "markdown",
   "metadata": {
    "id": "2kcx-B5pwkgd"
   },
   "source": [
    "*Warmup*: Elijah has a score of `59` on a history exam. What **letter grade** (from A to F) does this correspond to?"
   ]
  },
  {
   "attachments": {},
   "cell_type": "markdown",
   "metadata": {},
   "source": [
    "**Your Answer (A-F)**: "
   ]
  },
  {
   "attachments": {},
   "cell_type": "markdown",
   "metadata": {
    "id": "u_YEdVDjwkgf"
   },
   "source": [
    "### 4.2"
   ]
  },
  {
   "attachments": {},
   "cell_type": "markdown",
   "metadata": {
    "id": "7Y45oUsKwkgf"
   },
   "source": [
    "A student tried to write the code for this. Here is their attempt:"
   ]
  },
  {
   "cell_type": "code",
   "execution_count": null,
   "metadata": {
    "id": "9d_VHLOfwkgg"
   },
   "outputs": [],
   "source": [
    "def print_grade_incomplete(x):\n",
    "    if x >= 90:\n",
    "        print(\"A\")\n",
    "    elif x >= 80:\n",
    "        print(\"B\")\n",
    "    elif x >= 70:\n",
    "        print(\"C\")\n",
    "    elif x >= 60:\n",
    "        print(\"D\")"
   ]
  },
  {
   "attachments": {},
   "cell_type": "markdown",
   "metadata": {
    "id": "JjpcCy8xwkgi"
   },
   "source": [
    "This code, however, is **incomplete**. Can you see why?\n",
    "What happens if a student gets 55? **Modify** the code above (**add** an `else` statement to the `print_grade_incomplete` function) to take care of this case."
   ]
  },
  {
   "cell_type": "code",
   "execution_count": null,
   "metadata": {
    "id": "gID_pDYvwkgk"
   },
   "outputs": [],
   "source": [
    "# Modify this code to take care of the case where student gets 55.\n",
    "def print_grade_incomplete(x):\n",
    "    if x >= 90:\n",
    "        print(\"A\")\n",
    "    elif x >= 80:\n",
    "        print(\"B\")\n",
    "    elif x >= 70:\n",
    "        print(\"C\")\n",
    "    elif x >= 60:\n",
    "        print(\"D\")\n",
    "\n",
    "\n",
    "# Test your code here\n",
    "print_grade_incomplete(55)"
   ]
  },
  {
   "attachments": {},
   "cell_type": "markdown",
   "metadata": {
    "id": "YFXo0NqGwkgn"
   },
   "source": [
    "### 4.3"
   ]
  },
  {
   "attachments": {},
   "cell_type": "markdown",
   "metadata": {
    "id": "9mnAit_Kwkgo"
   },
   "source": [
    "Another student tries to code a different method. This however, is also **incorrect**."
   ]
  },
  {
   "cell_type": "code",
   "execution_count": null,
   "metadata": {
    "id": "UMS9U0_Rwkgo"
   },
   "outputs": [],
   "source": [
    "def print_grade_incorrect(x):\n",
    "    if x >= 60:\n",
    "        print(\"D\")\n",
    "    elif x >= 70:\n",
    "        print(\"C\")\n",
    "    elif x >= 80:\n",
    "        print(\"D\")\n",
    "    elif x >= 90:\n",
    "        print(\"A\")\n",
    "    else:\n",
    "        print(\"F\")\n",
    "\n",
    "\n",
    "print_grade_incorrect(55)  # This one is correct\n",
    "print_grade_incorrect(65)  # This one is correct\n",
    "print_grade_incorrect(96)  # And this one is incorrect"
   ]
  },
  {
   "attachments": {},
   "cell_type": "markdown",
   "metadata": {
    "id": "fcth0xPYwkgr"
   },
   "source": [
    "Can you **spot the error** in the code above? For what **input scores** will this print the right letter?"
   ]
  },
  {
   "cell_type": "code",
   "execution_count": null,
   "metadata": {
    "id": "PKhaI1Edwkgs"
   },
   "outputs": [],
   "source": [
    "# Your answer here"
   ]
  },
  {
   "attachments": {},
   "cell_type": "markdown",
   "metadata": {
    "id": "O4MG0Si1wkgs"
   },
   "source": [
    "### 4.4"
   ]
  },
  {
   "attachments": {},
   "cell_type": "markdown",
   "metadata": {
    "id": "o7e_kh2Ewkgt"
   },
   "source": [
    "Now the student thinks he's got it. This also **does not work** as expected though."
   ]
  },
  {
   "cell_type": "code",
   "execution_count": null,
   "metadata": {
    "id": "ZQxXuSzHwkgu"
   },
   "outputs": [],
   "source": [
    "def print_grade_incorrect_2(x):\n",
    "    if x >= 90:\n",
    "        print(\"A\")\n",
    "    if x >= 80:\n",
    "        print(\"B\")\n",
    "    if x >= 70:\n",
    "        print(\"C\")\n",
    "    if x >= 60:\n",
    "        print(\"D\")\n",
    "    else:\n",
    "        print(\"F\")"
   ]
  },
  {
   "attachments": {},
   "cell_type": "markdown",
   "metadata": {
    "id": "U7JpKzdQwkgx"
   },
   "source": [
    "Can you **spot the error** in the code above? Again, for what **input scores** will this print the right letter?"
   ]
  },
  {
   "cell_type": "code",
   "execution_count": null,
   "metadata": {
    "id": "DQbkHOzJ0Wjl"
   },
   "outputs": [],
   "source": [
    "# Your answer here"
   ]
  },
  {
   "attachments": {},
   "cell_type": "markdown",
   "metadata": {
    "id": "ngr5PaWfwkgy"
   },
   "source": [
    "**Modify** the code above (`print_grade_incorrect_2` function) to make it **correct**. Make sure it only prints one letter grade for each input and that it prints the correct letter grade."
   ]
  },
  {
   "attachments": {},
   "cell_type": "markdown",
   "metadata": {
    "id": "Wloeb7E1wkgz"
   },
   "source": [
    "How can you **verify** that your function is correct? Write some test cases to verify your solution."
   ]
  },
  {
   "cell_type": "code",
   "execution_count": null,
   "metadata": {
    "id": "MEuhJIA9wkgz"
   },
   "outputs": [],
   "source": [
    "# Modify this function to fix it.\n",
    "def print_grade_incorrect_2(x):\n",
    "    if x >= 90:\n",
    "        print(\"A\")\n",
    "    if x >= 80:\n",
    "        print(\"B\")\n",
    "    if x >= 70:\n",
    "        print(\"C\")\n",
    "    if x >= 60:\n",
    "        print(\"D\")\n",
    "    else:\n",
    "        print(\"F\")\n",
    "\n",
    "\n",
    "# Your test cases here."
   ]
  },
  {
   "attachments": {},
   "cell_type": "markdown",
   "metadata": {
    "id": "npa7rAmiwkg2"
   },
   "source": [
    "## Question 5: More Indexing! **optional**\n",
    "\n",
    "**We have not learned more complex slicing yet, so we recommend skipping this question**"
   ]
  },
  {
   "attachments": {},
   "cell_type": "markdown",
   "metadata": {
    "id": "hMkHCu3vwkg2"
   },
   "source": [
    "### 5.1"
   ]
  },
  {
   "attachments": {},
   "cell_type": "markdown",
   "metadata": {
    "id": "E-Dk9x_swkg3"
   },
   "source": [
    "Create a **list** storing five (5) different **integers**. Store this in a **variable** called `x`."
   ]
  },
  {
   "cell_type": "code",
   "execution_count": null,
   "metadata": {
    "id": "Yjf2J8uDwkg4"
   },
   "outputs": [],
   "source": [
    "# Create the list here"
   ]
  },
  {
   "attachments": {},
   "cell_type": "markdown",
   "metadata": {
    "id": "7ppxUUf_wkg6"
   },
   "source": [
    "### 5.2"
   ]
  },
  {
   "attachments": {},
   "cell_type": "markdown",
   "metadata": {
    "id": "ybot0wnTwkg6"
   },
   "source": [
    "Using **list indexing**, print the **first** and **last** values in the list. For the **last** value, do this two ways:\n",
    "\n",
    "1) using `-1` \n",
    "\n",
    "2) NOT using `-1`"
   ]
  },
  {
   "cell_type": "code",
   "execution_count": null,
   "metadata": {
    "id": "KRBI8j2Twkg8"
   },
   "outputs": [],
   "source": [
    "# Write code to print the first value here\n",
    "\n",
    "\n",
    "# Write code to print the last value for method 1 here (using -1)\n",
    "\n",
    "\n",
    "# Write code to print the last value for method 2 here (NOT using -1)"
   ]
  },
  {
   "attachments": {},
   "cell_type": "markdown",
   "metadata": {
    "id": "otiXYoLywkhA"
   },
   "source": [
    "### 5.3"
   ]
  },
  {
   "attachments": {},
   "cell_type": "markdown",
   "metadata": {
    "id": "eIl_aSk0wkhD"
   },
   "source": [
    "Using **slicing** on list `x` make another list `y` containing the second to fourth elements inclusive. **Print** `y` and **verify** it is in fact the correct slicing."
   ]
  },
  {
   "cell_type": "code",
   "execution_count": null,
   "metadata": {
    "id": "9jf5UKMZwkhE"
   },
   "outputs": [],
   "source": [
    "# Write code to make another list `y` here"
   ]
  },
  {
   "attachments": {},
   "cell_type": "markdown",
   "metadata": {
    "id": "tnhj5mLJwkhI"
   },
   "source": [
    "### 5.4"
   ]
  },
  {
   "attachments": {},
   "cell_type": "markdown",
   "metadata": {
    "id": "RtkrEVQ7wkhI"
   },
   "source": [
    "**Change** the first value of `y` to be `\"hello\"`, **without** making a new list. "
   ]
  },
  {
   "cell_type": "code",
   "execution_count": null,
   "metadata": {
    "id": "IySRFqRLwkhJ"
   },
   "outputs": [],
   "source": [
    "# Write code to change the first value here"
   ]
  },
  {
   "attachments": {},
   "cell_type": "markdown",
   "metadata": {
    "id": "1NyhAvvzwkhM"
   },
   "source": [
    "### 5.5"
   ]
  },
  {
   "attachments": {},
   "cell_type": "markdown",
   "metadata": {
    "id": "V8tsav-qwkhN"
   },
   "source": [
    "Using the ```len()``` function, print the **length** of `x` and the **length** of the **first element** of `y` (which should now be the string `\"hello\"`). "
   ]
  },
  {
   "cell_type": "code",
   "execution_count": null,
   "metadata": {
    "id": "w8zNUpOrwkhN"
   },
   "outputs": [],
   "source": [
    "# Write code here to print the lengths of `x` and the first element of `y`"
   ]
  },
  {
   "attachments": {},
   "cell_type": "markdown",
   "metadata": {
    "id": "FzDYOtwkwkhS"
   },
   "source": [
    "Using code show that `x` and the first element of `y` are the **same lengths**."
   ]
  },
  {
   "cell_type": "code",
   "execution_count": null,
   "metadata": {
    "id": "yAbrdpQZwkhT"
   },
   "outputs": [],
   "source": [
    "# Write code here to show the lengths of `x` and the first element of `y` are the same"
   ]
  },
  {
   "attachments": {},
   "cell_type": "markdown",
   "metadata": {
    "id": "An0hMTZlwkha"
   },
   "source": [
    " However, also using code and the ```type``` function, show they are **not the same type**."
   ]
  },
  {
   "cell_type": "code",
   "execution_count": null,
   "metadata": {
    "id": "rSmoYezpwkha"
   },
   "outputs": [],
   "source": [
    "# Write code here to show the lengths of `x` and the first element of `y` are not the same type"
   ]
  },
  {
   "attachments": {},
   "cell_type": "markdown",
   "metadata": {
    "id": "tAbfLRsPwkhd"
   },
   "source": [
    "## Question 6: Sign"
   ]
  },
  {
   "attachments": {},
   "cell_type": "markdown",
   "metadata": {
    "id": "JNcLvjB5wkhe"
   },
   "source": [
    "Write a function `verify_integer(x)` that takes in an integer `x` and **prints** if it is `\"positive\"`, `\"negative\"` or `\"zero\"`."
   ]
  },
  {
   "cell_type": "code",
   "execution_count": null,
   "metadata": {
    "id": "IDo3VS2vwkhf"
   },
   "outputs": [],
   "source": [
    "# Define your function verify_integer here\n",
    "\n",
    "\n",
    "# Write your test cases here."
   ]
  },
  {
   "attachments": {},
   "cell_type": "markdown",
   "metadata": {
    "id": "oPyA2U8Zwkhi"
   },
   "source": [
    "## ***Challenge Questions***\n",
    "\n",
    "If you've finished the core questions above, feel free to move on to these challenge questions."
   ]
  },
  {
   "attachments": {},
   "cell_type": "markdown",
   "metadata": {
    "id": "n6GNRgohwkhi"
   },
   "source": [
    "## Question 7"
   ]
  },
  {
   "attachments": {},
   "cell_type": "markdown",
   "metadata": {
    "id": "W1EgkPa2wkhj"
   },
   "source": [
    "Different **ages** correspond to different **schools** in Jamaica. This shows these categories:\n",
    "\n",
    "    0         No School  \n",
    "\n",
    "    1 - 2     Preschool\n",
    "\n",
    "    3 - 4     Kindergarten\n",
    " \n",
    "    5 - 10    Primary/Prep School     \n",
    "\n",
    "    11 - 17   High School\n",
    "    \n",
    "    18 - 22   University\n",
    "\n",
    "    23 - 100  No School   \n",
    "    "
   ]
  },
  {
   "attachments": {},
   "cell_type": "markdown",
   "metadata": {
    "id": "mI6_jOmcwkho"
   },
   "source": [
    "### 7.1"
   ]
  },
  {
   "attachments": {},
   "cell_type": "markdown",
   "metadata": {
    "id": "TVsNVl2ewkhp"
   },
   "source": [
    "Write a variable for Boaz that stores his age (an integer between 0 and 100). \n",
    "\n",
    "Now **using this variable**, how would you write a **conditional** to check if Boaz is in **Primary/Prep school**? If this is `True`, **print** the string `\"Primary/Prep School\"`."
   ]
  },
  {
   "cell_type": "code",
   "execution_count": null,
   "metadata": {
    "id": "4_GCPYF7wkhq"
   },
   "outputs": [],
   "source": [
    "# Write code here to verify if Boaz is in \"Primary/Prep School\" using conditionals (`if`, `elif`, `else`)"
   ]
  },
  {
   "attachments": {},
   "cell_type": "markdown",
   "metadata": {
    "id": "VJm9po_Vwkhu"
   },
   "source": [
    "### 7.2"
   ]
  },
  {
   "attachments": {},
   "cell_type": "markdown",
   "metadata": {
    "id": "RAzlArUcwkhv"
   },
   "source": [
    "Similar to above, how would you write a **conditional** to check if Boaz is in the `\"No School\"` category? Make sure to verify both cases (`\"Primary/Prep School\"` and `\"No School\"`) and if the age is in those ranges, **print** the appropriate string. "
   ]
  },
  {
   "cell_type": "code",
   "execution_count": null,
   "metadata": {
    "id": "Fho2HC2owkhw"
   },
   "outputs": [],
   "source": [
    "# Write code here to verify if Boaz is in \"Primary/Prep School\" or \"No School\" using conditionals (`if`, `elif`, `else`)"
   ]
  },
  {
   "attachments": {},
   "cell_type": "markdown",
   "metadata": {
    "id": "wL-dUdqpwkhy"
   },
   "source": [
    "### 7.3"
   ]
  },
  {
   "attachments": {},
   "cell_type": "markdown",
   "metadata": {
    "id": "-SnwOJL3wkhy"
   },
   "source": [
    "Write a **function** `is_in_school(age)` where `age` is an integer between 0 and 100, that either returns `\"No School\"` if the person is not in school or `\"School\"` if the person is in school."
   ]
  },
  {
   "cell_type": "code",
   "execution_count": null,
   "metadata": {
    "id": "7yhHh-iMwkhz"
   },
   "outputs": [],
   "source": [
    "# Write a function here to verify if someone is in \"School\" or \"No School\" using conditional (`if`, `elif`, `else`)"
   ]
  },
  {
   "attachments": {},
   "cell_type": "markdown",
   "metadata": {
    "id": "9yYmXfgIwkh0"
   },
   "source": [
    "### 7.4"
   ]
  },
  {
   "attachments": {},
   "cell_type": "markdown",
   "metadata": {
    "id": "ffKowNP4wkh1"
   },
   "source": [
    "Now using the code pieces you just wrote and your knowledge of **conditionals**, write a function `school_category(age)` that will take in an **age** integer between 0 - 100 and **prints** the category of school they are in (string). Try to do this using **only one if statement**."
   ]
  },
  {
   "cell_type": "code",
   "execution_count": null,
   "metadata": {
    "id": "a29XjSewwkh1"
   },
   "outputs": [],
   "source": [
    "def school_category(age):\n",
    "    # Complete the function here using the code from 5.1 to 5.3\n",
    "\n",
    "\n",
    "    # Here are some tests to check that your code is working correctly.\n",
    "    # Please add your own tests here so that you can be sure your code is\n",
    "    # working correctly.\n",
    "print(school_category(20))\n",
    "print(school_category(2))"
   ]
  },
  {
   "attachments": {},
   "cell_type": "markdown",
   "metadata": {
    "id": "n450tOvnwkh5"
   },
   "source": [
    "## Question 8"
   ]
  },
  {
   "attachments": {},
   "cell_type": "markdown",
   "metadata": {
    "id": "cwu2-xa6wkh6"
   },
   "source": [
    "Write a **function** `list_length(l)` that takes in a list `l` and returns the **length** of the list if the list **is not empty**. If the input is the empty list, return `\"this is empty\"`. "
   ]
  },
  {
   "cell_type": "code",
   "execution_count": null,
   "metadata": {
    "id": "9tXIlUIywkh8"
   },
   "outputs": [],
   "source": [
    "# Define your function list_length(l) here\n",
    "\n",
    "\n",
    "# Test your code here."
   ]
  },
  {
   "attachments": {},
   "cell_type": "markdown",
   "metadata": {
    "id": "svEAepmMwkh_"
   },
   "source": [
    "## Question 9"
   ]
  },
  {
   "attachments": {},
   "cell_type": "markdown",
   "metadata": {
    "id": "Y2_Ph49Owkh_"
   },
   "source": [
    "Write a **function** ```all_equal(l)``` that takes in a list `l` and returns ```True``` if all the elements in the list **are equal** and ```False``` otherwise. You do not need for loops for this. \n",
    "Hint: You can **multiply** lists with integers and you can **compare** two lists to check if they are equal.\n",
    "\n",
    "```python\n",
    "all_equal([1,1,1]) == True\n",
    "all_equal([]) == True\n",
    "all_equal([1,2]) == False\n",
    "all_equal([\"salaam\", \"salaam\"]) == True\n",
    "```"
   ]
  },
  {
   "cell_type": "code",
   "execution_count": null,
   "metadata": {
    "id": "f2cjORNdwkh_"
   },
   "outputs": [],
   "source": [
    "# Define your function all_equal(l) here\n",
    "\n",
    "\n",
    "# Here are some tests to check that your code is working correctly.\n",
    "# Please add your own tests here so that you can be sure your code is\n",
    "# working correctly.\n",
    "print(all_equal([1, 1, 1]))\n",
    "print(all_equal([]))\n",
    "print(all_equal([1, 2]))"
   ]
  },
  {
   "attachments": {},
   "cell_type": "markdown",
   "metadata": {
    "id": "kS_R1AWpwkiC"
   },
   "source": [
    "## Question 10"
   ]
  },
  {
   "attachments": {},
   "cell_type": "markdown",
   "metadata": {
    "id": "EHloBH69wkiD"
   },
   "source": [
    "You are given two **lists of strings** called ```names``` and ```cities```. The **first person** in ```names``` lives in the **last city** in ```cities```, the second person lives in the second to last city, the third lives in the third to last, and so on. Write code to create a third list called ```in_order``` such that the even indexes (0, 2, 4, etc.) are the names of the people (in order) and that the odd indexes (1, 3, 5, etc.) are the cities. For a person in index $i$, their corresponding city should be in index $i+1$. \n",
    "\n",
    "For example:\n",
    "\n",
    "```python\n",
    "names = [\"Ian\", \"Zaria\", \"Orr\"]\n",
    "cities = [\"Berkeley\",\"Kingston\", \"Waterloo\"]\n",
    "```\n",
    "In this case, \n",
    "    - Ian lives in Waterloo\n",
    "    - Zaria lives in Kingston\n",
    "    - Orr lives in Berkeley\n",
    "    \n",
    "You should create the final list:\n",
    "```python\n",
    "in_order = [\"Ian\", \"Waterloo\", \"Zaria\", \"Kingston\", \"Orr\", \"Berkeley\"]\n",
    "```\n",
    "\n",
    "*(hint: you can add to the end of a list using the `+` operator, or the `append` function)*"
   ]
  },
  {
   "cell_type": "code",
   "execution_count": null,
   "metadata": {
    "id": "u_ZYNbr3wkiD"
   },
   "outputs": [],
   "source": [
    "names = [\"Ian\", \"Zaria\", \"Orr\"]\n",
    "cities = [\"Berkeley\",\"Kingston\", \"Waterloo\"]"
   ]
  },
  {
   "cell_type": "code",
   "execution_count": null,
   "metadata": {
    "id": "QNrdlYUgwkiF"
   },
   "outputs": [],
   "source": [
    "# Write code to create `inOrder` list from `names` and `cities` lists"
   ]
  },
  {
   "attachments": {},
   "cell_type": "markdown",
   "metadata": {
    "id": "C-A-tXdpwkiH"
   },
   "source": [
    "## Question 11"
   ]
  },
  {
   "attachments": {},
   "cell_type": "markdown",
   "metadata": {
    "id": "Bwm9zMMLwkiI"
   },
   "source": [
    "Write a **function** `round(x)` that takes in a number `x` and returns the **rounded** version of that number.\n",
    "\n",
    "For example, `round(1.2) = 1`\n",
    "\n",
    "Similarly, `round(2.6) = 3`"
   ]
  },
  {
   "cell_type": "code",
   "execution_count": null,
   "metadata": {
    "id": "ctQicMRawkiI"
   },
   "outputs": [],
   "source": [
    "# Write the function `round(x)` here\n",
    "\n",
    "\n",
    "# Here are some tests to check that your code is working correctly.\n",
    "# Please add your own tests here so that you can be sure your code is\n",
    "# working correctly.\n",
    "print(round(3.4))\n",
    "print(round(3.5))"
   ]
  },
  {
   "attachments": {},
   "cell_type": "markdown",
   "metadata": {
    "id": "7PgBHuefwkiL"
   },
   "source": [
    "## Question 12"
   ]
  },
  {
   "attachments": {},
   "cell_type": "markdown",
   "metadata": {
    "id": "7edWZELdwkiL"
   },
   "source": [
    "Write a **function** `add_fractions(l0, l1)` that takes in 2 lists `l0` and `l1` where each list represents a fractional number where the **first** number is the **numerator** and the **second** is the **denominator**. \n",
    "\n",
    "\n",
    "For example, $[2,1] ⇒ \\frac{2}{1} = 2$, (Numerator is 2, denominator is 1)\n",
    "\n",
    "For example, $[3,4] ⇒ \\frac{3}{4} $,  (Numerator is 3, denominator is 4)\n",
    "\n",
    "\n",
    "**We want to return the sum of these two fractions, unsimplified, as a list.** \n",
    "\n",
    "For example, `add_fractions([3,4], [2,3])` should return `[17, 12]` because $\\frac{3}{4} + \\frac{2}{3} = \\frac{17}{12}$. As another example, `add_fractions([1, 6], [1, 3])` returns `[9, 18]`."
   ]
  },
  {
   "cell_type": "code",
   "execution_count": null,
   "metadata": {
    "id": "J5gb1oF-wkiM"
   },
   "outputs": [],
   "source": [
    "# Write your `add_fractions(l0, l1)` function here\n",
    "\n",
    "\n",
    "# Here are some tests to check that your code is working correctly.\n",
    "# Please add your own tests here so that you can be sure your code is\n",
    "# working correctly.\n",
    "print(add_fractions([3, 4], [2, 3]))"
   ]
  },
  {
   "attachments": {},
   "cell_type": "markdown",
   "metadata": {
    "id": "WVrhBkPSwkiP"
   },
   "source": [
    "## Question 13"
   ]
  },
  {
   "attachments": {},
   "cell_type": "markdown",
   "metadata": {
    "id": "CK2Dl_vXwkiQ"
   },
   "source": [
    "Write a **function** `cost_to_m(n, m, upcost, downcost)` that takes in four (4) **integers**, `n`, `m`, `upcost`, `downcost`.  We want to know the cost to make `n` a **multiple** of `m`. It costs amount `upcost` for every **increment** ($+$) of 1 and costs amount `downcost` for every **decrement** ($-$) of 1.\n",
    "\n",
    "**Return** the **cheapest** cost to get from `n` to a multiple of `m`.\n",
    "\n",
    "For example, `cost_to_m(14, 5, 1, 1)` should return 1 because you can get to 15 (a multiple of 5) with cost 1 and you can get to 10 (a multiple of 5) with cost 4. \n",
    "\n",
    "`cost_to_m(14, 5, 20, 1)` should return 4 because you can get to 15 (a multiple of 5) with cost 20 and you can get to 10 (a multiple of 5) with cost 4. "
   ]
  },
  {
   "cell_type": "code",
   "execution_count": null,
   "metadata": {
    "id": "vHykvpbHwkiQ"
   },
   "outputs": [],
   "source": [
    "# Write your function `cost_to_m(n, m, upcost, downcost)` here\n",
    "\n",
    "\n",
    "# Here are some tests to check that your code is working correctly.\n",
    "# Please add your own tests here so that you can be sure your code is\n",
    "# working correctly.\n",
    "print(cost_to_m(11, 7, 1, 1))"
   ]
  },
  {
   "attachments": {},
   "cell_type": "markdown",
   "metadata": {
    "id": "yn5g4MkgwkiS"
   },
   "source": [
    "## Question 14"
   ]
  },
  {
   "attachments": {},
   "cell_type": "markdown",
   "metadata": {
    "id": "ayEtFLVvwkiT"
   },
   "source": [
    "Write a **function** `calc_area(p0, p1)` that takes in 2 points `p0`, `p1` where the first is the bottom left coordinate (x0, y0) and the second is the top right coordinate (x1, y1) of a rectangle. Return the area of the rectangle. \n",
    "\n",
    "For example, `calc_area((1,1), (4,5))` should return $4 \\times 3 = 12$.\n",
    "\n",
    "![calcArea](https://raw.githubusercontent.com/jamcoders/jamcoders-public-2023/main/images/2c_calc_area.png)"
   ]
  },
  {
   "cell_type": "code",
   "execution_count": null,
   "metadata": {
    "id": "3EGq8v8RwkiT"
   },
   "outputs": [],
   "source": [
    "# Write function `calc_area(p0, p1)` here\n",
    "\n",
    "\n",
    "# Here are some tests to check that your code is working correctly.\n",
    "# Please add your own tests here so that you can be sure your code is\n",
    "# working correctly.\n",
    "print(calc_area((1, 1), (4, 5)))"
   ]
  },
  {
   "attachments": {},
   "cell_type": "markdown",
   "metadata": {
    "id": "xXe0hS5SwkiW"
   },
   "source": [
    "## Question 15"
   ]
  },
  {
   "attachments": {},
   "cell_type": "markdown",
   "metadata": {
    "id": "HDxO_0MswkiW"
   },
   "source": [
    "### 15.1"
   ]
  },
  {
   "attachments": {},
   "cell_type": "markdown",
   "metadata": {
    "id": "3WmCWZhswkiX"
   },
   "source": [
    "Write a **function** `overlapping_rectangles(l1, r1, l2, r2)` that takes in 4 points `l1`, `r1`, `l2`, `r2`. The first 2 points are the **bottom left** coordinate and **top right** coordinates of the **first rectangle**. The second 2 points are the **bottom left** and **top right** coordinates of the **second rectangle**. Return `True` if the 2 different rectangles overlap. \n",
    "\n",
    "For example, with the image below we would call the function with inputs as such: `overlapping_rectangles((2,2), (7,3), (8,5), (9,7))`, and since they do not overlap, return `False`.\n",
    "\n",
    "![overlapRect](https://raw.githubusercontent.com/jamcoders/jamcoders-public-2023/main/images/2c_overlap_rect.png)"
   ]
  },
  {
   "cell_type": "code",
   "execution_count": null,
   "metadata": {
    "id": "yMAh3_iQwkiX"
   },
   "outputs": [],
   "source": [
    "# Write overlappingRectangles(l1, r1, l2, r2) function here!\n",
    "\n",
    "\n",
    "# Here are some tests to check that your code is working correctly.\n",
    "# Please add your own tests here so that you can be sure your code is\n",
    "# working correctly.\n",
    "print(overlapping_rectangles((1, 1), (7, 7), (2, 2), (8, 8)))"
   ]
  },
  {
   "attachments": {},
   "cell_type": "markdown",
   "metadata": {
    "id": "-ITBGP2Awkia"
   },
   "source": [
    "### 15.2"
   ]
  },
  {
   "attachments": {},
   "cell_type": "markdown",
   "metadata": {
    "id": "4VG3fPrVwkic"
   },
   "source": [
    "Write a **function** `area_overlap(l1, r1, l2, r2)` to compute the **area** of the overlapping rectangles. If the rectangles do not overlap, return 0."
   ]
  },
  {
   "cell_type": "code",
   "execution_count": null,
   "metadata": {
    "id": "gh-KHqyLwkid"
   },
   "outputs": [],
   "source": [
    "# Write areaOverlap(l1, r1, l2, r2) function here!\n",
    "\n",
    "\n",
    "# Here are some tests to check that your code is working correctly.\n",
    "# Please add your own tests here so that you can be sure your code is\n",
    "# working correctly.\n",
    "print(area_overlap((1, 1), (7, 7), (2, 2), (8, 8)))"
   ]
  }
 ],
 "metadata": {
  "colab": {
   "collapsed_sections": [
    "unhWBgNfwkfX",
    "UnzhtJFUwkfw",
    "f3NJpio3wkf2",
    "7asdwNXmwkf3",
    "6pajjRWMwkgA",
    "vuTBoCttwkgL",
    "_zpCzeqwwkga",
    "npa7rAmiwkg2",
    "tAbfLRsPwkhd",
    "n6GNRgohwkhi",
    "n450tOvnwkh5",
    "svEAepmMwkh_",
    "kS_R1AWpwkiC",
    "C-A-tXdpwkiH",
    "7PgBHuefwkiL",
    "WVrhBkPSwkiP",
    "yn5g4MkgwkiS"
   ],
   "name": "jamcoders_probs2c.ipynb",
   "provenance": []
  },
  "kernelspec": {
   "display_name": "SageMath 9.4",
   "language": "sage",
   "name": "sagemath"
  },
  "language_info": {
   "codemirror_mode": {
    "name": "ipython",
    "version": 3
   },
   "file_extension": ".py",
   "mimetype": "text/x-python",
   "name": "python",
   "nbconvert_exporter": "python",
   "pygments_lexer": "ipython3",
   "version": "3.9.9"
  }
 },
 "nbformat": 4,
 "nbformat_minor": 4
}
