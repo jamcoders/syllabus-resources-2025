{
  "cells": [
    {
      "attachments": {},
      "cell_type": "markdown",
      "metadata": {
        "id": "86kJ_ZBD9ovt"
      },
      "source": [
        "# Week 1 Day 2B: Lists and Loops"
      ]
    },
    {
      "attachments": {},
      "cell_type": "markdown",
      "metadata": {},
      "source": [
        "![Reminder to Save](https://github.com/jamcoders/jamcoders-public-2025/blob/main/images/warning.png?raw=True)"
      ]
    },
    {
      "cell_type": "code",
      "execution_count": null,
      "metadata": {},
      "outputs": [],
      "source": [
        "# Always run this code.\n",
        "%config InteractiveShell.ast_node_interactivity=\"none\"\n",
        "import sys\n",
        "if 'google.colab' in sys.modules:\n",
        "  !pip install --force-reinstall git+https://github.com/jamcoders/jamcoders-public-2025.git --quiet \n",
        "  !pip install colorama --quiet\n",
        "\n",
        "from jamcoders.week1.lab2b import *"
      ]
    },
    {
      "attachments": {},
      "cell_type": "markdown",
      "metadata": {
        "id": "Va5OpfS39ov0"
      },
      "source": [
        "*Note: This lab is to brush up on loops using animation!*"
      ]
    },
    {
      "attachments": {},
      "cell_type": "markdown",
      "metadata": {},
      "source": [
        "# Table of Contents  \n",
        "\n",
        "**[Question 1: Lists](#1)**\n",
        "\n",
        "**[Question 2: For Loop Fundamentals](#2)**\n",
        "\n",
        "**[Question 3: Range](#3)**\n",
        "\n",
        "**[Question 4: Build a square](#4)**\n",
        "\n",
        "**[Question 5: Build a pyramid](#5)**\n",
        "\n",
        "**[Question 6: Animations!](#6)**\n",
        "\n",
        "**[Question 7: Colors!](#7)**\n",
        "\n",
        "**[Question 8: Make your own animation or pixel art](#8)**"
      ]
    },
    {
      "cell_type": "markdown",
      "metadata": {},
      "source": [
        "<a name=\"1\"></a>\n",
        "## Question 1: Lists\n",
        "\n",
        "As we saw in lecture, we can create lists like this:\n",
        "\n",
        "```python\n",
        "list_name = [item0, item1, item2, item3]\n",
        "```\n",
        "\n",
        "Lists are a convenient way for us to store multiple elements."
      ]
    },
    {
      "cell_type": "markdown",
      "metadata": {},
      "source": [
        "**1.1)** Create a list called `multiples_of_five` that contains the integers 5, 10, 15, 20, and 25 in that order."
      ]
    },
    {
      "cell_type": "code",
      "execution_count": null,
      "metadata": {},
      "outputs": [],
      "source": [
        "# YOUR CODE HERE"
      ]
    },
    {
      "cell_type": "markdown",
      "metadata": {},
      "source": [
        "**1.2)** We can use the `len()` function to get the length of a list. Try it out on `multiples_of_five` below."
      ]
    },
    {
      "cell_type": "code",
      "execution_count": null,
      "metadata": {},
      "outputs": [],
      "source": [
        "# YOUR CODE HERE"
      ]
    },
    {
      "cell_type": "markdown",
      "metadata": {},
      "source": [
        "**List Indexing** \n",
        "\n",
        "List elements can be accessed using **indexes**. Each element of the list has a corresponding index that starts at 0 for the first element, 1 for the second element, etc.\n",
        "\n",
        "For example, in the list `fruits = ['mango', 'pineapple', 'orange', 'soursop']`, the indexes are as follows:\n",
        "\n",
        "|  **Index**  |  **0**  |    **1**    |   **2**  |   **3**   |\n",
        "|:-----------:|:-------:|:-----------:|:--------:|:---------:|\n",
        "| **Element** | 'mango' | 'pineapple' | 'orange' | 'soursop' |\n",
        "\n",
        "Each element can then be accessed like this: `list_name[item_index]`\n",
        "\n",
        "For example, to access the first element of `fruits` which is `'mango'`, you can use `fruits[0]` which returns `'mango'`. If you want to print `'mango'`, you can say `print(fruits[0])` which will print the result: `'mango'`.\n"
      ]
    },
    {
      "cell_type": "markdown",
      "metadata": {},
      "source": [
        "**1.3)** Print the first element in `multiples_of_five`."
      ]
    },
    {
      "cell_type": "code",
      "execution_count": null,
      "metadata": {},
      "outputs": [],
      "source": [
        "# YOUR CODE HERE"
      ]
    },
    {
      "cell_type": "markdown",
      "metadata": {},
      "source": [
        "**1.4)** Print the third element of `multiples_of_five`."
      ]
    },
    {
      "cell_type": "code",
      "execution_count": null,
      "metadata": {},
      "outputs": [],
      "source": [
        "# YOUR CODE HERE"
      ]
    },
    {
      "cell_type": "markdown",
      "metadata": {},
      "source": [
        "**1.5)** We can also use negative indices for lists. To get the *last* element in a list, we use index -1. Try this out on the `fruits` list below. What do you get?"
      ]
    },
    {
      "cell_type": "code",
      "execution_count": null,
      "metadata": {},
      "outputs": [],
      "source": [
        "fruits = ['mango', 'pineapple', 'orange', 'soursop']\n",
        "print(...) # YOUR CODE HERE - print out specific elements, using negative indices "
      ]
    },
    {
      "cell_type": "markdown",
      "metadata": {},
      "source": [
        "**List Slicing**"
      ]
    },
    {
      "cell_type": "markdown",
      "metadata": {},
      "source": [
        "When accessing elements from a list using indexes, it is possible to produce a sub-list, containing elements from a specific range of indexes within the list. This is done using list **slicing**. \n",
        "\n",
        "It takes the form: `list_name[index_of_the_first_element:index_of_the_last_element + 1]`.\n",
        "\n",
        "**For example:**\n",
        "\n",
        "In the list `fruits = ['mango', 'pineapple', 'orange', 'soursop']`, if you want a sublist that contains just `['pineapple', 'orange']`, you could do this by accessing the relevant indices that follow the form above. Remember that the indices of the list are:\n",
        "\n",
        "|  **Index**  |  **0**  |    **1**    |   **2**  |   **3**   |\n",
        "|:-----------:|:-------:|:-----------:|:--------:|:---------:|\n",
        "| **Element** | 'mango' | 'pineapple' | 'orange' | 'soursop' |\n",
        "\n",
        "Notice that `'pineapple'` is located at index 1, and `'orange'` is located at index 2. So we can __slice__ the list to get our desired sublist using the format given above: \n",
        "\n",
        "`fruits[1:3] => ['pineapple', 'orange']`\n",
        "\n",
        "<br>\n",
        "\n",
        "**Note** that the indices on either side of the colon are optional. When one of these is absent, it means the sublist will start or end at the actual start or end of the main list. \n",
        "- In other words, if the left index is absent, the sublist will automatically start at index 0. \n",
        "\n",
        "    `fruits[:2] => ['mango', 'pineapple']`\n",
        "<br>\n",
        "    \n",
        "- If the right index is absent, the sublist will automatically end at the last index. \n",
        "\n",
        "    `fruits[1:] => ['pineapple', 'orange', 'soursop']`\n",
        "\n",
        "<br> \n",
        "\n",
        "**1.6)** What do you think happens when we do `fruits[:]`? Try this out, and write your answer as a comment in the cell below:"
      ]
    },
    {
      "cell_type": "code",
      "execution_count": null,
      "metadata": {},
      "outputs": [],
      "source": [
        "# YOUR ANSWER HERE "
      ]
    },
    {
      "cell_type": "markdown",
      "metadata": {},
      "source": [
        "**1.7)** Perform list slicing on the `multiples_of_five` array from 1.1 to print out a sublist that contains its first three elements."
      ]
    },
    {
      "cell_type": "code",
      "execution_count": null,
      "metadata": {},
      "outputs": [],
      "source": [
        "#  YOUR CODE HERE"
      ]
    },
    {
      "attachments": {},
      "cell_type": "markdown",
      "metadata": {
        "id": "Gejm_E_99ov1"
      },
      "source": [
        "<a name=\"2\"></a>\n",
        "## Question 2: For Loop Fundamentals\n",
        "\n",
        "As we saw in lecture, the basic syntax for `for` loops is\n",
        "\n",
        "```python\n",
        "for var_name in [sequence]:\n",
        "    do something\n",
        "```\n",
        "\n",
        "This code goes through each item in the sequence, stores it in var_name, and runs the code inside the loop using that item."
      ]
    },
    {
      "cell_type": "markdown",
      "metadata": {},
      "source": [
        "**2.1)** Run the code block below. Add a *comment* above each line of code explaining what is happening. "
      ]
    },
    {
      "cell_type": "code",
      "execution_count": null,
      "metadata": {},
      "outputs": [],
      "source": [
        "# EXPLAIN \n",
        "my_nums = [32, 67, 13, 23, 12, 99]\n",
        "\n",
        "# EXPLAIN\n",
        "print(len(my_nums))\n",
        "\n",
        "# EXPLAIN \n",
        "for num in my_nums:\n",
        "    print(num)\n",
        "\n",
        "# EXPLAIN \n",
        "for num in my_nums:\n",
        "    if num > 50:\n",
        "        print(num, \"is greater than 50\")\n",
        "    else:\n",
        "        print(num, \"is smaller than 51\")"
      ]
    },
    {
      "attachments": {},
      "cell_type": "markdown",
      "metadata": {
        "id": "gaWAPan39owB"
      },
      "source": [
        "**2.2)** Given the list of strings below, use a `for` loop to print each string in the list."
      ]
    },
    {
      "cell_type": "code",
      "execution_count": null,
      "metadata": {
        "id": "5fBwpZez9owC"
      },
      "outputs": [],
      "source": [
        "my_strings = [\"comp\", \"ute\", \"rz\", \"!\"]\n",
        "\n",
        "# YOUR CODE HERE"
      ]
    },
    {
      "attachments": {},
      "cell_type": "markdown",
      "metadata": {
        "id": "11KGzrpr9owG"
      },
      "source": [
        "**2.3** Now, use a `for` loop to print the length of each string in `my_strings`."
      ]
    },
    {
      "cell_type": "code",
      "execution_count": null,
      "metadata": {
        "id": "ClzHImtabYE7"
      },
      "outputs": [],
      "source": [
        "# YOUR CODE HERE"
      ]
    },
    {
      "cell_type": "markdown",
      "metadata": {},
      "source": [
        "**2.4)** Now, use a `for` loop to *only* print out the strings in `my_strings` which have a length greater than 2. "
      ]
    },
    {
      "cell_type": "code",
      "execution_count": null,
      "metadata": {},
      "outputs": [],
      "source": [
        "# YOUR CODE HERE"
      ]
    },
    {
      "cell_type": "markdown",
      "metadata": {},
      "source": [
        "**2.5)** Write code to take a list of strings and print out the length of the longest string in the list. "
      ]
    },
    {
      "cell_type": "code",
      "execution_count": null,
      "metadata": {},
      "outputs": [],
      "source": [
        "my_strings = [\"One\", \"good\", \"thing\" \"about music\", \" - \", \"when it hits you,\" \"you\" \"feel no pain.\"]\n",
        "\n",
        "# YOUR CODE HERE\n"
      ]
    },
    {
      "cell_type": "markdown",
      "metadata": {},
      "source": [
        "<a name=\"3\"></a>\n",
        "## Question 3: Range\n",
        "\n",
        "Let's say we want to print out `Hello World` 10 times. What are some ways we can do this?\n",
        "\n",
        "**3.1)** Write code to print out `Hello World` 10 times, *without using `for` loops*. Make sure to copy paste to make your life easier!\n"
      ]
    },
    {
      "cell_type": "code",
      "execution_count": null,
      "metadata": {},
      "outputs": [],
      "source": [
        "# YOUR CODE HERE"
      ]
    },
    {
      "cell_type": "markdown",
      "metadata": {},
      "source": [
        "Clearly, that wasn't the easiest solution. What if we want to print `Hello World` 20 times instead -  we would need to add 10 more lines of code :(\n",
        "\n",
        "**3.2)** Write code to print out `Hello World` 10 times by setting up a list and using a `for` loop to go through it. "
      ]
    },
    {
      "cell_type": "code",
      "execution_count": null,
      "metadata": {},
      "outputs": [],
      "source": [
        "# YOUR CODE HERE"
      ]
    },
    {
      "cell_type": "markdown",
      "metadata": {},
      "source": [
        "This is a bit better. Now, if we want to print `Hello World` 20 times, we would only need to change our list. \n",
        "\n",
        "`for` loops need a sequence to iterate over. Instead of having to create a sequence ourselves, python has a helpful function to generate a sequence of numbers called `range`."
      ]
    },
    {
      "cell_type": "markdown",
      "metadata": {},
      "source": [
        "We can use `range` in a couple of different ways. \n",
        "\n",
        "Let's see what happens when we pass in 1 argument:\n",
        "\n",
        "```python\n",
        "range(end)\n",
        "```\n",
        "\n",
        "**3.3)** Run the code block below 3 times, changing the `end` value each time. In a comment below, explain what the `range` function does when we pass in 1 argument. "
      ]
    },
    {
      "cell_type": "code",
      "execution_count": null,
      "metadata": {},
      "outputs": [],
      "source": [
        "# INSERT AN END NUMBER\n",
        "for i in range(...):\n",
        "    print(i)\n",
        "\n",
        "# EXPLANATION "
      ]
    },
    {
      "cell_type": "markdown",
      "metadata": {},
      "source": [
        "**3.4)** Using `range`, write code to print out the following sequences (for each one, each number will be on a new line): \n",
        "\n",
        "- [0, 1, 2, 3, 4, 5]\n",
        "- [0, 1, 2, 3, 4, 5, 6, 7, 8, 9, 10, 11, 12, 13]\n",
        "- [0, 2, 3, 4, 5, 6, 7, 8]"
      ]
    },
    {
      "cell_type": "code",
      "execution_count": null,
      "metadata": {},
      "outputs": [],
      "source": [
        "# FILL IN THE ELLIPSES \n",
        "for i in range(...): # [0, 1, 2, 3, 4, 5]\n",
        "    print(i)\n",
        "\n",
        "for i in range(...): # [0, 1, 2, 3, 4, 5, 6, 7, 8, 9, 10, 11, 12, 13]\n",
        "    print(i)\n",
        "\n",
        "for i in range(...): # [0, 2, 3, 4, 5, 6, 7, 8]\n",
        "    print(i)"
      ]
    },
    {
      "cell_type": "markdown",
      "metadata": {},
      "source": [
        "We can also pass in 2 arguments.\n",
        "\n",
        "```python\n",
        "range(start, end)\n",
        "```\n",
        "\n",
        "**3.5)** Run the code block below 5 times, using different combinations of `start` and `end`. In a comment below, explain what the `range` function does when we pass in 2 arguments."
      ]
    },
    {
      "cell_type": "code",
      "execution_count": null,
      "metadata": {},
      "outputs": [],
      "source": [
        "# INSERT A START AND END NUMBER\n",
        "for i in range(..., ...):\n",
        "    print(i)\n",
        "\n",
        "# EXPLANATION"
      ]
    },
    {
      "cell_type": "markdown",
      "metadata": {},
      "source": [
        "**3.6)** Using `range`, write code to print out the following sequences (for each one, each number will be on a new line): \n",
        "\n",
        "- [3, 4, 5, 6]\n",
        "- [-3, -2, -1, 0, 1]\n",
        "- [201, 202, 203, 204, 205]"
      ]
    },
    {
      "cell_type": "code",
      "execution_count": null,
      "metadata": {},
      "outputs": [],
      "source": [
        "# FILL IN THE ELLIPSES \n",
        "for i in range(...): # [3, 4, 5, 6]\n",
        "    print(i)\n",
        "\n",
        "for i in range(...): # [-3, -2, -1, 0, 1]\n",
        "    print(i)\n",
        "\n",
        "for i in range(...): # [201, 202, 203, 204, 205]\n",
        "    print(i)"
      ]
    },
    {
      "cell_type": "markdown",
      "metadata": {},
      "source": [
        "Finally, we can also pass in 3 arguments.\n",
        "\n",
        "```python\n",
        "range(start, end, step_size)\n",
        "```\n",
        "\n",
        "**3.7)** Run the code block below 6 times, using different combinations of `start`, `end`, and `step_size`. In a comment below, explain how the `range` function works when we pass in 3 arguments."
      ]
    },
    {
      "cell_type": "code",
      "execution_count": null,
      "metadata": {},
      "outputs": [],
      "source": [
        "# INSERT A START, END, AND STEP NUMBER\n",
        "for i in range(..., ..., ...):\n",
        "    print(i)\n",
        "\n",
        "# EXPLANATION "
      ]
    },
    {
      "cell_type": "markdown",
      "metadata": {},
      "source": [
        "**3.8)** Using `range`, write code to print out the following sequences (for each one, each number will be on a new line): \n",
        "\n",
        "- [10, 12, 14, 16]\n",
        "- [20, 19, 18, 17, 15]\n",
        "- [-1, 3, 7, 11]"
      ]
    },
    {
      "cell_type": "code",
      "execution_count": null,
      "metadata": {},
      "outputs": [],
      "source": [
        "# FILL IN THE ELLIPSES \n",
        "for i in range(...): # [10, 12, 14, 16]\n",
        "    print(i)\n",
        "\n",
        "for i in range(...): # [20, 19, 18, 17, 15]\n",
        "    print(i)\n",
        "\n",
        "for i in range(...): # [-1, 3, 7, 11]\n",
        "    print(i)"
      ]
    },
    {
      "cell_type": "markdown",
      "metadata": {},
      "source": [
        "**3.9)** Now, use the `range` function to print `Hello World` 10 times in the code block below. "
      ]
    },
    {
      "cell_type": "code",
      "execution_count": null,
      "metadata": {},
      "outputs": [],
      "source": [
        "# YOUR CODE HERE"
      ]
    },
    {
      "attachments": {},
      "cell_type": "markdown",
      "metadata": {
        "id": "cGMHfZZedrdH"
      },
      "source": [
        "<a name=\"4\"></a>\n",
        "## Question 4: Build a square"
      ]
    },
    {
      "attachments": {},
      "cell_type": "markdown",
      "metadata": {
        "id": "DREy3fS29oxj"
      },
      "source": [
        "**4.1)** Write code that, based on the width variable set in the code block below, prints out a width by width checkboard of hashes. \n",
        "\n",
        "For example, if `width = 4`, you should get\n",
        "```python\n",
        "# # # #\n",
        "# # # #\n",
        "# # # #\n",
        "# # # #\n",
        "```\n",
        "Check your code by setting `width = 5` and `width = 20`. "
      ]
    },
    {
      "cell_type": "code",
      "execution_count": null,
      "metadata": {
        "id": "dQHI6ixVScTi"
      },
      "outputs": [],
      "source": [
        "width = 4\n",
        "\n",
        "# YOUR CODE HERE"
      ]
    },
    {
      "attachments": {},
      "cell_type": "markdown",
      "metadata": {
        "id": "o_JCcSBI9oxo"
      },
      "source": [
        "<a name=\"5\"></a>\n",
        "## Question 5: Build a pyramid\n"
      ]
    },
    {
      "attachments": {},
      "cell_type": "markdown",
      "metadata": {
        "id": "B3JNFpXoWVOp"
      },
      "source": [
        "**5.1)** Write code that, based on the height variable set in the code block below,, prints out a pyramid of that height.  function that takes an integer x and prints a pyramid with height x.\n",
        "\n",
        "For example, if `height = 4`, you should get\n",
        "```python\n",
        "   #\n",
        "  # #\n",
        " # # #\n",
        "# # # #\n",
        "```\n",
        "Check your code by setting `height = 2` and `height = 10`\n",
        "\n",
        "*Hint:* Think about how many spaces have to come before the `#` in each row."
      ]
    },
    {
      "cell_type": "code",
      "execution_count": null,
      "metadata": {
        "id": "q6Z-QUCG9oxo"
      },
      "outputs": [],
      "source": [
        "height = 4\n",
        "\n",
        "# YOUR CODE HERE"
      ]
    },
    {
      "attachments": {},
      "cell_type": "markdown",
      "metadata": {
        "id": "kvWHs3YlTbfw"
      },
      "source": [
        "<a name=\"6\"></a>\n",
        "## Question 6: Animations!\n",
        "\n"
      ]
    },
    {
      "cell_type": "markdown",
      "metadata": {},
      "source": [
        "We have used some functions already - the `print` function is able to display things; the `range` function gives us a sequence of numbers. In order to create animations, we need to learn about some more functions."
      ]
    },
    {
      "attachments": {},
      "cell_type": "markdown",
      "metadata": {
        "id": "ppYFmiJceuUX"
      },
      "source": [
        "**6.1)** Run the code in the cell below. Here, we are using a function called `sleep`.\n",
        "\n",
        "What does `sleep()` seem to do? Put your answer in a comment below."
      ]
    },
    {
      "cell_type": "code",
      "execution_count": null,
      "metadata": {
        "id": "wBhscIkXfqGi"
      },
      "outputs": [],
      "source": [
        "# This imports the sleep function so we can use it!\n",
        "from time import sleep\n",
        "\n",
        "print('print1')\n",
        "sleep(1)\n",
        "print('print2')\n",
        "sleep(2)\n",
        "print('print3')\n",
        "sleep(5)\n",
        "print('print4')"
      ]
    },
    {
      "cell_type": "code",
      "execution_count": null,
      "metadata": {
        "id": "S2i-BCsujMTW"
      },
      "outputs": [],
      "source": [
        "# YOUR ANSWER HERE"
      ]
    },
    {
      "attachments": {},
      "cell_type": "markdown",
      "metadata": {
        "id": "VYDxGHy6g1ky"
      },
      "source": [
        "**6.2)** Another function is called `clear_output`. What does `clear_output()` seem to do?"
      ]
    },
    {
      "cell_type": "code",
      "execution_count": null,
      "metadata": {
        "id": "u1wdsfZchGKi"
      },
      "outputs": [],
      "source": [
        "# This imports the sleep and clear_output functions so we can use them!\n",
        "from time import sleep\n",
        "from IPython.display import clear_output\n",
        "\n",
        "print('print1')\n",
        "sleep(1)\n",
        "clear_output()\n",
        "\n",
        "print('print2')\n",
        "sleep(2)\n",
        "clear_output()\n",
        "\n",
        "print('print3')\n",
        "sleep(5)\n",
        "clear_output()"
      ]
    },
    {
      "cell_type": "code",
      "execution_count": null,
      "metadata": {
        "id": "YWpmxLsDjPyV"
      },
      "outputs": [],
      "source": [
        "# YOUR ANSWER HERE"
      ]
    },
    {
      "attachments": {},
      "cell_type": "markdown",
      "metadata": {
        "id": "TJnuz7jbjWj-"
      },
      "source": [
        "**6.3)** Using `sleep` and `clear_output`, we can build animations! \n",
        "\n",
        "Fill in the code below to create a count-down animation, which displays the numbers from 10 down to 1 and print outs `Ding!` at the end. \n",
        "\n",
        "Together, in the function `show`, the two functions allow us to pause to show the current 'frame', then clear the frame after some amount of time.\n",
        "\n",
        "Fix the code below so that there is a count-down animation, and finally at the end we print `'Ding!'`\n",
        "\n",
        "*Tip:* If you want your animation to look smoother, use `clear_output(wait=True)` in order to avoid blank outputs. By using this version, the output won't be erased until it has something to be replaced with. \n"
      ]
    },
    {
      "cell_type": "code",
      "execution_count": null,
      "metadata": {
        "id": "KdA2cVZjmZf1"
      },
      "outputs": [],
      "source": [
        "from IPython.display import clear_output\n",
        "from time import sleep\n",
        "\n",
        "# YOUR CODE HERE\n",
        "\n",
        "# Set up a for loop to count through the numbers from 10 down to 1\n",
        "\n",
        "    # Print out the number\n",
        "\n",
        "    # Wait a bit\n",
        "\n",
        "    # Clear the screen\n",
        "\n",
        "\n",
        "# At the end, print `Ding!`"
      ]
    },
    {
      "attachments": {},
      "cell_type": "markdown",
      "metadata": {
        "id": "p0MYdGpvdsAf"
      },
      "source": [
        "<a name=\"7\"></a>\n",
        "## Question 7: Colors!\n",
        "\n",
        "To make printing more exciting, the JamCoders staff have written a function called `colored`. In order to use it, you can run `colored(text, color)` to get colored text. \n",
        "\n",
        "The colored function gives us a `string` that we can use later on, for example to print it out or to add it to other strings. Run the code block below to see what each of the colors we can use look like."
      ]
    },
    {
      "cell_type": "code",
      "execution_count": null,
      "metadata": {},
      "outputs": [],
      "source": [
        "colors = [\"black\", \"blue\", \"cyan\", \"green\", \"grey\", \"magenta\", \"red\", \"white\", \"yellow\"]\n",
        "\n",
        "for color in colors:\n",
        "    print(colored(color, color))"
      ]
    },
    {
      "cell_type": "markdown",
      "metadata": {},
      "source": [
        "**6.1)** Use the code cell below to print out your name in your favorite color out of the options above. "
      ]
    },
    {
      "cell_type": "code",
      "execution_count": null,
      "metadata": {},
      "outputs": [],
      "source": [
        "# Fill in your name instead of 'text' and your favorite color in place of 'grey'\n",
        "print(colored(\"TEXT\", \"grey\"))"
      ]
    },
    {
      "attachments": {},
      "cell_type": "markdown",
      "metadata": {
        "id": "4z19y16Gd0r4"
      },
      "source": [
        "**6.2)** In the code block below, we set up a couple of variables named `block`, `circle`, `cross` and `plus` which store strings that print interesting characters. There is some code provided for you already to print a red block, a green circle, and a magenta cross.\n",
        "\n",
        "Can you print a blue cross?\n",
        "\n",
        "Can you print a cyan plus?\n"
      ]
    },
    {
      "cell_type": "code",
      "execution_count": null,
      "metadata": {
        "id": "SRR--a30eIZR"
      },
      "outputs": [],
      "source": [
        "block = '█'\n",
        "square = '■'\n",
        "circle = '⬤'\n",
        "cross = '✖'\n",
        "plus = '＋'\n",
        "\n",
        "# Print a red block \n",
        "print(colored(block, 'red'))\n",
        "\n",
        "# Print a green circle\n",
        "print(colored(circle, 'green'))\n",
        "\n",
        "# Print a magenta cross\n",
        "print(colored(cross, 'magenta'))\n",
        "\n",
        "\n",
        "# YOUR CODE HERE - print a blue cross\n",
        "\n",
        "\n",
        "# YOUR CODE HERE - print a cyan plus\n",
        "\n"
      ]
    },
    {
      "cell_type": "markdown",
      "metadata": {},
      "source": [
        "**6.3)** We want to make a rainbow animation that does the following:\n",
        "* Takes in some `text` and a list of `colors`.\n",
        "* For each color, it `prints()` the text, then `shows()` the text\n",
        "* When we reach the end of the list, we finally `print()` the string `text` in the first color.\n",
        "\n",
        "For example, `rainbow_print('hi', ['red', 'green', 'blue'])` would first print `'hi'` in red, then in green, then in blue. Finally, at the end, it finishes by printing `'hi'` in the first color, `'red'`.\n",
        "\n",
        "Edit the code below to make this happen! Try out your code with 3 different list of colors and 2 different texts. "
      ]
    },
    {
      "cell_type": "code",
      "execution_count": null,
      "metadata": {
        "id": "UhwvqgWijW3I"
      },
      "outputs": [],
      "source": [
        "from IPython.display import clear_output\n",
        "from time import sleep\n",
        "\n",
        "# Feel free to change these! \n",
        "text = \"Hellooo\"\n",
        "colors = ['red', 'green', 'blue']\n",
        "\n",
        "# YOUR CODE HERE"
      ]
    },
    {
      "attachments": {},
      "cell_type": "markdown",
      "metadata": {
        "id": "qucO6636pvgt"
      },
      "source": [
        "<a name=\"8\"></a>\n",
        "## Question 8: Make your own animation or pixel art!\n",
        "\n",
        "Now, try making your own animation or pixel art. **It can be anything, so it is a chance to be creative!**\n",
        "\n",
        "Below is an example that the staff made. You can try running it if you'd like! You can show us or your friends who have finished when you are done!"
      ]
    },
    {
      "cell_type": "markdown",
      "metadata": {},
      "source": [
        "**Pixel Art Example**"
      ]
    },
    {
      "cell_type": "code",
      "execution_count": null,
      "metadata": {},
      "outputs": [],
      "source": [
        "# Smiley face! \n",
        "print(colored(block, \"blue\") * 38)\n",
        "\n",
        "# Top of head\n",
        "print(colored(block, \"blue\") * 14 + colored(block, \"black\") * 10  + colored(block, \"blue\") * 14)\n",
        "\n",
        "print(colored(block, \"blue\") * 10 + colored(block, \"black\") * 4  + colored(block, \"yellow\") * 10 + colored(block, \"black\") * 4 + colored(block, \"blue\") * 10)\n",
        "print(colored(block, \"blue\") * 8 +  colored(block, \"black\") * 2  + colored(block, \"yellow\") * 18 + colored(block, \"black\") * 2 + colored(block, \"blue\") * 8)\n",
        "print(colored(block, \"blue\") * 6 +  colored(block, \"black\") * 2  + colored(block, \"yellow\") * 22 + colored(block, \"black\") * 2 + colored(block, \"blue\") * 6)\n",
        "\n",
        "\n",
        "# Eyes \n",
        "print(colored(block, \"blue\") * 6 +  colored(block, \"black\") * 2  + colored(block, \"yellow\") * 4 +  colored(block, \"black\") * 4 + colored(block, \"yellow\") * 6+ colored(block, \"black\") * 4 + colored(block, \"yellow\") * 4 + colored(block, \"black\") * 2 + colored(block, \"blue\") * 6)\n",
        "print(colored(block, \"blue\") * 6 +  colored(block, \"black\") * 2  + colored(block, \"yellow\") * 4 +  colored(block, \"black\") * 4 + colored(block, \"yellow\") * 6+ colored(block, \"black\") * 4 + colored(block, \"yellow\") * 4 + colored(block, \"black\") * 2 + colored(block, \"blue\") * 6)\n",
        "print(colored(block, \"blue\") * 6 +  colored(block, \"black\") * 2  + colored(block, \"yellow\") * 22 + colored(block, \"black\") * 2 + colored(block, \"blue\") * 6)\n",
        "\n",
        "# Mouth \n",
        "print(colored(block, \"blue\") * 6 +  colored(block, \"black\") * 2  + colored(block, \"yellow\") * 4 +  colored(block, \"black\") * 14 + colored(block, \"yellow\") * 4 + colored(block, \"black\") * 2 + colored(block, \"blue\") * 6)\n",
        "print(colored(block, \"blue\") * 6 +  colored(block, \"black\") * 2  + colored(block, \"yellow\") * 6 +  colored(block, \"black\") * 10 + colored(block, \"yellow\") * 6 + colored(block, \"black\") * 2 + colored(block, \"blue\") * 6)\n",
        "print(colored(block, \"blue\") * 8 +  colored(block, \"black\") * 2  + colored(block, \"yellow\") * 18 + colored(block, \"black\") * 2 + colored(block, \"blue\") * 8)\n",
        "\n",
        "\n",
        "\n",
        "print(colored(block, \"blue\") * 10 + colored(block, \"black\") * 4  + colored(block, \"yellow\") * 10 + colored(block, \"black\") * 4 + colored(block, \"blue\") * 10)\n",
        "print(colored(block, \"blue\") * 14 + colored(block, \"black\") * 10  + colored(block, \"blue\") * 14)\n",
        "print(colored(block, \"blue\") * 38)"
      ]
    },
    {
      "cell_type": "markdown",
      "metadata": {},
      "source": [
        "Create your own pixel art below!"
      ]
    },
    {
      "cell_type": "code",
      "execution_count": null,
      "metadata": {},
      "outputs": [],
      "source": [
        "# YOUR CODE HERE"
      ]
    },
    {
      "cell_type": "markdown",
      "metadata": {},
      "source": [
        "**Animation Example**"
      ]
    },
    {
      "cell_type": "code",
      "execution_count": null,
      "metadata": {},
      "outputs": [],
      "source": [
        "# Magenta block sliding back and forth\n",
        "\n",
        "# Repeat the animation 5 times before stopping\n",
        "for repeat in range(5):\n",
        "    \n",
        "    # Go to the right\n",
        "    for dist in range(27): # dist keeps track of how far along the block is\n",
        "        # Visualize \n",
        "        print(colored('#', \"cyan\") * 30)\n",
        "        print(colored('#', \"cyan\") * (1 + dist) + colored(block, \"magenta\") * 2 + colored(\"#\", \"cyan\") * (27 - dist))\n",
        "        print(colored('#', \"cyan\") * 30)\n",
        "\n",
        "        # Wait\n",
        "        sleep(0.2)\n",
        "\n",
        "        # Clear\n",
        "        clear_output(wait=True)\n",
        "\n",
        "    # Come back to the left \n",
        "    for dist in range(26, -1, -1):\n",
        "        # Visualize \n",
        "        print(colored('#', \"cyan\") * 30)\n",
        "        print(colored('#', \"cyan\") * (1 + dist) + colored(block, \"magenta\") * 2 + colored(\"#\", \"cyan\") * (27 - dist))\n",
        "        print(colored('#', \"cyan\") * 30)\n",
        "\n",
        "        # Wait\n",
        "        sleep(0.2)\n",
        "\n",
        "        # Clear\n",
        "        clear_output(wait=True)\n"
      ]
    },
    {
      "cell_type": "markdown",
      "metadata": {},
      "source": [
        "Create your own animation below!"
      ]
    },
    {
      "cell_type": "code",
      "execution_count": null,
      "metadata": {},
      "outputs": [],
      "source": [
        "# YOUR CODE HERE"
      ]
    }
  ],
  "metadata": {
    "colab": {
      "provenance": []
    },
    "kernelspec": {
      "display_name": "base",
      "language": "python",
      "name": "python3"
    },
    "language_info": {
      "codemirror_mode": {
        "name": "ipython",
        "version": 3
      },
      "file_extension": ".py",
      "mimetype": "text/x-python",
      "name": "python",
      "nbconvert_exporter": "python",
      "pygments_lexer": "ipython3",
      "version": "3.12.9"
    }
  },
  "nbformat": 4,
  "nbformat_minor": 0
}
