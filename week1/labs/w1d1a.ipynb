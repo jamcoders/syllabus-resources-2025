{
 "cells": [
  {
   "cell_type": "markdown",
   "metadata": {
    "id": "fh3TuPnozjDw"
   },
   "source": [
    "# Week 1 Day 1, Part A: Introduction to Python\n",
    "\n"
   ]
  },
  {
   "cell_type": "markdown",
   "metadata": {},
   "source": [
    "![Reminder to Save](https://github.com/jamcoders/jamcoders-public-2025/blob/main/images/warning.png?raw=True)"
   ]
  },
  {
   "cell_type": "code",
   "execution_count": null,
   "metadata": {},
   "outputs": [],
   "source": [
    "# Always run this code.\n",
    "# You can run the code by clicking the play button ▶️ to the left \n",
    "# or typing `CTRL+ENTER` or `SHIFT+ENTER` on your keyboard\n",
    "\n",
    "%config InteractiveShell.ast_node_interactivity=\"none\"\n",
    "import sys\n",
    "if 'google.colab' in sys.modules:\n",
    "    !eval \"$(echo \"cGlwIGluc3RhbGwgLS1mb3JjZS1yZWluc3RhbGwgZ2l0K2h0dHBzOi8vZ2l0aHViLmNvbS9qYW1jb2RlcnMvamFtY29kZXJzLXB1YmxpYy0yMDI0LmdpdCAtLXF1aWV0Cg==\" | base64 -d)\""
   ]
  },
  {
   "cell_type": "markdown",
   "metadata": {
    "id": "tezmYM2tD3ry"
   },
   "source": [
    "## Instructions\n",
    "\n",
    "Welcome to Jamcoders! This is a **Jupyter Notebook** with some exercises based on lecture. Jupyter Notebook allows you to write Python code in boxes called **cells** which you can **run** individually (by pressing `CTRL+ENTER` or `SHIFT+ENTER`).\n",
    "\n",
    "The goal of this notebook is to review the following topics:\n",
    "\n",
    "*   Jupyter Notebooks\n",
    "*   Printing\n",
    "*   Comments\n",
    "*   Math in Python\n",
    "*   Expressions\n",
    "*   Variables"
   ]
  },
  {
   "cell_type": "markdown",
   "metadata": {},
   "source": [
    "# Table of Contents  \n",
    "\n",
    "**[Question 1: Jupyter Notebook Intro](#1)**\n",
    "\n",
    "**[Question 2: Math in Python](#2)**\n",
    "\n",
    "**[Question 3: Order of Operations](#3)**\n",
    "\n",
    "**[Question 4: Word Problems](#4)**\n",
    "\n",
    "**[Question 5: Variables](#5)**\n",
    "\n",
    "**[Question 6: Shorthand Operators](#6)**\n",
    "\n",
    "**[Question 7: Math Magic Trick](#7)**\n",
    "\n",
    "**[Question 8: Tricky Variable Names](#8)**\n",
    "\n",
    "**[Question 9: Putting It All Together](#9)**"
   ]
  },
  {
   "cell_type": "markdown",
   "metadata": {},
   "source": [
    "<a name=\"1\"></a>\n",
    "## Question 1: Jupyter Notebook Intro\n",
    "\n",
    "Welcome to programming! As you saw in lecture, we will be using Jupyter Notebooks throughout this course to complete exercises. Jupyter Notebooks are a powerful tool that allows us to include text, images, and code all in one place. \n",
    "\n",
    "There are two kinds of cells in Jupyter Notebooks."
   ]
  },
  {
   "cell_type": "markdown",
   "metadata": {},
   "source": [
    "**1.1 Text Cells**\n",
    "\n",
    "This is a \"text cell.\" We write text here!\n",
    "\n",
    "If you double click the box, you can edit the text inside of it. Click outside of the box to stop editing. If the text remains \"unformatted\", you may need to run the text cell (click the play button ▶️ OR type `CTRL+ENTER` OR `SHIFT+ENTER`) to properly visualize it. We will rarely edit text cells during JamCoders, but it is nice to know how they work. "
   ]
  },
  {
   "cell_type": "markdown",
   "metadata": {},
   "source": [
    "Try writing your name into this box:\n",
    "\n",
    "Hi my name is ☐☐☐, and this is my notebook!"
   ]
  },
  {
   "cell_type": "markdown",
   "metadata": {},
   "source": [
    "**1.2 Code Cells**\n",
    "\n",
    "Now we're going to run our very first piece of code. Notice how the cell below has a gray rectangle around it and a [ ] symbol on the left side -  that's a code cell! \n",
    "\n",
    "Run the code cell below by either clicking the play button to the left side (which appears when you hover over the [ ] symbol), typing `CTRL+ENTER`, or typing `SHIFT+ENTER`. "
   ]
  },
  {
   "cell_type": "code",
   "execution_count": null,
   "metadata": {},
   "outputs": [],
   "source": [
    "347 * 131"
   ]
  },
  {
   "cell_type": "markdown",
   "metadata": {},
   "source": [
    "What happens? \n",
    "\n",
    "Notice how a number appears under the code cell. This is output from our code cell - what the *latest result* of our computation is. You'll also see a [2] appear to the left of the code block. That's because it's the second thing you've run in this Jupyter Notebook (the first was imports at the very beginning, don't worry about what those do). \n",
    "\n",
    "Try running the code cell above again. What changes? "
   ]
  },
  {
   "cell_type": "markdown",
   "metadata": {},
   "source": [
    "**1.3 Printing**\n",
    "\n",
    "By default, Jupyter Notebooks only display the last thing that happens in a code block. Sometimes, we want to see more of what's going on. In order to do this, we use the `print` function. `print(☐☐☐)` will display whatever you put inside to the user below the code cell. \n",
    "\n",
    "Run the cells below."
   ]
  },
  {
   "cell_type": "code",
   "execution_count": null,
   "metadata": {},
   "outputs": [],
   "source": [
    "12 + 24\n",
    "64 // 3\n",
    "72 - 30"
   ]
  },
  {
   "cell_type": "code",
   "execution_count": null,
   "metadata": {},
   "outputs": [],
   "source": [
    "print(12 + 24)\n",
    "print(64 // 3)\n",
    "print(72 - 30)"
   ]
  },
  {
   "cell_type": "markdown",
   "metadata": {},
   "source": [
    "What is the difference between running the two cells above?\n",
    "\n",
    "Fill in your answer here: ______________"
   ]
  },
  {
   "cell_type": "markdown",
   "metadata": {},
   "source": [
    "We aren't limited to numbers in python. A `string`, which is a series of characters between two quotation `\"` `\"` marks, lets us print any word we want. \n",
    "\n",
    "Edit the code block below and run it to print out your name after `Hello World`. "
   ]
  },
  {
   "cell_type": "code",
   "execution_count": null,
   "metadata": {},
   "outputs": [],
   "source": [
    "print(\"Hello world!\")\n",
    "print(...)"
   ]
  },
  {
   "cell_type": "markdown",
   "metadata": {},
   "source": [
    "To print multiple things on the same line, separate them with commas inside of the print statement. Edit the code block below to print out three more things (either numbers or strings!). "
   ]
  },
  {
   "cell_type": "code",
   "execution_count": null,
   "metadata": {},
   "outputs": [],
   "source": [
    "print(12, \"pears\", 36 / 2, \"oranges\")"
   ]
  },
  {
   "cell_type": "markdown",
   "metadata": {},
   "source": [
    "**1.4 Comments**\n",
    "\n",
    "Comments let us *hide* a line from the computer. Instead of treating it as something to do, the computer skips over that line, but humans can still read the text. You can turn any line into a comment by putting a `#` character at the start of the line. Play around with commenting out different lines of code below and see what happens."
   ]
  },
  {
   "cell_type": "code",
   "execution_count": null,
   "metadata": {},
   "outputs": [],
   "source": [
    "print(123)\n",
    "print(\"Hello\")\n",
    "# print(201 * 34)\n",
    "# print(\"Goodbye\")\n",
    "print(57 / 3)"
   ]
  },
  {
   "cell_type": "markdown",
   "metadata": {},
   "source": [
    "We also often use comments to write an explanation for what is happening in a piece of code, or to leave notes for ourselves."
   ]
  },
  {
   "cell_type": "code",
   "execution_count": null,
   "metadata": {},
   "outputs": [],
   "source": [
    "# Print out how many seconds are in a day\n",
    "print(60 * 60 * 24, \"seconds in a day\")"
   ]
  },
  {
   "cell_type": "markdown",
   "metadata": {},
   "source": [
    "Add a comment explaining what is happening below. "
   ]
  },
  {
   "cell_type": "code",
   "execution_count": null,
   "metadata": {},
   "outputs": [],
   "source": [
    "# What is going on here? \n",
    "print(365 * 24)"
   ]
  },
  {
   "cell_type": "markdown",
   "metadata": {},
   "source": [
    "**1.5 Adding Cells**\n",
    "\n",
    "If you ever want to experiment with something, you can add more code or text blocks in Jupyter Notebook. To do this, hover over the middle section between two cells and click the `+ Code` or `+ Text` button.\n",
    "\n",
    "Add a code cell below this, and use it to compute the product of your birth year and your favorite number. "
   ]
  },
  {
   "cell_type": "markdown",
   "metadata": {},
   "source": [
    "Add a text block below this, and use it to introduce yourself - list your favorite color, your favorite animal, and your favorite ice cream flavor. "
   ]
  },
  {
   "cell_type": "markdown",
   "metadata": {},
   "source": [
    "<a name=\"2\"></a>\n",
    "## Question 2: Arithmetic\n",
    "\n",
    "As we saw in lecture, we can do math in python using symbols like `+` (add), `-` (subtract), `*` (multiply), `**` (exponentiate), `/` (divide), and `//` (floor divide). "
   ]
  },
  {
   "cell_type": "markdown",
   "metadata": {},
   "source": [
    "**2.1)** Write some code to compute what what $2500 \\times 50$ equals."
   ]
  },
  {
   "cell_type": "code",
   "execution_count": null,
   "metadata": {},
   "outputs": [],
   "source": [
    "# The next line outputs 2500 multiplied by 50"
   ]
  },
  {
   "cell_type": "markdown",
   "metadata": {},
   "source": [
    "**2.2)** Write some code to compute what what $34892 \\div 20$ equals."
   ]
  },
  {
   "cell_type": "code",
   "execution_count": null,
   "metadata": {},
   "outputs": [],
   "source": [
    "# The next line outputs 34892 divided by 20"
   ]
  },
  {
   "cell_type": "markdown",
   "metadata": {},
   "source": [
    "**2.3)** Write some code to compute what $213850   + 1232$ equals."
   ]
  },
  {
   "cell_type": "code",
   "execution_count": null,
   "metadata": {},
   "outputs": [],
   "source": [
    "# The next line outputs 213850 plus 1232"
   ]
  },
  {
   "cell_type": "markdown",
   "metadata": {},
   "source": [
    "**2.4)** Write some code to compute what $7^{7}$ equals."
   ]
  },
  {
   "cell_type": "code",
   "execution_count": null,
   "metadata": {},
   "outputs": [],
   "source": [
    "# The next line outputs 7 to the power of 7. "
   ]
  },
  {
   "cell_type": "markdown",
   "metadata": {},
   "source": [
    "<a name=\"3\"></a>\n",
    "## Question 3: Order of Operations\n",
    "\n",
    "Keep in mind that Python does have an order of operations, which is typical PEMDAS. First Parentheses`()`, then Multiplication`*` or Division`/`, and finally Addition`+` or Subtraction`-`. "
   ]
  },
  {
   "cell_type": "markdown",
   "metadata": {},
   "source": [
    "**3.1)** Write *two* lines of code below. \n",
    "1.   In the first line, print out: $335 + 2 \\times 6$\n",
    "2.   In the second line, print out: $(335 + 2) \\times 6$\n"
   ]
  },
  {
   "cell_type": "code",
   "execution_count": null,
   "metadata": {},
   "outputs": [],
   "source": [
    "# YOUR CODE HERE"
   ]
  },
  {
   "cell_type": "markdown",
   "metadata": {},
   "source": [
    "**3.2)** Why did the two lines return different values? \n",
    "\n",
    "Fill in your answer here: ______________ and check with a TA! "
   ]
  },
  {
   "cell_type": "markdown",
   "metadata": {},
   "source": [
    "**3.3)** Using just the number 8 (as many times as you want) and any operators, create a mathematical expression that gives you the number 100 in the code cell below."
   ]
  },
  {
   "cell_type": "code",
   "execution_count": null,
   "metadata": {},
   "outputs": [],
   "source": [
    "# YOUR CODE HERE"
   ]
  },
  {
   "cell_type": "markdown",
   "metadata": {},
   "source": [
    "<a name=\"4\"></a>\n",
    "## Question 4: Word Problems\n",
    "\n",
    "\n",
    "Let's try solving some word problems using python!"
   ]
  },
  {
   "cell_type": "markdown",
   "metadata": {},
   "source": [
    "**4.1)** If I work 40 hours a week, and I work Monday through Friday, how many hours do I work each day?"
   ]
  },
  {
   "cell_type": "code",
   "execution_count": null,
   "metadata": {},
   "outputs": [],
   "source": [
    "# YOUR CODE HERE"
   ]
  },
  {
   "cell_type": "markdown",
   "metadata": {},
   "source": [
    "**4.2)** How many minutes are there in two and a half days?"
   ]
  },
  {
   "cell_type": "code",
   "execution_count": null,
   "metadata": {},
   "outputs": [],
   "source": [
    "# YOUR CODE HERE"
   ]
  },
  {
   "cell_type": "markdown",
   "metadata": {},
   "source": [
    "**4.3)** Xavier noticed cherries growing on a tree. He counted 365 green cherries, 65 red cherries and 45 yellow cherries. Using ONLY code (no pen, paper, or calculator), print how many cherries he counted in total.\n",
    " "
   ]
  },
  {
   "cell_type": "code",
   "execution_count": null,
   "metadata": {},
   "outputs": [],
   "source": [
    "# YOUR CODE HERE"
   ]
  },
  {
   "cell_type": "markdown",
   "metadata": {},
   "source": [
    "**4.4)** The next day Xavier noticed that 37 cherries had fallen from the tree. Print how many cherries are left on the tree."
   ]
  },
  {
   "cell_type": "code",
   "execution_count": null,
   "metadata": {},
   "outputs": [],
   "source": [
    "# YOUR CODE HERE"
   ]
  },
  {
   "cell_type": "markdown",
   "metadata": {},
   "source": [
    "**4.5)** Xavier found a type of millipede that has a total of 354 legs beside a rock. When he looked under the rock, he saw 45 of these millipedes underneath. How many legs did Xavier see under the rock in total?"
   ]
  },
  {
   "cell_type": "code",
   "execution_count": null,
   "metadata": {},
   "outputs": [],
   "source": [
    "# YOUR CODE HERE"
   ]
  },
  {
   "cell_type": "markdown",
   "metadata": {},
   "source": [
    "**4.6)** Xavier bought 263 cases of soda to give to some clubs for their respective club parties and celebrations. He invited a total of 34 clubs to come and collect the cases of soda at his house. How many cases of soda would each club receive?"
   ]
  },
  {
   "cell_type": "code",
   "execution_count": null,
   "metadata": {},
   "outputs": [],
   "source": [
    "# YOUR CODE HERE"
   ]
  },
  {
   "cell_type": "markdown",
   "metadata": {},
   "source": [
    "**4.7)** Oh no, they didn't divide equally... Xavier was tired and decided that he'd rather not split up cases of soda for each club. Instead, he will give each club a whole number of soda cases. Write some code that will output how many whole cases will he give each club.\n",
    "\n",
    "_Hint: Try using `//` instead of `/`. When you use two slashes, you're using **whole number** (or integer) division._"
   ]
  },
  {
   "cell_type": "code",
   "execution_count": null,
   "metadata": {},
   "outputs": [],
   "source": [
    "# YOUR CODE HERE"
   ]
  },
  {
   "cell_type": "markdown",
   "metadata": {},
   "source": [
    "**4.8)** Xavier went and gave each club their whole number of cases, how many cases does he have left?"
   ]
  },
  {
   "cell_type": "code",
   "execution_count": null,
   "metadata": {},
   "outputs": [],
   "source": [
    "# YOUR CODE HERE"
   ]
  },
  {
   "cell_type": "markdown",
   "metadata": {
    "id": "LkIPuvo_nVIu"
   },
   "source": [
    "<a name=\"5\"></a>\n",
    "## Question 5: Variables\n",
    "\n",
    "A variable is like a house for a value. In python we give them a name, can assign them a value, and then can reference the variable later on.\n",
    "\n",
    "Let's try it out! Run the code block below."
   ]
  },
  {
   "cell_type": "code",
   "execution_count": null,
   "metadata": {},
   "outputs": [],
   "source": [
    "# This line **creates** a variable called big_number\n",
    "big_number = 230487\n",
    "\n",
    "# This line prints big_number, 230487\n",
    "print(big_number)\n",
    "\n",
    "# This line takes the value of big_number, multilpies it by 10, and prints out the answer\n",
    "print(big_number * 10)"
   ]
  },
  {
   "cell_type": "markdown",
   "metadata": {},
   "source": [
    "If we try to use a variable *before* it's defined, we will get an error. "
   ]
  },
  {
   "cell_type": "code",
   "execution_count": null,
   "metadata": {},
   "outputs": [],
   "source": [
    "# Python doesn't know what huge_number is!\n",
    "print(huge_number)"
   ]
  },
  {
   "cell_type": "markdown",
   "metadata": {},
   "source": [
    "Let's try again by defining our variable before printing it. "
   ]
  },
  {
   "cell_type": "code",
   "execution_count": null,
   "metadata": {},
   "outputs": [],
   "source": [
    "# python remembers big_number because we ran code defining it earlier\n",
    "huge_number = 100 * big_number\n",
    "\n",
    "print(huge_number)"
   ]
  },
  {
   "cell_type": "markdown",
   "metadata": {},
   "source": [
    "We can also change variables after defining them."
   ]
  },
  {
   "cell_type": "code",
   "execution_count": null,
   "metadata": {},
   "outputs": [],
   "source": [
    "# Now the number is even more huge !!!\n",
    "huge_number = huge_number * 9999\n",
    "\n",
    "print(huge_number)"
   ]
  },
  {
   "cell_type": "markdown",
   "metadata": {},
   "source": [
    "Now let's do some exercises with variables!"
   ]
  },
  {
   "cell_type": "markdown",
   "metadata": {
    "id": "L5UPycg-zjOt"
   },
   "source": [
    "**5.1)** Define a variable ```x``` that has a value of ```5```. "
   ]
  },
  {
   "cell_type": "code",
   "execution_count": null,
   "metadata": {
    "id": "M-7O5a-JzjOv"
   },
   "outputs": [],
   "source": [
    "# YOUR CODE HERE"
   ]
  },
  {
   "cell_type": "markdown",
   "metadata": {},
   "source": [
    "**5.2)** Define a variable `y` that has a value of `x`."
   ]
  },
  {
   "cell_type": "code",
   "execution_count": null,
   "metadata": {},
   "outputs": [],
   "source": [
    "# YOUR CODE HERE"
   ]
  },
  {
   "cell_type": "markdown",
   "metadata": {},
   "source": [
    "**5.3)** Use `print` to check the value of `y`."
   ]
  },
  {
   "cell_type": "code",
   "execution_count": null,
   "metadata": {},
   "outputs": [],
   "source": [
    "# YOUR CODE HERE"
   ]
  },
  {
   "cell_type": "markdown",
   "metadata": {},
   "source": [
    "**5.4)** Use `print` to check the value of `x` Change `x` to `4`. Use `print` to check the value of `x` now. "
   ]
  },
  {
   "cell_type": "code",
   "execution_count": null,
   "metadata": {},
   "outputs": [],
   "source": [
    "# YOUR CODE HERE"
   ]
  },
  {
   "cell_type": "markdown",
   "metadata": {},
   "source": [
    "**5.5)** Use `print` to check the value of `y`."
   ]
  },
  {
   "cell_type": "code",
   "execution_count": null,
   "metadata": {},
   "outputs": [],
   "source": [
    "# YOUR CODE HERE"
   ]
  },
  {
   "cell_type": "markdown",
   "metadata": {},
   "source": [
    "Did `y` change? Why or why not? \n",
    "\n",
    "Fill in your answer here: ______________"
   ]
  },
  {
   "cell_type": "markdown",
   "metadata": {},
   "source": [
    "**5.6)** Define a variable `z`, that has a value of the sum of `x` and `y`"
   ]
  },
  {
   "cell_type": "code",
   "execution_count": null,
   "metadata": {},
   "outputs": [],
   "source": [
    "# YOUR CODE HERE"
   ]
  },
  {
   "cell_type": "markdown",
   "metadata": {},
   "source": [
    "**5.7)** Assign `x` another value, 12. What are the values of `y` and `z`?"
   ]
  },
  {
   "cell_type": "code",
   "execution_count": null,
   "metadata": {},
   "outputs": [],
   "source": [
    "# YOUR CODE HERE"
   ]
  },
  {
   "cell_type": "markdown",
   "metadata": {},
   "source": [
    "**5.8)** Xavier was messing with variables and something mysterious happened...\n",
    "\n",
    "Run the code below. "
   ]
  },
  {
   "cell_type": "code",
   "execution_count": null,
   "metadata": {},
   "outputs": [],
   "source": [
    "mystery_var = 16\n",
    "print(\"mystery_var\")"
   ]
  },
  {
   "cell_type": "markdown",
   "metadata": {},
   "source": [
    "We printed `mystery_var`, why didn't it show 16?? \n",
    "\n",
    "Fill in your answer here: ______________ and check with a TA! "
   ]
  },
  {
   "cell_type": "markdown",
   "metadata": {},
   "source": [
    "**5.9)** Can you write a version that properly prints out `mystery_var`?"
   ]
  },
  {
   "cell_type": "code",
   "execution_count": null,
   "metadata": {},
   "outputs": [],
   "source": [
    "# YOUR CODE HERE "
   ]
  },
  {
   "cell_type": "markdown",
   "metadata": {},
   "source": [
    "**5.10)** Variables can hold *anything*! Can you define a variable that holds your name and then print it out?"
   ]
  },
  {
   "cell_type": "code",
   "execution_count": null,
   "metadata": {},
   "outputs": [],
   "source": [
    "# YOUR CODE HERE "
   ]
  },
  {
   "cell_type": "markdown",
   "metadata": {},
   "source": [
    "<a name=\"6\"></a>\n",
    "## Question 6: Shorthand Operators"
   ]
  },
  {
   "cell_type": "markdown",
   "metadata": {},
   "source": [
    "Here's one way to calculate $(10 * 10 + 20) / 5$ step by step"
   ]
  },
  {
   "cell_type": "code",
   "execution_count": null,
   "metadata": {},
   "outputs": [],
   "source": [
    "# Let's start with 10\n",
    "answer = 10\n",
    "\n",
    "# Multiply that by another 10\n",
    "answer = answer * 10\n",
    "\n",
    "# Add 20 to it\n",
    "answer = answer + 20\n",
    "\n",
    "# Then divide it all by 5\n",
    "answer = answer / 5\n",
    "\n",
    "print(answer)"
   ]
  },
  {
   "cell_type": "markdown",
   "metadata": {},
   "source": [
    "Notice how we keep doing `answer = answer * ...` ?\n",
    "\n",
    "Instead, we can save some time, and python lets us do `answer *= ...`, `answer += ...`, and `answer /= ...` !\n",
    "\n",
    "These are called *shorthand* operators because when we type `answer *= x` we're telling the computer to actually do `answer = answer * x `\n",
    "\n",
    "Like:"
   ]
  },
  {
   "cell_type": "code",
   "execution_count": null,
   "metadata": {},
   "outputs": [],
   "source": [
    "# Let's start with 10\n",
    "answer = 10\n",
    "\n",
    "# Multiply the answer by another 10\n",
    "# answer = answer * 10\n",
    "answer *= 10\n",
    "\n",
    "# Add 20 to the answer\n",
    "# answer = answer + 20\n",
    "answer += 20\n",
    "\n",
    "# Then divide the answer by 5\n",
    "# answer = answer / 5\n",
    "answer /= 5\n",
    "\n",
    "# And we get the same answer!\n",
    "print(answer)"
   ]
  },
  {
   "cell_type": "markdown",
   "metadata": {},
   "source": [
    "**6.1)** Start by assigning a variable to 6. Then, use shorthand operators to add 30 to it. Next, multiply it by 7. Finally, divide it by 5. Print the final answer."
   ]
  },
  {
   "cell_type": "code",
   "execution_count": null,
   "metadata": {},
   "outputs": [],
   "source": [
    "# YOUR CODE HERE"
   ]
  },
  {
   "cell_type": "markdown",
   "metadata": {},
   "source": [
    "**6.2)** Start by assigning a variable to 300. Then, use shorthand operators to divide it by 10. Next, add 250 to it. Finally, multiply it by 8. Print the final answer."
   ]
  },
  {
   "cell_type": "code",
   "execution_count": null,
   "metadata": {},
   "outputs": [],
   "source": [
    "# YOUR CODE HERE"
   ]
  },
  {
   "cell_type": "markdown",
   "metadata": {},
   "source": [
    "**6.3)** Start by assigning a variable to 12. Then, use shorthand operators to multiply it by 3 Next, divide it by 4. Finally, subtract 12 from it. Print the final answer."
   ]
  },
  {
   "cell_type": "code",
   "execution_count": null,
   "metadata": {},
   "outputs": [],
   "source": [
    "# YOUR CODE HERE"
   ]
  },
  {
   "cell_type": "markdown",
   "metadata": {},
   "source": [
    "<a name=\"7\"></a>\n",
    "## Question 7: Math Magic Trick\n",
    "\n",
    "Now, I want to show you a little trick :)"
   ]
  },
  {
   "cell_type": "markdown",
   "metadata": {},
   "source": [
    "**7.1)** Define a variable ```k``` and set it equal to your favorite whole number"
   ]
  },
  {
   "cell_type": "code",
   "execution_count": null,
   "metadata": {},
   "outputs": [],
   "source": [
    "# YOUR CODE HERE"
   ]
  },
  {
   "cell_type": "markdown",
   "metadata": {},
   "source": [
    "**7.2)** Now multiply `k` by 26 using the `*=` operator"
   ]
  },
  {
   "cell_type": "code",
   "execution_count": null,
   "metadata": {},
   "outputs": [],
   "source": [
    "# YOUR CODE HERE"
   ]
  },
  {
   "cell_type": "markdown",
   "metadata": {},
   "source": [
    "**7.3)** Now multiply `k` by 585 "
   ]
  },
  {
   "cell_type": "code",
   "execution_count": null,
   "metadata": {},
   "outputs": [],
   "source": [
    "# YOUR CODE HERE"
   ]
  },
  {
   "cell_type": "markdown",
   "metadata": {},
   "source": [
    "**7.4)** Now divide your current `k` by 3 using the `/=` operator"
   ]
  },
  {
   "cell_type": "code",
   "execution_count": null,
   "metadata": {},
   "outputs": [],
   "source": [
    "# YOUR CODE HERE"
   ]
  },
  {
   "cell_type": "markdown",
   "metadata": {},
   "source": [
    "**7.5)** Subtract 7 from `k` using the `-=` operator"
   ]
  },
  {
   "cell_type": "code",
   "execution_count": null,
   "metadata": {},
   "outputs": [],
   "source": [
    "# YOUR CODE HERE"
   ]
  },
  {
   "cell_type": "markdown",
   "metadata": {},
   "source": [
    "**7.6)** Calculate the remainder of your number after dividing by 10 using the `%=` operator"
   ]
  },
  {
   "cell_type": "code",
   "execution_count": null,
   "metadata": {},
   "outputs": [],
   "source": [
    "# YOUR CODE HERE"
   ]
  },
  {
   "cell_type": "markdown",
   "metadata": {},
   "source": [
    "**7.7)** Now let me guess..... does your answer equal `3`? Print the value of `k` to check. \n",
    "\n",
    "(*You may have to re-run run cells **7.1-7.6** each once for this to work*)"
   ]
  },
  {
   "cell_type": "code",
   "execution_count": null,
   "metadata": {},
   "outputs": [
    {
     "name": "stdout",
     "output_type": "stream",
     "text": [
      "3.0\n"
     ]
    }
   ],
   "source": [
    "# YOUR CODE HERE"
   ]
  },
  {
   "cell_type": "markdown",
   "metadata": {},
   "source": [
    "Tada! Guessed your number ✨"
   ]
  },
  {
   "cell_type": "markdown",
   "metadata": {
    "id": "D97nhNalox2a"
   },
   "source": [
    "<a name=\"8\"></a>\n",
    "## Question 8: Tricky Variable Names"
   ]
  },
  {
   "cell_type": "markdown",
   "metadata": {
    "id": "4vXg0hlQpiPV"
   },
   "source": [
    "We have been writing code and getting the answers from the computer. Now, let's test to see if you can read a problem and determine the solution without checking with the computer. \n",
    "\n",
    "Suppose you are reading the following code:\n",
    "```python\n",
    "seven = 11\n",
    "alex = 'C0der'\n",
    "Alex = 'Jam'\n",
    "four = 4\n",
    "ten = 16\n",
    "```\n",
    "*Without running this code, answer the following in words in a comment*\n"
   ]
  },
  {
   "cell_type": "markdown",
   "metadata": {
    "id": "JYQFw6qfzjPo"
   },
   "source": [
    "**8.1)** What is the value of the variable ```seven```? \n",
    "\n",
    "Fill in your answer here: ______"
   ]
  },
  {
   "cell_type": "markdown",
   "metadata": {
    "id": "8xPoCXr0qWuA"
   },
   "source": [
    "**8.2)** What is the value of the variable `ten` minus the variable `four`?\n",
    "\n",
    "Fill in your answer here: ______"
   ]
  },
  {
   "cell_type": "markdown",
   "metadata": {
    "id": "2wrLWnT0qm4h"
   },
   "source": [
    "**8.3)** What would be output if I ran `print(Alex)`? \n",
    "\n",
    "Fill in your answer here: ______"
   ]
  },
  {
   "cell_type": "markdown",
   "metadata": {},
   "source": [
    "**8.4)** What would be output if I ran `print(alex)`? \n",
    "\n",
    "Fill in your answer here: ______"
   ]
  },
  {
   "cell_type": "markdown",
   "metadata": {},
   "source": [
    "**8.5)** What would be output if I ran `print(\"alex\")`? \n",
    "\n",
    "Fill in your answer here: ______"
   ]
  },
  {
   "cell_type": "markdown",
   "metadata": {},
   "source": [
    "Now that you've filled out the questions above, check your answers with a TA. "
   ]
  },
  {
   "cell_type": "markdown",
   "metadata": {
    "id": "mIa3RDvWyRCB"
   },
   "source": [
    "<a name=\"9\"></a>\n",
    "## Question 9: Putting It All Together"
   ]
  },
  {
   "cell_type": "markdown",
   "metadata": {},
   "source": [
    "**9.1)** Predict what this code will print out:\n",
    "\n",
    "```python\n",
    "a = 3\n",
    "b = 4\n",
    "print(12)\n",
    "print(a, b)\n",
    "a = b \n",
    "b *= 2\n",
    "print(a)\n",
    "print(b)\n",
    "```"
   ]
  },
  {
   "cell_type": "markdown",
   "metadata": {},
   "source": [
    "Fill in your answer here: __________"
   ]
  },
  {
   "cell_type": "markdown",
   "metadata": {
    "id": "EM0WvnIjzjR9"
   },
   "source": [
    "**9.2)** Look at the following code\n",
    "```python\n",
    "x = 99\n",
    "x /= 10\n",
    "x *= 50\n",
    "y = x\n",
    "y += 5\n",
    "x -= y\n",
    "y %= x\n",
    "\n",
    "```\n",
    "What is ```x``` and ```y```?  Try to do it in your head (or on paper) first before trying it with code."
   ]
  },
  {
   "cell_type": "code",
   "execution_count": 1,
   "metadata": {
    "id": "SbDb49yRzjSC"
   },
   "outputs": [],
   "source": [
    "# YOUR CODE HERE"
   ]
  },
  {
   "cell_type": "markdown",
   "metadata": {},
   "source": [
    "Check your answers to the questions above with a TA when you're done. "
   ]
  },
  {
   "cell_type": "markdown",
   "metadata": {},
   "source": [
    "## Congrats!\n",
    "\n",
    "Congratulations on getting through your first JamCoders lab!\n",
    "\n",
    "We are all looking forward to getting to know everyone throughout the month. Thank you so much for being here in this program!"
   ]
  }
 ],
 "metadata": {
  "colab": {
   "collapsed_sections": [
    "jszSYNBwH_-z",
    "ELiVccY1GWLF",
    "a9w_eu6_R5Jq",
    "NRJxdBaeUbv5",
    "XQvXHNF5Vr3F",
    "5sY-T1oNWpIK",
    "M1yAazzQZhFX",
    "LkIPuvo_nVIu",
    "D97nhNalox2a",
    "CMihB4RLrysj",
    "mIa3RDvWyRCB"
   ],
   "name": "jamcoders_probs1a.ipynb",
   "provenance": []
  },
  "kernelspec": {
   "display_name": "base",
   "language": "python",
   "name": "python3"
  },
  "language_info": {
   "codemirror_mode": {
    "name": "ipython",
    "version": 3
   },
   "file_extension": ".py",
   "mimetype": "text/x-python",
   "name": "python",
   "nbconvert_exporter": "python",
   "pygments_lexer": "ipython3",
   "version": "3.12.9"
  }
 },
 "nbformat": 4,
 "nbformat_minor": 4
}
