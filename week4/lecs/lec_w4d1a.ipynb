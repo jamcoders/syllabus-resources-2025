{
 "cells": [
  {
   "cell_type": "code",
   "execution_count": null,
   "id": "89a2d55d",
   "metadata": {
    "slideshow": {
     "slide_type": "skip"
    }
   },
   "outputs": [],
   "source": [
    "%config InteractiveShell.ast_node_interactivity = \"none\""
   ]
  },
  {
   "cell_type": "code",
   "execution_count": null,
   "id": "c000f544",
   "metadata": {
    "slideshow": {
     "slide_type": "slide"
    }
   },
   "outputs": [],
   "source": [
    "print(\"Good morning!\")"
   ]
  },
  {
   "cell_type": "code",
   "execution_count": null,
   "id": "cfceb474",
   "metadata": {
    "slideshow": {
     "slide_type": "fragment"
    }
   },
   "outputs": [],
   "source": [
    "name = \"Orr\"\n",
    "week_num = 4\n",
    "topic = \"Algorithms and language\""
   ]
  },
  {
   "cell_type": "code",
   "execution_count": null,
   "id": "12015cc0",
   "metadata": {
    "slideshow": {
     "slide_type": "fragment"
    }
   },
   "outputs": [],
   "source": [
    "print(\"My name is \" + name)"
   ]
  },
  {
   "cell_type": "code",
   "execution_count": null,
   "id": "8a46a7fe",
   "metadata": {
    "slideshow": {
     "slide_type": "fragment"
    }
   },
   "outputs": [],
   "source": [
    "# Fix this code!\n",
    "print(\"I'm excited to join you for week \" + week_num + \" of JamCoders!\")"
   ]
  },
  {
   "cell_type": "code",
   "execution_count": null,
   "id": "eabb1bd6",
   "metadata": {
    "slideshow": {
     "slide_type": "fragment"
    }
   },
   "outputs": [],
   "source": [
    "print(\"This week's topic: \")\n",
    "print(topic)"
   ]
  },
  {
   "cell_type": "markdown",
   "id": "c296e47e",
   "metadata": {
    "slideshow": {
     "slide_type": "subslide"
    }
   },
   "source": [
    "## By the end of this week, you will:\n",
    "\n",
    "- Revisit your coding fundamentals (`for` loops, `str`s, functions, and more)\n",
    "- Learn about randomness and probability 🎲  \n",
    "- Build your own language model 💬"
   ]
  },
  {
   "cell_type": "markdown",
   "id": "82c79ade",
   "metadata": {
    "slideshow": {
     "slide_type": "slide"
    }
   },
   "source": [
    "# Language algorithms are all around us"
   ]
  },
  {
   "cell_type": "markdown",
   "id": "55720be7",
   "metadata": {
    "slideshow": {
     "slide_type": "fragment"
    }
   },
   "source": [
    "## What is language?\n",
    "\n",
    "- A system of communication using sounds, symbols, or gestures with shared meaning\n",
    "- \"Language is what makes us human\"\n",
    "  - Do you agree?"
   ]
  },
  {
   "cell_type": "markdown",
   "id": "e78b0282",
   "metadata": {
    "slideshow": {
     "slide_type": "subslide"
    }
   },
   "source": [
    "## What is an algorithm?\n",
    "- A step-by-step procedure for solving a problem\n",
    "- Designed to work with different inputs\n",
    "- Works on different computers"
   ]
  },
  {
   "cell_type": "markdown",
   "id": "dcf49702",
   "metadata": {
    "slideshow": {
     "slide_type": "slide"
    }
   },
   "source": [
    "## Language Takes Many Forms\n",
    "- Written, spoken, signed 📝🗣️🤟\n",
    "- Uses most of our senses\n",
    "- Has \"squishy\" aspects (inflection, tone)\n",
    "- Has ambiguities (\"Yeah right...\")"
   ]
  },
  {
   "cell_type": "markdown",
   "id": "4f195e67",
   "metadata": {
    "slideshow": {
     "slide_type": "fragment"
    }
   },
   "source": [
    "However, Computers are **digital** - process only precise logic"
   ]
  },
  {
   "cell_type": "markdown",
   "id": "4dae28e2",
   "metadata": {
    "slideshow": {
     "slide_type": "subslide"
    }
   },
   "source": [
    "## Language + Code in Our Daily Lives\n",
    "\n",
    "- Text messages 📱\n",
    "- Social media feeds 👀\n",
    "- Autocorrect while typing ⌨️"
   ]
  },
  {
   "cell_type": "markdown",
   "id": "a90f3b72",
   "metadata": {
    "slideshow": {
     "slide_type": "subslide"
    }
   },
   "source": [
    "## Why study language algorithms?\n",
    "\n",
    "- Language is **essential** to human experience\n",
    "- Computers can help us **connect** through language\n",
    "- Understanding language algorithms = understanding how tech works with our words\n",
    "  - And when it _doesn't work_, understand why..."
   ]
  },
  {
   "cell_type": "markdown",
   "id": "7d0c3fb7",
   "metadata": {
    "slideshow": {
     "slide_type": "fragment"
    }
   },
   "source": [
    "**What language algorithms can you think of?**"
   ]
  },
  {
   "cell_type": "markdown",
   "id": "c00cb6da",
   "metadata": {
    "slideshow": {
     "slide_type": "skip"
    }
   },
   "source": [
    "## Our focus: Text Processing\n",
    "- Translation (connect people across languages)\n",
    "- Search engines (find information)\n",
    "- Build Wikipedia (knowledge repositories)\n",
    "- ChatGPT and other AI assistants"
   ]
  },
  {
   "cell_type": "markdown",
   "id": "84636850",
   "metadata": {
    "slideshow": {
     "slide_type": "skip"
    }
   },
   "source": [
    "## Data types\n",
    "- **Q:** What data types have we seen?"
   ]
  },
  {
   "cell_type": "markdown",
   "id": "c55cf50c",
   "metadata": {
    "slideshow": {
     "slide_type": "skip"
    }
   },
   "source": [
    "- **A:** `int`, `bool`, `str`, `list`, `dict`"
   ]
  },
  {
   "cell_type": "markdown",
   "id": "d482af55",
   "metadata": {
    "slideshow": {
     "slide_type": "skip"
    }
   },
   "source": [
    "- **Q:** Which is similar to text?"
   ]
  },
  {
   "cell_type": "markdown",
   "id": "04aa347e",
   "metadata": {
    "slideshow": {
     "slide_type": "skip"
    }
   },
   "source": [
    "- **A:** `str` (string)"
   ]
  },
  {
   "cell_type": "markdown",
   "id": "159cc110",
   "metadata": {
    "slideshow": {
     "slide_type": "skip"
    }
   },
   "source": [
    "But strings alone aren't enough! We need:\n",
    "- **Algorithms** to process strings\n",
    "- All data types working together 🤝"
   ]
  },
  {
   "cell_type": "markdown",
   "id": "287dd7d3",
   "metadata": {
    "slideshow": {
     "slide_type": "slide"
    }
   },
   "source": [
    "# Does it matter which text we use?"
   ]
  },
  {
   "cell_type": "markdown",
   "id": "4a7d560e",
   "metadata": {
    "slideshow": {
     "slide_type": "fragment"
    }
   },
   "source": [
    "## Algorithms are **generic**\n",
    "- Should work for any input they're given\n",
    "- Like a recipe for cake: should taste good in any kitchen 🍰\n",
    "- Ideally, language algorithms should handle *any* language, *any* content"
   ]
  },
  {
   "cell_type": "markdown",
   "id": "e6a5cff8",
   "metadata": {
    "slideshow": {
     "slide_type": "subslide"
    }
   },
   "source": [
    "## But language exists in _context_\n",
    "- Autocorrect: Usually alright, but might \"fix\" your name...\n",
    "- Personalized suggestions should remain personal"
   ]
  },
  {
   "cell_type": "markdown",
   "id": "0289ba5c",
   "metadata": {
    "slideshow": {
     "slide_type": "fragment"
    }
   },
   "source": [
    "- \"I'm dying 😂\" on a funny TikTok ≠ medical emergency"
   ]
  },
  {
   "cell_type": "markdown",
   "id": "620d08e4",
   "metadata": {
    "slideshow": {
     "slide_type": "subslide"
    }
   },
   "source": [
    "## ⚠️ Always consider:\n",
    "**Should I even use this algorithm?**\n",
    "\n",
    "- What was the algorithm designed for?\n",
    "- What are the consequences if it fails?\n",
    "  - Annoying typo fix vs. important email marked as spam\n",
    "- Who \"owns\" the text I'm using?\n",
    "- What biases exist in the text? Will they be amplified?"
   ]
  },
  {
   "cell_type": "markdown",
   "id": "ddf2f23e",
   "metadata": {
    "slideshow": {
     "slide_type": "slide"
    }
   },
   "source": [
    "## Our First Language Algorithm"
   ]
  },
  {
   "cell_type": "code",
   "execution_count": null,
   "id": "6d2becf4",
   "metadata": {
    "slideshow": {
     "slide_type": "fragment"
    }
   },
   "outputs": [],
   "source": [
    "boring_text = \"I'm not saying much. But I'm still a text.\"\n",
    "interesting_text = \"I'm way more interesting!\""
   ]
  },
  {
   "cell_type": "code",
   "execution_count": null,
   "id": "00d05a9b",
   "metadata": {
    "slideshow": {
     "slide_type": "skip"
    }
   },
   "outputs": [],
   "source": [
    "def count_words(text):\n",
    "    num_words = 1\n",
    "    for character in text:\n",
    "        if #TODO: add condition here\n",
    "            num_words += 1\n",
    "    return num_words"
   ]
  },
  {
   "cell_type": "code",
   "execution_count": null,
   "id": "0f2d6468",
   "metadata": {
    "slideshow": {
     "slide_type": "fragment"
    }
   },
   "outputs": [],
   "source": [
    "# Solution\n",
    "def count_words(text):\n",
    "    counter = 0\n",
    "    for character in text:\n",
    "        if character == \" \":\n",
    "            counter += 1\n",
    "    return counter + 1"
   ]
  },
  {
   "cell_type": "code",
   "execution_count": null,
   "id": "ea9e2fc8",
   "metadata": {
    "slideshow": {
     "slide_type": "fragment"
    }
   },
   "outputs": [],
   "source": [
    "# But is this code generic?"
   ]
  },
  {
   "cell_type": "code",
   "execution_count": null,
   "id": "5689e325",
   "metadata": {
    "slideshow": {
     "slide_type": "fragment"
    }
   },
   "outputs": [],
   "source": [
    "# tricky_text = \"Good morning JamCoders---welcome to week 4.\"\n",
    "tricky_text = \"\"\n",
    "print(count_words(tricky_text))\n",
    "# Bonus: How would you fix it? 🛠️"
   ]
  },
  {
   "cell_type": "markdown",
   "id": "af922b09",
   "metadata": {
    "slideshow": {
     "slide_type": "subslide"
    }
   },
   "source": [
    "### Edge cases in language\n",
    "- Words can be separated by \" \" (space), or \"---\" (dashes)\n",
    "- Different languages = different rules"
   ]
  },
  {
   "cell_type": "markdown",
   "id": "45365e79",
   "metadata": {
    "slideshow": {
     "slide_type": "fragment"
    }
   },
   "source": [
    "***Our approach in class***\n",
    "\n",
    "✅ Focus on core algorithms  \n",
    "✅ Handle important cases  \n",
    "😩 Skip endless edge cases  \n",
    "🐛🙅 But always: Found a bug? Speak up!"
   ]
  },
  {
   "cell_type": "markdown",
   "id": "2dd27b1e",
   "metadata": {
    "slideshow": {
     "slide_type": "slide"
    }
   },
   "source": [
    "# Good news!\n",
    "You have superpowers 🦸‍♀️"
   ]
  },
  {
   "cell_type": "markdown",
   "id": "337957a8",
   "metadata": {
    "slideshow": {
     "slide_type": "fragment"
    }
   },
   "source": [
    "You can...\n",
    "- Read \"thx\" → understand \"thanks\"\n",
    "- See \"Where are you?\" → detect \"You're late!\"\n",
    "- Get jokes, sarcasm, context\n",
    "- Handle typos, accents, dialects"
   ]
  },
  {
   "cell_type": "markdown",
   "id": "fc656e4d",
   "metadata": {
    "slideshow": {
     "slide_type": "subslide"
    }
   },
   "source": [
    "## Computers Have Superpowers Too\n",
    "- Perfect memory 💾\n",
    "- Incredible speed ⚡\n",
    "- Never sleep during class 🤖"
   ]
  },
  {
   "cell_type": "markdown",
   "id": "f97bf889",
   "metadata": {
    "slideshow": {
     "slide_type": "subslide"
    }
   },
   "source": [
    "## The Challenge\n",
    "**Humans**: Robust understanding (handle imperfection)  \n",
    "**Computers**: Literal interpretation (need exactness)"
   ]
  },
  {
   "cell_type": "markdown",
   "id": "be9d756e",
   "metadata": {
    "slideshow": {
     "slide_type": "slide"
    }
   },
   "source": [
    "## How Do We Access Text Data?\n",
    "\n",
    "In Python, we often need functionality that isn't built into the language by default. That's where **`import` statements** come in! They let us use code that other people have written."
   ]
  },
  {
   "cell_type": "code",
   "execution_count": null,
   "id": "2d1215db",
   "metadata": {
    "slideshow": {
     "slide_type": "fragment"
    }
   },
   "outputs": [],
   "source": [
    "from random import randint  # For generating random numbers 🎲"
   ]
  },
  {
   "cell_type": "code",
   "execution_count": null,
   "id": "jluefcjcq",
   "metadata": {
    "slideshow": {
     "slide_type": "fragment"
    }
   },
   "outputs": [],
   "source": [
    "from pprint import pprint # For printing things in a pretty way 💅\n",
    "\n",
    "list_of_texts = [\"We love import\", \"It lets us build on the work of others\", \"and focus on the task at hand!\"]\n",
    "pprint(list_of_texts)"
   ]
  },
  {
   "cell_type": "markdown",
   "id": "9uyzaf3y66v",
   "metadata": {
    "slideshow": {
     "slide_type": "subslide"
    }
   },
   "source": [
    "## Fantastic Packages and Where To Find Them 🐲\n",
    "1. Search online\n",
    "2. Read documentation\n",
    "3. Learn from others (Stack Overflow, YouTube, friends, teachers)"
   ]
  },
  {
   "cell_type": "markdown",
   "id": "e6960857",
   "metadata": {
    "slideshow": {
     "slide_type": "subslide"
    }
   },
   "source": [
    "### Rule of thumb. Good packages have:\n",
    "\n",
    "👍 Clear documentation\n",
    "\n",
    "👍 Examples you can execute\n",
    "\n",
    "👍 Active developer communities"
   ]
  },
  {
   "cell_type": "markdown",
   "id": "pfzffckxlb",
   "metadata": {
    "slideshow": {
     "slide_type": "slide"
    }
   },
   "source": [
    "## Working with Text Datasets\n",
    "\n",
    "Let's load some text datasets to explore. We'll start with a book:"
   ]
  },
  {
   "cell_type": "code",
   "execution_count": null,
   "id": "53eb57c1",
   "metadata": {
    "slideshow": {
     "slide_type": "fragment"
    }
   },
   "outputs": [],
   "source": [
    "# Import sentences from a classic book\n",
    "from jamcoders.datasets import moby"
   ]
  },
  {
   "cell_type": "code",
   "execution_count": null,
   "id": "1vfzzws8ivjh",
   "metadata": {
    "slideshow": {
     "slide_type": "fragment"
    }
   },
   "outputs": [],
   "source": [
    "for i in range(4):\n",
    "    print(moby[i])"
   ]
  },
  {
   "cell_type": "markdown",
   "id": "u064dl1fl7l",
   "metadata": {
    "slideshow": {
     "slide_type": "subslide"
    }
   },
   "source": [
    "## Ruth-Ann's dataset\n",
    "\n",
    "This dataset was created by Jamaican researcher **Ruth-Ann Armstrong**, together with John Hewitt and Chris Manning."
   ]
  },
  {
   "cell_type": "code",
   "execution_count": null,
   "id": "7dde2fc5",
   "metadata": {
    "slideshow": {
     "slide_type": "fragment"
    }
   },
   "outputs": [],
   "source": [
    "# Import Jamaican Patois sentences\n",
    "from jamcoders.datasets import patois"
   ]
  },
  {
   "cell_type": "code",
   "execution_count": null,
   "id": "oiv3ojyh11b",
   "metadata": {
    "slideshow": {
     "slide_type": "fragment"
    }
   },
   "outputs": [],
   "source": [
    "print(len(patois))\n",
    "print(patois[3])\n",
    "print(patois[11])"
   ]
  },
  {
   "cell_type": "markdown",
   "id": "ca4008d7",
   "metadata": {
    "slideshow": {
     "slide_type": "fragment"
    }
   },
   "source": [
    "How is this text different from the book?"
   ]
  },
  {
   "cell_type": "markdown",
   "id": "c200eb30",
   "metadata": {
    "slideshow": {
     "slide_type": "slide"
    }
   },
   "source": [
    "## Now in lab: Dictionaries 📚\n",
    "## This Afternoon: Mystery activity 🍬🎲🍬\n",
    "\n",
    "See you later!"
   ]
  }
 ],
 "metadata": {
  "celltoolbar": "Slideshow",
  "kernelspec": {
   "display_name": "Python 3 (ipykernel)",
   "language": "python",
   "name": "python3"
  },
  "language_info": {
   "codemirror_mode": {
    "name": "ipython",
    "version": 3
   },
   "file_extension": ".py",
   "mimetype": "text/x-python",
   "name": "python",
   "nbconvert_exporter": "python",
   "pygments_lexer": "ipython3",
   "version": "3.12.10"
  }
 },
 "nbformat": 4,
 "nbformat_minor": 5
}
