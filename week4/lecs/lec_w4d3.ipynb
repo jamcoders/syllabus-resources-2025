{
 "cells": [
  {
   "cell_type": "code",
   "execution_count": null,
   "id": "e6a2d827",
   "metadata": {
    "slideshow": {
     "slide_type": "skip"
    }
   },
   "outputs": [],
   "source": [
    "# Skip this cell\n",
    "%config InteractiveShell.ast_node_interactivity = \"none\"\n",
    "from jamcoders.datasets import shake_words\n",
    "# Count unigrams and bigrams\n",
    "u_counts = {}\n",
    "b_counts = {}\n",
    "\n",
    "for sent in shake_words:\n",
    "    for i in range(len(sent) - 1):\n",
    "        context = sent[i]\n",
    "        next_word = sent[i + 1]\n",
    "        if sent[i] not in u_counts:\n",
    "            u_counts[context] = 0\n",
    "            b_counts[context] = {}\n",
    "        u_counts[context] += 1\n",
    "        if next_word not in b_counts[context]:\n",
    "            b_counts[context][next_word] = 0\n",
    "        b_counts[context][next_word] += 1\n",
    "        \n",
    "# Normalize (convert) bigrams into probabilities\n",
    "bigram_model = {}\n",
    "for context in b_counts:\n",
    "    bigram_model[context] = {}\n",
    "    for next_word in b_counts[context]:\n",
    "        count = b_counts[context][next_word]\n",
    "        bigram_model[context][next_word] = count / u_counts[context]"
   ]
  },
  {
   "cell_type": "markdown",
   "id": "80f1811a",
   "metadata": {
    "slideshow": {
     "slide_type": "slide"
    }
   },
   "source": [
    "# How to solve (almost) any coding problem"
   ]
  },
  {
   "cell_type": "markdown",
   "id": "08319bc8",
   "metadata": {
    "slideshow": {
     "slide_type": "fragment"
    }
   },
   "source": [
    "Yesterday, I mentioned my approach to solving open coding problems.\n",
    "\n",
    "It had 5-steps. Do you remember them?"
   ]
  },
  {
   "cell_type": "markdown",
   "id": "ecdc6782",
   "metadata": {
    "slideshow": {
     "slide_type": "subslide"
    }
   },
   "source": [
    "1. **Read** the question\n",
    "2. Work through **examples** and identify patterns\n",
    "3. Write down **pseudocode**\n",
    "4. Translate pseudocode into **Python**\n",
    "5. **Trace** the examples (step 2) through your code"
   ]
  },
  {
   "cell_type": "markdown",
   "id": "be400244",
   "metadata": {
    "slideshow": {
     "slide_type": "fragment"
    }
   },
   "source": [
    "Today, we will work through a few coding problems using this approach."
   ]
  },
  {
   "cell_type": "markdown",
   "id": "f2a62a39",
   "metadata": {
    "slideshow": {
     "slide_type": "slide"
    }
   },
   "source": [
    "### A Question\n",
    "Write a function `is_strictly_decreasing` which takes a list of integers `lst` and returns `True` if the list is sorted in strictly decreasing order (each number is less than the number before it), `False` otherwise.\n",
    "\n",
    "Examples:\n",
    "- `[1,2,3] --> False`\n",
    "- `[1, 1, 1] --> False`\n",
    "- `[2, 1, 0] --> True`"
   ]
  },
  {
   "cell_type": "code",
   "execution_count": null,
   "id": "f01a0c10",
   "metadata": {
    "slideshow": {
     "slide_type": "fragment"
    }
   },
   "outputs": [],
   "source": [
    "# Student solution (nice job!)\n",
    "def is_strictly_decreasing(lst):\n",
    "    for i in range(len(lst) - 1):\n",
    "        if lst[i] > lst[i + 1]:\n",
    "            continue\n",
    "        else:\n",
    "            return False\n",
    "    return True"
   ]
  },
  {
   "cell_type": "markdown",
   "id": "f9cc12ab",
   "metadata": {
    "slideshow": {
     "slide_type": "skip"
    }
   },
   "source": [
    "### Another Question\n",
    "Write a function `is_alternating` which takes a list of integers `lst` and returns `True` if the list alternates between increasing and decreasing (each element is either greater than or less than the previous element, with the pattern switching).\n",
    "\n",
    "Examples:\n",
    "- `[1,2,3] --> False`\n",
    "- `[1, 1, 1] --> False`\n",
    "- `[2, 1, 3] --> True`"
   ]
  },
  {
   "cell_type": "code",
   "execution_count": null,
   "id": "746516f9",
   "metadata": {
    "slideshow": {
     "slide_type": "skip"
    }
   },
   "outputs": [],
   "source": [
    "# Skipped in lecture\n",
    "def is_alternating(lst):"
   ]
  },
  {
   "cell_type": "markdown",
   "id": "3b61247b",
   "metadata": {
    "slideshow": {
     "slide_type": "slide"
    }
   },
   "source": [
    "# Back to bigrams ✌️"
   ]
  },
  {
   "cell_type": "markdown",
   "id": "7977c43c",
   "metadata": {
    "slideshow": {
     "slide_type": "fragment"
    }
   },
   "source": [
    "Wait, what's a bigram model again?\n",
    "> A bigram model predicts the next word _based on the previous word_"
   ]
  },
  {
   "cell_type": "markdown",
   "id": "77ab7a45",
   "metadata": {
    "slideshow": {
     "slide_type": "fragment"
    }
   },
   "source": [
    "Remember our bigram model?\n",
    "\n",
    "`# bigram_model is loaded from yesterday`"
   ]
  },
  {
   "cell_type": "markdown",
   "id": "ceec5206",
   "metadata": {
    "slideshow": {
     "slide_type": "fragment"
    }
   },
   "source": [
    "Me neither! Let's investigate to find its data type and how to use it 🔎"
   ]
  },
  {
   "cell_type": "code",
   "execution_count": null,
   "id": "4b41e43b",
   "metadata": {
    "slideshow": {
     "slide_type": "subslide"
    }
   },
   "outputs": [],
   "source": [
    "# What functions can we call on bigram_model to \"understand\" it?\n",
    "print(type(bigram_model))\n",
    "print(bigram_model.keys())\n",
    "print(bigram_model['now'])"
   ]
  },
  {
   "cell_type": "markdown",
   "id": "849ac784",
   "metadata": {
    "slideshow": {
     "slide_type": "fragment"
    }
   },
   "source": [
    "Next, let's generate from bigram models: repeatedly generate next words until we reach a desired length."
   ]
  },
  {
   "cell_type": "code",
   "execution_count": null,
   "id": "776ab0ee",
   "metadata": {
    "slideshow": {
     "slide_type": "skip"
    }
   },
   "outputs": [],
   "source": [
    "from jamcoders.random import sample_from_dict\n",
    "def gen(model, start_word, length):\n",
    "    # Input: model (bigram model), start_word (a single word to start from), length (how many words to generate)\n",
    "    # You can assume start_word is in the model."
   ]
  },
  {
   "cell_type": "code",
   "execution_count": null,
   "id": "01656266",
   "metadata": {
    "slideshow": {
     "slide_type": "subslide"
    }
   },
   "outputs": [],
   "source": [
    "# Solution\n",
    "from jamcoders.random import sample_from_dict\n",
    "# Recursive implementation. Note: Input is context (list of str), not just the start word!\n",
    "def gen(model, context, length):\n",
    "    if length == 0:\n",
    "        return context\n",
    "    context_word = context[-1]\n",
    "    probs = model[context_word]\n",
    "    next_word = sample_from_dict(probs)\n",
    "    return gen(model, context + [next_word], length - 1)"
   ]
  },
  {
   "cell_type": "markdown",
   "id": "738cc153",
   "metadata": {
    "slideshow": {
     "slide_type": "subslide"
    }
   },
   "source": [
    "Now let's generate a poem from our model 📜"
   ]
  },
  {
   "cell_type": "code",
   "execution_count": null,
   "id": "f2d3234a",
   "metadata": {
    "slideshow": {
     "slide_type": "fragment"
    }
   },
   "outputs": [],
   "source": [
    "verse_starts = ['juliet', 'hamlet', 'macbeth']# TODO \n",
    "for start in verse_starts:\n",
    "    starting_context = [start]\n",
    "    print(gen(bigram_model, starting_context, 5))"
   ]
  },
  {
   "cell_type": "markdown",
   "id": "c65a3848",
   "metadata": {
    "slideshow": {
     "slide_type": "slide"
    }
   },
   "source": [
    "# 🖊️🍍🍎🖊️"
   ]
  },
  {
   "cell_type": "markdown",
   "id": "a6dfd489",
   "metadata": {
    "slideshow": {
     "slide_type": "fragment"
    }
   },
   "source": [
    "Mr. Kosaka wrote a new song **AppleLemonApp**, but disaster has struck. His computer crashed and removed all the spaces from his lyrics. Now he's staring at a string of letters with no idea where one word ends and another begins.\n",
    "\n",
    "Help him find the missing spaces!"
   ]
  },
  {
   "cell_type": "code",
   "execution_count": null,
   "id": "4717430f",
   "metadata": {
    "slideshow": {
     "slide_type": "fragment"
    }
   },
   "outputs": [],
   "source": [
    "vocab = [\"apple\", \"lemon\", \"app\"]\n",
    "# Examples: applelemonapp --> True\n",
    "#           appapplemon --> True\n",
    "#           apples --> False"
   ]
  },
  {
   "cell_type": "code",
   "execution_count": null,
   "id": "0d1de891",
   "metadata": {
    "slideshow": {
     "slide_type": "subslide"
    }
   },
   "outputs": [],
   "source": [
    "def can_seg(string, vocab):\n",
    "    # TODO"
   ]
  },
  {
   "cell_type": "code",
   "execution_count": null,
   "id": "84162be0",
   "metadata": {
    "slideshow": {
     "slide_type": "skip"
    }
   },
   "outputs": [],
   "source": [
    "# Solution\n",
    "def can_seg(string, vocab):\n",
    "    if len(string) == 0:\n",
    "        return True\n",
    "    for word in vocab:\n",
    "        prefix = string[:len(word)]\n",
    "        suffix = string[len(word):]\n",
    "        if can_seg(suffix, vocab) and prefix == word:\n",
    "            return True\n",
    "    return False"
   ]
  },
  {
   "cell_type": "code",
   "execution_count": null,
   "id": "d78e0740",
   "metadata": {
    "slideshow": {
     "slide_type": "subslide"
    }
   },
   "outputs": [],
   "source": [
    "# Let's test it\n",
    "vocab = [\"pen\", \"apple\", \"lemon\", \"app\"]\n",
    "print(can_seg(\"penapplepen\", vocab))  # Should be True\n",
    "print(can_seg(\"applemon\", vocab))     # Should be True\n",
    "print(can_seg(\"application\", vocab))  # Should be False"
   ]
  },
  {
   "cell_type": "code",
   "execution_count": null,
   "id": "8a0c81e4",
   "metadata": {
    "slideshow": {
     "slide_type": "subslide"
    }
   },
   "outputs": [],
   "source": [
    "# Let's test it some more...\n",
    "long_lyrics = \"applemonapp\" * 10 + \"lemon\"\n",
    "print(can_seg(long_lyrics, vocab))  # Should be True"
   ]
  },
  {
   "cell_type": "markdown",
   "id": "3f12d06b",
   "metadata": {
    "slideshow": {
     "slide_type": "subslide"
    }
   },
   "source": [
    "Oops! Let's debug."
   ]
  },
  {
   "cell_type": "code",
   "execution_count": null,
   "id": "40b8c370",
   "metadata": {
    "slideshow": {
     "slide_type": "fragment"
    }
   },
   "outputs": [],
   "source": [
    "# Let's debug it!\n",
    "def can_seg(string, vocab):\n",
    "    print('Called with: '+ string) # Added this\n",
    "    if len(string) == 0:\n",
    "        return True\n",
    "    for word in vocab:\n",
    "        prefix = string[:len(word)]\n",
    "        suffix = string[len(word):]\n",
    "        if can_seg(suffix, vocab) and prefix == word:\n",
    "            return True\n",
    "    return False"
   ]
  },
  {
   "cell_type": "code",
   "execution_count": null,
   "id": "aa0beb5b",
   "metadata": {
    "slideshow": {
     "slide_type": "skip"
    }
   },
   "outputs": [],
   "source": [
    "debug_vocab = ['ab', 'abc', 'bc']\n",
    "debug_string = 'abc' * 3\n",
    "can_seg(debug_string, debug_vocab)  # Should be True"
   ]
  },
  {
   "cell_type": "markdown",
   "id": "bc8fcd7a",
   "metadata": {
    "slideshow": {
     "slide_type": "fragment"
    }
   },
   "source": [
    "What's going on? How can we fix it?"
   ]
  },
  {
   "cell_type": "code",
   "execution_count": null,
   "id": "bc90b27c",
   "metadata": {
    "slideshow": {
     "slide_type": "subslide"
    }
   },
   "outputs": [],
   "source": [
    "# Assume \"vocab\" doesn't change between calls (what happens to mem if it does?)\n",
    "mem = {}\n",
    "def can_seg(string, vocab):  # vocab doesn't change\n",
    "    print('Called with: '+ string)\n",
    "    if string in mem:\n",
    "        return mem[string]\n",
    "    if len(string) == 0:\n",
    "        return True\n",
    "    for word in vocab:\n",
    "        prefix = string[:len(word)]\n",
    "        suffix = string[len(word):]\n",
    "        # If we reached this, we know string not in mem\n",
    "        mem[string] = can_seg(suffix, vocab)\n",
    "        if mem[string] and prefix == word:\n",
    "            return True\n",
    "    return False"
   ]
  },
  {
   "cell_type": "code",
   "execution_count": null,
   "id": "392c67b7",
   "metadata": {
    "slideshow": {
     "slide_type": "skip"
    }
   },
   "outputs": [],
   "source": [
    "# Adding prints to see how memoization helps\n",
    "num_calls = 0\n",
    "memory = {}\n",
    "def can_seg(string, vocab):\n",
    "    # Track calls\n",
    "    global num_calls\n",
    "    num_calls += 1\n",
    "    if len(string) == 0:\n",
    "        return True\n",
    "    print(f\"Input: {string}; Call #{num_calls}\")\n",
    "    for word in vocab:\n",
    "        prefix = string[:len(word)]\n",
    "        suffix = string[len(word):]\n",
    "        if suffix not in memory:\n",
    "            memory[suffix] = can_seg(suffix, vocab)\n",
    "        if memory[suffix] and prefix == word:\n",
    "            return True\n",
    "    return False"
   ]
  },
  {
   "cell_type": "code",
   "execution_count": null,
   "id": "386908ff",
   "metadata": {
    "slideshow": {
     "slide_type": "fragment"
    }
   },
   "outputs": [],
   "source": [
    "# Let's test it some more...\n",
    "long_lyrics = \"applemonapp\" * 10 + \"lemon\"\n",
    "print(can_seg(long_lyrics, vocab))  # Should be True"
   ]
  },
  {
   "cell_type": "code",
   "execution_count": null,
   "id": "f0fc0c32",
   "metadata": {
    "slideshow": {
     "slide_type": "subslide"
    }
   },
   "outputs": [],
   "source": [
    "# A simpler example for memoization. It can be used in many places!\n",
    "# fib(0) == 1; fib(1) == 1; fib(n) == fib(n-1) + fib(n-2)\n",
    "mem = {}\n",
    "def fib(n):\n",
    "    if n in mem:\n",
    "        return mem[n]\n",
    "    if n == 1 or n == 0:\n",
    "        return 1\n",
    "    result = fib(n-1) + fib(n-2)\n",
    "    mem[n] = result\n",
    "    return result"
   ]
  },
  {
   "cell_type": "code",
   "execution_count": null,
   "id": "6d97ce34",
   "metadata": {
    "slideshow": {
     "slide_type": "fragment"
    }
   },
   "outputs": [],
   "source": [
    "print(fib(100))"
   ]
  }
 ],
 "metadata": {
  "celltoolbar": "Slideshow",
  "kernelspec": {
   "display_name": "Python 3 (ipykernel)",
   "language": "python",
   "name": "python3"
  },
  "language_info": {
   "codemirror_mode": {
    "name": "ipython",
    "version": 3
   },
   "file_extension": ".py",
   "mimetype": "text/x-python",
   "name": "python",
   "nbconvert_exporter": "python",
   "pygments_lexer": "ipython3",
   "version": "3.12.10"
  }
 },
 "nbformat": 4,
 "nbformat_minor": 5
}
