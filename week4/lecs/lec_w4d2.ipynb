{
 "cells": [
  {
   "cell_type": "code",
   "execution_count": null,
   "id": "16069e80",
   "metadata": {
    "slideshow": {
     "slide_type": "skip"
    }
   },
   "outputs": [],
   "source": [
    "%config InteractiveShell.ast_node_interactivity = \"none\""
   ]
  },
  {
   "cell_type": "markdown",
   "id": "36p4bycvhp9",
   "metadata": {
    "slideshow": {
     "slide_type": "slide"
    }
   },
   "source": [
    "# Language Modeling"
   ]
  },
  {
   "cell_type": "code",
   "execution_count": null,
   "id": "86e52f01",
   "metadata": {
    "slideshow": {
     "slide_type": "fragment"
    }
   },
   "outputs": [],
   "source": [
    "from jamcoders.models import gpt2\n",
    "prefix = \"Good morning class!\"\n",
    "max_length = 20"
   ]
  },
  {
   "cell_type": "code",
   "execution_count": null,
   "id": "23cc73c4",
   "metadata": {
    "slideshow": {
     "slide_type": "fragment"
    }
   },
   "outputs": [],
   "source": [
    "generated = gpt2(prefix, 20)\n",
    "print(generated)"
   ]
  },
  {
   "cell_type": "markdown",
   "id": "4djmpeeda1q",
   "metadata": {
    "slideshow": {
     "slide_type": "subslide"
    }
   },
   "source": [
    "## First thing first: What is a Model?"
   ]
  },
  {
   "cell_type": "markdown",
   "id": "c69e838e",
   "metadata": {
    "slideshow": {
     "slide_type": "fragment"
    }
   },
   "source": [
    "Yesterday we modeled the process of sampling Skittles from a cup 🍬"
   ]
  },
  {
   "cell_type": "markdown",
   "id": "rqifh9punz",
   "metadata": {
    "slideshow": {
     "slide_type": "subslide"
    }
   },
   "source": [
    "- A **model** is a simplified representation of something complex\n",
    "- We use models when we can't fully understand or describe the real thing\n",
    "- Models help us make predictions and understand patterns"
   ]
  },
  {
   "cell_type": "markdown",
   "id": "ncd40sg7rhr",
   "metadata": {
    "slideshow": {
     "slide_type": "fragment"
    }
   },
   "source": [
    "> \"All models are wrong, but some are useful\" - George Box"
   ]
  },
  {
   "cell_type": "code",
   "execution_count": null,
   "id": "9a6bf815",
   "metadata": {
    "slideshow": {
     "slide_type": "subslide"
    }
   },
   "outputs": [],
   "source": [
    "# Yesterday's model: sampling from a cup\n",
    "small_cup = [\"red\", \"red\", \"red\", \"blue\", \"yellow\", \"green\"]"
   ]
  },
  {
   "cell_type": "code",
   "execution_count": null,
   "id": "pwf630zokv",
   "metadata": {
    "slideshow": {
     "slide_type": "fragment"
    }
   },
   "outputs": [],
   "source": [
    "from jamcoders.random import sample_from_list\n",
    "skittle = sample_from_list(small_cup)\n",
    "print(skittle)\n",
    "# This is a model of what we had in the cup, and the shake-and-choose experiment"
   ]
  },
  {
   "cell_type": "code",
   "execution_count": null,
   "id": "90285aee",
   "metadata": {
    "slideshow": {
     "slide_type": "fragment"
    }
   },
   "outputs": [],
   "source": [
    "# Skittle 🆙\n",
    "big_cup = ['blue', 'blue', 'blue', 'red', 'red', 'red', 'blue', 'red', 'red', 'green', 'yellow', 'green', 'yellow', 'red', 'red', 'red', 'red', 'red', 'red', 'red', 'red', 'red', 'red', 'red', 'green', 'blue', 'red', 'red', 'red', 'red', 'red', 'blue', 'green', 'yellow', 'red', 'yellow', 'green', 'blue', 'red', 'blue', 'yellow', 'red', 'red', 'red', 'blue', 'red', 'red', 'red', 'red', 'blue', 'red', 'red', 'yellow', 'red', 'red', 'red', 'yellow', 'red', 'green', 'green', 'red', 'red', 'blue', 'red', 'blue', 'red', 'blue', 'red', 'red', 'red', 'red', 'blue', 'red', 'red', 'red', 'red', 'red', 'green', 'blue', 'red', 'blue', 'red', 'blue', 'red', 'blue', 'red', 'red', 'red', 'blue', 'red', 'red', 'blue', 'blue', 'red', 'red', 'green', 'green', 'red', 'red', 'red', 'blue', 'red', 'red', 'red', 'red', 'red', 'yellow', 'red', 'red', 'red', 'blue', 'red', 'yellow', 'yellow', 'red', 'red', 'red', 'blue', 'red', 'green', 'blue', 'red', 'blue', 'green', 'yellow', 'red', 'red', 'red', 'blue', 'red', 'red', 'yellow', 'red', 'yellow', 'red', 'red', 'blue', 'blue', 'red', 'yellow', 'red', 'green', 'red', 'yellow', 'green', 'red', 'yellow', 'blue', 'green', 'red', 'yellow', 'yellow', 'red', 'blue', 'green', 'blue', 'green', 'red', 'red', 'red', 'yellow', 'green', 'blue', 'green', 'red', 'red', 'red', 'red', 'green', 'yellow', 'red', 'red', 'blue', 'green', 'yellow', 'red', 'blue', 'red', 'red', 'red', 'red', 'red', 'green', 'blue', 'blue', 'red', 'blue', 'yellow', 'red', 'red', 'blue', 'green', 'red', 'red', 'blue', 'red', 'red', 'blue', 'blue', 'blue', 'red', 'blue', 'green', 'yellow', 'blue', 'blue', 'blue', 'red', 'red', 'blue', 'red', 'red', 'green', 'red', 'yellow', 'yellow', 'yellow', 'red', 'red', 'red', 'red', 'red', 'red', 'red', 'green', 'red', 'blue', 'green', 'blue', 'red', 'red', 'blue', 'red', 'red', 'yellow', 'green', 'red', 'green', 'blue', 'red', 'green', 'green', 'green', 'blue', 'blue', 'red', 'red', 'red', 'yellow', 'yellow', 'red', 'green', 'red', 'red', 'yellow', 'red', 'yellow', 'red', 'blue', 'green', 'blue', 'red', 'red', 'green', 'yellow', 'blue', 'green', 'green', 'yellow', 'yellow', 'green', 'blue', 'blue', 'red', 'red', 'red', 'yellow', 'yellow', 'green', 'red', 'blue', 'green', 'blue', 'green', 'red', 'green', 'green', 'yellow', 'red', 'red', 'blue', 'red', 'green', 'blue', 'red', 'red', 'yellow', 'yellow', 'green', 'yellow', 'green', 'red', 'red', 'blue', 'red', 'red', 'green', 'yellow', 'red', 'blue', 'red', 'red', 'green', 'blue', 'blue', 'red', 'yellow', 'red', 'red', 'red', 'blue', 'red', 'yellow', 'red', 'red', 'red', 'yellow', 'red', 'green', 'red', 'blue', 'yellow', 'red', 'yellow', 'red', 'yellow', 'blue', 'red', 'blue', 'blue', 'blue', 'red', 'red', 'green', 'yellow', 'green', 'blue', 'yellow', 'red', 'blue', 'yellow', 'red', 'yellow', 'red', 'yellow', 'yellow', 'red', 'blue', 'blue', 'red', 'yellow', 'yellow', 'green', 'red', 'green', 'yellow', 'yellow', 'red', 'yellow', 'blue', 'red', 'green', 'green', 'red', 'red', 'blue', 'green', 'red', 'blue', 'red', 'green', 'green', 'red', 'red', 'yellow', 'red', 'red', 'blue', 'red', 'yellow', 'green', 'red', 'red', 'red', 'red', 'yellow', 'yellow', 'yellow', 'yellow', 'green', 'red', 'red', 'blue', 'yellow', 'red', 'red', 'blue', 'yellow', 'red', 'green', 'red', 'red', 'blue', 'yellow', 'green', 'red', 'yellow', 'red', 'yellow', 'red', 'red', 'green', 'red', 'red', 'red', 'yellow', 'green', 'red', 'red', 'red', 'red', 'yellow', 'green', 'red', 'yellow', 'red', 'red', 'yellow', 'green', 'blue', 'red', 'red', 'green', 'red', 'yellow', 'red', 'red', 'red', 'red', 'red', 'red', 'red', 'yellow', 'yellow', 'red', 'green', 'red', 'yellow', 'blue', 'blue', 'yellow', 'yellow', 'red', 'red', 'blue', 'red', 'red', 'yellow', 'blue', 'red', 'red', 'blue', 'green', 'green', 'red', 'red', 'red', 'green', 'red', 'green', 'red', 'green', 'red', 'blue', 'green', 'yellow', 'blue', 'red', 'red', 'blue', 'red', 'blue', 'red', 'red', 'blue', 'red', 'red', 'blue', 'yellow', 'red', 'red', 'green', 'red', 'yellow', 'blue', 'red', 'blue', 'yellow', 'yellow', 'red', 'blue', 'red', 'yellow', 'red', 'yellow', 'red', 'blue', 'blue', 'red', 'red', 'red', 'red', 'blue', 'blue', 'blue', 'red', 'red', 'red', 'yellow', 'yellow', 'yellow', 'red', 'yellow', 'blue', 'blue', 'red', 'red', 'yellow', 'green', 'red', 'green', 'yellow', 'red', 'red', 'red', 'red', 'red', 'yellow', 'yellow', 'green', 'red', 'blue', 'red', 'red', 'yellow', 'blue', 'green', 'green', 'yellow', 'yellow', 'yellow', 'red', 'yellow', 'yellow', 'blue', 'red', 'red', 'red', 'green', 'green', 'green', 'red', 'green', 'red', 'red', 'yellow', 'green', 'red', 'red', 'red', 'green', 'red', 'red', 'red', 'red', 'red', 'yellow', 'red', 'green', 'red', 'yellow', 'green', 'green', 'red', 'red', 'red', 'blue', 'red', 'yellow', 'blue', 'blue', 'green', 'blue', 'red', 'red', 'blue', 'blue', 'red', 'red', 'green', 'red', 'red', 'red', 'red', 'green', 'blue', 'red', 'green', 'red', 'blue', 'green', 'blue', 'green', 'blue', 'red', 'red', 'green', 'red', 'red', 'yellow', 'yellow', 'green', 'red', 'green', 'red', 'blue', 'red', 'red', 'yellow', 'blue', 'red', 'blue', 'red', 'red', 'red', 'red', 'blue', 'red', 'blue', 'yellow', 'blue', 'blue', 'red', 'blue', 'red', 'yellow', 'red', 'blue', 'red', 'red', 'blue', 'red', 'green', 'red', 'red', 'blue', 'red', 'blue', 'red', 'red', 'red', 'red', 'red', 'yellow', 'blue', 'blue', 'blue', 'red', 'red', 'red', 'blue', 'green', 'yellow', 'blue', 'red', 'green', 'blue', 'green', 'red', 'red', 'green', 'red', 'red', 'red', 'red', 'red', 'yellow', 'red', 'blue', 'red', 'red', 'red', 'green', 'yellow', 'red', 'red', 'blue', 'red', 'blue', 'blue', 'yellow', 'green', 'yellow', 'red', 'green', 'red', 'red', 'red', 'yellow', 'blue', 'red', 'green', 'red', 'blue', 'blue', 'yellow', 'red', 'blue', 'green', 'green', 'blue', 'yellow', 'red', 'green', 'blue', 'red', 'yellow', 'green', 'red', 'yellow', 'red', 'blue', 'yellow', 'blue', 'red', 'red', 'red', 'blue', 'yellow', 'yellow', 'red', 'green', 'red', 'blue', 'red', 'green', 'green', 'red', 'red', 'yellow', 'red', 'yellow', 'green', 'yellow', 'red', 'red', 'yellow', 'blue', 'red', 'green', 'red', 'yellow', 'blue', 'blue', 'red', 'green', 'yellow', 'green', 'red', 'blue', 'red', 'blue', 'yellow', 'red', 'red', 'red', 'green', 'red', 'red', 'red', 'yellow', 'yellow', 'green', 'blue', 'blue', 'yellow', 'green', 'blue', 'red', 'red', 'yellow', 'yellow', 'yellow', 'yellow', 'blue', 'blue', 'blue', 'red', 'red', 'red', 'red', 'red', 'red', 'blue', 'red', 'red', 'green', 'red', 'red', 'red', 'blue', 'blue', 'red', 'green', 'blue', 'blue', 'red', 'green', 'red', 'green', 'green', 'yellow', 'yellow', 'red', 'green', 'green', 'yellow', 'blue', 'blue', 'green', 'blue', 'red', 'blue', 'yellow', 'red', 'red', 'red', 'red', 'red', 'green', 'red', 'red', 'red', 'red', 'red', 'red', 'yellow', 'red', 'blue', 'red', 'green', 'green', 'green', 'red', 'red', 'yellow', 'green', 'red', 'yellow', 'red', 'red', 'red', 'green', 'yellow', 'yellow', 'red', 'red', 'yellow', 'red', 'yellow', 'red', 'red', 'blue', 'yellow', 'yellow', 'blue', 'blue', 'red', 'yellow', 'red', 'blue', 'red', 'red', 'green', 'blue', 'green', 'yellow', 'red', 'red', 'red', 'blue', 'green', 'green', 'yellow', 'red', 'red', 'yellow', 'blue', 'red', 'red', 'yellow', 'yellow', 'red', 'blue', 'red', 'red', 'red', 'red', 'green', 'red', 'yellow', 'red', 'green', 'red', 'red', 'yellow', 'yellow', 'yellow', 'red', 'yellow', 'red', 'blue', 'red', 'red', 'red', 'green', 'green', 'blue', 'yellow', 'red', 'red', 'yellow', 'red', 'red', 'red', 'green', 'green', 'blue', 'red', 'blue', 'red', 'blue', 'red', 'red', 'red', 'red', 'red', 'blue', 'green', 'red', 'green', 'red', 'red', 'blue', 'blue', 'red', 'blue', 'yellow', 'green', 'green', 'red', 'red', 'blue', 'red', 'green', 'green', 'red', 'red', 'red', 'yellow', 'blue', 'blue', 'green', 'red', 'blue', 'green', 'green', 'red', 'blue', 'blue', 'red', 'red', 'red', 'green', 'blue', 'blue', 'red', 'green', 'green', 'red', 'red', 'yellow', 'red', 'green', 'blue', 'red', 'red', 'blue', 'red', 'yellow', 'blue', 'blue', 'yellow', 'green', 'green', 'red', 'red', 'red', 'red', 'blue', 'red', 'red', 'yellow', 'green', 'green', 'red', 'green', 'yellow', 'blue', 'red', 'blue', 'blue', 'green', 'green', 'red', 'red', 'red', 'yellow', 'green', 'green', 'red', 'red', 'red', 'blue', 'yellow', 'blue', 'yellow', 'blue', 'red', 'yellow', 'yellow', 'green', 'red', 'red', 'green', 'red', 'yellow', 'green', 'blue', 'yellow', 'yellow', 'red', 'yellow', 'blue', 'red', 'red', 'yellow', 'green', 'red', 'green', 'red', 'yellow', 'blue', 'red', 'red', 'yellow', 'blue', 'blue', 'red', 'red', 'blue', 'blue', 'red', 'yellow', 'blue', 'blue', 'blue', 'red', 'blue', 'yellow', 'red', 'red', 'red', 'yellow', 'yellow', 'blue', 'red', 'red', 'red', 'blue', 'green', 'yellow', 'green', 'red', 'yellow', 'blue', 'red', 'blue', 'red', 'yellow', 'red', 'green', 'blue', 'yellow', 'blue', 'red', 'red', 'red', 'red', 'red', 'red', 'red', 'red', 'blue', 'yellow', 'red', 'red', 'blue', 'red', 'green', 'red', 'blue', 'yellow', 'blue', 'red', 'red', 'blue', 'blue', 'red', 'yellow', 'yellow', 'blue', 'red', 'yellow', 'yellow', 'green', 'red', 'blue', 'red', 'red', 'green', 'red', 'green', 'yellow', 'red', 'green', 'green', 'yellow', 'yellow', 'blue', 'red', 'blue', 'blue', 'red', 'green', 'red', 'red', 'red', 'red', 'red', 'red', 'blue', 'yellow', 'red', 'red', 'red', 'red', 'yellow', 'red', 'red', 'red', 'red', 'red', 'red', 'blue', 'blue', 'red', 'blue', 'red', 'red', 'red', 'red', 'yellow', 'green', 'yellow', 'blue', 'yellow', 'blue', 'blue', 'red', 'red', 'blue', 'green', 'blue', 'red', 'yellow', 'green', 'red', 'green', 'red', 'red', 'red', 'blue', 'red', 'blue', 'green', 'red', 'red', 'blue', 'yellow', 'red', 'yellow', 'blue', 'green', 'red', 'red', 'green', 'green', 'green', 'red', 'green', 'red', 'yellow', 'red', 'red', 'red', 'yellow', 'red', 'red', 'yellow', 'yellow', 'yellow', 'red', 'red', 'blue', 'red', 'green', 'blue', 'blue', 'red', 'red', 'yellow', 'red', 'green', 'blue', 'red', 'red', 'blue', 'yellow', 'red', 'red', 'red', 'red', 'blue', 'red', 'red', 'blue', 'yellow', 'red', 'red', 'yellow', 'red', 'red', 'red', 'yellow', 'blue', 'blue', 'yellow', 'red', 'yellow', 'green', 'red', 'red', 'yellow', 'yellow', 'red', 'red', 'blue', 'red', 'red', 'red', 'red', 'blue', 'blue', 'green', 'yellow', 'green', 'red', 'green', 'red', 'red', 'red', 'red', 'yellow', 'blue', 'red', 'green', 'red', 'red', 'blue', 'yellow', 'red', 'red', 'red', 'yellow', 'yellow', 'red', 'yellow', 'green', 'blue', 'blue', 'red', 'red', 'blue', 'red', 'red', 'blue', 'yellow', 'yellow', 'red', 'blue', 'yellow', 'yellow', 'red', 'red', 'green', 'red', 'red', 'red', 'red', 'green', 'red', 'red', 'red', 'red', 'red', 'blue', 'blue', 'blue', 'red', 'green', 'red', 'red', 'yellow', 'red', 'green', 'red', 'yellow', 'green', 'yellow', 'red', 'green', 'red', 'yellow', 'green', 'green', 'blue', 'green', 'green', 'blue', 'yellow', 'red', 'red', 'yellow', 'yellow', 'red', 'green', 'red', 'red', 'red', 'red', 'red', 'red', 'yellow', 'red', 'red', 'yellow', 'blue', 'red', 'green', 'red', 'green', 'red', 'red', 'red', 'blue', 'red', 'green', 'red', 'red', 'red', 'blue', 'red', 'yellow', 'blue', 'red', 'green', 'red', 'yellow', 'red', 'red', 'red', 'red', 'red', 'red', 'blue', 'yellow', 'green', 'green', 'yellow', 'yellow', 'green', 'red', 'blue', 'green', 'yellow', 'red', 'blue', 'green', 'blue', 'red', 'green', 'green', 'red', 'yellow', 'red', 'green', 'red', 'blue', 'yellow', 'red', 'yellow', 'red', 'red', 'yellow', 'red', 'yellow', 'red', 'red', 'blue', 'blue', 'yellow', 'yellow', 'blue', 'yellow', 'red', 'green', 'green', 'yellow', 'red', 'yellow', 'red', 'green', 'yellow', 'red', 'red', 'red', 'red', 'red', 'red', 'green', 'red', 'red', 'red', 'red', 'blue', 'green', 'red', 'red', 'red', 'red', 'red', 'red', 'green', 'green', 'red', 'red', 'red', 'blue', 'red', 'red', 'red', 'green', 'blue', 'red', 'green', 'red', 'red', 'red', 'green', 'red', 'red', 'red', 'green', 'red', 'red', 'red', 'red', 'red', 'green', 'yellow', 'green', 'red', 'red', 'red', 'red', 'blue', 'green', 'green', 'green', 'red', 'red', 'red', 'green', 'red', 'red', 'red', 'green', 'yellow', 'red', 'blue', 'yellow', 'red', 'red', 'yellow', 'green', 'yellow', 'red', 'red', 'yellow', 'green', 'red', 'red', 'red', 'green', 'red', 'red', 'red', 'green', 'yellow', 'blue', 'red', 'red', 'yellow', 'yellow', 'red', 'red', 'red', 'yellow', 'red', 'red', 'red', 'red', 'green', 'red', 'red', 'blue', 'red', 'yellow', 'red', 'red', 'red', 'red', 'green', 'blue', 'red', 'red', 'red', 'red', 'blue', 'red', 'yellow', 'red', 'red', 'red', 'blue', 'red', 'red', 'green', 'green', 'blue', 'red', 'red', 'yellow', 'red', 'green', 'red', 'red', 'red', 'green', 'blue', 'red', 'red', 'green', 'blue', 'blue', 'blue', 'blue', 'blue', 'red', 'red', 'green', 'yellow', 'blue', 'blue', 'blue', 'red', 'blue', 'red', 'red', 'red', 'blue', 'red', 'red', 'red', 'red', 'red', 'yellow', 'red', 'red', 'red', 'yellow', 'blue', 'blue', 'red', 'yellow', 'red', 'blue', 'blue', 'red', 'blue', 'blue', 'red', 'red', 'blue', 'red', 'green', 'yellow', 'blue', 'green', 'red', 'red', 'yellow', 'red', 'blue', 'yellow', 'red', 'red', 'blue', 'yellow', 'red', 'red', 'red', 'green', 'red', 'red', 'blue', 'blue', 'red', 'green', 'yellow', 'red', 'red', 'blue', 'red', 'red', 'blue', 'blue', 'blue', 'blue', 'blue', 'yellow', 'red', 'red', 'red', 'green', 'green', 'blue', 'green', 'red', 'red', 'yellow', 'red', 'red', 'yellow', 'red', 'green', 'blue', 'green', 'red', 'red', 'red', 'blue', 'red', 'blue', 'blue', 'red', 'red', 'blue', 'red', 'blue', 'red', 'yellow', 'blue', 'blue', 'red', 'red', 'red', 'red', 'red', 'yellow', 'blue', 'green', 'blue', 'red', 'green', 'green', 'red', 'red', 'green', 'blue', 'red', 'yellow', 'red', 'red', 'blue', 'red', 'red', 'yellow', 'red', 'blue', 'blue', 'green', 'red', 'red', 'red', 'red', 'red', 'red', 'red', 'yellow', 'red', 'red', 'red', 'blue', 'red', 'yellow', 'red', 'yellow', 'green', 'red', 'red', 'yellow', 'red', 'green', 'green', 'blue', 'red', 'blue', 'red', 'red', 'yellow', 'red', 'green', 'yellow', 'green', 'blue', 'red', 'green', 'green', 'red', 'yellow', 'yellow', 'blue', 'green', 'green', 'blue', 'red', 'yellow', 'yellow', 'yellow', 'red', 'red', 'red', 'yellow', 'blue', 'red', 'red', 'green', 'red', 'blue', 'blue', 'yellow', 'red', 'red', 'red', 'yellow', 'yellow', 'blue', 'yellow', 'red', 'yellow', 'yellow', 'green', 'yellow', 'blue', 'red', 'green', 'red', 'red', 'yellow', 'blue', 'green', 'yellow', 'green', 'red', 'red', 'green', 'yellow', 'green', 'green', 'blue', 'blue', 'red', 'red', 'blue', 'red', 'blue', 'red', 'green', 'blue', 'red', 'red', 'green', 'green', 'red', 'red', 'red', 'red', 'red', 'red', 'yellow', 'yellow', 'yellow', 'red', 'green', 'green', 'red', 'yellow', 'red', 'red', 'red', 'green', 'blue', 'red', 'yellow', 'red', 'blue', 'red', 'blue', 'blue', 'green', 'red', 'blue', 'red', 'green', 'yellow', 'green', 'green', 'red', 'green', 'red', 'red', 'yellow', 'red', 'blue', 'blue', 'red', 'red', 'red', 'green', 'green', 'red', 'red', 'red', 'blue', 'green', 'red', 'red', 'yellow', 'red', 'yellow', 'red', 'red', 'blue', 'green', 'red', 'red', 'red', 'yellow', 'blue', 'yellow', 'red', 'red', 'red', 'red', 'red', 'yellow', 'blue', 'yellow', 'red', 'red', 'blue', 'blue', 'red', 'green', 'green', 'red', 'blue', 'red', 'red', 'yellow', 'red', 'yellow', 'green', 'yellow', 'red', 'green', 'green', 'blue', 'green', 'red', 'red', 'red', 'red', 'blue', 'red', 'green', 'green', 'yellow', 'red', 'red', 'red', 'yellow', 'red', 'yellow', 'red', 'red', 'red', 'blue', 'red', 'green', 'red', 'red', 'blue', 'red', 'red', 'blue', 'green', 'red', 'red', 'red', 'blue', 'red', 'green', 'red', 'red', 'blue', 'red', 'red', 'blue', 'blue', 'yellow', 'red', 'red', 'green', 'red', 'blue', 'blue', 'red', 'red', 'red', 'red', 'red', 'red', 'red', 'blue', 'yellow', 'red', 'red', 'red', 'red', 'blue', 'red', 'yellow', 'yellow', 'red', 'yellow', 'red', 'red', 'green', 'yellow', 'blue', 'red', 'red', 'red', 'blue', 'blue', 'red', 'red', 'red', 'red', 'red', 'blue', 'yellow', 'yellow', 'green', 'red', 'green', 'red', 'red', 'blue', 'red', 'green', 'green', 'blue', 'yellow', 'red', 'red', 'blue', 'yellow', 'yellow', 'green', 'green', 'red', 'red', 'green', 'red', 'red', 'yellow', 'red', 'red', 'blue', 'red', 'red', 'yellow', 'red', 'red', 'red', 'blue', 'yellow', 'yellow', 'red', 'blue', 'blue', 'yellow', 'red', 'red', 'yellow', 'yellow', 'green', 'green', 'blue', 'yellow', 'red', 'red', 'red', 'yellow', 'red', 'red', 'red', 'yellow', 'blue', 'yellow', 'blue', 'green', 'green', 'blue', 'yellow', 'blue', 'red', 'red', 'green', 'red', 'green', 'green', 'red', 'red', 'blue', 'red', 'blue', 'blue', 'red', 'green', 'red', 'red', 'red', 'red', 'blue', 'red', 'green', 'green', 'red', 'yellow', 'yellow', 'red', 'blue', 'green', 'red', 'blue', 'red', 'red', 'red', 'yellow', 'red', 'blue', 'yellow', 'blue', 'green', 'red', 'green', 'red', 'red', 'red', 'red', 'red', 'green', 'red', 'red', 'red', 'red', 'red', 'red', 'green', 'yellow', 'green', 'green', 'green', 'red', 'green', 'red', 'red', 'red', 'green', 'blue', 'red', 'red', 'blue', 'red', 'green', 'blue', 'blue', 'green', 'red', 'blue', 'blue', 'red', 'blue', 'blue', 'yellow', 'red', 'yellow', 'red', 'green', 'yellow', 'red', 'red', 'green', 'red', 'red', 'red', 'yellow', 'red', 'blue', 'red', 'red', 'blue', 'yellow', 'green', 'yellow', 'green', 'yellow', 'red', 'blue', 'red', 'green', 'red', 'red', 'red', 'red', 'red', 'green', 'red', 'yellow', 'green', 'red', 'blue', 'red', 'blue', 'green', 'green', 'yellow', 'red', 'red', 'red', 'yellow', 'blue', 'red', 'red', 'yellow', 'green', 'red', 'red', 'blue', 'red', 'green', 'red', 'red', 'blue', 'green', 'red', 'blue', 'red', 'green', 'red', 'red', 'red', 'yellow', 'yellow', 'yellow', 'blue', 'red', 'red', 'yellow', 'red', 'red', 'red', 'yellow', 'red', 'red', 'red', 'yellow', 'red', 'red', 'red', 'red', 'red', 'yellow', 'yellow', 'blue', 'red', 'blue', 'red', 'red', 'blue', 'green', 'green', 'red', 'red', 'red', 'green', 'red', 'yellow', 'red', 'red', 'red', 'blue', 'green', 'green', 'red', 'green', 'red', 'red', 'red', 'red', 'red', 'red', 'red', 'green', 'yellow', 'red', 'yellow', 'yellow', 'red', 'red', 'yellow', 'blue', 'red', 'yellow', 'yellow', 'yellow', 'blue', 'yellow', 'red', 'red', 'red', 'red', 'blue', 'green', 'red', 'red', 'blue', 'green', 'red', 'blue', 'blue', 'red', 'green', 'red', 'red', 'red', 'red', 'red', 'yellow', 'red', 'yellow', 'yellow', 'red', 'yellow', 'blue', 'red', 'blue', 'yellow', 'red', 'yellow', 'red', 'blue', 'red', 'red', 'blue', 'yellow', 'red', 'blue', 'red', 'blue', 'yellow', 'blue', 'red', 'yellow', 'red', 'blue', 'red', 'red', 'green', 'red', 'red', 'red', 'green', 'red', 'blue', 'red', 'red', 'green', 'green', 'blue', 'yellow', 'red', 'green', 'red', 'red', 'red', 'red', 'green', 'blue', 'blue', 'red', 'red', 'red', 'red', 'green', 'red', 'yellow', 'red', 'yellow', 'yellow', 'red', 'red', 'red', 'red', 'blue', 'red', 'yellow', 'red', 'green', 'red', 'blue', 'green', 'yellow', 'yellow', 'green', 'red', 'blue', 'red', 'red', 'red', 'red', 'red', 'red', 'blue', 'blue', 'green', 'green', 'green', 'blue', 'red', 'blue', 'blue', 'green', 'red', 'red', 'red', 'red', 'red', 'red', 'red', 'green', 'green', 'red', 'red', 'yellow', 'red', 'green', 'green', 'blue', 'red', 'yellow', 'red', 'red', 'red', 'red', 'yellow', 'red', 'blue', 'red', 'red', 'yellow', 'green', 'blue', 'blue', 'blue', 'green', 'yellow', 'red', 'green', 'green', 'blue', 'red', 'blue', 'yellow', 'blue', 'yellow', 'green', 'yellow', 'red', 'yellow', 'red', 'red', 'red', 'blue', 'blue', 'yellow', 'red', 'red', 'red', 'green', 'red', 'green', 'red', 'blue', 'blue', 'red', 'yellow', 'red', 'green', 'red', 'green', 'green', 'red', 'green', 'red', 'yellow', 'yellow', 'red', 'green', 'blue', 'green', 'red', 'yellow', 'blue', 'red', 'red', 'red', 'red', 'yellow', 'red', 'blue', 'blue', 'red', 'red', 'red', 'red', 'yellow', 'yellow', 'red', 'red', 'red', 'red', 'blue', 'red', 'blue', 'green', 'red', 'blue', 'green', 'blue', 'yellow', 'red', 'red', 'blue', 'yellow', 'red', 'yellow', 'blue', 'red', 'red', 'red', 'yellow', 'yellow', 'red', 'red', 'red', 'blue', 'green', 'green', 'yellow', 'red', 'yellow', 'blue', 'blue', 'red', 'blue', 'blue', 'blue', 'red', 'red', 'yellow', 'green', 'yellow', 'yellow', 'red', 'green', 'red', 'yellow', 'green', 'yellow', 'yellow', 'red', 'yellow', 'green', 'red', 'yellow', 'yellow', 'blue', 'red', 'green', 'blue', 'yellow', 'red', 'green', 'blue', 'yellow', 'red', 'yellow', 'green', 'red', 'yellow', 'green', 'red', 'red', 'green', 'red', 'yellow', 'blue', 'green', 'red', 'red', 'blue', 'red', 'blue', 'green', 'blue', 'yellow', 'red', 'red', 'red', 'red', 'blue', 'red', 'blue', 'red', 'red', 'blue', 'red', 'yellow', 'green', 'red', 'green', 'blue', 'red', 'red', 'green', 'blue', 'yellow', 'red', 'green', 'red', 'yellow', 'blue', 'red', 'red', 'green', 'red', 'green', 'yellow', 'blue', 'red', 'green', 'red', 'green', 'yellow', 'red', 'yellow', 'red', 'red', 'red', 'red', 'red', 'red', 'yellow', 'red', 'yellow', 'blue', 'red', 'red', 'green', 'red', 'red', 'red', 'red', 'red', 'green', 'red', 'green', 'green', 'red', 'blue', 'green', 'red', 'yellow', 'red', 'yellow', 'yellow', 'yellow', 'red', 'red', 'yellow', 'red', 'blue', 'blue', 'red', 'red', 'red', 'green', 'blue', 'blue', 'red', 'red', 'green', 'blue', 'red', 'red', 'yellow', 'blue', 'red', 'red', 'red', 'green', 'red', 'yellow', 'blue', 'blue', 'red', 'red', 'red', 'green', 'red', 'yellow', 'blue', 'yellow', 'blue', 'red', 'red', 'blue', 'green', 'red', 'red', 'blue', 'red', 'blue', 'green', 'blue', 'blue', 'red', 'red', 'red', 'red', 'red', 'blue', 'red', 'green', 'red', 'blue', 'red', 'red', 'green', 'red', 'green', 'red', 'red', 'red', 'red', 'red', 'blue', 'red', 'red', 'green', 'yellow', 'blue', 'red', 'red', 'blue', 'green', 'green', 'blue', 'blue', 'yellow', 'yellow', 'red', 'red', 'red', 'green', 'blue', 'green', 'red', 'green', 'yellow', 'green', 'red', 'red', 'blue', 'red', 'red', 'red', 'red', 'red', 'yellow', 'yellow', 'red', 'red', 'red', 'red', 'green', 'blue', 'red', 'red', 'blue', 'red', 'blue', 'red', 'blue', 'red', 'red', 'red', 'green', 'red', 'yellow', 'red', 'blue', 'green', 'green', 'blue', 'green', 'red', 'green', 'yellow', 'green', 'red', 'green', 'green', 'red', 'blue', 'red', 'green', 'green', 'red', 'green', 'red', 'yellow', 'yellow', 'red', 'green', 'red', 'red', 'blue', 'yellow', 'green', 'green', 'red', 'yellow', 'red', 'red', 'yellow', 'red', 'green', 'red', 'red', 'yellow', 'red', 'green', 'red', 'yellow', 'red', 'blue', 'red', 'red', 'blue', 'red', 'red', 'red', 'green', 'red', 'red', 'red', 'blue', 'yellow', 'blue', 'green', 'red', 'blue', 'red', 'yellow', 'red', 'red', 'red', 'blue', 'red', 'yellow', 'yellow', 'red', 'red', 'yellow', 'red', 'green', 'red', 'red', 'green', 'red', 'yellow', 'green', 'red', 'green', 'green', 'green', 'red', 'blue', 'green', 'yellow', 'yellow', 'blue', 'yellow', 'red', 'green', 'blue', 'blue', 'green', 'red', 'red', 'red', 'blue', 'yellow', 'red', 'blue', 'blue', 'yellow', 'red', 'yellow', 'red', 'green', 'green', 'red', 'red', 'blue', 'green', 'red', 'red', 'blue', 'blue', 'green', 'blue', 'blue', 'yellow', 'red', 'red', 'red', 'red', 'red', 'red', 'blue', 'yellow', 'green', 'yellow', 'red', 'blue', 'red', 'red', 'red', 'blue', 'red', 'green', 'red', 'yellow', 'red', 'red', 'blue', 'red', 'yellow', 'yellow', 'red', 'red', 'red', 'blue', 'blue', 'green', 'red', 'red', 'yellow', 'red', 'red', 'red', 'red', 'blue', 'red', 'yellow', 'red', 'green', 'blue', 'blue', 'blue', 'blue', 'red', 'red', 'green', 'green', 'blue', 'red', 'yellow', 'red', 'red', 'red', 'red', 'blue', 'red', 'yellow', 'yellow', 'red', 'red', 'yellow', 'green', 'red', 'yellow', 'red', 'red', 'red', 'blue', 'red', 'yellow', 'red', 'red', 'red', 'red', 'yellow', 'green', 'red', 'blue', 'green', 'blue', 'red', 'blue', 'red', 'red', 'yellow', 'red', 'red', 'red', 'red', 'red', 'red', 'blue', 'red', 'blue', 'green', 'yellow', 'red', 'red', 'red', 'green', 'blue', 'blue', 'green', 'green', 'red', 'red', 'yellow', 'yellow', 'green', 'green', 'yellow', 'green', 'red', 'blue', 'red', 'green', 'red', 'red', 'red', 'red', 'red', 'red', 'yellow', 'red', 'blue', 'red', 'red', 'red', 'red', 'red', 'red', 'yellow', 'green', 'yellow', 'red', 'red', 'red', 'green', 'green', 'red', 'red', 'blue', 'yellow', 'red', 'red', 'green', 'red', 'red', 'red', 'red', 'yellow', 'red', 'red', 'red', 'green', 'green', 'red', 'red', 'yellow', 'red', 'red', 'yellow', 'yellow', 'yellow', 'yellow', 'blue', 'yellow', 'red', 'green', 'green', 'red', 'blue', 'green', 'yellow', 'red', 'yellow', 'red', 'green', 'red', 'blue', 'yellow', 'red', 'red', 'red', 'green', 'red', 'red', 'green', 'blue', 'red', 'blue', 'blue', 'red', 'blue', 'yellow', 'red', 'red', 'red', 'red', 'red', 'red', 'blue', 'red', 'green', 'blue', 'red', 'red', 'green', 'red', 'blue', 'yellow', 'blue', 'yellow', 'blue', 'red', 'red', 'red', 'green', 'red', 'green', 'green', 'yellow', 'yellow', 'red', 'green', 'green', 'red', 'red', 'red', 'blue', 'red', 'red', 'red', 'green', 'green', 'red', 'red', 'green', 'red', 'blue', 'red', 'blue', 'red', 'blue', 'blue', 'red', 'red', 'yellow', 'yellow', 'blue', 'red', 'blue', 'yellow', 'blue', 'red', 'yellow', 'red', 'green', 'red', 'green', 'red', 'green', 'red', 'blue', 'green', 'red', 'red', 'red', 'yellow', 'yellow', 'blue', 'red', 'blue', 'yellow', 'green', 'green', 'red', 'red', 'red', 'red', 'blue', 'red', 'green', 'red', 'red', 'red', 'red', 'green', 'red', 'green', 'red', 'red', 'yellow', 'red', 'yellow', 'red', 'green', 'green', 'green', 'red', 'blue', 'green', 'red', 'yellow', 'green', 'red', 'red', 'red', 'red', 'red', 'blue', 'red', 'yellow', 'blue', 'green', 'red', 'red', 'blue', 'red', 'green', 'yellow', 'red', 'green', 'green', 'green', 'red', 'blue', 'red', 'red', 'blue', 'red', 'yellow', 'red', 'red', 'green', 'red', 'blue', 'red', 'red', 'red', 'yellow', 'green', 'yellow', 'red', 'blue', 'green', 'blue', 'green', 'red', 'red', 'red', 'red', 'red', 'red', 'red', 'green', 'yellow', 'red', 'red', 'green', 'blue', 'red', 'red', 'yellow', 'green', 'yellow', 'green', 'green', 'red', 'green', 'green', 'red', 'red', 'red', 'green', 'red', 'yellow', 'green', 'yellow', 'red', 'red', 'red', 'yellow', 'red', 'yellow', 'blue', 'red', 'yellow', 'yellow', 'yellow', 'green', 'red', 'blue', 'red', 'green', 'green', 'red', 'red', 'red', 'blue', 'red', 'blue', 'red', 'yellow', 'red', 'green', 'green', 'green', 'green', 'blue', 'red', 'red', 'green', 'red', 'red', 'red', 'red', 'red', 'blue', 'yellow', 'red', 'red', 'yellow', 'red', 'green', 'red', 'red', 'yellow', 'red', 'red', 'green', 'green', 'blue', 'blue', 'red', 'red', 'yellow', 'yellow', 'red', 'red', 'blue', 'green', 'yellow', 'red', 'green', 'red', 'green', 'green', 'red', 'blue', 'yellow', 'red', 'green', 'red', 'red', 'blue', 'red', 'yellow', 'blue', 'blue', 'red', 'red', 'green', 'red', 'blue', 'red', 'green', 'blue', 'red', 'green', 'red', 'red', 'red', 'blue', 'red', 'red', 'blue', 'blue', 'blue', 'red', 'green', 'red', 'blue', 'red', 'green', 'red', 'red', 'yellow', 'green', 'green', 'yellow', 'red', 'blue', 'red', 'red', 'yellow', 'blue', 'blue', 'green', 'blue', 'blue', 'yellow', 'red', 'red', 'green', 'red', 'red', 'red', 'red', 'red', 'red', 'red', 'red', 'red', 'red', 'green', 'blue', 'red', 'red', 'red', 'blue', 'green', 'red', 'blue', 'yellow', 'red', 'red', 'yellow', 'red', 'green', 'green', 'green', 'red', 'yellow', 'green', 'red', 'blue', 'blue', 'red', 'red', 'green', 'red', 'yellow', 'red', 'yellow', 'blue', 'red', 'red', 'red', 'blue', 'red', 'yellow', 'blue', 'green', 'red', 'blue', 'blue', 'blue', 'blue', 'red', 'yellow', 'red', 'red', 'blue', 'red', 'red', 'green', 'red', 'yellow', 'green', 'blue', 'yellow', 'red', 'red', 'blue', 'red', 'green', 'green', 'red', 'green', 'blue', 'green', 'yellow', 'red', 'yellow', 'red', 'red', 'green', 'red', 'blue', 'green', 'red', 'red', 'blue', 'green', 'yellow', 'red', 'yellow', 'red', 'yellow', 'yellow', 'green', 'red', 'blue', 'yellow', 'yellow', 'yellow', 'red', 'red', 'blue', 'red', 'red', 'red', 'red', 'red', 'green', 'red', 'yellow', 'red', 'blue', 'blue', 'yellow', 'red', 'yellow', 'yellow', 'red', 'red', 'red', 'green', 'blue', 'red', 'blue', 'red', 'red', 'yellow', 'red', 'yellow', 'green', 'yellow', 'yellow', 'yellow', 'red', 'red', 'green', 'blue', 'red', 'yellow', 'red', 'yellow', 'green', 'red', 'red', 'yellow', 'blue', 'green', 'red', 'red', 'red', 'blue', 'red', 'red', 'red', 'green', 'green', 'red', 'green', 'green', 'red', 'red', 'red', 'yellow', 'blue', 'red', 'green', 'red', 'red', 'green', 'blue', 'blue', 'red', 'red', 'green', 'green', 'red', 'green', 'red', 'red', 'blue', 'blue', 'yellow', 'green', 'blue', 'blue', 'red', 'red', 'red', 'yellow', 'yellow', 'yellow', 'green', 'red', 'red', 'blue', 'blue', 'red', 'blue', 'red', 'red', 'green', 'red', 'red', 'red', 'red', 'red', 'green', 'blue', 'green', 'red', 'yellow', 'blue', 'green', 'yellow', 'red', 'yellow', 'red', 'yellow', 'red', 'red', 'green', 'red', 'green', 'red', 'red', 'red', 'red', 'green', 'red', 'red', 'red', 'red', 'red', 'yellow', 'red', 'red', 'yellow', 'red', 'blue', 'yellow', 'red', 'red', 'red', 'yellow', 'red', 'yellow', 'red', 'blue', 'red', 'red', 'red', 'green', 'red', 'blue', 'yellow', 'red', 'green', 'red', 'red', 'yellow', 'red', 'yellow', 'red', 'red', 'blue', 'red', 'green', 'blue', 'red', 'green', 'yellow', 'green', 'yellow', 'red', 'red', 'red', 'blue', 'red', 'blue', 'yellow', 'yellow', 'green', 'blue', 'red', 'red', 'green', 'red', 'red', 'blue', 'green', 'yellow', 'green', 'red', 'yellow', 'green', 'yellow', 'red', 'blue', 'blue', 'red', 'red', 'red', 'green', 'green', 'blue', 'red', 'green', 'green', 'yellow', 'blue', 'red', 'blue', 'red', 'red', 'red', 'red', 'green', 'green', 'red', 'red', 'red', 'red', 'red', 'red', 'green', 'blue', 'blue', 'red', 'red', 'red', 'red', 'blue', 'red', 'blue', 'red', 'red', 'blue', 'red', 'blue', 'green', 'red', 'yellow', 'green', 'yellow', 'red', 'red', 'red', 'red', 'blue', 'green', 'red', 'red', 'red', 'green', 'yellow', 'red', 'red', 'red', 'red', 'yellow', 'green', 'red', 'red', 'blue', 'green', 'yellow', 'red', 'red', 'blue', 'green', 'blue', 'red', 'red', 'blue', 'yellow', 'red', 'blue', 'red', 'blue', 'blue', 'red', 'red', 'red', 'green', 'red', 'green', 'red', 'green', 'green', 'blue', 'green', 'red', 'yellow', 'red', 'yellow', 'red', 'green', 'red', 'green', 'blue', 'red', 'yellow', 'green', 'red', 'yellow', 'red', 'red', 'red', 'yellow', 'green', 'red', 'green', 'green', 'red', 'red', 'red', 'red', 'yellow', 'blue', 'green', 'red', 'red', 'red', 'red', 'red', 'green', 'red', 'blue', 'red', 'yellow', 'red', 'blue', 'yellow', 'red', 'red', 'red', 'red', 'red', 'red', 'blue', 'green', 'green', 'yellow', 'green', 'blue', 'yellow', 'red', 'green', 'red', 'red', 'red', 'red', 'red', 'red', 'red', 'red', 'red', 'green', 'red', 'green', 'red', 'red', 'yellow', 'green', 'red', 'green', 'green', 'blue', 'red', 'blue', 'blue', 'yellow', 'blue', 'red', 'red', 'red', 'green', 'green', 'red', 'red', 'red', 'blue', 'red', 'blue', 'red', 'yellow', 'blue', 'red', 'blue', 'red', 'green', 'blue', 'blue', 'blue', 'green', 'blue', 'blue', 'red', 'yellow', 'red', 'yellow', 'red', 'red', 'red', 'blue', 'red', 'red', 'red', 'yellow', 'red', 'yellow', 'red', 'red', 'red', 'red', 'yellow', 'blue', 'yellow', 'green', 'red', 'blue', 'red', 'red', 'green', 'blue', 'red', 'yellow', 'yellow', 'green', 'red', 'red', 'green', 'red', 'red', 'blue', 'red', 'blue', 'red', 'green', 'green', 'red', 'green', 'green', 'red', 'yellow', 'red', 'red', 'red', 'red', 'green', 'red', 'red', 'yellow', 'red', 'green', 'green', 'red', 'blue', 'blue', 'red', 'green', 'red', 'blue', 'green', 'red', 'red', 'red', 'red', 'blue', 'green', 'red', 'red', 'yellow', 'red', 'red', 'red', 'red', 'yellow', 'green', 'red', 'yellow', 'green', 'green', 'green', 'red', 'red', 'red', 'yellow', 'red', 'red', 'blue', 'yellow', 'blue', 'blue', 'blue', 'yellow', 'green', 'red', 'red', 'red', 'red', 'yellow', 'red', 'green', 'red', 'red', 'red', 'red', 'blue', 'green', 'red', 'red', 'red', 'red', 'green', 'red', 'red', 'blue', 'red', 'green', 'blue', 'red', 'red', 'yellow', 'green', 'yellow', 'red', 'yellow', 'red', 'red', 'red', 'yellow', 'red', 'green', 'blue', 'blue', 'blue', 'blue', 'red', 'green', 'red', 'red', 'green', 'yellow', 'red', 'red', 'red', 'blue', 'yellow', 'yellow', 'blue', 'red', 'green', 'blue', 'red', 'green', 'red', 'blue', 'red', 'blue', 'red', 'yellow', 'red', 'red', 'red', 'green', 'green', 'red', 'red', 'red', 'yellow', 'blue', 'red', 'green', 'red', 'green', 'blue', 'yellow', 'yellow', 'red', 'red', 'blue', 'red', 'red', 'red', 'red', 'blue', 'blue', 'yellow', 'blue', 'green', 'green', 'red', 'green', 'red', 'blue', 'green', 'red', 'yellow', 'yellow', 'red', 'red', 'green', 'blue', 'red', 'red', 'yellow', 'yellow', 'red', 'green', 'red', 'red', 'blue', 'red', 'yellow', 'yellow', 'red', 'green', 'blue', 'green', 'yellow', 'red', 'red', 'red', 'yellow', 'yellow', 'blue', 'green', 'blue', 'red', 'red', 'blue', 'red', 'blue', 'yellow', 'red', 'blue', 'red', 'blue', 'red', 'red', 'red', 'green', 'blue', 'red', 'red', 'red', 'yellow', 'red', 'yellow', 'yellow', 'red', 'red', 'red', 'yellow', 'blue', 'blue', 'red', 'green', 'red', 'blue', 'red', 'red', 'red', 'green', 'green', 'red', 'green', 'red', 'red', 'red', 'green', 'red', 'red', 'red', 'red', 'green', 'blue', 'blue', 'red', 'green', 'blue', 'green', 'red', 'green', 'yellow', 'red', 'green', 'green', 'green', 'yellow', 'red', 'red', 'red', 'green', 'green', 'blue', 'red', 'green', 'red', 'blue', 'blue', 'yellow', 'red', 'blue', 'red', 'blue', 'blue', 'green', 'red', 'yellow', 'yellow', 'red', 'blue', 'red', 'blue', 'red', 'yellow', 'blue', 'red', 'red', 'red', 'blue', 'yellow', 'yellow', 'green', 'red', 'blue', 'yellow', 'green', 'yellow', 'yellow', 'red', 'yellow', 'red', 'red', 'red', 'red', 'red', 'yellow', 'red', 'blue', 'blue', 'red', 'blue', 'red', 'yellow', 'red', 'red', 'red', 'red', 'red', 'red', 'red', 'red', 'red', 'red', 'yellow', 'red', 'green', 'green', 'red', 'red', 'yellow', 'red', 'red', 'red', 'blue', 'green', 'yellow', 'green', 'green', 'blue', 'red', 'red', 'blue', 'yellow', 'red', 'red', 'green', 'red', 'red', 'red', 'red', 'yellow', 'red', 'green', 'blue', 'yellow', 'red', 'red', 'green', 'red', 'yellow', 'green', 'red', 'green', 'yellow', 'red', 'blue', 'green', 'red', 'green', 'yellow', 'yellow', 'green', 'red', 'green', 'blue', 'blue', 'blue', 'red', 'yellow', 'green', 'red', 'yellow', 'green', 'red', 'green', 'yellow', 'green', 'blue', 'red', 'green', 'green', 'red', 'red', 'red', 'blue', 'red', 'yellow', 'blue', 'blue', 'green', 'red', 'red', 'blue', 'blue', 'green', 'blue', 'yellow', 'red', 'blue', 'green', 'yellow', 'red', 'red', 'red', 'green', 'red', 'blue', 'red', 'red', 'red', 'green', 'red', 'blue', 'red', 'red', 'green', 'red', 'red', 'red', 'red', 'red', 'red', 'red', 'red', 'red', 'red', 'yellow', 'green', 'yellow', 'red', 'blue', 'green', 'red', 'red', 'red', 'red', 'yellow', 'red', 'yellow', 'blue', 'yellow', 'green', 'blue', 'red', 'green', 'red', 'red', 'red', 'yellow', 'green', 'red', 'red', 'red', 'red', 'red', 'green', 'green', 'red', 'red', 'red', 'green', 'yellow', 'red', 'red', 'blue', 'yellow', 'blue', 'green', 'red', 'red', 'green', 'yellow', 'red', 'green', 'red', 'green', 'red', 'red', 'green', 'red', 'green', 'red', 'red', 'blue', 'red', 'red', 'green', 'red', 'blue', 'blue', 'blue', 'red', 'green', 'green', 'blue', 'green', 'blue', 'green', 'green', 'red', 'red', 'red', 'red', 'red', 'green', 'red', 'red', 'green', 'red', 'red', 'green', 'red', 'green', 'red', 'blue', 'red', 'red', 'red', 'blue', 'red', 'green', 'red', 'green', 'yellow', 'red', 'green', 'red', 'blue', 'red', 'yellow', 'yellow', 'yellow', 'red', 'blue', 'red', 'red', 'red', 'green', 'red', 'blue', 'red', 'yellow', 'blue', 'red', 'red', 'red', 'red', 'red', 'red', 'green', 'red', 'red', 'red', 'red', 'blue', 'red', 'yellow', 'blue', 'green', 'blue', 'yellow', 'yellow', 'yellow', 'blue', 'red', 'red', 'red', 'blue', 'blue', 'yellow', 'red', 'blue', 'red', 'red', 'blue', 'yellow', 'green', 'blue', 'yellow', 'red', 'red', 'blue', 'red', 'yellow', 'red', 'yellow', 'red', 'red', 'red', 'red', 'red', 'red', 'blue', 'yellow', 'red', 'red', 'red', 'yellow', 'red', 'red', 'blue', 'red', 'green', 'red', 'red', 'red', 'red', 'blue', 'red', 'green', 'yellow', 'red', 'blue', 'yellow', 'yellow', 'blue', 'red', 'yellow', 'red', 'red', 'blue', 'green', 'red', 'red', 'red', 'red', 'red', 'blue', 'yellow', 'blue', 'red', 'red', 'red', 'blue', 'green', 'red', 'blue', 'red', 'red', 'red', 'red', 'red', 'red', 'red', 'blue', 'blue', 'red', 'red', 'blue', 'yellow', 'red', 'red', 'green', 'yellow', 'red', 'red', 'red', 'red', 'blue', 'green', 'blue', 'green', 'red', 'blue', 'green', 'yellow', 'yellow', 'red', 'red', 'red', 'red', 'yellow', 'yellow', 'green', 'red', 'red', 'green', 'blue', 'blue', 'blue', 'red', 'red', 'yellow', 'red', 'yellow', 'green', 'red', 'green', 'blue', 'red', 'red', 'yellow', 'green', 'red', 'red', 'blue', 'green', 'green', 'red', 'yellow', 'green', 'red', 'red', 'blue', 'red', 'yellow', 'yellow', 'red', 'blue', 'red', 'blue', 'red', 'green', 'red', 'green', 'yellow', 'blue', 'red', 'blue', 'red', 'green', 'blue', 'green', 'red', 'red', 'red', 'red', 'red', 'green', 'red', 'blue', 'green', 'red', 'red', 'blue', 'green', 'red', 'red', 'red', 'red', 'blue', 'red', 'yellow', 'red', 'blue', 'red', 'green', 'yellow', 'red', 'red', 'red', 'red', 'green', 'red', 'red', 'blue', 'yellow', 'green', 'red', 'red', 'red', 'red', 'yellow', 'red', 'yellow', 'blue', 'blue', 'red', 'yellow', 'red', 'blue', 'red', 'red', 'yellow', 'red', 'red', 'red', 'green', 'red', 'red', 'red', 'green', 'red', 'yellow', 'green', 'blue', 'green', 'yellow', 'blue', 'blue', 'green', 'red', 'red', 'blue', 'red', 'yellow', 'blue', 'red', 'yellow', 'blue', 'red', 'red', 'red', 'yellow', 'red', 'blue', 'red', 'red', 'green', 'yellow', 'red', 'blue', 'green', 'red', 'red', 'yellow', 'red', 'yellow', 'red', 'red', 'red', 'green', 'red', 'blue', 'red', 'red', 'yellow', 'green', 'red', 'red', 'green', 'green', 'red', 'red', 'red', 'green', 'yellow', 'blue', 'red', 'red', 'blue', 'yellow', 'red', 'red', 'blue', 'green', 'yellow', 'red', 'red', 'red', 'yellow', 'red', 'yellow', 'red', 'red', 'blue', 'green', 'red', 'red', 'red', 'blue', 'red', 'green', 'red', 'yellow', 'red', 'red', 'red', 'red', 'red', 'yellow', 'yellow', 'red', 'red', 'blue', 'blue', 'red', 'blue', 'green', 'red', 'blue', 'green', 'blue', 'green', 'green', 'red', 'red', 'blue', 'yellow', 'red', 'blue', 'yellow', 'green', 'red', 'yellow', 'red', 'blue', 'yellow', 'yellow', 'yellow', 'blue', 'green', 'green', 'yellow', 'blue', 'yellow', 'red', 'red', 'blue', 'red', 'blue', 'yellow', 'blue', 'red', 'green', 'blue', 'blue', 'green', 'green', 'red', 'red', 'red', 'red', 'yellow', 'red', 'blue', 'yellow', 'blue', 'red', 'red', 'green', 'red', 'green', 'red', 'red', 'green', 'red', 'red', 'green', 'red', 'red', 'blue', 'red', 'blue', 'red', 'red', 'red', 'green', 'red', 'green', 'green', 'red', 'red', 'yellow', 'yellow', 'red', 'red', 'red', 'green', 'red', 'blue', 'red', 'green', 'blue', 'red', 'blue', 'red', 'red', 'red', 'red', 'green', 'yellow', 'red', 'yellow', 'red', 'red', 'blue', 'blue', 'yellow', 'red', 'yellow', 'red', 'red', 'yellow', 'red', 'red', 'yellow', 'red', 'yellow', 'green', 'yellow', 'red', 'green', 'red', 'green', 'blue', 'red', 'red', 'blue', 'green', 'blue', 'yellow', 'red', 'red', 'yellow', 'red', 'red', 'blue', 'blue', 'red', 'blue', 'red', 'red', 'yellow', 'blue', 'red', 'red', 'red', 'blue', 'yellow', 'blue', 'yellow']"
   ]
  },
  {
   "cell_type": "code",
   "execution_count": null,
   "id": "3972434f",
   "metadata": {
    "slideshow": {
     "slide_type": "fragment"
    }
   },
   "outputs": [],
   "source": [
    "print(big_cup)"
   ]
  },
  {
   "cell_type": "markdown",
   "id": "d5c7513f",
   "metadata": {
    "slideshow": {
     "slide_type": "subslide"
    }
   },
   "source": [
    "Can we make a smaller model that captures sampling from `big_cup`?\n",
    "- HINT: Do we need to remember each Skittle, or are the **Probabilities** (ratios) enough?"
   ]
  },
  {
   "cell_type": "code",
   "execution_count": null,
   "id": "b9ffeeb9",
   "metadata": {
    "slideshow": {
     "slide_type": "subslide"
    }
   },
   "outputs": [],
   "source": [
    "# Student solution\n",
    "def build_model(cup):\n",
    "    colors = [\"red\", \"purple\", \"yellow\", \"green\", \"orange\", \"blue\"]\n",
    "    ratios = {}\n",
    "    for color in colors:\n",
    "        counter = 0\n",
    "        for skittle in cup:\n",
    "            if skittle == color:\n",
    "                counter += 1\n",
    "        ratios[color] = counter / len(cup)\n",
    "    return ratios"
   ]
  },
  {
   "cell_type": "code",
   "execution_count": null,
   "id": "73bcdf69",
   "metadata": {
    "slideshow": {
     "slide_type": "skip"
    }
   },
   "outputs": [],
   "source": [
    "# Solution\n",
    "def build_model(cup):\n",
    "    counts = {}\n",
    "    total_count = len(cup)\n",
    "    for x in cup:\n",
    "        if x not in counts:\n",
    "            counts[x] = 0\n",
    "        counts[x] += 1\n",
    "    return {k: v/total_count for k, v in counts.items()}        "
   ]
  },
  {
   "cell_type": "code",
   "execution_count": null,
   "id": "c9b8e0a1",
   "metadata": {
    "slideshow": {
     "slide_type": "subslide"
    }
   },
   "outputs": [],
   "source": [
    "# Let's compare small_cup to big_cup:\n",
    "big_model = build_model(big_cup)\n",
    "print(big_model)\n",
    "small_model = build_model(small_cup)\n",
    "print(small_model)"
   ]
  },
  {
   "cell_type": "code",
   "execution_count": null,
   "id": "4c8a7fbc",
   "metadata": {
    "slideshow": {
     "slide_type": "notes"
    }
   },
   "outputs": [],
   "source": [
    "big_cup_model = build_model(big_cup)\n",
    "small_cup_model = build_model(small_cup)\n",
    "print(\"Big cup model: \" + str(big_cup_model))\n",
    "print(\"Small cup: \" + str(small_cup_model))"
   ]
  },
  {
   "cell_type": "markdown",
   "id": "hxv1z1mghy6",
   "metadata": {
    "slideshow": {
     "slide_type": "slide"
    }
   },
   "source": [
    "## Language Models"
   ]
  },
  {
   "cell_type": "markdown",
   "id": "8wu8ggsb2r3",
   "metadata": {
    "slideshow": {
     "slide_type": "fragment"
    }
   },
   "source": [
    "> The cat sat on the _____\n",
    "\n",
    "What comes next?"
   ]
  },
  {
   "cell_type": "markdown",
   "id": "c33f3fd8",
   "metadata": {
    "slideshow": {
     "slide_type": "subslide"
    }
   },
   "source": [
    "Superpower unlocked 🔓 You have a Language Model.\n",
    "- You know what word is likely to follow.\n",
    "- You can assign a **probability** to the missing word.\n",
    "- You learned this from reading, talking and just existing in this world!"
   ]
  },
  {
   "cell_type": "markdown",
   "id": "jx3m6zgakml",
   "metadata": {
    "slideshow": {
     "slide_type": "fragment"
    }
   },
   "source": [
    "We can't explain to computers what a language is, but we can model it for them!"
   ]
  },
  {
   "cell_type": "markdown",
   "id": "0v0ylw78zufs",
   "metadata": {
    "slideshow": {
     "slide_type": "subslide"
    }
   },
   "source": [
    "#### Today we'll build a language model from scratch 🔨\n",
    "\n",
    "Remember: All models rely on assumptions (\"are wrong\"), but some are useful!"
   ]
  },
  {
   "cell_type": "markdown",
   "id": "05147f02",
   "metadata": {
    "slideshow": {
     "slide_type": "slide"
    }
   },
   "source": [
    "# Take 0: A useless model 🎬"
   ]
  },
  {
   "cell_type": "markdown",
   "id": "51a351ee",
   "metadata": {
    "slideshow": {
     "slide_type": "fragment"
    }
   },
   "source": [
    "Let's try to sample letters randomly until a sentence is formed."
   ]
  },
  {
   "cell_type": "code",
   "execution_count": null,
   "id": "5628c2cf",
   "metadata": {
    "slideshow": {
     "slide_type": "subslide"
    }
   },
   "outputs": [],
   "source": [
    "text = ['t', 'h', 'e', ' ',\n",
    "'q', 'u', 'i', 'c', 'k', ' ',\n",
    "'b', 'r', 'o', 'w', 'n', ' ',\n",
    "'f', 'o', 'x', ' ',\n",
    "'j', 'u', 'm', 'p', 's', ' ',\n",
    "'o', 'v', 'e', 'r', ' ',\n",
    "'t', 'h', 'e', ' ',\n",
    "'l', 'a', 'z', 'y', ' ',\n",
    "'d', 'o', 'g']"
   ]
  },
  {
   "cell_type": "code",
   "execution_count": null,
   "id": "062f130f",
   "metadata": {},
   "outputs": [],
   "source": [
    "lazy_model = build_model(text)"
   ]
  },
  {
   "cell_type": "code",
   "execution_count": null,
   "id": "4beabd5f",
   "metadata": {
    "slideshow": {
     "slide_type": "fragment"
    }
   },
   "outputs": [],
   "source": [
    "print(lazy_model)  # what will be printed?"
   ]
  },
  {
   "cell_type": "code",
   "execution_count": null,
   "id": "daf379b4",
   "metadata": {
    "slideshow": {
     "slide_type": "subslide"
    }
   },
   "outputs": [],
   "source": [
    "# Now let's generate\n",
    "from jamcoders.random import sample_from_dict\n",
    "sentence = \"\"\n",
    "for i in range(10):\n",
    "    sentence += sample_from_dict(lazy_model)\n",
    "print(sentence)"
   ]
  },
  {
   "cell_type": "code",
   "execution_count": null,
   "id": "edfa9c21",
   "metadata": {
    "slideshow": {
     "slide_type": "subslide"
    }
   },
   "outputs": [],
   "source": [
    "better_model = {' ': 0.15456159634734082,\n",
    " 'a': 0.06865646402299821,\n",
    " 'b': 0.012598292043628983,\n",
    " 'c': 0.022913672106197682,\n",
    " 'd': 0.036526591696964573,\n",
    " 'e': 0.10163185930498013,\n",
    " 'f': 0.01944702798680984,\n",
    " 'g': 0.017164116005749554,\n",
    " 'h': 0.05005495899213663,\n",
    " 'i': 0.06180772807981736,\n",
    " 'j': 0.000845522955948254,\n",
    " 'k': 0.005834108396042952,\n",
    " 'l': 0.03365181364674051,\n",
    " 'm': 0.02206814915024943,\n",
    " 'n': 0.058763845438403656,\n",
    " 'o': 0.06493616301682589,\n",
    " 'p': 0.015388517798258223,\n",
    " 'q': 0.0009300752515430794,\n",
    " 'r': 0.050900481948084886,\n",
    " 's': 0.053098841633550345,\n",
    " 't': 0.07694258899129111,\n",
    " 'u': 0.024351061131309713,\n",
    " 'v': 0.009385304811025619,\n",
    " 'w': 0.017671429779318504,\n",
    " 'x': 0.0014373890251120317,\n",
    " 'y': 0.017840534370508157,\n",
    " 'z': 0.0005918660691637777}"
   ]
  },
  {
   "cell_type": "code",
   "execution_count": null,
   "id": "eaf8c118",
   "metadata": {
    "slideshow": {
     "slide_type": "skip"
    }
   },
   "outputs": [],
   "source": [
    "# From https://pi.math.cornell.edu/~mec/2003-2004/cryptography/subs/frequencies.html ?"
   ]
  },
  {
   "cell_type": "code",
   "execution_count": null,
   "id": "c10bc5c0",
   "metadata": {
    "slideshow": {
     "slide_type": "subslide"
    }
   },
   "outputs": [],
   "source": [
    "# Now let's generate\n",
    "from jamcoders.random import sample_from_dict\n",
    "sentence = \"\"\n",
    "for i in range(10):\n",
    "    sentence += sample_from_dict(better_model)\n",
    "print(sentence)"
   ]
  },
  {
   "cell_type": "markdown",
   "id": "0b42f38d",
   "metadata": {
    "slideshow": {
     "slide_type": "subslide"
    }
   },
   "source": [
    "Why doesn't it work? Why can't we generate a valid sentence?"
   ]
  },
  {
   "cell_type": "code",
   "execution_count": null,
   "id": "59b58577",
   "metadata": {
    "slideshow": {
     "slide_type": "fragment"
    }
   },
   "outputs": [],
   "source": [
    "num_3_ltr_words = 1000\n",
    "num_4_ltr_words = 5000\n",
    "num_5_ltr_words = 100000\n",
    "# How many possible 3-letter, 4-letter and 5-letter strings are there, though?\n",
    "num_letters = 26\n",
    "num_3_ltr_strings = 26 * 26 *26\n",
    "num_5_ltr_strings = 26 * 26 * 26 *26 *26\n",
    "print(num_5_ltr_words / num_5_ltr_strings)"
   ]
  },
  {
   "cell_type": "markdown",
   "id": "6ywqf4y73cu",
   "metadata": {
    "slideshow": {
     "slide_type": "slide"
    }
   },
   "source": [
    "# Take 1: Skittle models 🎬"
   ]
  },
  {
   "cell_type": "markdown",
   "id": "w7mkx78d7gi",
   "metadata": {
    "slideshow": {
     "slide_type": "fragment"
    }
   },
   "source": [
    "Let's try sampling valid words, just like sampling Skittles from a cup."
   ]
  },
  {
   "cell_type": "code",
   "execution_count": null,
   "id": "h1iwbi9e2f",
   "metadata": {
    "slideshow": {
     "slide_type": "fragment"
    }
   },
   "outputs": [],
   "source": [
    "# A language model based on a single sentence\n",
    "tiny_text = [\"the\", \"cat\", \"and\", \"the\", \"dog\", \"sat\", \"and\", \"talked\"]"
   ]
  },
  {
   "cell_type": "code",
   "execution_count": null,
   "id": "4860a02a",
   "metadata": {
    "slideshow": {
     "slide_type": "subslide"
    }
   },
   "outputs": [],
   "source": [
    "# Write it as Probabilities (ratios)\n",
    "# total_number_of_words = len(tiny_text)\n",
    "# print(total_number_of_words)\n",
    "tiny_model = build_model(tiny_text)\n",
    "print('model: '+ str(tiny_model))"
   ]
  },
  {
   "cell_type": "code",
   "execution_count": null,
   "id": "elvwr2gojy",
   "metadata": {
    "slideshow": {
     "slide_type": "fragment"
    }
   },
   "outputs": [],
   "source": [
    "from jamcoders.random import sample_from_dict\n",
    "# Example: sample_from_dict(tiny_model) --> 'the'\n",
    "\n",
    "def generate_sentence(k, model):\n",
    "    sentence = []\n",
    "    for i in range(k):\n",
    "        new_word = sample_from_dict(model)\n",
    "        sentence.append(new_word)\n",
    "    return ' '.join(sentence)\n",
    "# print(generate_sentence(5, tiny_model))"
   ]
  },
  {
   "cell_type": "markdown",
   "id": "w2w7y81m6qp",
   "metadata": {
    "slideshow": {
     "slide_type": "slide"
    }
   },
   "source": [
    "##  Shake it up 🎭"
   ]
  },
  {
   "cell_type": "markdown",
   "id": "ke685y176md",
   "metadata": {
    "slideshow": {
     "slide_type": "fragment"
    }
   },
   "source": [
    "Let's use a more interesting dataset:"
   ]
  },
  {
   "cell_type": "code",
   "execution_count": null,
   "id": "7a829169",
   "metadata": {
    "slideshow": {
     "slide_type": "fragment"
    }
   },
   "outputs": [],
   "source": [
    "from jamcoders.datasets import shake"
   ]
  },
  {
   "cell_type": "code",
   "execution_count": null,
   "id": "as8ww53vrw4",
   "metadata": {
    "slideshow": {
     "slide_type": "skip"
    }
   },
   "outputs": [],
   "source": [
    "print(\"Number of sentences: \" + str(len(shake)))\n",
    "print(shake[0])"
   ]
  },
  {
   "cell_type": "code",
   "execution_count": null,
   "id": "f3264858",
   "metadata": {
    "slideshow": {
     "slide_type": "fragment"
    }
   },
   "outputs": [],
   "source": [
    "# First, Let's explore what's in this shake 🥤\n",
    "# print(len(shake))\n",
    "for i in range(10, 21):\n",
    "    print(shake[i])"
   ]
  },
  {
   "cell_type": "markdown",
   "id": "ee24d1ae",
   "metadata": {
    "slideshow": {
     "slide_type": "subslide"
    }
   },
   "source": [
    "Now... Let's build a Skittle model out of it 🛠️"
   ]
  },
  {
   "cell_type": "code",
   "execution_count": null,
   "id": "45370d5c",
   "metadata": {
    "slideshow": {
     "slide_type": "fragment"
    }
   },
   "outputs": [],
   "source": [
    "shake_model = build_model(shake)"
   ]
  },
  {
   "cell_type": "markdown",
   "id": "f0eeac3d",
   "metadata": {
    "slideshow": {
     "slide_type": "subslide"
    }
   },
   "source": [
    "Let's use our model to explore our dataset 🧭"
   ]
  },
  {
   "cell_type": "code",
   "execution_count": null,
   "id": "75b70dff",
   "metadata": {
    "slideshow": {
     "slide_type": "fragment"
    }
   },
   "outputs": [],
   "source": [
    "print(shake_model['the'])"
   ]
  },
  {
   "cell_type": "code",
   "execution_count": null,
   "id": "694746ab",
   "metadata": {
    "slideshow": {
     "slide_type": "skip"
    }
   },
   "outputs": [],
   "source": [
    "shake_model = build_model(shake)"
   ]
  },
  {
   "cell_type": "code",
   "execution_count": null,
   "id": "wq8dt2ld6td",
   "metadata": {
    "slideshow": {
     "slide_type": "notes"
    }
   },
   "outputs": [],
   "source": [
    "print(f\"Unique words: {len(shake_model)}\")"
   ]
  },
  {
   "cell_type": "code",
   "execution_count": null,
   "id": "05bf8rdkmzmh",
   "metadata": {
    "scrolled": true,
    "slideshow": {
     "slide_type": "subslide"
    }
   },
   "outputs": [],
   "source": [
    "# Let's take a look 📊\n",
    "from jamcoders.models import visualize_model\n",
    "visualize_model(shake_model, top_n=50)"
   ]
  },
  {
   "cell_type": "markdown",
   "id": "mlgjaokp41a",
   "metadata": {
    "slideshow": {
     "slide_type": "slide"
    }
   },
   "source": [
    "### Generating from the Model 💬"
   ]
  },
  {
   "cell_type": "code",
   "execution_count": null,
   "id": "d256b1ec",
   "metadata": {
    "slideshow": {
     "slide_type": "fragment"
    }
   },
   "outputs": [],
   "source": [
    "from jamcoders.random import sample_from_dict"
   ]
  },
  {
   "cell_type": "code",
   "execution_count": null,
   "id": "uo0zk2cm1w",
   "metadata": {
    "slideshow": {
     "slide_type": "fragment"
    }
   },
   "outputs": [],
   "source": [
    "text = \"\"\n",
    "for i in range(5):\n",
    "    text += \" \" + sample_from_dict(shake_model)\n",
    "print(text)"
   ]
  },
  {
   "cell_type": "markdown",
   "id": "frlqjh60mew",
   "metadata": {
    "slideshow": {
     "slide_type": "subslide"
    }
   },
   "source": [
    "## Another Skittles model"
   ]
  },
  {
   "cell_type": "markdown",
   "id": "8x0snijbtkm",
   "metadata": {
    "slideshow": {
     "slide_type": "fragment"
    }
   },
   "source": [
    "Let's load a model built from 1 trillion words collected from the internet"
   ]
  },
  {
   "cell_type": "code",
   "execution_count": null,
   "id": "8338079f",
   "metadata": {
    "slideshow": {
     "slide_type": "fragment"
    }
   },
   "outputs": [],
   "source": [
    "from jamcoders.models import tril_model"
   ]
  },
  {
   "cell_type": "code",
   "execution_count": null,
   "id": "bmxd1lk6i9",
   "metadata": {
    "slideshow": {
     "slide_type": "fragment"
    }
   },
   "outputs": [],
   "source": [
    "text = \"\"\n",
    "for i in range(5):\n",
    "    text += \" \" + sample_from_dict(tril_model)\n",
    "print(text)"
   ]
  },
  {
   "cell_type": "code",
   "execution_count": null,
   "id": "jakef0elerb",
   "metadata": {
    "slideshow": {
     "slide_type": "subslide"
    }
   },
   "outputs": [],
   "source": [
    "from jamcoders.models import visualize_model\n",
    "visualize_model(tril_model, top_n=50)"
   ]
  },
  {
   "cell_type": "markdown",
   "id": "xsvwl662z6s",
   "metadata": {
    "slideshow": {
     "slide_type": "slide"
    }
   },
   "source": [
    "## Skittle models: Wrong but useful"
   ]
  },
  {
   "cell_type": "markdown",
   "id": "0dba1a4d",
   "metadata": {
    "slideshow": {
     "slide_type": "fragment"
    }
   },
   "source": [
    "A Skittle model simply counts words in a dataset. \n",
    "- In what way are they useful?\n",
    "- Why does that result in such weird sentences?"
   ]
  },
  {
   "cell_type": "markdown",
   "id": "0terlznw6ht",
   "metadata": {
    "slideshow": {
     "slide_type": "fragment"
    }
   },
   "source": [
    "Our Skittle model treats each word independently:\n",
    "- But in real language, words depend on what came before!\n",
    "- After 'the', we're more likely to see 'cat' than another 'the'.\n",
    "- This is still a Language Model! It _is_ useful (e.g., spell checkers, search engines), but it's not good for generating sentences."
   ]
  },
  {
   "cell_type": "markdown",
   "id": "c06170ca",
   "metadata": {
    "slideshow": {
     "slide_type": "slide"
    }
   },
   "source": [
    "# Context matters!"
   ]
  },
  {
   "cell_type": "markdown",
   "id": "98d83a12",
   "metadata": {
    "slideshow": {
     "slide_type": "fragment"
    }
   },
   "source": [
    "Here's an idea for a model that takes context into account:\n",
    "\n",
    "- To fill in a blank\n",
    "> The cat sat on the _____\n",
    "- Search for the context `The cat sat on the` throughout the dataset\n",
    "- Count how many times `chair`, `...` appear\n",
    "- Compute a Probability by dividing by the number of contexts\n",
    "- Then sample from these Probabilities"
   ]
  },
  {
   "cell_type": "markdown",
   "id": "f0790921",
   "metadata": {
    "slideshow": {
     "slide_type": "subslide"
    }
   },
   "source": [
    "Is this a good model? Is it practical?"
   ]
  },
  {
   "cell_type": "markdown",
   "id": "1ff23809",
   "metadata": {
    "slideshow": {
     "slide_type": "subslide"
    }
   },
   "source": [
    "Solution: Keep _some_ context, but not all of it!"
   ]
  },
  {
   "cell_type": "markdown",
   "id": "gzc44ygzoz",
   "metadata": {
    "slideshow": {
     "slide_type": "slide"
    }
   },
   "source": [
    "## Bigram Models"
   ]
  },
  {
   "cell_type": "markdown",
   "id": "a40fb8ba",
   "metadata": {
    "slideshow": {
     "slide_type": "fragment"
    }
   },
   "source": [
    "A bigram model predicts the next word _based on the previous word_"
   ]
  },
  {
   "cell_type": "markdown",
   "id": "98045387",
   "metadata": {
    "slideshow": {
     "slide_type": "fragment"
    }
   },
   "source": [
    "> Bi = Twice (Latin).\n",
    "\n",
    "> Gram = Something written (Greek)"
   ]
  },
  {
   "cell_type": "markdown",
   "id": "o5uz8j0yqyh",
   "metadata": {
    "slideshow": {
     "slide_type": "fragment"
    }
   },
   "source": [
    "(BTW, The Skittles model is also called a _Unigram_ model.)"
   ]
  },
  {
   "cell_type": "code",
   "execution_count": null,
   "id": "gz8v0tv0k1s",
   "metadata": {
    "slideshow": {
     "slide_type": "subslide"
    }
   },
   "outputs": [],
   "source": [
    "# Build bigram counts from Shakespeare\n",
    "# Step 1: Compute probabilities of context words (can we reuse some previous function?)\n",
    "# Step 2: Count next_word for each context.\n",
    "# Step 3: Compute probabilities of next_word given a context."
   ]
  },
  {
   "cell_type": "code",
   "execution_count": null,
   "id": "e3b96c44",
   "metadata": {
    "slideshow": {
     "slide_type": "subslide"
    }
   },
   "outputs": [],
   "source": [
    "from jamcoders.datasets import shake_words\n",
    "# Count unigrams and bigrams\n",
    "u_counts = {}\n",
    "b_counts = {}\n",
    "\n",
    "for sent in shake_words:\n",
    "    for i in range(len(sent) - 1):\n",
    "        context = sent[i]\n",
    "        next_word = sent[i + 1]\n",
    "        if sent[i] not in u_counts:\n",
    "            u_counts[context] = 0\n",
    "            b_counts[context] = {}\n",
    "        u_counts[context] += 1\n",
    "        if next_word not in b_counts[context]:\n",
    "            b_counts[context][next_word] = 0\n",
    "        b_counts[context][next_word] += 1\n",
    "        \n",
    "# Normalize (convert) bigrams into probabilities\n",
    "bigram_model = {}\n",
    "for context in b_counts:\n",
    "    bigram_model[context] = {}\n",
    "    for next_word in b_counts[context]:\n",
    "        count = b_counts[context][next_word]\n",
    "        bigram_model[context][next_word] = count / u_counts[context]"
   ]
  },
  {
   "cell_type": "markdown",
   "id": "csqc4g6pdv",
   "metadata": {
    "slideshow": {
     "slide_type": "skip"
    }
   },
   "source": [
    "### Generating with Bigrams"
   ]
  },
  {
   "cell_type": "code",
   "execution_count": null,
   "id": "40d0472b",
   "metadata": {
    "slideshow": {
     "slide_type": "subslide"
    }
   },
   "outputs": [],
   "source": [
    "from jamcoders.random import sample_from_dict\n",
    "def generate_from_bigram_model(model, start_word, length):\n",
    "    # Input: model (bigram model), start_word (a single word to start from), length (how many words to generate)\n",
    "    # You can assume start_word is in the model."
   ]
  },
  {
   "cell_type": "code",
   "execution_count": null,
   "id": "53bdee26",
   "metadata": {
    "slideshow": {
     "slide_type": "notes"
    }
   },
   "outputs": [],
   "source": [
    "# Solution\n",
    "from jamcoders.random import sample_from_dict\n",
    "def generate_from_bigram_model(model, start_word, length):\n",
    "    sentence = []\n",
    "    context = [start_word]\n",
    "    for i in range(length):\n",
    "        cur_word = context[-1]\n",
    "        next_word = sample_from_dict(model[cur_word])\n",
    "        sentence.append(next_word)\n",
    "    return ' '.join(sentence)"
   ]
  },
  {
   "cell_type": "code",
   "execution_count": null,
   "id": "a6362969",
   "metadata": {
    "slideshow": {
     "slide_type": "skip"
    }
   },
   "outputs": [],
   "source": [
    "# Recursive implementation. Note: Pass in context (list of str), not just the start word!\n",
    "def recursive_gen(model, context, length):\n",
    "    # TODO"
   ]
  },
  {
   "cell_type": "code",
   "execution_count": null,
   "id": "9eaa2f3d",
   "metadata": {
    "slideshow": {
     "slide_type": "notes"
    }
   },
   "outputs": [],
   "source": [
    "# Solution\n",
    "# Recursive implementation. Note: Pass in context (list of str), not just the start word!\n",
    "from jamcoders.random import sample_from_dict\n",
    "def recursive_gen(model, context, length):\n",
    "    if length == 0:\n",
    "        return context\n",
    "    cur_word = context[-1]\n",
    "    next_word = sample_from_dict(model[cur_word])\n",
    "    return recursive_gen(model, context + [next_word], length - 1)"
   ]
  },
  {
   "cell_type": "code",
   "execution_count": null,
   "id": "9szurzg2bb",
   "metadata": {
    "scrolled": false,
    "slideshow": {
     "slide_type": "fragment"
    }
   },
   "outputs": [],
   "source": [
    "text = generate_from_bigram_model(bigram_model, \"shall\", 10)\n",
    "print(text)\n",
    "other_text = recursive_gen(bigram_model, [\"shall\"], 10)\n",
    "print(other_text)"
   ]
  },
  {
   "cell_type": "markdown",
   "id": "90aef44c",
   "metadata": {
    "slideshow": {
     "slide_type": "subslide"
    }
   },
   "source": [
    "### Generating poems 📜"
   ]
  },
  {
   "cell_type": "code",
   "execution_count": null,
   "id": "362e474b",
   "metadata": {
    "slideshow": {
     "slide_type": "fragment"
    }
   },
   "outputs": [],
   "source": [
    "verse_starts = ['shall', 'oh', 'for', 'alas']\n",
    "for start in verse_starts:\n",
    "    print(generate_from_bigram_model(bigram_model, start, 5))"
   ]
  },
  {
   "cell_type": "markdown",
   "id": "a622q8404u",
   "metadata": {
    "slideshow": {
     "slide_type": "skip"
    }
   },
   "source": [
    "## MORE context: N-gram Models"
   ]
  },
  {
   "cell_type": "markdown",
   "id": "ssmeuc1ov9",
   "metadata": {
    "slideshow": {
     "slide_type": "skip"
    }
   },
   "source": [
    "What if we generated each word based on the previous _two_ words? _Three_ words? _Four_ words?"
   ]
  },
  {
   "cell_type": "code",
   "execution_count": null,
   "id": "uwmfvhrn6ul",
   "metadata": {
    "slideshow": {
     "slide_type": "subslide"
    }
   },
   "outputs": [],
   "source": [
    "from jamcoders.models import load_pretrained_ngram\n",
    "\n",
    "# Load different n-gram models\n",
    "trigram_model = load_pretrained_ngram(3)\n",
    "fourgram_model = load_pretrained_ngram(4)"
   ]
  },
  {
   "cell_type": "markdown",
   "id": "8e0u0jidzz3",
   "metadata": {
    "slideshow": {
     "slide_type": "subslide"
    }
   },
   "source": [
    "### Comparing Different Context Lengths"
   ]
  },
  {
   "cell_type": "code",
   "execution_count": null,
   "id": "t77aofm50yi",
   "metadata": {
    "scrolled": true,
    "slideshow": {
     "slide_type": "fragment"
    }
   },
   "outputs": [],
   "source": [
    "from jamcoders.models import generate_from_ngram_model\n",
    "unigram_model = shake_model # Remember? We built it earlier!\n",
    "\n",
    "prefix = \"shall\"\n",
    "length = 15\n",
    "\n",
    "print(\"Unigram (no context):\")\n",
    "print(generate_from_ngram_model(unigram_model, prefix, length))\n",
    "print(\"\\nBigram (1 word context):\")\n",
    "print(generate_from_ngram_model(bigram_model, prefix, length))\n",
    "print(\"\\nTrigram (2 word context):\")\n",
    "print(generate_from_ngram_model(trigram_model, prefix, length))\n",
    "print(\"\\nFourgram (3 word context):\")\n",
    "print(generate_from_ngram_model(fourgram_model, prefix, length))"
   ]
  },
  {
   "cell_type": "markdown",
   "id": "bmooe1vpvu",
   "metadata": {
    "slideshow": {
     "slide_type": "skip"
    }
   },
   "source": [
    "### Observe:\n",
    "- Generally, more context → more coherent text\n",
    "- But too much context starts to get weird...?\n",
    "- Modern language models use more sophisticated approaches 🧠"
   ]
  }
 ],
 "metadata": {
  "celltoolbar": "Slideshow",
  "kernelspec": {
   "display_name": "Python 3 (ipykernel)",
   "language": "python",
   "name": "python3"
  },
  "language_info": {
   "codemirror_mode": {
    "name": "ipython",
    "version": 3
   },
   "file_extension": ".py",
   "mimetype": "text/x-python",
   "name": "python",
   "nbconvert_exporter": "python",
   "pygments_lexer": "ipython3",
   "version": "3.12.10"
  }
 },
 "nbformat": 4,
 "nbformat_minor": 5
}
