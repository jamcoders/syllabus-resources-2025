{
  "cells": [
    {
      "cell_type": "markdown",
      "source": [
        "# Week 4, Day 1, Part C\n",
        "## Optional Challenge"
      ],
      "metadata": {
        "id": "GDEDaOY8R9SI"
      }
    },
    {
      "cell_type": "markdown",
      "metadata": {
        "id": "IlIfyfelR6vk"
      },
      "source": [
        "![Reminder to Save](https://github.com/jamcoders/jamcoders-public-2025/blob/main/images/warning.png?raw=true)"
      ]
    },
    {
      "cell_type": "code",
      "execution_count": null,
      "metadata": {
        "id": "dl04GQ81kZzO"
      },
      "outputs": [],
      "source": [
        "# Always run this code.\n",
        "%config InteractiveShell.ast_node_interactivity=\"none\"\n",
        "import sys\n",
        "if 'google.colab' in sys.modules:\n",
        "  !pip install --force-reinstall git+https://github.com/jamcoders/jamcoders-public-2025.git --quiet\n",
        "from jamcoders.base_utils import *"
      ]
    },
    {
      "cell_type": "markdown",
      "metadata": {
        "id": "on2FkNF0R6vo"
      },
      "source": [
        "## 0. Alien Dictionary\n",
        "In an alien language, surprisingly, they also use English lowercase letters, but possibly in a different order. The order of the alphabet is some permutation of lowercase letters.\n",
        "\n",
        "Write function `isAlienSorted` that given a sequence of words written in the alien language `words` and the order of the alphabet `order`, return `true` if and only if the given words are sorted lexicographically in this alien language.\n",
        "\n",
        "\n",
        "#### Example 1:\n",
        "\n",
        "```python\n",
        "Input: words = [\"hello\",\"leetcode\"], order = \"hlabcdefgijkmnopqrstuvwxyz\"\n",
        "Output: true\n",
        "\n",
        "# Explanation: As 'h' comes before 'l' in this language, then the sequence is sorted.\n",
        "```\n",
        "\n",
        "\n",
        "#### Example 2:\n",
        "```python\n",
        "Input: words = [\"word\",\"world\",\"row\"], order = \"worldabcefghijkmnpqstuvxyz\"\n",
        "Output: false\n",
        "\n",
        "# Explanation: As 'd' comes after 'l' in this language, then words[0] > words[1], hence the sequence is unsorted.\n",
        "```"
      ]
    },
    {
      "cell_type": "code",
      "execution_count": null,
      "metadata": {
        "id": "J17SmL0yR6vo"
      },
      "outputs": [],
      "source": [
        "def isAlienSorted(words, order: str) -> bool:\n",
        "    # Write your code here\n",
        "\n",
        "\n",
        "\n",
        "\n",
        "# Test your code here\n",
        "assert_equal(isAlienSorted([\"hello\",\"leetcode\"], \"hlabcdefgijkmnopqrstuvwxyz\"), True)\n",
        "assert_equal(isAlienSorted([\"word\",\"world\",\"row\"], \"worldabcefghijkmnpqstuvxyz\"), False)"
      ]
    },
    {
      "cell_type": "markdown",
      "metadata": {
        "id": "CXNrrQzQ4UoL"
      },
      "source": [
        "\n",
        "## 1. Primes\n",
        "### 1.1 Find primes.\n",
        "\n",
        "A prime is a positive integer divisible by exactly two numbers: itself, and `1`. (`1` is only divisible by `1`, so it is not a prime.)\n",
        "\n",
        "Implement `find_primes_up_to`, which returns a list of all primes up to `n`. Recall that you can check whether `a` divides `b` by checking `b % a == 0`."
      ]
    },
    {
      "cell_type": "code",
      "execution_count": null,
      "metadata": {
        "id": "L4qY5C2i4Zr6"
      },
      "outputs": [],
      "source": [
        "def find_primes_up_to(n):\n",
        "    \"\"\"Finds all prime numbers less than or equal to `n`.\n",
        "\n",
        "    Args:\n",
        "        n (int): The number to search up to.\n",
        "\n",
        "    Returns (list(int)): A list of primes up to and including `n`.\n",
        "    \"\"\"\n",
        "    # Write your code here\n",
        "\n",
        "\n",
        "\n",
        "\n",
        "\n",
        "# Test your code here\n",
        "assert_equal([], find_primes_up_to(1))\n",
        "assert_equal([2], find_primes_up_to(2))\n",
        "assert_equal([2, 3, 5, 7, 11, 13, 17, 19, 23, 29], find_primes_up_to(30))"
      ]
    },
    {
      "cell_type": "markdown",
      "metadata": {
        "id": "ef8OBAoK7WbJ"
      },
      "source": [
        "### 1.2 Factorize\n",
        "\n",
        "Given a natural number `n`, determine its prime factorization. Use `find_primes_up_to` as defined above to determine primes.\n",
        "\n",
        "Recall that the [fundamental theorem of arithmetic](https://en.wikipedia.org/wiki/Fundamental_theorem_of_arithmetic#) says that every natural number has a unique prime factorization. The prime factorization of a number decomposes it into the product of primes. For example, the prime factorization of $60$ is $2^2 \\times 3^1 \\times 5^1$.\n",
        "\n",
        "In our program, we represent this prime factorization as a list: `[2, 1, 1]`, where the first item (0th index) corresponds to the exponent (2) of the first prime (2); the second item (1st index) corresponds to the exponent (1) of the second prime (3), and so on.\n",
        "\n",
        "Given a number, determine its prime factorization, and return it as the above list representation.\n"
      ]
    },
    {
      "cell_type": "code",
      "execution_count": null,
      "metadata": {
        "id": "9SURNEqb7iB-"
      },
      "outputs": [],
      "source": [
        "def factorize(n):\n",
        "    \"\"\"Given a number, determine its prime factorizaton.\n",
        "\n",
        "    Args:\n",
        "        n (int): The number to factorize.\n",
        "\n",
        "    Returns (list(int)): A list of exponents representing n's prime factorization.\n",
        "    \"\"\"\n",
        "    # Write your code here\n",
        "\n",
        "\n",
        "\n",
        "\n",
        "\n",
        "\n",
        "# Test your code here\n",
        "assert_equal([2, 1, 1], factorize(60))\n",
        "assert_equal([], factorize(1))\n",
        "assert_equal([1], factorize(2))\n",
        "assert_equal([1, 2, 2], factorize(450))"
      ]
    },
    {
      "cell_type": "markdown",
      "metadata": {
        "id": "nC-BZVnQ-jEM"
      },
      "source": [
        "### 1.3 Goldbach's Conjecture\n",
        "\n",
        "Goldbach's conjecture claims that every even number $n > 2$ can be written as the sum of two primes. In other words, for all $n > 2$, there exist prime numbers $p$ and $q$ such that $p + q = n$.\n",
        "\n",
        "| p | q | n  |\n",
        "|---|---|----|\n",
        "| 2 | 2 | 4  |\n",
        "| 3 | 3 | 6  |\n",
        "| 3 | 5 | 8  |\n",
        "| 3 | 7 | 10 |\n",
        "| 5 | 7 | 12 |\n",
        "\n",
        "\n",
        "Write a function `find_goldbach(n)` that returns a pair of primes that sum up to `n`."
      ]
    },
    {
      "cell_type": "code",
      "execution_count": null,
      "metadata": {
        "id": "7BXzLyAH-C61"
      },
      "outputs": [],
      "source": [
        "def find_goldbach(n):\n",
        "    \"\"\"Find a pair of primes that sum to `n`.\n",
        "\n",
        "    Args:\n",
        "        n (int): The number.\n",
        "\n",
        "    Returns (list(int)): A pair of prime numbers that sum to n.\n",
        "    \"\"\"\n",
        "    # Write your code here\n",
        "\n",
        "\n",
        "\n",
        "\n",
        "\n",
        "\n",
        "# Test your code here\n",
        "def test_is_prime(n):\n",
        "    for i in range(2, n):\n",
        "        if n % i == 0:\n",
        "            return False\n",
        "    return True\n",
        "\n",
        "assert_equal([3, 3], find_goldbach(6))\n",
        "for n in range(2, 50):\n",
        "    p, q = find_goldbach(2*n)\n",
        "    test_passed = test_is_prime(p) and test_is_prime(q) and (2*n == p + q)\n",
        "    if not test_passed:\n",
        "        print(\"test failed at n = \" + str(2*n))\n",
        "        break"
      ]
    },
    {
      "cell_type": "markdown",
      "metadata": {
        "id": "5pLGljbcIFU-"
      },
      "source": [
        "## 2. Polynomials\n",
        "### 2.1 Print a polynomial\n",
        "\n",
        "In our program, we represent (integer) polynomials as a list of integers.\n",
        "\n",
        "For example, we represent the polynomial $ax^0 + bx^1 + cx^2 + dx^3$ as the list `[a, b, c, d]`. The first element (0th index) corresponds to the coefficient ($a$) of $x^0$; the second element (1st index) corresponds to the coefficient ($b$) of $x^1$, and so on.\n",
        "\n",
        "Write a function `poly_to_str(l)` which takes a polynomial in list form and returns it in string form. The string form of the polynomial `[2, 1, 0, 5]` would be `\"2x^0 + 1x^1 + 5x^3\"`."
      ]
    },
    {
      "cell_type": "code",
      "execution_count": null,
      "metadata": {
        "id": "_Eni9g4tBfxA"
      },
      "outputs": [],
      "source": [
        "def poly_to_str(l):\n",
        "    \"\"\"Converts a list representation of a polynomial to a string.\n",
        "\n",
        "    Args:\n",
        "        l (list): A list representing the coefficients of the polynomial.\n",
        "\n",
        "    Returns (str): The string form of the polynomial.\n",
        "    \"\"\"\n",
        "    # Write your code here\n",
        "\n",
        "\n",
        "\n",
        "\n",
        "\n",
        "\n",
        "# Test your code here\n",
        "assert_equal(\"2x^0 + 1x^1 + 5x^3\", poly_to_str([2, 1, 0, 5]).strip())\n",
        "assert_equal(\"5x^0\", poly_to_str([5, 0, 0, 0]).strip())\n",
        "assert_equal(\"1x^1 + 2x^2 + 3x^3 + 4x^4 + 5x^5\", poly_to_str(list(range(6))))"
      ]
    },
    {
      "cell_type": "markdown",
      "metadata": {
        "id": "VNJLGS-tKeGZ"
      },
      "source": [
        "### 2.2 Multiply two polynomials\n",
        "\n",
        "Given two list representations of a polynomial, compute the product polynomial.\n",
        "The product polynomial is computed by multiplying every pair of terms from each polynomial, and adding them all up into a new polynomial.\n",
        "\n",
        "For example, to compute the product:\n",
        "\n",
        "$$(2x^0 + 1x^1 + 5x^3)(1x^0 + 3x^1 + 1x^2)$$\n",
        "\n",
        "Take every pair of terms, one from the first polynomial, one from the second:\n",
        "\n",
        "1. $2x^0 \\times 1x^0 = 2x^0$\n",
        "1. $2x^0 \\times 3x^1 = 6x^1$\n",
        "1. $2x^0 \\times 1x^2 = 2x^2$\n",
        "1. $1x^1 \\times 1x^0 = 1x^1$\n",
        "1. $1x^1 \\times 3x^1 = 3x^2$\n",
        "1. $1x^1 \\times 1x^2 = 1x^3$\n",
        "1. $5x^3 \\times 1x^0 = 5x^3$\n",
        "1. $5x^3 \\times 3x^1 = 15x^4$\n",
        "1. $5x^3 \\times 1x^2 = 5x^5$\n",
        "\n",
        "Then add all the terms:\n",
        "\n",
        "$$2x^0 + 6x^1 + 2x^2 + 1x^1 + 3x^2 + 1x^3 + 5x^3 + 15x^4 + 5x^5$$\n",
        "\n",
        "Group terms:\n",
        "\n",
        "$$2x^0 + (6x^1 + 1x^1) + (2x^2 + 3x^2) + (1x^3 + 5x^3) + 15x^4 + 5x^5$$\n",
        "\n",
        "Simplify:\n",
        "\n",
        "$$2x^0 + 7x^1 + 5x^2 + 6x^3 + 15x^4 + 5x^5$$\n"
      ]
    },
    {
      "cell_type": "code",
      "execution_count": null,
      "metadata": {
        "id": "SnyxTYZWKzbr"
      },
      "outputs": [],
      "source": [
        "def multiply_poly(first, second):\n",
        "    \"\"\"Multiplies two polynomials in list representation.\n",
        "\n",
        "    Args:\n",
        "        first (list(int)): A list representation of the first polynomial.\n",
        "        second (list(int)): A list representation of the second polynomial.\n",
        "\n",
        "    Returns (list(int)): A list representation of the the product polynomial.\n",
        "    \"\"\"\n",
        "    # Write your code here\n",
        "\n",
        "\n",
        "\n",
        "\n",
        "\n",
        "\n",
        "# Test your code here\n",
        "def drop_trailing_zeroes(poly):\n",
        "    \"\"\"Removes trailing zero coefficients from the list-polynomial.\n",
        "\n",
        "    Useful for checking whether two list-polynomials are equal.\n",
        "    \"\"\"\n",
        "    result = poly[:]\n",
        "    while result and result[-1] == 0:\n",
        "        result.pop()\n",
        "    return result\n",
        "\n",
        "f = [2, 1, 0, 5]  # 2x^0 + 1x^1 + 5x^3\n",
        "s = [1, 3, 1]     # 1x^0 + 3x^1 + 1x^2\n",
        "assert_equal([2, 7, 5, 6, 15, 5], drop_trailing_zeroes(multiply_poly(f, s)))\n",
        "\n",
        "f = [5, 3, 2, 7]  # 5x^0 + 3x^1 + 2x^2 + 7x^3\n",
        "s = [1]           # 1x^0\n",
        "assert_equal([5, 3, 2, 7], drop_trailing_zeroes(multiply_poly(f, s)))\n",
        "\n",
        "f = [5, 3, 2, 7]  # 5x^0 + 3x^1 + 2x^2 + 7x^3\n",
        "s = []            # 0\n",
        "assert_equal([], drop_trailing_zeroes(multiply_poly(f, s)))"
      ]
    },
    {
      "cell_type": "markdown",
      "metadata": {
        "id": "c9FdOQg-XT-L"
      },
      "source": [
        "####What is the runtime of your algorithm, if $n$ is the length of your polynomials?"
      ]
    },
    {
      "cell_type": "markdown",
      "metadata": {
        "id": "ttFyoTu4R6vr"
      },
      "source": [
        "#### *Write your answer here*\n",
        "The time complexity is O(N*M) since we have two nested loops iterating two lists of size N and M respectively.\n",
        "The space complexity is O(N + M) due to the size of the product list."
      ]
    },
    {
      "cell_type": "markdown",
      "source": [
        "## Check your answer with a TA!"
      ],
      "metadata": {
        "id": "D7eAzbHVU9y9"
      }
    },
    {
      "cell_type": "markdown",
      "source": [
        "# 🤓🤓🤓🤓\n",
        "\n",
        "### Congrats on finishing the challenge notebook! You're doing awesome"
      ],
      "metadata": {
        "id": "YiUdHc-uU5X1"
      }
    }
  ],
  "metadata": {
    "colab": {
      "provenance": []
    },
    "kernelspec": {
      "display_name": "Python 3 (ipykernel)",
      "language": "python",
      "name": "python3"
    },
    "language_info": {
      "codemirror_mode": {
        "name": "ipython",
        "version": 3
      },
      "file_extension": ".py",
      "mimetype": "text/x-python",
      "name": "python",
      "nbconvert_exporter": "python",
      "pygments_lexer": "ipython3",
      "version": "3.8.8"
    }
  },
  "nbformat": 4,
  "nbformat_minor": 0
}