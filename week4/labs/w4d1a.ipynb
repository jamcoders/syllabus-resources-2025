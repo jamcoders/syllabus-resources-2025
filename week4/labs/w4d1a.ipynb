{
  "cells": [
    {
      "cell_type": "markdown",
      "metadata": {
        "id": "I7Ar3s6o4N2U"
      },
      "source": [
        "# Week 4, Day 1, Part A\n",
        "## Dictionaries + Tuples\n",
        "\n"
      ]
    },
    {
      "cell_type": "markdown",
      "source": [
        "![Reminder to Save](https://github.com/jamcoders/jamcoders-public-2023/blob/main/images/warning.png?raw=true)"
      ],
      "metadata": {
        "id": "iu3mh3MV4WQA"
      }
    },
    {
      "cell_type": "code",
      "execution_count": null,
      "metadata": {
        "id": "dl04GQ81kZzO"
      },
      "outputs": [],
      "source": [
        "# Always run this code.\n",
        "%config InteractiveShell.ast_node_interactivity=\"none\"\n",
        "import sys\n",
        "# if 'google.colab' in sys.modules:\n",
        "!pip install --force-reinstall git+https://github.com/jamcoders/jamcoders-public-2025.git --quiet\n",
        "from jamcoders.base_utils import *\n",
        "from jamcoders.week4.labw4d1a import *"
      ]
    },
    {
      "cell_type": "markdown",
      "source": [
        "## 1. What is a Dictionary?\n",
        "\n",
        "In Python, a **dictionary** is a container that stores **key-value pairs**.  \n",
        "You can think of it like a mini real-world dictionary:  \n",
        "- A **word** is the **key**  \n",
        "- The **definition** is the **value**  \n",
        "\n",
        "Python dictionaries let you organize data so you can quickly look things up based on a unique identifier (the key).\n",
        "\n",
        "Here's a simple dictionary mapping English words to their definitions:"
      ],
      "metadata": {
        "id": "tUVql_lb4g15"
      }
    },
    {
      "cell_type": "code",
      "execution_count": null,
      "metadata": {
        "id": "xkVWQrJJ4N2V"
      },
      "outputs": [],
      "source": [
        "# A dictionary mapping words to their definitions\n",
        "oxford_english_dictionary = {\n",
        "    'computer': 'a machine that processes information',\n",
        "    'mango': 'a juicy tropical fruit',\n",
        "    'python': 'a large snake',\n",
        "}\n",
        "\n",
        "# Let's print the definition for 'mango'\n",
        "# You can access a value using the key inside square brackets.\n",
        "print(oxford_english_dictionary['mango'])  # should print the definition of 'mango'"
      ]
    },
    {
      "cell_type": "markdown",
      "metadata": {
        "id": "udiwP8Lr4N2V"
      },
      "source": [
        "Dictionaries are **unordered** collections, which means the order you write the pairs doesn't matter.\n",
        "\n",
        "Each key in a dictionary must be unique, and the values can be of **any type**: numbers, strings, lists, even other dictionaries.\n",
        "\n",
        "Let’s create another example with countries and their capital cities:"
      ]
    },
    {
      "cell_type": "code",
      "execution_count": null,
      "metadata": {
        "id": "Kl6tfE4A4N2W"
      },
      "outputs": [],
      "source": [
        "country_to_capital = {\n",
        "    'Jamaica': 'Kingston',\n",
        "    'Canada': 'Toronto',\n",
        "    'Australia': 'Sydney',\n",
        "    'Turkey': 'Ankara'\n",
        "}\n",
        "\n",
        "# print it to see what is inside\n",
        "print(country_to_capital)"
      ]
    },
    {
      "cell_type": "markdown",
      "metadata": {
        "id": "lRzsuDHC4N2X"
      },
      "source": [
        "### 1.1 What would Python do?\n",
        "Without running any code, write down what value you think would be printed for each line.\n",
        "\n",
        "#### **If you think there would be an error, write 'error'**\n",
        "\n",
        "```python\n",
        "#1a\n",
        "print(country_to_capital['Canada'])\n",
        "```"
      ]
    },
    {
      "cell_type": "code",
      "source": [
        "# Write your answer here\n",
        "answer_1a =\n",
        "check_answer_1a(answer_1a)"
      ],
      "metadata": {
        "id": "vq5265DT7oEp"
      },
      "execution_count": null,
      "outputs": []
    },
    {
      "cell_type": "markdown",
      "source": [
        "```python\n",
        "#1b\n",
        "print(country_to_capital['Turkey'])\n",
        "```"
      ],
      "metadata": {
        "id": "klKaMVuX7cSD"
      }
    },
    {
      "cell_type": "code",
      "source": [
        "# Write your answer here\n",
        "answer_1b =\n",
        "check_answer_1b(answer_1b)"
      ],
      "metadata": {
        "id": "ghrDxGpv71N3"
      },
      "execution_count": null,
      "outputs": []
    },
    {
      "cell_type": "markdown",
      "source": [
        "```python\n",
        "#1c\n",
        "print(country_to_capital['USA'])\n",
        "```"
      ],
      "metadata": {
        "id": "CmD9cqln7eYh"
      }
    },
    {
      "cell_type": "code",
      "source": [
        "# Write your answer here\n",
        "answer_1c =\n",
        "check_answer_1c(answer_1c)"
      ],
      "metadata": {
        "id": "_LhQ5ILb73iz"
      },
      "execution_count": null,
      "outputs": []
    },
    {
      "cell_type": "markdown",
      "source": [
        "```python\n",
        "#1d\n",
        "print(country_to_capital['Kingston'])\n",
        "```"
      ],
      "metadata": {
        "id": "VywBrvnM7fXT"
      }
    },
    {
      "cell_type": "code",
      "source": [
        "# Write your answer here\n",
        "answer_1d =\n",
        "check_answer_1d(answer_1d)"
      ],
      "metadata": {
        "id": "Q_QaxU2e76Oh"
      },
      "execution_count": null,
      "outputs": []
    },
    {
      "cell_type": "markdown",
      "metadata": {
        "id": "FkyMSrk54N2X"
      },
      "source": [
        "If there were any answers that were 'error', explain below why there would be an error:"
      ]
    },
    {
      "cell_type": "code",
      "execution_count": null,
      "metadata": {
        "id": "n2bk5bK_4N2X"
      },
      "outputs": [],
      "source": [
        "'''\n",
        "Write your answer here\n",
        "->\n",
        "\n",
        "\n",
        "\n",
        "'''"
      ]
    },
    {
      "cell_type": "markdown",
      "metadata": {
        "id": "tHqcJ3O04N2Y"
      },
      "source": [
        "### 1.2 Changing Dictionaries\n",
        "Oops- Micah made a mistake, the capital of Australia is not Sydney, it's actually Canberra. The value for any key in a dictionary can be changed. Run the code below to try it:"
      ]
    },
    {
      "cell_type": "code",
      "execution_count": null,
      "metadata": {
        "id": "BBAKXwo_4N2Y"
      },
      "outputs": [],
      "source": [
        "country_to_capital['Australia'] = 'Canberra'\n",
        "print(country_to_capital['Australia'])"
      ]
    },
    {
      "cell_type": "markdown",
      "metadata": {
        "id": "M2ja8qjm4N2Y"
      },
      "source": [
        "Micah made another mistake- the capital of Canada is not Toronto, it's Ottowa. Now, write code to change the `country_to_capital` dictionary to fix the mistake."
      ]
    },
    {
      "cell_type": "code",
      "execution_count": null,
      "metadata": {
        "id": "qDAa3RGq4N2Y"
      },
      "outputs": [],
      "source": [
        "# Write your code here\n",
        "\n",
        "\n",
        "# Test your code here\n",
        "assert_equal(got=country_to_capital['Canada'],want='Ottowa')"
      ]
    },
    {
      "cell_type": "markdown",
      "metadata": {
        "id": "remGfmXK4N2Y"
      },
      "source": [
        "Micah just learnt that the capital of Germany is Berlin. Adding new items to the dictionary is the same as changing an existing item:"
      ]
    },
    {
      "cell_type": "code",
      "execution_count": null,
      "metadata": {
        "id": "Zrwyc34d4N2Y"
      },
      "outputs": [],
      "source": [
        "country_to_capital['Germany'] = 'Berlin'\n",
        "print(country_to_capital['Germany'])"
      ]
    },
    {
      "cell_type": "markdown",
      "metadata": {
        "id": "mmNod3pc4N2Y"
      },
      "source": [
        "Now help Micah out by adding one more country and capital to the dictionary:"
      ]
    },
    {
      "cell_type": "code",
      "execution_count": null,
      "metadata": {
        "id": "p_bdtRw34N2Y"
      },
      "outputs": [],
      "source": [
        "# Write your code here\n",
        "\n",
        "\n",
        "# Test your code here\n",
        "assert_equal(got=len(country_to_capital), want=6)\n",
        "assert_equal(\"dict\", type(country_to_capital).__name__)"
      ]
    },
    {
      "cell_type": "markdown",
      "metadata": {
        "id": "G-6V0B5N4N2Y"
      },
      "source": [
        "There are also a few useful ways to get a list of a dictionary's keys, a list of its values, or to check the number of entries."
      ]
    },
    {
      "cell_type": "code",
      "execution_count": null,
      "metadata": {
        "id": "sLC0CFSA4N2Y"
      },
      "outputs": [],
      "source": [
        "print(\"the list of keys:\")\n",
        "key_list = list(country_to_capital.keys())\n",
        "print(key_list)  # Countries.\n",
        "\n",
        "print(\"the list of values:\")\n",
        "value_list = list(country_to_capital.values())\n",
        "print(value_list)  # Their capitals.\n",
        "\n",
        "print(\"the dictionary length:\")\n",
        "dictionary_length = len(country_to_capital)\n",
        "print(dictionary_length)  # Number of countries the dictionary contains.\n"
      ]
    },
    {
      "cell_type": "markdown",
      "metadata": {
        "id": "fn07dZ-X4N2Y"
      },
      "source": [
        "You can also check if a *key* exists in the dictionary using the `in` operator. This only checks for the keys, not the values!"
      ]
    },
    {
      "cell_type": "code",
      "execution_count": null,
      "metadata": {
        "id": "xZACV75q4N2Y"
      },
      "outputs": [],
      "source": [
        "print('Jamaica' in country_to_capital)\n",
        "print('Kingston' in country_to_capital)"
      ]
    },
    {
      "cell_type": "markdown",
      "metadata": {
        "id": "q9isFJFv4N2Z"
      },
      "source": [
        "### 1.3 What would Python do?\n",
        "\n",
        "Below is a dictionary, `users`, that maps a person's username to their name. What would the following lines of code print? If there would be an error, write 'error'. Make sure that you understand the reason for your answer/the correct answer, and consult with a TA if you feel unsure by the end of the question.\n",
        "\n",
        "```python\n",
        "users = {\n",
        "    'bereket2002': 'Bereket Molla',\n",
        "    'minilek': 'Jelani Nelson',\n",
        "    'tyler_is_cool': 'Tyler Hou',\n",
        "}\n",
        "```"
      ]
    },
    {
      "cell_type": "markdown",
      "source": [
        "```python\n",
        "#1.3a\n",
        "print(len(users))\n",
        "```"
      ],
      "metadata": {
        "id": "sYxzka9K_T-S"
      }
    },
    {
      "cell_type": "code",
      "source": [
        "# Write your answer here\n",
        "answer_1_3a ="
      ],
      "metadata": {
        "id": "Jnbuvgsn_Zyw"
      },
      "execution_count": null,
      "outputs": []
    },
    {
      "cell_type": "markdown",
      "source": [
        "```python\n",
        "#1.3b\n",
        "print(\"minilek\" in users)\n",
        "```"
      ],
      "metadata": {
        "id": "IRQU-WV2-7qy"
      }
    },
    {
      "cell_type": "code",
      "source": [
        "# Write your answer here\n",
        "answer_1_3b ="
      ],
      "metadata": {
        "id": "dMIzRLbW_nEb"
      },
      "execution_count": null,
      "outputs": []
    },
    {
      "cell_type": "markdown",
      "source": [
        "```python\n",
        "#1.3c\n",
        "print(\"chronixx\" in users)\n",
        "```"
      ],
      "metadata": {
        "id": "msFG__ts-9g4"
      }
    },
    {
      "cell_type": "code",
      "source": [
        "# Write your answer here\n",
        "answer_1_3c ="
      ],
      "metadata": {
        "id": "voV5_2_r_p1t"
      },
      "execution_count": null,
      "outputs": []
    },
    {
      "cell_type": "markdown",
      "source": [
        "```python\n",
        "#1.3d\n",
        "print(\"Tyler Hou\" in users)\n",
        "```"
      ],
      "metadata": {
        "id": "h9qBrCVO_Ct8"
      }
    },
    {
      "cell_type": "code",
      "source": [
        "# Write your answer here\n",
        "answer_1_3d ="
      ],
      "metadata": {
        "id": "DHllNo37_tTk"
      },
      "execution_count": null,
      "outputs": []
    },
    {
      "cell_type": "markdown",
      "source": [
        "```python\n",
        "#1.3e\n",
        "print(users[0])\n",
        "```"
      ],
      "metadata": {
        "id": "N6egN385_E-n"
      }
    },
    {
      "cell_type": "code",
      "source": [
        "# Write your answer here\n",
        "answer_1_3e ="
      ],
      "metadata": {
        "id": "GdwTVpvY_wZ8"
      },
      "execution_count": null,
      "outputs": []
    },
    {
      "cell_type": "markdown",
      "source": [
        "```python\n",
        "#1.3f\n",
        "users2 = {'tyler_is_cool':'Tyler Hou', 'bereket2002':'Bereket Molla', 'minilek':'Jelani Nelson'}\n",
        "print(users2==users)\n",
        "```"
      ],
      "metadata": {
        "id": "qeUDd4u7_Gvw"
      }
    },
    {
      "cell_type": "code",
      "source": [
        "# Write your answer here\n",
        "answer_1_3f ="
      ],
      "metadata": {
        "id": "0eT0drka_0EI"
      },
      "execution_count": null,
      "outputs": []
    },
    {
      "cell_type": "markdown",
      "source": [
        "```python\n",
        "#1.3g\n",
        "users3 = {'Bereket Molla':'bereket2002', 'Jelani Nelson':'minilek', 'Tyler Hou':'tyler_is_cool'}\n",
        "print(users3==users)\n",
        "```"
      ],
      "metadata": {
        "id": "zcN_AVlQ_JOe"
      }
    },
    {
      "cell_type": "code",
      "source": [
        "# Write your answer here\n",
        "answer_1_3g ="
      ],
      "metadata": {
        "id": "7Iexn8KDASal"
      },
      "execution_count": null,
      "outputs": []
    },
    {
      "cell_type": "markdown",
      "source": [
        "```python\n",
        "#1.3h\n",
        "print('Jelani Nelson' in list(users.values()))\n",
        "```"
      ],
      "metadata": {
        "id": "dqP9CZ1n_LCn"
      }
    },
    {
      "cell_type": "code",
      "source": [
        "# Write your answer here\n",
        "answer_1_3h ="
      ],
      "metadata": {
        "id": "6WPZZHofAWyO"
      },
      "execution_count": null,
      "outputs": []
    },
    {
      "cell_type": "code",
      "execution_count": null,
      "metadata": {
        "id": "tLRB7fy94N2Z"
      },
      "outputs": [],
      "source": [
        "# Run this cell to check all answers\n",
        "check_answer_1_3([answer_1_3a,answer_1_3b,answer_1_3c,answer_1_3d,answer_1_3e,answer_1_3f, answer_1_3g, answer_1_3h])"
      ]
    },
    {
      "cell_type": "markdown",
      "metadata": {
        "id": "pl-1NuIa4N2Z"
      },
      "source": [
        "### 1.4 Empty dictionaries\n",
        "\n",
        "Create an empty dictionary- a dictionary with no keys or values in it."
      ]
    },
    {
      "cell_type": "code",
      "execution_count": null,
      "metadata": {
        "id": "slPeh3N64N2Z"
      },
      "outputs": [],
      "source": [
        "# Write your code here\n",
        "empty_dict =\n",
        "\n",
        "# Test your code here\n",
        "assert_equal(\"dict\", type(empty_dict).__name__)\n",
        "assert_equal(0, len(empty_dict))"
      ]
    },
    {
      "cell_type": "markdown",
      "source": [
        "### 2. What is a Tuple?\n",
        "\n",
        "Before we continue working with dictionaries, let’s take a closer look at **tuples**, a very useful data type in Python.\n",
        "\n",
        "A **tuple** is like a list — it can store multiple items — but there are two big differences:\n",
        "- Tuples use **round brackets** `()` instead of square brackets `[]`\n",
        "- Tuples are **immutable**, meaning you **cannot change them** after they are created\n",
        "\n",
        "Tuples are often used to group together pieces of related information.\n",
        "\n",
        "For example, if we want to store both the name of a drink and its price together, we can use a tuple:\n"
      ],
      "metadata": {
        "id": "GdK82Yoc7tnW"
      }
    },
    {
      "cell_type": "code",
      "source": [
        "# Let's create a tuple\n",
        "pair = (\"latte\", 500)\n",
        "\n",
        "print(\"Full tuple:\", pair)\n",
        "print(\"Type of 'pair':\", type(pair))\n",
        "print(\"Drink name (index 0):\", pair[0])\n",
        "print(\"Price (index 1):\", pair[1])"
      ],
      "metadata": {
        "id": "ELYT9rQ67zYb"
      },
      "execution_count": null,
      "outputs": []
    },
    {
      "cell_type": "markdown",
      "source": [
        "As you can see, `pair[0]` gives us `\"latte\"` and `pair[1]` gives us `500`.  \n",
        "Even though we can read values from a tuple like a list, we **cannot** change them.\n",
        "\n",
        "Let’s try changing the second value:"
      ],
      "metadata": {
        "id": "Vwj4zfde75vW"
      }
    },
    {
      "cell_type": "code",
      "source": [
        "# Attempt to change the value at index 1\n",
        "pair[1] = 600"
      ],
      "metadata": {
        "id": "yMiLaJ8i77Jq"
      },
      "execution_count": null,
      "outputs": []
    },
    {
      "cell_type": "markdown",
      "source": [
        "Python gives us a **TypeError** because tuples are **immutable**.  \n",
        "Once you create a tuple, you can't add, remove, or change its contents.\n",
        "\n",
        "This makes tuples very useful in situations where you want to:\n",
        "- Make sure data doesn't get accidentally changed\n",
        "- Use them as **dictionary keys**\n",
        "- Store paired or grouped information\n",
        "\n",
        "Now let's explore tuples a bit more."
      ],
      "metadata": {
        "id": "ze043i3j79i8"
      }
    },
    {
      "cell_type": "code",
      "source": [
        "# Try this yourself! Predict the output before running.\n",
        "\n",
        "example = (\"smoothie\", 550, \"medium\")\n",
        "\n",
        "# What do you think these will print?\n",
        "print(\"example[0]:\", example[0])  # ?\n",
        "print(\"example[2]:\", example[2])  # ?\n",
        "print(\"Length of the tuple:\", len(example))  # ?"
      ],
      "metadata": {
        "id": "3HxLG1i-8Kyy"
      },
      "execution_count": null,
      "outputs": []
    },
    {
      "cell_type": "markdown",
      "source": [
        "# 🤔 Think About It\n",
        "\n",
        "## A. 🤔 What happens if you try `example[3]`? Why?"
      ],
      "metadata": {
        "id": "p607EEPQ8NSG"
      }
    },
    {
      "cell_type": "code",
      "source": [
        "# Try accessing index that doesn't exist\n",
        "print(example[3])"
      ],
      "metadata": {
        "id": "d_oFtIgT8QUT"
      },
      "execution_count": null,
      "outputs": []
    },
    {
      "cell_type": "markdown",
      "source": [
        "## B. 🤔 Can a tuple have only one item?"
      ],
      "metadata": {
        "id": "wbFZkQDz8QxQ"
      }
    },
    {
      "cell_type": "code",
      "source": [
        "# Try a tuple with one item\n",
        "single_item = (\"water\", ) # Also try what happens when you use (\"water\") here !!\n",
        "print(\"Single-item tuple:\", single_item)\n",
        "print(\"Length:\", len(single_item))\n",
        "print(\"Type:\", type(single_item))"
      ],
      "metadata": {
        "id": "8pqMXnpB8QNx"
      },
      "execution_count": null,
      "outputs": []
    },
    {
      "cell_type": "markdown",
      "source": [
        "## C. 🤔 What happens if we try to use `.append()` on a tuple?"
      ],
      "metadata": {
        "id": "mbkdH1a-8RcK"
      }
    },
    {
      "cell_type": "code",
      "source": [
        "# Try using append\n",
        "example.append(\"cold\")"
      ],
      "metadata": {
        "id": "8yvb-K7g8QE1"
      },
      "execution_count": null,
      "outputs": []
    },
    {
      "cell_type": "markdown",
      "metadata": {
        "id": "5tk1P5kGtsSL"
      },
      "source": [
        "## 3. My friends, and I"
      ]
    },
    {
      "cell_type": "markdown",
      "metadata": {
        "id": "3TPEEBvztsSM"
      },
      "source": [
        "### 3.1 `friends`\n",
        "\n",
        "Write a dictionary `my_friends` mapping the names of five of your friends to their ages (don't worry about being accurate). In other words, we want a dictionary with students' names as keys and ages as values."
      ]
    },
    {
      "cell_type": "code",
      "execution_count": null,
      "metadata": {
        "id": "9MjW-MygtsSM"
      },
      "outputs": [],
      "source": [
        "# Write your code here\n",
        "my_friends =\n",
        "\n",
        "# Test your code here\n",
        "assert_equal(\"dict\", type(my_friends).__name__)\n",
        "assert_equal(5, len(my_friends))"
      ]
    },
    {
      "cell_type": "markdown",
      "metadata": {
        "id": "ZJYWTANAtsSM"
      },
      "source": [
        "### 3.2 `add_friend`"
      ]
    },
    {
      "cell_type": "markdown",
      "metadata": {
        "id": "H4i-xhGntsSM"
      },
      "source": [
        "Now, write a function `add_friend(d, name, age)` that adds a new friend with name `name` and age `age` to the dictionary `d` of friends."
      ]
    },
    {
      "cell_type": "code",
      "execution_count": null,
      "metadata": {
        "id": "cMax1DlRtsSN"
      },
      "outputs": [],
      "source": [
        "def add_friend(d, name, age):\n",
        "    \"\"\"Records your new friend's name and age in the dictionary `d`, mutating it.\n",
        "\n",
        "    Args:\n",
        "        d (dict(str: int)): The dictionary that maps your friends' names to their ages.\n",
        "        name (str): Your new friend's name.\n",
        "        age (int): Your new friend's age.\n",
        "\n",
        "    Returns: None.\n",
        "    \"\"\"\n",
        "    # Write your code\n",
        "\n",
        "\n",
        "\n",
        "\n",
        "\n",
        "# Test your code here\n",
        "test_friends = {\"Barney\": 500, \"Cailou\": 4, \"Lala\": 2, \"Blue\": 19, \"Jimmy Newtron\": 14}\n",
        "\n",
        "assert_equal(None, add_friend(test_friends, 'Damerae', 19))\n",
        "assert_equal(19, test_friends['Damerae'])"
      ]
    },
    {
      "cell_type": "markdown",
      "metadata": {
        "id": "F5BFkU7qtsSN"
      },
      "source": [
        "### 3.3 The potion of youth\n",
        "\n",
        "You and your friends have discovered a magic potion that makes the drinker 2 years younger. Write a function `drink_magic_potion` that takes your friend's name and updates their age in the dictionary to be two years younger."
      ]
    },
    {
      "cell_type": "code",
      "execution_count": null,
      "metadata": {
        "id": "Emrqba2otsSN"
      },
      "outputs": [],
      "source": [
        "def drink_magic_potion(d, name):\n",
        "    \"\"\"Change dictionary `d` to decrease the age of the person with the specified name by 2 years.\n",
        "\n",
        "    Args:\n",
        "        d (dict(str: int)): The dictionary that maps your friends' names to their ages.\n",
        "        name (string): The potion drinker's name.\n",
        "\n",
        "    Returns: None.\n",
        "    \"\"\"\n",
        "    # Write your code here\n",
        "\n",
        "\n",
        "\n",
        "\n",
        "# Test your code here\n",
        "test_friends = {\"Barney\": 500, \"Cailou\": 4, \"Lala\": 2, \"Blue\": 19, \"Jimmy Newtron\": 14}\n",
        "\n",
        "assert_equal(None, drink_magic_potion(test_friends, \"Barney\"))\n",
        "assert_equal(498, test_friends[\"Barney\"])\n",
        "drink_magic_potion(test_friends, \"Cailou\")\n",
        "assert_equal(2, test_friends[\"Cailou\"])"
      ]
    },
    {
      "cell_type": "markdown",
      "metadata": {
        "id": "8tqHTI9N4N2Z"
      },
      "source": [
        "### 3.4 `average_friends_age`\n",
        "\n",
        "Write a function `average_friends_age` that takes a dictionary `d`. `d` maps the names of friends to their ages. `average_friends_age` should return the average age of all the friends in the dictionary.\n"
      ]
    },
    {
      "cell_type": "code",
      "execution_count": null,
      "metadata": {
        "id": "_xUdb_vu4N2Z"
      },
      "outputs": [],
      "source": [
        "def average_friends_age(d):\n",
        "    \"\"\"Computes the average age of friends in the given dictionary.\n",
        "\n",
        "    Args:\n",
        "        d (dict(str: int)): The dictionary that maps your friends' names to their ages.\n",
        "\n",
        "    Returns (float): The average age of all friends.\n",
        "    \"\"\"\n",
        "    # Write your code here\n",
        "\n",
        "\n",
        "\n",
        "\n",
        "\n",
        "# Test your code here\n",
        "test_friends = {\"Barney\": 500, \"Cailou\": 4, \"Lala\": 2, \"Blue\": 19, \"Jimmy Newtron\": 14}\n",
        "assert_equal(107.8, average_friends_age(test_friends))\n",
        "\n",
        "test_friends2 = {\"Barney\": 100, \"Cailou\": 4}\n",
        "assert_equal(52, average_friends_age(test_friends2))"
      ]
    },
    {
      "cell_type": "markdown",
      "metadata": {
        "id": "ko61uUPg4N2e"
      },
      "source": [
        "## 4. Trivia!\n",
        "\n",
        "Let's use dictionaries to make a trivia game!\n",
        "\n",
        "**Feel free to add as many new trivia questions to the dictionary as you want.**"
      ]
    },
    {
      "cell_type": "code",
      "execution_count": null,
      "metadata": {
        "id": "BWgwt6uT4N2e"
      },
      "outputs": [],
      "source": [
        "# put your trivia questions and answers into a dictionary\n",
        "questions_to_answers = {'the shortest month':'February', 'how many legs does an insect have': \"6\"}\n",
        "\n",
        "print(\"Let's play trivia!\")\n",
        "\n",
        "correct = 0\n",
        "\n",
        "for question in questions_to_answers.keys(): # do not edit\n",
        "    print(question)\n",
        "    guess = input(\"Enter your guess: \") # do not edit\n",
        "\n",
        "    if guess == questions_to_answers[question]: # do not edit\n",
        "\n",
        "        # Print some words to tell the user when they have made the correct guess:\n",
        "        print(\"you got it!\")\n",
        "        correct += 1\n",
        "\n",
        "    else: # do not edit\n",
        "        # Print some words to tell the user when they have made the wrong guess:\n",
        "        print(\"wrong, the correct answer was \", questions_to_answers[question])\n",
        "\n",
        "print('you got ', correct, ' correct out of ', len(questions_to_answers))"
      ]
    },
    {
      "cell_type": "markdown",
      "metadata": {
        "id": "PpCScS_g4N2e"
      },
      "source": [
        "## 5. Counting birds\n",
        "\n",
        "### 5.1\n",
        "Barry the birdwatcher is bad at counting, so whenever he sees a bird he just writes down its name. Now he has a list of bird species:\n",
        "```python\n",
        "birds_seen = ['sparrow','pigeon','crow','pigeon','crow','crow','owl']\n",
        "```\n",
        "A common use for dictionaries is to help us count how many times we have seen something.\n",
        "Write a function `get_counts(names)` that generates a dictionary mapping each name in  `names` to the count of how many times it appeared in the list. For example:\n",
        "\n",
        "```python\n",
        "get_counts(birds_seen)\n",
        "```\n",
        "should return\n",
        "```python\n",
        "{\n",
        "    'sparrow': 1,\n",
        "    'pigeon': 2,\n",
        "    'crow': 3,\n",
        "    'owl': 1\n",
        "}\n",
        "```"
      ]
    },
    {
      "cell_type": "code",
      "execution_count": null,
      "metadata": {
        "id": "rEx75Xhf4N2e"
      },
      "outputs": [],
      "source": [
        "def get_counts(names):\n",
        "    \"\"\"Counts how many times each name appears in names\n",
        "\n",
        "    Args:\n",
        "        names (list[str]): The input list of all the names.\n",
        "\n",
        "    Returns:\n",
        "        (dict(str: int)): A dictionary that maps each name to the number of times it appears\n",
        "    \"\"\"\n",
        "    # Write your code here\n",
        "\n",
        "\n",
        "\n",
        "\n",
        "\n",
        "# Test your code here\n",
        "birds_seen = ['sparrow','pigeon','crow','pigeon','crow','crow','owl']\n",
        "bird_counts = get_counts(birds_seen)\n",
        "assert_equal(want={'sparrow': 1,'pigeon': 2, 'crow': 3,'owl': 1}, got=bird_counts)\n",
        "\n",
        "birds_seen2 = ['hawk','robin','pigeon','robin']\n",
        "bird_counts2 = get_counts(birds_seen2)\n",
        "assert_equal(want={'hawk': 1,'robin': 2, 'pigeon': 1}, got=bird_counts2)"
      ]
    },
    {
      "cell_type": "markdown",
      "metadata": {
        "id": "YlkiYmkV4N2e"
      },
      "source": [
        "### 5.2\n",
        "Barry hasn't seen any other birds, so for example `counts['eagle']` should be 0. Write a function `get_item_count(counts, item)` that returns the current count of an item, and if an item is not in the dictionary, it returns `0`."
      ]
    },
    {
      "cell_type": "code",
      "execution_count": null,
      "metadata": {
        "id": "IaRg75Z44N2e"
      },
      "outputs": [],
      "source": [
        "def get_item_count(counter, item):\n",
        "    \"\"\"Retrieves the current item's count from the counter.\n",
        "    If we have not seen the item so far, returns 0.\n",
        "\n",
        "    Args:\n",
        "        counter (dict(str: int)): The counter dictionary\n",
        "        item (str): The item whose count we are retrieving.\n",
        "\n",
        "    Returns (int): The item's current count. If not seen, 0.\n",
        "    \"\"\"\n",
        "    # Write your code here\n",
        "\n",
        "\n",
        "\n",
        "\n",
        "\n",
        "# Test your code here\n",
        "assert_equal(0, get_item_count(bird_counts, 'robin'))\n",
        "assert_equal(1, get_item_count(bird_counts, 'sparrow'))\n",
        "assert_equal(0, get_item_count(bird_counts, 'eagle'))\n",
        "assert_equal(3, get_item_count(bird_counts, 'crow'))"
      ]
    },
    {
      "cell_type": "markdown",
      "metadata": {
        "id": "I0WDJi3x4N2e"
      },
      "source": [
        "### 5.3\n",
        "Now write a function that uses the `bird_counts` dictionary to tell us how many different species of bird Barry saw."
      ]
    },
    {
      "cell_type": "code",
      "execution_count": null,
      "metadata": {
        "id": "9e1KW6Xh4N2e"
      },
      "outputs": [],
      "source": [
        "def get_num_species(bird_counts):\n",
        "    \"\"\"Tells us how many different species of bird Barry saw\n",
        "\n",
        "    Args:\n",
        "        counter (dict(str: int)): The counter dictionary\n",
        "\n",
        "    Returns (int): The number of unique bird species seen.\n",
        "    \"\"\"\n",
        "    # Write your code here\n",
        "\n",
        "\n",
        "\n",
        "\n",
        "# Test your code here\n",
        "assert_equal(got=get_num_species(bird_counts), want=4)\n",
        "test_counts = {\"shrimp\": 87, \"shark\": 4, \"whale\": 2, \"dolphin\": 19, \"jellyfish\": 14}\n",
        "assert_equal(got=get_num_species(test_counts), want=5)"
      ]
    },
    {
      "cell_type": "markdown",
      "metadata": {
        "id": "aJYMQTIK4N2f"
      },
      "source": [
        "## 6. Dictionaries at the Cafe"
      ]
    },
    {
      "cell_type": "markdown",
      "metadata": {
        "id": "iMAbZ4bv4N2f"
      },
      "source": [
        "### 6.1\n",
        "Zaria buys some drinks for her friends on the way to class. This is the store's menu and the price of each drink:"
      ]
    },
    {
      "cell_type": "code",
      "source": [
        "drink_menu = {\n",
        "    'latte': 500,\n",
        "    'mocha': 600,\n",
        "    'tea': 400,\n",
        "    'smoothie': 550,\n",
        "    'lemonade': 450,\n",
        "}"
      ],
      "metadata": {
        "id": "_KbJlYulDTZH"
      },
      "execution_count": null,
      "outputs": []
    },
    {
      "cell_type": "markdown",
      "source": [
        "Micah and Kerene both asked for a latte, Alok wants a smoothie, Pawat requested a lemonade, and Ian wants a tea. Make a dictionary `drink_orders` to keep track of who ordered what drink."
      ],
      "metadata": {
        "id": "bSXiOV3VDR1M"
      }
    },
    {
      "cell_type": "code",
      "execution_count": null,
      "metadata": {
        "id": "YGwvHe4h4N2f"
      },
      "outputs": [],
      "source": [
        "# Write your code here\n",
        "drink_orders =\n",
        "\n",
        "# Test your code here\n",
        "assert_equal('latte', drink_orders['Micah'])\n",
        "assert_equal('latte', drink_orders['Kerene'])\n",
        "assert_equal('tea', drink_orders['Ian'])\n",
        "assert_equal(5, len(drink_orders))"
      ]
    },
    {
      "cell_type": "markdown",
      "metadata": {
        "id": "5UCK1NRT4N2f"
      },
      "source": [
        "### 6.2\n",
        "Now, write a function `get_total_cost` that returns the total cost of the drinks. Remember, the menu also contains the cost of each drink."
      ]
    },
    {
      "cell_type": "code",
      "execution_count": null,
      "metadata": {
        "id": "x6QXYXKl4N2f"
      },
      "outputs": [],
      "source": [
        "def get_total_cost(orders, menu):\n",
        "    \"\"\"Use the menu to get the total cost of all the orders.\n",
        "    Args:\n",
        "        orders (dict(str: str)): Dictionary mapping the person's name to the drink that they ordered\n",
        "        menu (dict(str: int)): Dictionary mapping the drink name to how much it costs\n",
        "    Returns:\n",
        "        (int): the total cost of all the drinks\n",
        "    \"\"\"\n",
        "    # Write your code here\n",
        "\n",
        "\n",
        "\n",
        "\n",
        "# Test your code here\n",
        "assert_equal(2400, get_total_cost(drink_orders, drink_menu))\n",
        "assert_equal(0, get_total_cost({}, drink_menu))\n",
        "assert_equal(500, get_total_cost({'Orr':'latte'}, drink_menu))"
      ]
    },
    {
      "cell_type": "markdown",
      "metadata": {
        "id": "6wXxtAWv4N2f"
      },
      "source": [
        "### 6.3 Items\n",
        "When processing dictionaries, instead of going through all the dictionary keys and looking up the values, it can be easier to just go through the dictionary items. Run the code to see how dictionary items work:"
      ]
    },
    {
      "cell_type": "code",
      "execution_count": null,
      "metadata": {
        "id": "2WDwvz-x4N2f"
      },
      "outputs": [],
      "source": [
        "for item in drink_menu.items():\n",
        "    print(item)"
      ]
    },
    {
      "cell_type": "markdown",
      "metadata": {
        "id": "vu6aE6b-4N2f"
      },
      "source": [
        "There is a neat way to access the keys and values while going through the dctionary:"
      ]
    },
    {
      "cell_type": "code",
      "execution_count": null,
      "metadata": {
        "id": "up7dhMNl4N2f"
      },
      "outputs": [],
      "source": [
        "for key, value in drink_menu.items():\n",
        "    print(\"drink: \", key)\n",
        "    print(\"price: \", value)\n",
        "    print()"
      ]
    },
    {
      "cell_type": "markdown",
      "metadata": {
        "id": "GvhKGmNm4N2f"
      },
      "source": [
        "Now use `.items()` to write a function to return a dictionary that tells Zaria how much each friend owes her. Can you write this function in only 5 lines, including the `def` and `return` lines?"
      ]
    },
    {
      "cell_type": "code",
      "execution_count": null,
      "metadata": {
        "id": "0qlph0bl4N2f"
      },
      "outputs": [],
      "source": [
        "def get_owed(orders, menu):\n",
        "  # Write your code here\n",
        "\n",
        "\n",
        "\n",
        "\n",
        "# Test your code here\n",
        "owed = get_owed(drink_orders, drink_menu)\n",
        "assert_equal(500, owed['Micah'])\n",
        "assert_equal(500, owed['Kerene'])\n",
        "assert_equal(400, owed['Ian'])"
      ]
    },
    {
      "cell_type": "markdown",
      "metadata": {
        "id": "WRFRXZd04N2f"
      },
      "source": [
        "# 7. Dividing students into groups\n",
        "\n",
        "We are given a list of strings `names` that contains the names of students in a classroom. The teacher of the class wants to group the students by the first letter of their names.\n",
        "First, for each letter we want you to count the number of students whose names start with that letter.\n",
        "Write a function `get_first_letter_counts` for this problem.\n",
        "\n",
        "Example:\n",
        "```python\n",
        "get_first_letter_counts(['Daniel', 'Basi', 'Bereket', 'Dim', 'Leello'])\n",
        "```\n",
        "should return\n",
        "```python\n",
        "{'B': 2, 'D': 2, 'L': 1}\n",
        " ```"
      ]
    },
    {
      "cell_type": "code",
      "execution_count": null,
      "metadata": {
        "id": "e2PcPHRw4N2f"
      },
      "outputs": [],
      "source": [
        "def get_first_letter_counts(names):\n",
        "    \"\"\"finds the number of names starting with each letter\n",
        "\n",
        "    Args:\n",
        "        names (list(str)): The input list of all the names.\n",
        "\n",
        "    Returns:\n",
        "        (dict(str: int)): A dictionary that maps letters to the number of names starting with that letter.\n",
        "    \"\"\"\n",
        "    # Write your code here\n",
        "\n",
        "\n",
        "\n",
        "\n",
        "\n",
        "# Test your code here\n",
        "names = ['Daniel', 'Basi', 'Bereket', 'Dim', 'Leello']\n",
        "assert_equal(get_first_letter_counts(names), {'B': 2, 'D': 2, 'L': 1})\n",
        "names2 = ['Jon', 'Kerene', 'Jonathan', 'Zaria', 'Koda', 'Jennie']\n",
        "assert_equal(get_first_letter_counts(names2), {'J': 3, 'Z': 1, 'K': 2})"
      ]
    },
    {
      "cell_type": "markdown",
      "metadata": {
        "id": "0hSSWaqV4N2f"
      },
      "source": [
        "Now write a function called `group_by_first_letter` to create the actual student groupings.\n",
        "\n",
        "For example,\n",
        "```python\n",
        "group_by_first_letter(['Daniel', 'Basi', 'Bereket', 'Dim', 'Leello'])\n",
        "```\n",
        "should return\n",
        "```python\n",
        "{'B': ['Basi', 'Bereket'],  'D': ['Daniel', 'Dim'], 'L': ['Leello']}\n",
        "```\n"
      ]
    },
    {
      "cell_type": "code",
      "execution_count": null,
      "metadata": {
        "id": "aBdKiEFBtsSQ"
      },
      "outputs": [],
      "source": [
        "def group_by_first_letter(names):\n",
        "    \"\"\"Groups students by the first letter of their name.\n",
        "    Args:\n",
        "        names (list(str)): The input list of all the names.\n",
        "\n",
        "    Returns: (dict(str: list(str)): A dictionary that maps letters to lists of names starting with that letter.\n",
        "    \"\"\"\n",
        "    # Write your code here\n",
        "\n",
        "\n",
        "\n",
        "\n",
        "\n",
        "# Test your code here\n",
        "names = ['Daniel', 'Basi', 'Bereket', 'Dim', 'Leello']\n",
        "student_groups = group_by_first_letter(names)\n",
        "assert_equal(want={'B': ['Basi', 'Bereket'], 'D': ['Daniel', 'Dim'],'L': ['Leello']}, got = student_groups)\n",
        "\n",
        "names2 = ['Jon', 'Kerene', 'Jonathan', 'Koda', 'Jennie']\n",
        "student_groups2 = group_by_first_letter(names2)\n",
        "assert_equal(want = {'J': ['Jon', 'Jonathan', 'Jennie'], 'K': ['Kerene', 'Koda']}, got = student_groups2)"
      ]
    },
    {
      "cell_type": "markdown",
      "metadata": {
        "id": "S0jV-BZB4N2f"
      },
      "source": [
        "Now the teacher wants to assign a leader for each group, and decides the leader should be the student with the longest name. Write a function `pick_leaders` to pick the student from each group with the longest name and return a dictionary of the group leaders. For example,\n",
        "```python\n",
        "pick_leaders(student_groups)\n",
        "```\n",
        "should return\n",
        "```python\n",
        "{'B':'Bereket', 'D':'Daniel', 'L':'Leello'}\n",
        "```"
      ]
    },
    {
      "cell_type": "code",
      "execution_count": null,
      "metadata": {
        "id": "la_FXNI_4N2g"
      },
      "outputs": [],
      "source": [
        "def pick_leaders(groups):\n",
        "    \"\"\"Gets a dictionary of group leaders by choosing the person with the longest name from each group.\n",
        "\n",
        "    Args:\n",
        "        groups (dict(str: list(str))): The dictionary containing the groups.\n",
        "\n",
        "    Returns (dict(str: str)): A dictionary of just the group leaders.\n",
        "    \"\"\"\n",
        "    # Write your code here\n",
        "\n",
        "\n",
        "\n",
        "\n",
        "\n",
        "# Test your code here\n",
        "leaders = pick_leaders(student_groups)\n",
        "assert_equal(want={'B':'Bereket', 'D':'Daniel', 'L':'Leello'}, got=leaders)\n",
        "leaders2 = pick_leaders(student_groups2)\n",
        "assert_equal(want={'J': 'Jonathan', 'K': 'Kerene'}, got=leaders2)"
      ]
    },
    {
      "cell_type": "markdown",
      "source": [
        "# 🤓🤓🤓🤓\n",
        "\n",
        "### Congrats on finishing the notebook! You're doing awesome\n"
      ],
      "metadata": {
        "id": "_WqY6kXeMFtB"
      }
    }
  ],
  "metadata": {
    "colab": {
      "provenance": []
    },
    "kernelspec": {
      "display_name": "Python 3 (ipykernel)",
      "language": "python",
      "name": "python3"
    },
    "language_info": {
      "codemirror_mode": {
        "name": "ipython",
        "version": 3
      },
      "file_extension": ".py",
      "mimetype": "text/x-python",
      "name": "python",
      "nbconvert_exporter": "python",
      "pygments_lexer": "ipython3",
      "version": "3.11.1"
    }
  },
  "nbformat": 4,
  "nbformat_minor": 0
}