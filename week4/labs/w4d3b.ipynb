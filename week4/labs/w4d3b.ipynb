{
  "cells": [
    {
      "cell_type": "markdown",
      "metadata": {
        "id": "YLN5PIPbCnsp"
      },
      "source": [
        "![Reminder to Save](https://github.com/jamcoders/jamcoders-public-2025/blob/main/images/warning.png?raw=true)"
      ]
    },
    {
      "cell_type": "code",
      "execution_count": null,
      "metadata": {
        "id": "OqbqaOx7Cnsr"
      },
      "outputs": [],
      "source": [
        "# Always run this code.\n",
        "%config InteractiveShell.ast_node_interactivity=\"none\"\n",
        "import sys\n",
        "if 'google.colab' in sys.modules:\n",
        "  !pip install --force-reinstall git+https://github.com/jamcoders/jamcoders-public-2025.git --quiet\n",
        "from jamcoders.base_utils import *\n",
        "from jamcoders.week4.labw4d3b import *"
      ]
    },
    {
      "cell_type": "markdown",
      "source": [
        "# Section 1: Code Tracing"
      ],
      "metadata": {
        "id": "zfkY8lwIwmUn"
      }
    },
    {
      "cell_type": "markdown",
      "source": [
        "**1.** After running the code snippet down below, what is the value of ```x```?\n",
        "\n",
        "```python\n",
        "a = True\n",
        "b = not a\n",
        "x = \"Hello\"\n",
        "\n",
        "if not b and not a:\n",
        "  if a:\n",
        "    x += \" Jamcoder!\"\n",
        "  else:\n",
        "    x += \" World!\"\n",
        "else:\n",
        "  if a or b:\n",
        "    x = \"Hey\"\n",
        "  if b:\n",
        "    x += \"ya\"\n",
        "  else:\n",
        "    x += \"ela\"    \n",
        "```"
      ],
      "metadata": {
        "id": "QsvvOMrBw1R7"
      }
    },
    {
      "cell_type": "code",
      "source": [
        "# Question 1 - your answer goes here:\n",
        "answer = None\n",
        "\n",
        "# DO NOT MODIFY THIS CODE:\n",
        "check_answer_1(answer)"
      ],
      "metadata": {
        "id": "Fi8O8E30x_Bf"
      },
      "execution_count": null,
      "outputs": []
    },
    {
      "cell_type": "markdown",
      "source": [
        "**2.** After running the code snippet below, what are the values of ```second```, and ```third```?\n",
        "\n",
        "```python\n",
        "first = ['hello', 1, 3, True, 'woah', 'cool', 'jamcoder']\n",
        "second = first[1:4]\n",
        "second[2] = 'westminister'\n",
        "third = second[2][4:8]\n",
        "third += \"-me\"\n",
        "```"
      ],
      "metadata": {
        "id": "LBdNB3wKydM-"
      }
    },
    {
      "cell_type": "code",
      "source": [
        "# Question 2 - your answer goes here:\n",
        "second = None\n",
        "third = None\n",
        "\n",
        "# DO NOT MODIFY THIS CODE:\n",
        "check_answer_2a(second)\n",
        "check_answer_2b(third)"
      ],
      "metadata": {
        "id": "Xohcc4nl0-bR"
      },
      "execution_count": null,
      "outputs": []
    },
    {
      "cell_type": "markdown",
      "source": [
        "**3.** After running the code snippet, what are the values of ```a```, ```b```, and ```c```?\n",
        "\n",
        "If the assignment statement results in an error, write ```\"error\"``` for that variable.\n",
        "\n",
        "```python\n",
        "pets = {'doggo': 18, 'kitcat': 22, 'fishyfish': 12, 'pelican': [\"go\", \"uwi!\", 2025]}\n",
        "pets['doggo'] = pets['kitcat'] + 6\n",
        "a = pets['doggo'] + pets['fishyfish']\n",
        "b = pets[0]\n",
        "c = pets['pelican'][1:]\n",
        "```"
      ],
      "metadata": {
        "id": "sOMoLfFt1jDD"
      }
    },
    {
      "cell_type": "code",
      "source": [
        "# Question 3 - your answer goes here:\n",
        "a = None\n",
        "b = None\n",
        "c = None\n",
        "\n",
        "# DO NOT MODIFY THIS CODE:\n",
        "check_answer_3a(a)\n",
        "check_answer_3b(b)\n",
        "check_answer_3c(c)"
      ],
      "metadata": {
        "id": "Xh4wVGrowoMl"
      },
      "execution_count": null,
      "outputs": []
    },
    {
      "cell_type": "markdown",
      "source": [
        "**4.** After running the code snippet, what are the values of ```d``` and ```e```?:\n",
        "\n",
        "```python\n",
        "def weird_func(lst, min):\n",
        "  if len(lst) == 0:\n",
        "    return []\n",
        "  if lst[0] > min:\n",
        "    return [lst[0] * 2] + weird_func(lst[1:], min)\n",
        "  else:\n",
        "    return [lst[0]] + weird_func(lst[1:], min)\n",
        "\n",
        "d = weird_func([15, 2, 4, 16, 20, 5], 10)\n",
        "e = weird_func([1, 2, 3, 4, 5, 6, 7], 3)\n",
        "```"
      ],
      "metadata": {
        "id": "ImtHbyyF3tWi"
      }
    },
    {
      "cell_type": "code",
      "source": [
        "# Question 4 - Your answer goes here:\n",
        "d = None\n",
        "e = None\n",
        "\n",
        "# DO NOT MODIFY THIS CODE:\n",
        "check_answer_4a(d)\n",
        "check_answer_4b(e)"
      ],
      "metadata": {
        "id": "-p9U_V433OdB"
      },
      "execution_count": null,
      "outputs": []
    },
    {
      "cell_type": "markdown",
      "source": [
        "**5.** Suppose we modified ```binary_search``` to add all its guesses, which get returned at the end of the function:\n",
        "\n",
        "```python\n",
        "def binary_search(lst, value):\n",
        "  left = 0\n",
        "  right = len(lst) - 1\n",
        "  guesses_list = []\n",
        "\n",
        "  while left <= right:\n",
        "    mid = (left + right) // 2\n",
        "    guesses_list.append(lst[mid])\n",
        "\n",
        "    if lst[mid] == value:\n",
        "      break\n",
        "    elif lst[mid] > value:\n",
        "      right = mid - 1\n",
        "    else:\n",
        "      left = mid + 1\n",
        "  \n",
        "  return guesses_list\n",
        "```"
      ],
      "metadata": {
        "id": "jSYP53KX53Fl"
      }
    },
    {
      "cell_type": "markdown",
      "source": [
        "Then, we run:\n",
        "\n",
        "```python\n",
        "guesses_list = binary_search([1, 5, 10, 12, 15, 25, 30, 34], 1)\n",
        "```\n",
        "\n",
        "What is the value of ```guesses_list```?"
      ],
      "metadata": {
        "id": "LmPnl1me7Ciy"
      }
    },
    {
      "cell_type": "code",
      "source": [
        "# Question 5 - your answer goes here:\n",
        "guesses_list = None\n",
        "\n",
        "# DO NOT MODIFY THIS CODE:\n",
        "check_answer_5(guesses_list)"
      ],
      "metadata": {
        "id": "91Gyn5HW4ucx"
      },
      "execution_count": null,
      "outputs": []
    },
    {
      "cell_type": "markdown",
      "source": [
        "**6.** After running the code, what is the value of ```g```?\n",
        "\n",
        "```python\n",
        "def mystery_pattern(n):\n",
        "    if n <= 0:\n",
        "        return [0]\n",
        "    result = []\n",
        "    result += [n]\n",
        "    result += mystery_pattern(n - 3)\n",
        "    result += [n * 2]\n",
        "    result += mystery_pattern(n - 4)\n",
        "    return result\n",
        "\n",
        "g = mystery_pattern(5)\n",
        "```"
      ],
      "metadata": {
        "id": "5z07OKhl8kj_"
      }
    },
    {
      "cell_type": "code",
      "source": [
        "# Question 6 - your answer goes here:\n",
        "g = None\n",
        "\n",
        "# DO NOT MODIFY THIS CODE:\n",
        "check_answer_6(g)"
      ],
      "metadata": {
        "id": "eduoPoQBCQzT"
      },
      "execution_count": null,
      "outputs": []
    },
    {
      "cell_type": "markdown",
      "source": [
        "# Section 2: Sorting"
      ],
      "metadata": {
        "id": "6BeGNf2kCroe"
      }
    },
    {
      "cell_type": "markdown",
      "source": [
        "**7.** Suppose we modify selection sort to take an additional parameter, ```stop```, which is the last index up to which the selection sort should operate.\n",
        "\n",
        "Here's the modified version:\n",
        "\n",
        "```python\n",
        "def selection_sort(L, stop):\n",
        "    for i in range(stop + 1):\n",
        "        min_idx = find_min_idx(L, i)\n",
        "        swap(L, min_idx, i)\n",
        "    return L\n",
        "```\n",
        "\n",
        "This version performs selection sort only from index ```0``` to ```stop```. The rest of the list remains unchanged, **except for potential movement of elements due to swapping during sorting.**\n",
        "\n",
        "For example, if we called ```selection_sort([7, 2, 5, 1, 6, 3], 2)```, items from index ```0``` to ```2``` will be sorted. The returned list will therefore be ```[1, 2, 3, 7, 6, 5]```.\n",
        "\n",
        "What will be the values of ```a```, ```b```, and ```c``` after the following calls to ```selection_sort```?\n",
        "```python\n",
        "a = selection_sort([6, 3, 2, 15, 1, 10], 3)\n",
        "b = selection_sort([9, 7, 5, 3, 6, 4, 1], 2)\n",
        "c = selection_sort([10, 3, 8, 5, 2, 7, 4, 6, 9, 1], 4)\n",
        "```"
      ],
      "metadata": {
        "id": "gUVw2HhbDk3d"
      }
    },
    {
      "cell_type": "code",
      "source": [
        "# Question 7 - Your answer goes here:\n",
        "a = []\n",
        "b = []\n",
        "c = []\n",
        "\n",
        "# DO NOT MODIFY THIS CODE:\n",
        "check_answer_7a(a)\n",
        "check_answer_7b(b)\n",
        "check_answer_7c(c)"
      ],
      "metadata": {
        "id": "ch3KwabuCukM"
      },
      "execution_count": null,
      "outputs": []
    },
    {
      "cell_type": "markdown",
      "source": [
        "**8.** Suppose we have a list ```[9, 32, 17, 7, 30, 21, 8, 19]```, and we'd like to perform merge sort - specifically, merging the sorted portions back together:"
      ],
      "metadata": {
        "id": "evNP-uhoMQ1l"
      }
    },
    {
      "cell_type": "markdown",
      "source": [
        "![image.png](data:image/png;base64,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)"
      ],
      "metadata": {
        "id": "l8sxSAmRJnur"
      }
    },
    {
      "cell_type": "markdown",
      "source": [
        "Perform the merging for this step by filling in the colored blanks."
      ],
      "metadata": {
        "id": "HiUYUPkFNQim"
      }
    },
    {
      "cell_type": "code",
      "source": [
        "# Question 8: Fill in the blanks. Answer each colored block as a list of integers.\n",
        "orange = []\n",
        "green = []\n",
        "red = []\n",
        "blue = []\n",
        "purple = []\n",
        "yellow = []\n",
        "\n",
        "\n",
        "# DO NOT MODIFY THIS CODE:\n",
        "check_answer_8_orange(orange)\n",
        "check_answer_8_green(green)\n",
        "check_answer_8_red(red)\n",
        "check_answer_8_blue(blue)\n",
        "check_answer_8_purple(purple)\n",
        "check_answer_8_yellow(yellow)"
      ],
      "metadata": {
        "id": "3qBCk84mPAGu"
      },
      "execution_count": null,
      "outputs": []
    },
    {
      "cell_type": "markdown",
      "source": [
        "# Section 3: Graphs"
      ],
      "metadata": {
        "id": "rH2O8zI2CxYC"
      }
    },
    {
      "cell_type": "markdown",
      "source": [
        "**9.** Suppose we have the following **undirected** graph:"
      ],
      "metadata": {
        "id": "ll7G018zU7b9"
      }
    },
    {
      "cell_type": "markdown",
      "source": [
        "![image.png](data:image/png;base64,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)"
      ],
      "metadata": {
        "id": "WSDoeS_ZU0jS"
      }
    },
    {
      "cell_type": "markdown",
      "source": [
        "**9a**: Represent the graph as an adjacency matrix:"
      ],
      "metadata": {
        "id": "kkzlLOxpVC-C"
      }
    },
    {
      "cell_type": "code",
      "source": [
        "# Question 9a - your code goes here:\n",
        "adjacency_matrix = []\n",
        "\n",
        "# DO NOT MODIFY THIS CODE:\n",
        "check_answer_9a(adjacency_matrix)"
      ],
      "metadata": {
        "id": "O9nIoLwoCzRb"
      },
      "execution_count": null,
      "outputs": []
    },
    {
      "cell_type": "markdown",
      "source": [
        "**9b**: Represent the graph as an adjacency list:"
      ],
      "metadata": {
        "id": "Pw-5YHxCV0ks"
      }
    },
    {
      "cell_type": "code",
      "source": [
        "# Question 9b - your code goes here:\n",
        "adjacency_list = []\n",
        "\n",
        "# DO NOT MODIFY THIS CODE:\n",
        "check_answer_9b(adjacency_list)"
      ],
      "metadata": {
        "id": "PK-zg1PgYV-N"
      },
      "execution_count": null,
      "outputs": []
    },
    {
      "cell_type": "markdown",
      "source": [
        "**9c**: Is the following statement ```True``` or ```False```?\n",
        "\n",
        "```1 -> 6 -> 4 -> 1``` is a valid **cycle** in the graph above.\n",
        "\n"
      ],
      "metadata": {
        "id": "CTebv7lgYhga"
      }
    },
    {
      "cell_type": "code",
      "source": [
        "# Question 9c - your answer goes here:\n",
        "cycle_answer = None\n",
        "\n",
        "# DO NOT MODIFY THIS CODE:\n",
        "check_answer_9c(cycle_answer)"
      ],
      "metadata": {
        "id": "Lg3Twt2LZM50"
      },
      "execution_count": null,
      "outputs": []
    },
    {
      "cell_type": "markdown",
      "source": [
        "**9d:** Is the following statement ```True``` or ```False```?\n",
        "\n",
        "```0 -> 1 -> 6 -> 7 -> 5 -> 0``` is a valid **cycle** in the graph above."
      ],
      "metadata": {
        "id": "BnzN1ksNZYyr"
      }
    },
    {
      "cell_type": "code",
      "source": [
        "# Question 9d - your answer goes here:\n",
        "cycle_answer_2 = None\n",
        "\n",
        "# DO NOT MODIFY THIS CODE:\n",
        "check_answer_9d(cycle_answer_2)"
      ],
      "metadata": {
        "id": "arjwHvZ0ZsNY"
      },
      "execution_count": null,
      "outputs": []
    },
    {
      "cell_type": "markdown",
      "source": [
        "**9e**: Perform Depth-First Search (DFS) on the graph above, starting at node ```0```. Break ties in ascending order (for example, if there is a tie between ```1``` and ```2```, choose ```1``` before ```2```).\n",
        "\n",
        "In what order are the nodes visited when performing DFS?"
      ],
      "metadata": {
        "id": "IUgmAZn8aAo3"
      }
    },
    {
      "cell_type": "code",
      "source": [
        "# Question 9e - your answer goes here:\n",
        "dfs_order = []\n",
        "\n",
        "# DO NOT MODIFY THIS CODE:\n",
        "check_answer_9e(dfs_order)"
      ],
      "metadata": {
        "id": "qULoPKvHbNIX"
      },
      "execution_count": null,
      "outputs": []
    },
    {
      "cell_type": "markdown",
      "source": [
        "**9f**: Perform Breadth-First Search (BFS) on the graph above, starting at node ```0```. Break ties in ascending order (for example, if there is a tie between ```1``` and ```2```, choose ```1``` before ```2```).\n",
        "\n",
        "In what order are the nodes visited when performing BFS?"
      ],
      "metadata": {
        "id": "XEAMe7C4ba3I"
      }
    },
    {
      "cell_type": "code",
      "source": [
        "# Question 9f - your answer goes here:\n",
        "bfs_order = []\n",
        "\n",
        "# DO NOT MODIFY THIS CODE:\n",
        "check_answer_9f(bfs_order)"
      ],
      "metadata": {
        "id": "zkvhI2zobpuj"
      },
      "execution_count": null,
      "outputs": []
    },
    {
      "cell_type": "markdown",
      "source": [
        "**10.** Suppose we have the following **directed** graph:"
      ],
      "metadata": {
        "id": "tZgAlFj6b8bT"
      }
    },
    {
      "cell_type": "markdown",
      "source": [
        "![image.png](data:image/png;base64,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)"
      ],
      "metadata": {
        "id": "NmjhSVq-deSO"
      }
    },
    {
      "cell_type": "markdown",
      "source": [
        "**10a**: Represent the graph as an adjacency matrix:"
      ],
      "metadata": {
        "id": "PuBJOAtgdlWH"
      }
    },
    {
      "cell_type": "code",
      "source": [
        "# Question 10a - your code goes here:\n",
        "adjacency_matrix = []\n",
        "\n",
        "# DO NOT MODIFY THIS CODE:\n",
        "check_answer_10a(adjacency_matrix)"
      ],
      "metadata": {
        "id": "k6nrMyx2dmgj"
      },
      "execution_count": null,
      "outputs": []
    },
    {
      "cell_type": "markdown",
      "source": [
        "**10b**: Represent the graph as an adjacency list:"
      ],
      "metadata": {
        "id": "MBereUD1eUi2"
      }
    },
    {
      "cell_type": "code",
      "source": [
        "# Question 10b - your code goes here:\n",
        "adjacency_list = []\n",
        "\n",
        "# DO NOT MODIFY THIS CODE:\n",
        "check_answer_10b(adjacency_list)"
      ],
      "metadata": {
        "id": "zKE-D6MTegwt"
      },
      "execution_count": null,
      "outputs": []
    },
    {
      "cell_type": "markdown",
      "source": [
        "**10c**: Is the following statement ```True``` or ```False```?\n",
        "\n",
        "```7 -> 4 -> 1 -> 6 -> 7``` is a valid **cycle** in the graph above.\n",
        "\n"
      ],
      "metadata": {
        "id": "MejGm63Ie65j"
      }
    },
    {
      "cell_type": "code",
      "source": [
        "# Question 10c - your answer goes here:\n",
        "valid_cycle_10c = None\n",
        "\n",
        "# DO NOT MODIFY THIS CODE:\n",
        "check_answer_10c(valid_cycle_10c)"
      ],
      "metadata": {
        "id": "QfEZGA_6fXEb"
      },
      "execution_count": null,
      "outputs": []
    },
    {
      "cell_type": "markdown",
      "source": [
        "**10d**: Is the following statement ```True``` or ```False```?\n",
        "\n",
        "```5 -> 2 -> 3 -> 5``` is a valid **cycle** in the graph above.\n",
        "\n"
      ],
      "metadata": {
        "id": "VVOPdrKjfH7O"
      }
    },
    {
      "cell_type": "code",
      "source": [
        "# Question 10d - your answer goes here:\n",
        "valid_cycle_10d = None\n",
        "\n",
        "# DO NOT MODIFY THIS CODE:\n",
        "check_answer_10d(valid_cycle_10d)"
      ],
      "metadata": {
        "id": "Bb0A1j2te5NQ"
      },
      "execution_count": null,
      "outputs": []
    },
    {
      "cell_type": "markdown",
      "source": [
        "**10e**: Perform Depth-First Search (DFS) on the graph above, starting at node ```0```. Break ties in ascending order (for example, if there is a tie between ```1``` and ```2```, choose ```1``` before ```2```).\n",
        "\n",
        "In what order are the nodes visited when performing DFS?"
      ],
      "metadata": {
        "id": "30UHQ5_GfnDX"
      }
    },
    {
      "cell_type": "code",
      "source": [
        "# Question 10e - your answer goes here:\n",
        "dfs_order = []\n",
        "\n",
        "# DO NOT MODIFY THIS CODE:\n",
        "check_answer_10e(dfs_order)"
      ],
      "metadata": {
        "id": "tzScOqTkfxyD"
      },
      "execution_count": null,
      "outputs": []
    },
    {
      "cell_type": "markdown",
      "source": [
        "**10f**: Perform Breadth-First Search (BFS) on the graph above, starting at node ```0```. Break ties in ascending order (for example, if there is a tie between ```1``` and ```2```, choose ```1``` before ```2```).\n",
        "\n",
        "In what order are the nodes visited when performing BFS?"
      ],
      "metadata": {
        "id": "1EKfzj58fqh7"
      }
    },
    {
      "cell_type": "code",
      "source": [
        "# Question 10f - your answer goes here:\n",
        "bfs_order = []\n",
        "\n",
        "# DO NOT MODIFY THIS CODE:\n",
        "check_answer_10f(bfs_order)"
      ],
      "metadata": {
        "id": "GOdHvcptnlEa"
      },
      "execution_count": null,
      "outputs": []
    },
    {
      "cell_type": "markdown",
      "source": [
        "#Section 4: Recursion\n",
        "\n",
        "The following questions in this section **must use recursion**."
      ],
      "metadata": {
        "id": "Qn55hp1uC0af"
      }
    },
    {
      "cell_type": "markdown",
      "source": [
        "**11.** Write a function called ```count_es```, which takes a string ```s``` and returns the number of times the letters ```e``` or ```E``` appear in it."
      ],
      "metadata": {
        "id": "AN1qGjl5C6FV"
      }
    },
    {
      "cell_type": "code",
      "source": [
        "def count_es(s):\n",
        "  # Your code goes here\n",
        "\n",
        "\n",
        "# DO NOT MODIFY THIS CODE:\n",
        "assert_equal(want=0, got=count_es(\"\"))\n",
        "assert_equal(want=1, got=count_es(\"hello\"))\n",
        "assert_equal(want=5, got=count_es(\"excellent elephants\"))\n",
        "assert_equal(want=8, got=count_es(\"eeeeeeee\"))\n",
        "assert_equal(want=5, got=count_es(\"Escape the echo chamber\"))\n",
        "assert_equal(want=2, got=count_es(\"Eel\"))\n",
        "assert_equal(want=4, got=count_es(\"The letter e is common.\"))\n",
        "assert_equal(want=3, got=count_es(\"no matches here\"))"
      ],
      "metadata": {
        "id": "bd3rBTa3pz-j"
      },
      "execution_count": null,
      "outputs": []
    },
    {
      "cell_type": "markdown",
      "source": [
        "**12.** Write a function called ```double_trouble``` that takes a list of integers ```lst``` and returns a new list where each number is **repeated twice in a row**.\n",
        "\n",
        "For example, calling ```double_trouble([1, 3])``` should return the list ```[1, 1, 3, 3]```."
      ],
      "metadata": {
        "id": "GGhc3mtzp-j0"
      }
    },
    {
      "cell_type": "code",
      "source": [
        "def double_trouble(lst):\n",
        "  # Your code goes here\n",
        "\n",
        "\n",
        "# DO NOT MODIFY THIS CODE:\n",
        "assert_equal(want=[], got=double_trouble([]))\n",
        "assert_equal(want=[1, 1], got=double_trouble([1]))\n",
        "assert_equal(want=[1, 1, 3, 3], got=double_trouble([1, 3]))\n",
        "assert_equal(want=[0, 0, 2, 2, 4, 4], got=double_trouble([0, 2, 4]))\n",
        "assert_equal(want=[-1, -1, -2, -2], got=double_trouble([-1, -2]))\n",
        "assert_equal(want=[7, 7, 7, 7, 7, 7], got=double_trouble([7, 7, 7,]))\n",
        "assert_equal(want=[1, 1, 2, 2, 3, 3, 4, 4, 5, 5], got=double_trouble([1, 2, 3, 4, 5]))"
      ],
      "metadata": {
        "id": "XCN28-LlC3UH"
      },
      "execution_count": null,
      "outputs": []
    },
    {
      "cell_type": "markdown",
      "source": [
        "**13.** Write a function called ```sum_alternate``` that takes a list of integers and returns the sum of every other number (starting from the first).\n",
        "\n",
        "For example, calling ```sum_alternate([1, 2, 3, 4])``` should return ```4```, since ```1 + 3 = 4```."
      ],
      "metadata": {
        "id": "X4rHKs1Zr_9C"
      }
    },
    {
      "cell_type": "code",
      "source": [
        "def sum_alternate(lst):\n",
        "  # Your code goes here\n",
        "\n",
        "\n",
        "# DO NOT MODIFY THIS CODE:\n",
        "assert_equal(want=0, got=sum_alternate([]))\n",
        "assert_equal(want=1, got=sum_alternate([1]))\n",
        "assert_equal(want=1, got=sum_alternate([1, 2]))\n",
        "assert_equal(want=4, got=sum_alternate([1, 2, 3, 4]))\n",
        "assert_equal(want=90, got=sum_alternate([10, 20, 30, 40, 50]))\n",
        "assert_equal(want=-4, got=sum_alternate([-1, -2, -3, -4]))\n",
        "assert_equal(want=0, got=sum_alternate([0, 1, 0, 1, 0]))"
      ],
      "metadata": {
        "id": "nneewkkPsQpX"
      },
      "execution_count": null,
      "outputs": []
    },
    {
      "cell_type": "markdown",
      "source": [
        "**14.** Write a function called ```match_ends``` that takes a list of strings and returns ```True``` if every string in the list starts and ends with the same letter.\n",
        "\n",
        "For example, ```match_ends(['pop', 'dad', 'noon'])``` return:s ```True```, whereas ```match_ends(['pop', 'mad'])``` returns ```False```."
      ],
      "metadata": {
        "id": "zaXNrDnIsZom"
      }
    },
    {
      "cell_type": "code",
      "source": [
        "def match_ends(lst):\n",
        "  # Your code goes here\n",
        "\n",
        "\n",
        "# DO NOT MODIFY THIS CODE:\n",
        "assert_equal(want=True, got=match_ends([]))\n",
        "assert_equal(want=True, got=match_ends(['a']))\n",
        "assert_equal(want=True, got=match_ends(['aa', 'bob']))\n",
        "assert_equal(want=False, got=match_ends(['ab', 'ba']))\n",
        "assert_equal(want=True, got=match_ends(['noon', 'radar', 'level']))\n",
        "assert_equal(want=True, got=match_ends(['pop', 'dad', 'noon']))\n",
        "assert_equal(want=False, got=match_ends(['pop', 'mad']))\n",
        "assert_equal(want=False, got=match_ends(['']))"
      ],
      "metadata": {
        "id": "anI-CIqytL_U"
      },
      "execution_count": null,
      "outputs": []
    },
    {
      "cell_type": "markdown",
      "source": [
        "**15.** Write a function called ```is_mirror``` that takes two lists and returns ```True``` if one is the reverse of the other.\n",
        "\n",
        "For example, ```is_mirror([1, 2, 3], [3, 2, 1])``` returns ```True```, whereas ```is_mirror([1, 2], [2, 1, 0])``` returns ```False```."
      ],
      "metadata": {
        "id": "3GdzbNNIt-nl"
      }
    },
    {
      "cell_type": "code",
      "source": [
        "def is_mirror(lst1, lst2):\n",
        "  # Your code goes here\n",
        "\n",
        "\n",
        "# DO NOT MODIFY THIS CODE:\n",
        "assert_equal(want=True, got=is_mirror([], []))\n",
        "assert_equal(want=True, got=is_mirror([1], [1]))\n",
        "assert_equal(want=True, got=is_mirror([1, 2, 3], [3, 2, 1]))\n",
        "assert_equal(want=False, got=is_mirror([1, 2, 3], [1, 2, 3]))\n",
        "assert_equal(want=False, got=is_mirror([1, 2], [2, 1, 0]))\n",
        "assert_equal(want=True, got=is_mirror(['a', 'b', 'c'], ['c', 'b', 'a']))\n",
        "assert_equal(want=True, got=is_mirror(['hello'], ['hello']))\n",
        "assert_equal(want=False, got=is_mirror(['x', 'y'], ['y', 'z']))"
      ],
      "metadata": {
        "id": "jYEqBvdWub1h"
      },
      "execution_count": null,
      "outputs": []
    },
    {
      "cell_type": "markdown",
      "source": [
        "# Section 5: Big-O"
      ],
      "metadata": {
        "id": "3q3w2eIhqI2b"
      }
    },
    {
      "cell_type": "markdown",
      "source": [
        "**16.** What is the asymptotic runtime (Big-O) of the code with respect to ```n```?\n",
        "\n",
        "```python\n",
        "for i in range(n * n):\n",
        "  print(\"jamcodin to the moon\")\n",
        "```\n",
        "\n",
        "* Option 1: $O(log(n))$\n",
        "* Option 2: $O(n)$\n",
        "* Option 3: $O(n^2)$\n",
        "* Option 4: $O(n^3)$\n",
        "\n"
      ],
      "metadata": {
        "id": "54Ma6L9TvkDF"
      }
    },
    {
      "cell_type": "code",
      "source": [
        "# Question 16: Select an option by using an integer. For example, if you want to select \"Option 1\", store the integer 1 into the answer variable.\n",
        "answer = None\n",
        "\n",
        "# DO NOT MODIFY THIS CODE:\n",
        "check_answer_16(answer)"
      ],
      "metadata": {
        "id": "BRmt_pC3xMlh"
      },
      "execution_count": null,
      "outputs": []
    },
    {
      "cell_type": "markdown",
      "source": [
        "**17.** What is the asymptotic runtime (Big-O) of the code with respect to ```n```?\n",
        "\n",
        "```python\n",
        "for i in range(n // 2):\n",
        "  for j in range(1000000):\n",
        "    print(\"what is my big-O?\")\n",
        "```\n",
        "\n",
        "* Option 1: $O(log(n))$\n",
        "* Option 2: $O(n)$\n",
        "* Option 3: $O(n^2)$\n",
        "* Option 4: $O(n * log(n))$"
      ],
      "metadata": {
        "id": "gop8AwUlxY9t"
      }
    },
    {
      "cell_type": "code",
      "source": [
        "# Question 17: Select an option by using an integer. For example, if you want to select \"Option 1\", store the integer 1 into the answer variable.\n",
        "answer = None\n",
        "\n",
        "# DO NOT MODIFY THIS CODE:\n",
        "check_answer_17(answer)"
      ],
      "metadata": {
        "id": "p_8jkvnxymKG"
      },
      "execution_count": null,
      "outputs": []
    },
    {
      "cell_type": "markdown",
      "source": [
        "**18.** What is the asymptotic runtime (Big-O) of the code with respect to ```n```?\n",
        "\n",
        "```python\n",
        "for i in range(n):\n",
        "  for j in range(n // 2):\n",
        "    print(\"hello :)\")\n",
        "```\n",
        "\n",
        "* Option 1: $O(log(n))$\n",
        "* Option 2: $O(n)$\n",
        "* Option 3: $O(n^2)$\n",
        "* Option 4: $O(n * log(n))$"
      ],
      "metadata": {
        "id": "S6BAfTlSyXSd"
      }
    },
    {
      "cell_type": "code",
      "source": [
        "# Question 18: Select an option by using an integer. For example, if you want to select \"Option 1\", store the integer 1 into the answer variable.\n",
        "answer = None\n",
        "\n",
        "# DO NOT MODIFY THIS CODE:\n",
        "check_answer_18(answer)"
      ],
      "metadata": {
        "id": "7yE-EjEtyuOV"
      },
      "execution_count": null,
      "outputs": []
    },
    {
      "cell_type": "markdown",
      "source": [
        "**19.** What is the asymptotic runtime (Big-O) of the code with respect to ```n```?\n",
        "\n",
        "```python\n",
        "for i in range(n):\n",
        "    j = 1\n",
        "    while j < n:\n",
        "        j *= 2\n",
        "```\n",
        "\n",
        "* Option 1: $O(log(n))$\n",
        "* Option 2: $O(n)$\n",
        "* Option 3: $O(1)$\n",
        "* Option 4: $O(n * log(n))$"
      ],
      "metadata": {
        "id": "ZWkCAtoJy8wP"
      }
    },
    {
      "cell_type": "code",
      "source": [
        "# Question 19: Select an option by using an integer. For example, if you want to select \"Option 1\", store the integer 1 into the answer variable.\n",
        "answer = None\n",
        "\n",
        "# DO NOT MODIFY THIS CODE:\n",
        "check_answer_19(answer)"
      ],
      "metadata": {
        "id": "unhh-Okp0Hgt"
      },
      "execution_count": null,
      "outputs": []
    },
    {
      "cell_type": "markdown",
      "source": [
        "**20.** What is the asymptotic runtime (Big-O) of the code with respect to ```n```?\n",
        "\n",
        "```python\n",
        "for i in range(100000):\n",
        "  for j in range(100000):\n",
        "    for k in range(100000):\n",
        "      print(\"woah\")\n",
        "```\n",
        "\n",
        "* Option 1: $O(n^2)$\n",
        "* Option 2: $O(n)$\n",
        "* Option 3: $O(1)$\n",
        "* Option 4: $O(n^3)$"
      ],
      "metadata": {
        "id": "bBX8VpLa03dv"
      }
    },
    {
      "cell_type": "code",
      "source": [
        "# Question 20: Select an option by using an integer. For example, if you want to select \"Option 1\", store the integer 1 into the answer variable.\n",
        "answer = None\n",
        "\n",
        "# DO NOT MODIFY THIS CODE:\n",
        "check_answer_20(answer)"
      ],
      "metadata": {
        "id": "_KMrCdwE1VnW"
      },
      "execution_count": null,
      "outputs": []
    },
    {
      "cell_type": "markdown",
      "source": [
        "**21.** What is the asymptotic runtime (Big-O) of the code with respect to ```n```?\n",
        "\n",
        "```python\n",
        "def square(x, n):\n",
        "  for i in range(n ** 3):\n",
        "    print(i)\n",
        "\n",
        "for i in range(n):\n",
        "  square(i, n)\n",
        "```\n",
        "\n",
        "* Option 1: $O(n^2)$\n",
        "* Option 2: $O(n)$\n",
        "* Option 3: $O(n^4)$\n",
        "* Option 4: $O(n^3)$"
      ],
      "metadata": {
        "id": "CTUW4utn1h6g"
      }
    },
    {
      "cell_type": "code",
      "source": [
        "# Question 21: Select an option by using an integer. For example, if you want to select \"Option 1\", store the integer 1 into the answer variable.\n",
        "answer = None\n",
        "\n",
        "# DO NOT MODIFY THIS CODE:\n",
        "check_answer_21(answer)"
      ],
      "metadata": {
        "id": "9YfsZdQO2Sny"
      },
      "execution_count": null,
      "outputs": []
    },
    {
      "cell_type": "markdown",
      "source": [
        "# Section 6: Free Response Coding\n",
        "\n",
        "The following questions in this section can be solved either iteratively or recursively - whichever you prefer."
      ],
      "metadata": {
        "id": "SyPeKMPWqLgp"
      }
    },
    {
      "cell_type": "markdown",
      "source": [
        "**22.** Write a function called ```countdown_timer(n)``` that returns a list of numbers from ```n``` down to ```0``` (inclusive), but skipping numbers that are divisible by ```4```.\n",
        "\n",
        "For example, calling ```countdown_timer(10)``` returns a list ```[10, 9, 7, 6, 5, 3, 2, 1, 0]```."
      ],
      "metadata": {
        "id": "S3dNRQZY5PpA"
      }
    },
    {
      "cell_type": "code",
      "source": [
        "def countdown_timer(n):\n",
        "  # Your code goes here:\n",
        "\n",
        "\n",
        "# DO NOT MODIFY THIS CODE:\n",
        "assert_equal(want=[5, 3, 2, 1, 0], got=countdown_timer(5))\n",
        "assert_equal(want=[3, 2, 1, 0], got=countdown_timer(4))\n",
        "assert_equal(want=[0], got=countdown_timer(0))\n",
        "assert_equal(want=[7, 6, 5, 3, 2, 1, 0], got=countdown_timer(8))\n",
        "assert_equal(want=[10, 9, 7, 6, 5, 3, 2, 1, 0], got=countdown_timer(10))"
      ],
      "metadata": {
        "id": "7ShxRtc25wKs"
      },
      "execution_count": null,
      "outputs": []
    },
    {
      "cell_type": "markdown",
      "source": [
        "**23.** Write a function called ```freezing_days(temps)``` that takes a list of temperatures and returns a new list of temperatures that are below ```0```.\n",
        "\n",
        "For example, calling ```freezing_days([-1, 5, 3, -2, 0, -7])``` returns ```[-1, -2, -7]```."
      ],
      "metadata": {
        "id": "7tV_fRWF51S3"
      }
    },
    {
      "cell_type": "code",
      "source": [
        "def freezing_days(temps):\n",
        "  # Your code goes here:\n",
        "\n",
        "\n",
        "# DO NOT MODIFY THIS CODE:\n",
        "assert_equal(want=[-5, -2, -10, -1, -8], got=freezing_days([-5, -2, -10, -1, -8]))\n",
        "assert_equal(want=[-3, -1, -6], got=freezing_days([10, -3, 0, 7, -1, 5, -6]))\n",
        "assert_equal(want=[], got=freezing_days([0, 1, 2, 3, 4, 100]))\n",
        "assert_equal(want=[], got=freezing_days([0, 0, 0, 0]))\n",
        "assert_equal(want=[], got=freezing_days([]))\n",
        "assert_equal(want=[-1, -20, -9, -4, -11], got=freezing_days([5, -1, 3, 0, -20, 17, -9, 8, -4, 12, 0, -11, 19]))\n",
        "assert_equal(want=[-5, -10, -15, -20], got=freezing_days([5, -5, 10, -10, 15, -15, 20, -20]))\n",
        "assert_equal(want=[-10, -1], got=freezing_days([-10, 0, 5, 3, -1]))"
      ],
      "metadata": {
        "id": "Waallp_u6GGX"
      },
      "execution_count": null,
      "outputs": []
    },
    {
      "cell_type": "markdown",
      "source": [
        "**24.** Write a function ```longest_starts__with(lst, letter)``` that takes a list of strings and a letter, and returns the longest string in the list that starts with that letter. If there is a tie, return the one that appears first. Capitalization should be ignored, meaning ```\"Bat\"``` should still be detected if ```letter == 'b'```.\n",
        "\n",
        "For example, calling ```longest_starts_with([\"ball\", \"bat\", \"apple\", \"banana\"], \"b\")``` returns ```\"banana\"```.\n",
        "\n",
        "As another example, calling ```longest_starts_with([\"Bend\", \"bat\", \"bold\"], \"b\")``` returns ```\"Bend\"```.\n",
        "\n"
      ],
      "metadata": {
        "id": "4QJSOewz6Ta8"
      }
    },
    {
      "cell_type": "code",
      "source": [
        "def longest_starts_with(lst, letter):\n",
        "  # Your code goes here\n",
        "\n",
        "\n",
        "# DO NOT MODIFY THIS CODE:\n",
        "assert_equal(want=\"banana\", got=longest_starts_with([\"ball\", \"bat\", \"apple\", \"banana\"], \"b\"))\n",
        "assert_equal(want=\"carbon\", got=longest_starts_with([\"cat\", \"car\", \"carbon\", \"cactus\"], \"c\"))\n",
        "assert_equal(want=\"apple\", got=longest_starts_with([\"apple\", \"ant\", \"art\"], \"a\"))\n",
        "assert_equal(want=\"arch\", got=longest_starts_with([\"pies\", \"ant\", \"arch\", \"apex\"], \"a\"))\n",
        "assert_equal(want=\"xylophone\", got=longest_starts_with([\"xenon\", \"xerox\", \"xylophone\"], \"x\"))\n",
        "assert_equal(want=\"\", got=longest_starts_with([\"zebra\", \"lion\", \"tiger\"], \"a\"))\n",
        "assert_equal(want=\"\", got=longest_starts_with([], \"b\"))\n",
        "assert_equal(want=\"Bend\", got=longest_starts_with([\"Bend\", \"bat\", \"bold\"], \"b\"))"
      ],
      "metadata": {
        "id": "nOQQu6kz6-jl"
      },
      "execution_count": null,
      "outputs": []
    },
    {
      "cell_type": "markdown",
      "source": [
        "**25.** You are training for a fitness challenge! You walk ```6,000``` steps everyday. However, every ```4```-th day, you rest and only walk ```1,000``` steps. On every ```7```-th day, you join a special event and earn ```3,000``` bonus steps. If both happen on the same day, the rest applies first, then the bonus is added.\n",
        "\n",
        "Write a function ```step_challenge(n)``` that returns the total steps taken from day ```0``` through day ```n```."
      ],
      "metadata": {
        "id": "wrWnf3Hh9WEb"
      }
    },
    {
      "cell_type": "code",
      "source": [
        "def step_challenge(n):\n",
        "  # Your code goes here\n",
        "\n",
        "\n",
        "\n",
        "\n",
        "# DO NOT MODIFY THIS CODE:\n",
        "# Day 0: rest + bonus = 1000 + 3000 = 4000\n",
        "assert_equal(want=4000, got=step_challenge(0))\n",
        "\n",
        "# Day 1: normal → 6000 → total = 4000 + 6000 = 10000\n",
        "assert_equal(want=10000, got=step_challenge(1))\n",
        "\n",
        "# Days 0–3: [4000, 6000, 6000, 6000] → total = 22,000\n",
        "assert_equal(want=22000, got=step_challenge(3))\n",
        "\n",
        "# Day 4 is a rest day, no bonus → +1000 → total = 23,000\n",
        "assert_equal(want=23000, got=step_challenge(4))\n",
        "\n",
        "# Day 7: bonus day only → 6000 + 3000 = 9000\n",
        "# Days 0–7 = [4000, 6000, 6000, 6000, 1000, 6000, 6000, 9000] = 44,000\n",
        "assert_equal(want=44000, got=step_challenge(7))\n",
        "\n",
        "# Day 8: rest day (1000), no bonus → +1000 → total = 45,000\n",
        "assert_equal(want=45000, got=step_challenge(8))\n",
        "\n",
        "# Day 28: both rest + bonus → 1000 + 3000 = 4000\n",
        "# Total steps over 29 days (0–28) = 149000\n",
        "assert_equal(want=149000, got=step_challenge(28))\n",
        "\n",
        "# Check for consistent total over longer range\n",
        "assert_equal(want=79000, got=step_challenge(14))"
      ],
      "metadata": {
        "id": "C1o0v-sD_LNf"
      },
      "execution_count": null,
      "outputs": []
    },
    {
      "cell_type": "markdown",
      "source": [
        "# 🤓🤓🤓🤓🤓\n",
        "\n",
        "### Congratulations on finishing the notebook! Good luck on the exam!"
      ],
      "metadata": {
        "id": "_EICDbTkM5SB"
      }
    }
  ],
  "metadata": {
    "colab": {
      "provenance": []
    },
    "kernelspec": {
      "display_name": "Python 3 (ipykernel)",
      "language": "python",
      "name": "python3"
    },
    "language_info": {
      "codemirror_mode": {
        "name": "ipython",
        "version": 3
      },
      "file_extension": ".py",
      "mimetype": "text/x-python",
      "name": "python",
      "nbconvert_exporter": "python",
      "pygments_lexer": "ipython3",
      "version": "3.8.8"
    }
  },
  "nbformat": 4,
  "nbformat_minor": 0
}