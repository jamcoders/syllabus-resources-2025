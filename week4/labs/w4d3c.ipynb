{
  "nbformat": 4,
  "nbformat_minor": 0,
  "metadata": {
    "colab": {
      "provenance": []
    },
    "kernelspec": {
      "name": "python3",
      "display_name": "Python 3"
    },
    "language_info": {
      "name": "python"
    }
  },
  "cells": [
    {
      "cell_type": "markdown",
      "source": [
        "![Reminder to Save](https://github.com/jamcoders/jamcoders-public-2025/blob/main/images/warning.png?raw=true)"
      ],
      "metadata": {
        "id": "2cc5c4EsoSjc"
      }
    },
    {
      "cell_type": "code",
      "execution_count": null,
      "metadata": {
        "id": "UbxR62EmnmBF"
      },
      "outputs": [],
      "source": [
        "%config InteractiveShell.ast_node_interactivity=\"none\"\n",
        "import sys\n",
        "if 'google.colab' in sys.modules:\n",
        "  !pip install --force-reinstall git+https://github.com/jamcoders/jamcoders-public-2025.git --quiet\n",
        "from jamcoders.base_utils import *\n",
        "import time"
      ]
    },
    {
      "cell_type": "markdown",
      "source": [
        "# 💾 Memoization Introduction\n",
        "\n",
        "## 🌼 Faster-nacci"
      ],
      "metadata": {
        "id": "Vy8vd5zJnq88"
      }
    },
    {
      "cell_type": "markdown",
      "source": [
        "Write a function `fib(n)` that, given `n`, returns the `n`-th Fibonacci number.\n",
        "\n",
        "Remember that the Fibonacci numbers are defined like this:\n",
        "\n",
        "\n",
        "\n",
        "*   `fib(1) = 1`\n",
        "*   `fib(2) = 1`\n",
        "*   `fib(n) = fib(n-1) + fib(n-2)`"
      ],
      "metadata": {
        "id": "dRFJUoOTn3Ue"
      }
    },
    {
      "cell_type": "code",
      "source": [
        "def fib(n):\n",
        "    \"\"\"\n",
        "    Computes the n-th Fibonacci number\n",
        "\n",
        "    Args:\n",
        "        n (int):\n",
        "            The index of the Fibonacci sequence\n",
        "\n",
        "    Returns (int):\n",
        "        The n-th Fibonacci number\n",
        "    \"\"\"\n",
        "    # Your code here\n",
        "\n",
        "\n",
        "# This tests your solution\n",
        "assert_equal(got=fib(1), want=1)\n",
        "assert_equal(got=fib(2), want=1)\n",
        "assert_equal(got=fib(3), want=2)\n",
        "assert_equal(got=fib(4), want=3)\n",
        "assert_equal(got=fib(5), want=5)\n",
        "assert_equal(got=fib(6), want=8)\n",
        "assert_equal(got=fib(7), want=13)"
      ],
      "metadata": {
        "id": "8qZsjU1in07_"
      },
      "execution_count": null,
      "outputs": []
    },
    {
      "cell_type": "markdown",
      "source": [
        "Now, print the `38`-th Fibonacci number:\n",
        "\n",
        "*Hint: this might take a couple of seconds to run, so be patient.*"
      ],
      "metadata": {
        "id": "bTXR595do5T1"
      }
    },
    {
      "cell_type": "code",
      "source": [
        "start = time.time()\n",
        "\n",
        "print(fib(38))\n",
        "\n",
        "elapsed = time.time() - start\n",
        "print(f\"{elapsed:.6f} seconds\")  # Prints time in seconds with 6 decimal places"
      ],
      "metadata": {
        "id": "-dQis2vQo8aS"
      },
      "execution_count": null,
      "outputs": []
    },
    {
      "cell_type": "markdown",
      "source": [
        "Whoa! That took a while! Now, let's try to print the `100`-th Fibonacci number:\n",
        "\n",
        "*Hint: you can stop the cell if it takes more than one minute to run.*"
      ],
      "metadata": {
        "id": "j1WNHIK4peuh"
      }
    },
    {
      "cell_type": "code",
      "source": [
        "start = time.time()\n",
        "\n",
        "print(fib(100))\n",
        "\n",
        "elapsed = time.time() - start\n",
        "print(f\"{elapsed:.6f} seconds\")  # Prints time in seconds with 6 decimal places"
      ],
      "metadata": {
        "id": "2I35-wDprUdb"
      },
      "execution_count": null,
      "outputs": []
    },
    {
      "cell_type": "markdown",
      "source": [
        "That didn't work so well, did it? To try to understand why is going on, let's try to add some prints to figure out what is going on.\n",
        "\n",
        "Rewrite yout `fib` function so that it prints every recursive call."
      ],
      "metadata": {
        "id": "GV6zNOG4rV2Z"
      }
    },
    {
      "cell_type": "code",
      "source": [
        "def fib(n):\n",
        "    # Leave this print here! This will help us understand what is going on\n",
        "    print(\"Trying to calculate fib\", n)\n",
        "\n",
        "    # Your code here\n",
        "    # !!! Feel free to copy from the exercise above !!!\n",
        "\n",
        "\n",
        "print(fib(15))"
      ],
      "metadata": {
        "id": "_sXOWEEDr7eF"
      },
      "execution_count": null,
      "outputs": []
    },
    {
      "cell_type": "markdown",
      "source": [
        "Whoa! Do you see how many times it is trying to calculate `fib` of small numbers? Let's try to see how many times we reach, for example, `fib(7)`:"
      ],
      "metadata": {
        "id": "3eLNhXfpsfTa"
      }
    },
    {
      "cell_type": "code",
      "source": [
        "fib_7_count = 0\n",
        "\n",
        "def fib(n):\n",
        "    # This is so we can count how many function calls we are making. Don't edit\n",
        "    global fib_7_count\n",
        "\n",
        "    # Leave this print here! This will help us understand what is going on\n",
        "    if n == 7:\n",
        "        print(\"Trying to calculate fib 7\")\n",
        "        fib_7_count += 1\n",
        "\n",
        "    # Your code here\n",
        "    # !!! Feel free to copy from the exercise above !!!\n",
        "\n",
        "\n",
        "fib(20)\n",
        "print(\"We reached fib(7)\", fib_7_count, \"times!\")"
      ],
      "metadata": {
        "id": "6uNK9NKes1AQ"
      },
      "execution_count": null,
      "outputs": []
    },
    {
      "cell_type": "markdown",
      "source": [
        "This is surprising: we reach `fib(7)` almost 400 times! But we know that `fib(7) = 13`, so we don't have to keep going down in recursion, we could just `return 13`! Maybe this helps to speed up our function?\n",
        "\n",
        "Rewrite your `fib` function so that it returns `13` if `n == 7`."
      ],
      "metadata": {
        "id": "063nxN11tfYg"
      }
    },
    {
      "cell_type": "code",
      "source": [
        "def fib(n):\n",
        "    if n == 7:\n",
        "        # Let's return 13 when n is equal to 7\n",
        "        return 13\n",
        "\n",
        "    # Your code here\n",
        "    # !!! Feel free to copy from the exercise above !!!\n",
        "\n",
        "\n",
        "start = time.time()\n",
        "\n",
        "print(fib(38))\n",
        "\n",
        "elapsed = time.time() - start\n",
        "print(f\"{elapsed:.6f} seconds\")  # Prints time in seconds with 6 decimal places"
      ],
      "metadata": {
        "id": "nq9d-FPXt_ST"
      },
      "execution_count": null,
      "outputs": []
    },
    {
      "cell_type": "markdown",
      "source": [
        "That was much quicker than what we had before! Why do you think that is happening? Explain below."
      ],
      "metadata": {
        "id": "BB_DJcnwu_j9"
      }
    },
    {
      "cell_type": "code",
      "source": [
        "# Write your answer here"
      ],
      "metadata": {
        "id": "5FjfHZwJvHcn"
      },
      "execution_count": null,
      "outputs": []
    },
    {
      "cell_type": "markdown",
      "source": [
        "## 🚨 **Call Bruno (or other TA) over to discuss your answer.**"
      ],
      "metadata": {
        "id": "qkIx_iY2vOi5"
      }
    },
    {
      "cell_type": "markdown",
      "source": [
        "But why did we choose `7` to return immediately? Well, we knew what the answer for `7` was. But we don't have to limit ourselves to `7`: every time we calculate `fib` for some value, we can store this answer so when we get to this same value again in the future, we return that value immediately!\n",
        "\n",
        "Let's try to store the answer of every element in a list. Initially, we set all elements of the list to be `-1`, meaning it was not calculated yet. When we calculate some value, we just store it in the list.\n",
        "\n",
        "Try to fill the blanks below."
      ],
      "metadata": {
        "id": "Q7Uua0ONve6e"
      }
    },
    {
      "cell_type": "code",
      "source": [
        "# This will be our memory list\n",
        "# Initially, all elements of the list are -1\n",
        "memory = [None] * 1001\n",
        "\n",
        "def fib(n):\n",
        "    if memory[____] != None:\n",
        "        # This means that we have reached this value before! We don't need to go deeped into the recursion\n",
        "        return ___________\n",
        "\n",
        "    if n <= 2:\n",
        "        # Base case\n",
        "        answer = ________\n",
        "    else:\n",
        "        # Recursive case\n",
        "        answer = ________\n",
        "\n",
        "    # Now, we want to store this answer to use in the future!\n",
        "    ________ = answer\n",
        "    return answer\n",
        "\n",
        "start = time.time()\n",
        "\n",
        "# This tests your solution\n",
        "assert_equal(got=fib(38), want=39088169)\n",
        "\n",
        "elapsed = time.time() - start\n",
        "print(f\"{elapsed:.6f} seconds\")  # Prints time in seconds with 6 decimal places"
      ],
      "metadata": {
        "id": "5cY_fZLDv1Aj"
      },
      "execution_count": null,
      "outputs": []
    },
    {
      "cell_type": "markdown",
      "source": [
        "Now, that was **MUCH** faster! Can you explain why?"
      ],
      "metadata": {
        "id": "zR0hbLCiwl-1"
      }
    },
    {
      "cell_type": "code",
      "source": [
        "# Write your answer here"
      ],
      "metadata": {
        "id": "9hUncsEDwth4"
      },
      "execution_count": null,
      "outputs": []
    },
    {
      "cell_type": "markdown",
      "source": [
        "Let's test this! Can we calculate `fib(100)` now?"
      ],
      "metadata": {
        "id": "sS6EKHFBwu08"
      }
    },
    {
      "cell_type": "code",
      "source": [
        "start = time.time()\n",
        "\n",
        "print(fib(100))\n",
        "\n",
        "elapsed = time.time() - start\n",
        "print(f\"{elapsed:.6f} seconds\")  # Prints time in seconds with 6 decimal places"
      ],
      "metadata": {
        "id": "z7RxraXTw2NX"
      },
      "execution_count": null,
      "outputs": []
    },
    {
      "cell_type": "markdown",
      "source": [
        "what about `fib(1000)`?"
      ],
      "metadata": {
        "id": "a4TScE5cw4nN"
      }
    },
    {
      "cell_type": "code",
      "source": [
        "start = time.time()\n",
        "\n",
        "print(fib(1000))\n",
        "\n",
        "elapsed = time.time() - start\n",
        "print(f\"{elapsed:.6f} seconds\")  # Prints time in seconds with 6 decimal places"
      ],
      "metadata": {
        "id": "TtXcCD4Ew9vE"
      },
      "execution_count": null,
      "outputs": []
    },
    {
      "cell_type": "markdown",
      "source": [
        "So fast! This process of optimizing our solution by remembering the solution for the sub-problems is called **memoization**"
      ],
      "metadata": {
        "id": "30Kw1Avlhcv-"
      }
    },
    {
      "cell_type": "markdown",
      "source": [
        "## ➕ Subset Sum\n",
        "\n",
        "The Subset Sum problem is as follows. You are given a `list` of positive integers `L = [a_0, a_1, ..., a_n]` and a target integer `T`. You need to return `True` if you can get `T` by summing some elements of `T`.\n",
        "\n",
        "For example:\n",
        "\n",
        "If `L = [4, 2, 3, 20, 5]` and `T = 10` the answer is `True` because you can make `10` by summing `L[1] + L[2] + L[4] = 2 + 3 + 5 = 10`.\n",
        "\n",
        "If `L = [4, 2, 3, 20, 5]` and `T = 13` the answer is `False` becuse there is no way to make `13` by summing elements from `L`.\n",
        "\n",
        "If `L = [1]` and `T = 2`, the answer is `False`, because we can only use the `1` once.\n",
        "\n",
        "If `L = [1, 1]` and `T = 2`, the answer is `True`, because we can use both `1`s.\n",
        "\n",
        "Note that you can't use the same element more than once, but there can be repeated elements.\n",
        "\n",
        "Write a recursive solution for Subset Sum"
      ],
      "metadata": {
        "id": "7fVHO1QkxClD"
      }
    },
    {
      "cell_type": "code",
      "source": [
        "def subset_sum(L, T):\n",
        "    \"\"\"\n",
        "    Computes the Subset Sum problem\n",
        "\n",
        "    Args:\n",
        "        L (list(int)):\n",
        "            The list of CURRENT items\n",
        "        T (int):\n",
        "            The CURRENT target sum\n",
        "\n",
        "    Returns (bool):\n",
        "        If there is a subset of L that sums to T\n",
        "    \"\"\"\n",
        "    # Base cases\n",
        "    if T < 0:\n",
        "        return _______\n",
        "\n",
        "    if len(L) == _______:\n",
        "        if _______:\n",
        "            return _______\n",
        "        else:\n",
        "            return _______\n",
        "\n",
        "    # We can either include L[0] or not include L[0]\n",
        "    solution_including = subset_sum(_______, _______) # Here, we should decrease the target\n",
        "    solution_not_including = subset_sum(_______, _______)\n",
        "    return solution_including or solution_not_including\n",
        "\n",
        "# This tests your solution\n",
        "assert_equal(got=subset_sum([4, 2, 3, 20, 5], 10), want=True)\n",
        "assert_equal(got=subset_sum([4, 2, 3, 20, 5], 13), want=False)\n",
        "assert_equal(got=subset_sum([1], 2), want=False)\n",
        "assert_equal(got=subset_sum([1, 1], 2), want=True)\n",
        "assert_equal(got=subset_sum([3, 34, 4, 12, 5, 2], 9), want=True)\n",
        "assert_equal(got=subset_sum([3, 34, 4, 12, 5, 2], 30), want=False)\n",
        "assert_equal(got=subset_sum([1], 0), want=True)"
      ],
      "metadata": {
        "id": "N6mhsj0jMsuv"
      },
      "execution_count": null,
      "outputs": []
    },
    {
      "cell_type": "markdown",
      "source": [
        "Now let's try a larger example!\n",
        "\n",
        "*Hint: this might take a couple of seconds to run, so be patient.*"
      ],
      "metadata": {
        "id": "ZRpHzzpzSHLv"
      }
    },
    {
      "cell_type": "code",
      "source": [
        "# Run this cell, but do not change it!\n",
        "big_list = []\n",
        "for i in range(50):\n",
        "    big_list.append(i)\n",
        "big_target = 80\n",
        "\n",
        "start = time.time()\n",
        "\n",
        "print(subset_sum(big_list, big_target))\n",
        "\n",
        "elapsed = time.time() - start\n",
        "print(f\"{elapsed:.6f} seconds\")  # Prints time in seconds with 6 decimal places"
      ],
      "metadata": {
        "id": "g2_53mzl0NYE"
      },
      "execution_count": null,
      "outputs": []
    },
    {
      "cell_type": "markdown",
      "source": [
        "Let's work to optimize our code!\n",
        "\n",
        "The first thing to talk about is all of those `T[1:]`. Every time we do that, it copies the entire list! This may take $\\mathcal O(n)$ time, if we have $n$ elements.\n",
        "\n",
        "However, note that we don't have to do this! Instead of slicing the list, we can keep an extra parameter `i`: the **current** element we are looking at.\n",
        "\n",
        "Adjust your `subset_sum` function below so you **don't use list slicing**."
      ],
      "metadata": {
        "id": "4GaCBmRLBE7F"
      }
    },
    {
      "cell_type": "code",
      "source": [
        "def subset_sum(L, i, T):\n",
        "    \"\"\"\n",
        "    Computes the Subset Sum problem\n",
        "\n",
        "    Args:\n",
        "        L (list(int)):\n",
        "            The list of INITIAL items\n",
        "        i (int):\n",
        "            The CURRENT item to look at\n",
        "        T (int):\n",
        "            The CURRENT target sum\n",
        "\n",
        "    Returns (bool):\n",
        "        If there is a subset of L that sums to T\n",
        "    \"\"\"\n",
        "    # Base cases\n",
        "    if T < 0:\n",
        "        return _______\n",
        "\n",
        "    if i == _______:\n",
        "        if _______:\n",
        "            return _______\n",
        "        else:\n",
        "            return _______\n",
        "\n",
        "    # We can either include L[i] or not include L[i]\n",
        "    solution_including = subset_sum(L, _______, _______)\n",
        "    solution_not_including = subset_sum(L, _______, _______)\n",
        "    return solution_including or solution_not_including\n",
        "\n",
        "# This tests your solution\n",
        "assert_equal(got=subset_sum([4, 2, 3, 20, 5], 0, 10), want=True)\n",
        "assert_equal(got=subset_sum([4, 2, 3, 20, 5], 0, 13), want=False)\n",
        "assert_equal(got=subset_sum([1], 0, 2), want=False)\n",
        "assert_equal(got=subset_sum([1, 1], 0, 2), want=True)\n",
        "assert_equal(got=subset_sum([3, 34, 4, 12, 5, 2], 0, 9), want=True)\n",
        "assert_equal(got=subset_sum([3, 34, 4, 12, 5, 2], 0, 30), want=False)\n",
        "assert_equal(got=subset_sum([1], 0, 0), want=True)"
      ],
      "metadata": {
        "id": "91PX5CuaBFcL"
      },
      "execution_count": null,
      "outputs": []
    },
    {
      "cell_type": "markdown",
      "source": [
        "Let's check if this improved our running time:"
      ],
      "metadata": {
        "id": "0DNqHC66CU2p"
      }
    },
    {
      "cell_type": "code",
      "source": [
        "start = time.time()\n",
        "\n",
        "print(subset_sum(big_list, 0, big_target))\n",
        "\n",
        "elapsed = time.time() - start\n",
        "print(f\"{elapsed:.6f} seconds\")  # Prints time in seconds with 6 decimal places"
      ],
      "metadata": {
        "id": "k8saPqGTCWRd"
      },
      "execution_count": null,
      "outputs": []
    },
    {
      "cell_type": "markdown",
      "source": [
        "This is an improvement: we cut our time in half.\n",
        "\n",
        "But if we *really* want to make our code fast, we need to apply **memoization**, like on Fibonacci\"\n",
        "\n",
        "Note that when we solve the problem from index `i` onwards, with some target `T`, we can store this answer, so when we get to this sub-problem again (and we will!), we can just return the answer immediately.\n",
        "\n",
        "Fill the blanks below to complete the implementation using **memoization**."
      ],
      "metadata": {
        "id": "AnGMvCdzDs2g"
      }
    },
    {
      "cell_type": "code",
      "source": [
        "# This will be our memory table\n",
        "memory = []\n",
        "\n",
        "# Initially, all elements of the table are None\n",
        "def reset_memory():\n",
        "    memory_list = []\n",
        "    for i in range(200):\n",
        "        memory_list.append([None] * 200)\n",
        "    return memory_list\n",
        "\n",
        "memory = reset_memory()\n",
        "\n",
        "def subset_sum(L, i, T):\n",
        "    # Let's leave this here so we don't access negative indices\n",
        "    if T < 0:\n",
        "        return False\n",
        "\n",
        "    if memory[____][____] != None:\n",
        "        # This means that we have reached this (i, T) pair before! We don't need to go deeped into the recursion\n",
        "        return ______________\n",
        "\n",
        "    if i == _______:\n",
        "        # Base case\n",
        "        if _______:\n",
        "            answer = _______\n",
        "        else:\n",
        "            answer = _______\n",
        "    else:\n",
        "        # Recursive case\n",
        "\n",
        "        # We can either include L[i] or not include L[i]\n",
        "        solution_including = subset_sum(L, _______, _______)\n",
        "        solution_not_including = subset_sum(L, _______, _______)\n",
        "        answer = solution_including or solution_not_including\n",
        "\n",
        "    # Now, we want to store this answer to use in the future!\n",
        "    ______________ = answer\n",
        "    return answer\n",
        "\n",
        "# This tests your solution\n",
        "assert_equal(got=subset_sum([4, 2, 3, 20, 5], 0, 10), want=True)\n",
        "memory = reset_memory()\n",
        "assert_equal(got=subset_sum([4, 2, 3, 20, 5], 0, 13), want=False)\n",
        "memory = reset_memory()\n",
        "assert_equal(got=subset_sum([1], 0, 2), want=False)\n",
        "memory = reset_memory()\n",
        "assert_equal(got=subset_sum([1, 1], 0, 2), want=True)\n",
        "memory = reset_memory()\n",
        "assert_equal(got=subset_sum([3, 34, 4, 12, 5, 2], 0, 9), want=True)\n",
        "memory = reset_memory()\n",
        "assert_equal(got=subset_sum([3, 34, 4, 12, 5, 2], 0, 30), want=False)\n",
        "memory = reset_memory()\n",
        "assert_equal(got=subset_sum([1], 0, 0), want=True)"
      ],
      "metadata": {
        "id": "Ui6n7_ViDwu_"
      },
      "execution_count": null,
      "outputs": []
    },
    {
      "cell_type": "markdown",
      "source": [
        "Now, let's try again for the `big_list`!"
      ],
      "metadata": {
        "id": "aLPYNDHO7GAJ"
      }
    },
    {
      "cell_type": "code",
      "source": [
        "memory = reset_memory()\n",
        "\n",
        "start = time.time()\n",
        "\n",
        "print(subset_sum(big_list, 0, big_target))\n",
        "\n",
        "elapsed = time.time() - start\n",
        "print(f\"{elapsed:.6f} seconds\")  # Prints time in seconds with 6 decimal places"
      ],
      "metadata": {
        "id": "Ej1L-o_f7GYa"
      },
      "execution_count": null,
      "outputs": []
    },
    {
      "cell_type": "markdown",
      "source": [
        "# 🎁 Bonus question: improving the memoization\n",
        "\n",
        "It turns out that we can use a trick to use only one `list` (instead of a 2D table) to memoize. This algorithm **will not be recursive**.\n",
        "\n",
        "We will use a list `can_sum`, such that `can_sum[i] = True` if there is a set of elements that sum to `i`.\n",
        "\n",
        "Initially, `can_sum = [True, False, False, ...]` because we can only make `0` without using any elements (so we set `can_sum[0] = True`).\n",
        "\n",
        "After that, we process one element at a time. Let's try to consider the element `5` below."
      ],
      "metadata": {
        "id": "69K69h4P7Q7p"
      }
    },
    {
      "cell_type": "code",
      "source": [
        "# READ THIS CODE CAREFULLY AND RUN THE CELL. DON'T EDIT IT.\n",
        "\n",
        "# Initially, we make a list and set everything to false\n",
        "can_sum = [False] * 20\n",
        "\n",
        "# Now we need to set that we can make 0 using no items\n",
        "can_sum[0] = True\n",
        "\n",
        "# Now let's try to add the element 5\n",
        "# For every possible value >= 5, let's update it:\n",
        "for i in range(5, 20):\n",
        "    # If we COULD make i-5, this means that now we can add `5` to get i.\n",
        "    # That is, if we could make i-5, now we can make i.\n",
        "    if can_sum[i - 5]:\n",
        "        can_sum[i] = True\n",
        "\n",
        "# Let's print this and check if it is correct:\n",
        "for i in range(20):\n",
        "    print(i, can_sum[i])"
      ],
      "metadata": {
        "id": "K8mxV_wP-0H_"
      },
      "execution_count": null,
      "outputs": []
    },
    {
      "cell_type": "markdown",
      "source": [
        "Mhmm, this is not entirely correct, is it? We should not be able to make `10`, because we can't use `5` multiple times! However, our code is setting `can_make[10]` to `True` because it first sets `can_make[5]` to `True` (since `can_make[0] == True`), and afterwards it will set `can_make[10]` to `True` (since `can_make[5] == True`).\n",
        "\n",
        "How do we fix this?\n",
        "\n",
        "The problem is our loop: when we set `can_sum[i]` to `True`, we might be \"using\" the same item (that was used to create `i`) again in the loop.\n",
        "\n",
        "It turns out that if we just run the for-loop in reverse, counting from 20 to 0, this problem is fixed! Can you explain why?"
      ],
      "metadata": {
        "id": "4VG5H76M_2wm"
      }
    },
    {
      "cell_type": "code",
      "source": [
        "# Write your answer here"
      ],
      "metadata": {
        "id": "cl-TNbZ-BKny"
      },
      "execution_count": null,
      "outputs": []
    },
    {
      "cell_type": "markdown",
      "source": [
        "## 🚨 **Call Bruno (or other TA) over to discuss your answer.**\n",
        "\n",
        "Let's try that for the example we had:"
      ],
      "metadata": {
        "id": "J5Aq97slBQVJ"
      }
    },
    {
      "cell_type": "code",
      "source": [
        "# READ THIS CODE CAREFULLY AND RUN THE CELL. DON'T EDIT IT.\n",
        "\n",
        "# Initially, we make a list and set everything to false\n",
        "can_sum = [False] * 20\n",
        "\n",
        "# Now we need to set that we can make 0 using no items\n",
        "can_sum[0] = True\n",
        "\n",
        "# Now let's try to add the element 5\n",
        "# For every possible value >= 5, let's update it:\n",
        "for i in range(19, 4, -1):\n",
        "    # If we COULD make i-5, this means that now we can add `5` to get i.\n",
        "    # That is, if we could make i-5, now we can make i.\n",
        "    if can_sum[i - 5]:\n",
        "        can_sum[i] = True\n",
        "\n",
        "# Let's print this and check if it is correct:\n",
        "for i in range(20):\n",
        "    print(i, can_sum[i])"
      ],
      "metadata": {
        "id": "csoBdAYABg6V"
      },
      "execution_count": null,
      "outputs": []
    },
    {
      "cell_type": "markdown",
      "source": [
        "Cool! This looks correct: If we only have one element `5`, we can only make `0` and `5`. Let's now try to insert the value `2` by doing the same process:"
      ],
      "metadata": {
        "id": "z_nTCH0jCXt7"
      }
    },
    {
      "cell_type": "code",
      "source": [
        "# READ THIS CODE CAREFULLY AND RUN THE CELL. DON'T EDIT IT.\n",
        "\n",
        "# Every time you run this cell, the value `2` will be inserted!\n",
        "# To reset the `can_sum` list, run the code cell above.\n",
        "\n",
        "# Now let's try to add the element 2\n",
        "# For every possible value >= 2, let's update it:\n",
        "for i in range(19, 1, -1):\n",
        "    # If we COULD make i-2, this means that now we can add `2` to get i.\n",
        "    # That is, if we could make i-2, now we can make i.\n",
        "    if can_sum[i - 2]:\n",
        "        can_sum[i] = True\n",
        "\n",
        "# Let's print this and check if it is correct:\n",
        "for i in range(20):\n",
        "    print(i, can_sum[i])"
      ],
      "metadata": {
        "id": "w5Lg1KF6Cjxn"
      },
      "execution_count": null,
      "outputs": []
    },
    {
      "cell_type": "markdown",
      "source": [
        "Try running the cell above multiple times to see what happens. Every time you do that, an extra item with value `2` will be inserted.\n",
        "\n",
        "Now we are ready to write the entire code."
      ],
      "metadata": {
        "id": "d7F9vLUZC-BK"
      }
    },
    {
      "cell_type": "code",
      "source": [
        "def subset_sum(L, T):\n",
        "    \"\"\"\n",
        "    Computes the Subset Sum problem\n",
        "\n",
        "    Args:\n",
        "        L (list(int)):\n",
        "            The list of items\n",
        "        T (int):\n",
        "            The target sum\n",
        "\n",
        "    Returns (bool):\n",
        "        If there is a subset of L that sums to T\n",
        "    \"\"\"\n",
        "    # This list needs to be big enough to fit our target T:\n",
        "    can_sum = [False] * (T+1)\n",
        "\n",
        "    # Initially, the only value we can create is 0:\n",
        "    _______________\n",
        "\n",
        "    for item in L:\n",
        "        for i in range(_______, _______, _______):\n",
        "            if _______________:\n",
        "                _______________\n",
        "\n",
        "    if _______________:\n",
        "        return True\n",
        "    else:\n",
        "        return False\n",
        "\n",
        "# This tests your solution\n",
        "assert_equal(got=subset_sum([4, 2, 3, 20, 5], 10), want=True)\n",
        "assert_equal(got=subset_sum([4, 2, 3, 20, 5], 13), want=False)\n",
        "assert_equal(got=subset_sum([1], 2), want=False)\n",
        "assert_equal(got=subset_sum([1, 1], 2), want=True)\n",
        "assert_equal(got=subset_sum([3, 34, 4, 12, 5, 2], 9), want=True)\n",
        "assert_equal(got=subset_sum([3, 34, 4, 12, 5, 2], 30), want=False)\n",
        "assert_equal(got=subset_sum([1], 0), want=True)"
      ],
      "metadata": {
        "id": "egZej10mDQxt"
      },
      "execution_count": null,
      "outputs": []
    }
  ]
}