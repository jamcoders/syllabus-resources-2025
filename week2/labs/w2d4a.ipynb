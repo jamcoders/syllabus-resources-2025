{
  "cells": [
    {
      "cell_type": "code",
      "execution_count": null,
      "metadata": {
        "id": "TvlFxkxwxd_T"
      },
      "outputs": [],
      "source": [
        "%config InteractiveShell.ast_node_interactivity=\"none\"\n",
        "import sys\n",
        "if 'google.colab' in sys.modules:\n",
        "  !pip install --force-reinstall git+https://github.com/jamcoders/jamcoders-public-2025.git --quiet\n",
        "from jamcoders.base_utils import *\n",
        "from jamcoders.week2.labw2d4a import *\n",
        "\n",
        "counter = 0"
      ]
    },
    {
      "cell_type": "markdown",
      "metadata": {
        "id": "QamQpmsexd_Y"
      },
      "source": [
        "# Week 2 Day 4, Lab A: More Recursion\n"
      ]
    },
    {
      "cell_type": "markdown",
      "metadata": {
        "id": "2sdOwjUmxd_h"
      },
      "source": [
        "<a name=\"2\"></a>\n",
        "## Question 1: What Would Python Do? 🐍\n",
        "\n",
        "**WWPD #1**: After running the following lines of code, what would be printed Use pen and paper to trace the recursive calls.\n",
        "\n",
        "```python\n",
        "def jam(coders):\n",
        "    if coders <= 0:\n",
        "        return 0\n",
        "    return coders + jam(coders - 1) + jam(coders - 2)\n",
        "print(jam(4))\n",
        "\n",
        "```"
      ]
    },
    {
      "cell_type": "code",
      "execution_count": null,
      "metadata": {
        "id": "oGDu1dytxd_i"
      },
      "outputs": [],
      "source": [
        "# Enter your answer here\n",
        "# Provide your answer as an integer.\n",
        "answer =\n",
        "# This code checks for correctness. Do not modify it.\n",
        "warmup_check1(answer, counter)\n",
        "counter += 1"
      ]
    },
    {
      "cell_type": "markdown",
      "metadata": {
        "id": "T3Hl1q-axd_k"
      },
      "source": [
        "**WWPD #2**: After running the following lines of code, what would be printed? Use pen and paper to trace the recursive calls.\n",
        "\n",
        "```python\n",
        "def baygon(roach):\n",
        "    if roach <= 0:\n",
        "        return 0\n",
        "    return baygon(roach - 1) + baygon(roach - 2)\n",
        "print(baygon(4))\n",
        "\n",
        "```"
      ]
    },
    {
      "cell_type": "code",
      "execution_count": null,
      "metadata": {
        "id": "TNlKL1Pxxd_l"
      },
      "outputs": [],
      "source": [
        "# Enter your answer here\n",
        "# Provide your answer as an integer.\n",
        "answer =\n",
        "# This code checks for correctness. Do not modify it.\n",
        "warmup_check2(answer)"
      ]
    },
    {
      "cell_type": "markdown",
      "metadata": {
        "id": "E3LpTcDRxd_m"
      },
      "source": [
        "**WWPD #3**: After running the following lines of code, what would be printed? Use pen and paper to trace the recursive calls.\n",
        "\n",
        "*Hint: `L += [element]` adds `element` to the end of `L`---just like `L.append(element)`*.\n",
        "\n",
        "\n",
        "```python\n",
        "def mystery(num):\n",
        "    if num == 0:\n",
        "        return [0]\n",
        "    result = []\n",
        "    result += [num]\n",
        "    result += mystery(num - 1)\n",
        "    result += [num]\n",
        "    return result\n",
        "\n",
        "print(mystery(3))\n",
        "```"
      ]
    },
    {
      "cell_type": "code",
      "execution_count": null,
      "metadata": {
        "id": "qh9tn0I3xd_m"
      },
      "outputs": [],
      "source": [
        "# Enter your answer here\n",
        "# Provide your answer as a list.\n",
        "answer =\n",
        "# This code checks for correctness. Do not modify it.\n",
        "warmup_check3(answer)"
      ]
    },
    {
      "cell_type": "markdown",
      "metadata": {
        "id": "aSfV0f3Rxd_n"
      },
      "source": [
        "## Question 2: Now We're Even\n",
        "\n",
        "Write a recursive function `count_even` which returns the number of even numbers in a list of integers."
      ]
    },
    {
      "cell_type": "code",
      "execution_count": null,
      "metadata": {
        "id": "tWe-JEkvxd_o"
      },
      "outputs": [],
      "source": [
        "def count_even(lst):\n",
        "    \"\"\"\n",
        "    Args\n",
        "        lst (list(int)): A list of integers\n",
        "\n",
        "    Returns (int):\n",
        "        Number of even numbers in the list\n",
        "    \"\"\"\n",
        "    # Base case\n",
        "\n",
        "\n",
        "    # Recursive case\n",
        "\n",
        "\n",
        "# This tests your solution\n",
        "assert_equal(got=count_even([0,4,6,8,1,4,5,5]), want=5)\n",
        "assert_equal(got=count_even([]), want=0)\n",
        "assert_equal(got=count_even([1,3,5,7,7,9,1515]), want=0)\n",
        "assert_equal(got=count_even([0,0,0,0,0,0,2]), want=7)"
      ]
    },
    {
      "cell_type": "markdown",
      "metadata": {
        "id": "cz-oAdQexd_b"
      },
      "source": [
        "## Question 3: Skip Print\n",
        "\n",
        "Write a function `skipping_print` which takes `n` as an argument and prints every other number from `n` down to $0$ in decrements of 2.\n",
        "\n",
        "For example, `skipping_print(5)` should print `5, 3, 1` and `skipping_print(8)` should print `8, 6, 4, 2, 0`"
      ]
    },
    {
      "cell_type": "code",
      "execution_count": null,
      "metadata": {
        "id": "U0sSqkfSxd_c"
      },
      "outputs": [],
      "source": [
        "def skipping_print(n):\n",
        "    # Base case(s)\n",
        "\n",
        "\n",
        "    # Recursive case(s)\n",
        ""
      ]
    },
    {
      "cell_type": "code",
      "execution_count": null,
      "metadata": {
        "id": "9Mht3nTnxd_c",
        "outputId": "8cc7e008-c8ff-41bc-ead9-34a312ad2664"
      },
      "outputs": [
        {
          "name": "stdout",
          "output_type": "stream",
          "text": [
            "5\n",
            "3\n",
            "1\n"
          ]
        }
      ],
      "source": [
        "# Run this code block. Make sure it prints\n",
        "# >>> 5\n",
        "# >>> 3\n",
        "# >>> 1\n",
        "skipping_print(5)"
      ]
    },
    {
      "cell_type": "code",
      "execution_count": null,
      "metadata": {
        "id": "ThskX7-Sxd_f",
        "outputId": "ba641f69-a94e-4bf8-e9f3-f8359b0abaff"
      },
      "outputs": [
        {
          "name": "stdout",
          "output_type": "stream",
          "text": [
            "8\n",
            "6\n",
            "4\n",
            "2\n",
            "0\n"
          ]
        }
      ],
      "source": [
        "# Run this code block. Make sure it prints\n",
        "# >>> 8\n",
        "# >>> 6\n",
        "# >>> 4\n",
        "# >>> 2\n",
        "# >>> 0\n",
        "skipping_print(8)"
      ]
    },
    {
      "cell_type": "markdown",
      "metadata": {
        "id": "OOwbQqUwxd_o"
      },
      "source": [
        "## Question 4: Sum even\n",
        "\n",
        "Write a recursive function `sum_even` which returns the sum of even numbers in a list of integers."
      ]
    },
    {
      "cell_type": "code",
      "execution_count": null,
      "metadata": {
        "id": "VozSiZo-xd_p"
      },
      "outputs": [],
      "source": [
        "def sum_even(lst):\n",
        "    \"\"\"\n",
        "    Args\n",
        "        lst (list(int)): A list of integers\n",
        "\n",
        "    Returns (int):\n",
        "        Sum of even numbers in the list\n",
        "    \"\"\"\n",
        "    # Base case\n",
        "\n",
        "\n",
        "    # Recursive case\n",
        "\n",
        "\n",
        "# This tests your solution\n",
        "assert_equal(got=sum_even([0,4,6,8,1,4,5,5]), want=22)\n",
        "assert_equal(got=sum_even([]), want=0)\n",
        "assert_equal(got=sum_even([1,3,5,7,7,9,1515]), want=0)\n",
        "assert_equal(got=sum_even([0,0,0,0,0,0,2]), want=2)"
      ]
    },
    {
      "cell_type": "markdown",
      "metadata": {
        "id": "HBS9oIvaLa_i"
      },
      "source": [
        "## Question 5: Name Party\n",
        "\n",
        "Frank has a list of names containing people he wants to invite to a party, but he's not a fan of names that start with `X`. Write a function, `remove_names` which returns a list excluding names that begin with the letter `X`."
      ]
    },
    {
      "cell_type": "code",
      "execution_count": null,
      "metadata": {
        "id": "DhSWh1DHLa_j"
      },
      "outputs": [],
      "source": [
        "def remove_names(names):\n",
        "    \"\"\"\n",
        "    Args\n",
        "        names (list(str)): A list of names\n",
        "\n",
        "    Returns (list(str)):\n",
        "        List of names excluding those beginning with X\n",
        "    \"\"\"\n",
        "\n",
        "    # Base case\n",
        "\n",
        "\n",
        "    # Recursive case\n",
        "\n",
        "\n",
        "# This tests your solution\n",
        "assert_equal(got=remove_names([]), want=[])\n",
        "assert_equal(got=remove_names([\"Xandra\"]), want=[])\n",
        "assert_equal(got=remove_names([\"Bruno\", \"Xavier\", \"Zaria\"]), want=[\"Bruno\", \"Zaria\"])\n",
        "assert_equal(got=remove_names([\"Lydia\", \"Adrianna\", \"Tim\", \"Orr\", \"Zander\", \"Sam\"]), want=[\"Lydia\", \"Adrianna\", \"Tim\", \"Orr\", \"Zander\", \"Sam\"])"
      ]
    },
    {
      "cell_type": "markdown",
      "metadata": {
        "id": "DPaPTVqjLa_j"
      },
      "source": [
        "## Congrats!!! You've solved them all! 🎊"
      ]
    }
  ],
  "metadata": {
    "colab": {
      "provenance": []
    },
    "kernelspec": {
      "display_name": "Python 3",
      "name": "python3"
    },
    "language_info": {
      "name": "python"
    },
    "orig_nbformat": 4
  },
  "nbformat": 4,
  "nbformat_minor": 0
}