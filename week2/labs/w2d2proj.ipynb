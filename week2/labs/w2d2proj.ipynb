{
  "cells": [
    {
      "cell_type": "markdown",
      "metadata": {
        "id": "VSGQkZsYoZiP"
      },
      "source": [
        "![Reminder to Save](https://i.imgur.com/JFukxlL.png)"
      ]
    },
    {
      "cell_type": "code",
      "execution_count": null,
      "metadata": {
        "id": "8-SQoqQkDY2-"
      },
      "outputs": [],
      "source": [
        "%config InteractiveShell.ast_node_interactivity=\"none\"\n",
        "%pip install termcolor\n",
        "import sys\n",
        "if 'google.colab' in sys.modules:\n",
        "    !pip install --force-reinstall git+https://github.com/jamcoders/jamcoders-public-2025.git --quiet\n",
        "\n",
        "from jamcoders.base_utils import *\n",
        "from jamcoders.week2.proj import *\n",
        "\n",
        "import termcolor\n",
        "import time"
      ]
    },
    {
      "cell_type": "markdown",
      "metadata": {
        "id": "gnlCeKFVoZiT"
      },
      "source": [
        "# Week 1, Day 5, Project: Connect Four\n",
        "\n",
        "### ⚠️DO NOT MOVE ON TO THE NEXT SECTION IF THE SECTION YOU'RE WORKING ON HASN'T PASSED ALL TESTS. IF YOU ARE NOT SURE, ASK A TA ⚠️\n",
        "\n",
        "Connect Four is a game played on a rectangular board. Each player takes turns placing a piece of their own color at the top of the board in a specific column. After a piece is placed, it falls to the lowest unoccupied square of that column. The winner of the game is the player who first places a piece that connects four pieces of their own color.\n",
        "\n",
        "Video of people plaing the game: [click here](https://www.youtube.com/watch?v=d-7eiD2DNGw).\n",
        "\n",
        "By completing this notebook, you will have a working version of a Connect Four game. There are four main parts of the game that you will have constructed.\n",
        "\n",
        "| Function Name   | Description                                                                                                              |\n",
        "|-----------------|--------------------------------------------------------------------------------------------------------------------------|\n",
        "| `print_board(board)`     | This function takes the current positions of pieces on the board and \"renders\" it into a form that the human can see. |\n",
        "| `update_board(board, column, piece)`    | This function takes three arguments: (1) the current board state and (2) the column where a player places the piece, and (3)the piece that was placed by the player. <br> It edits the board, placing the new piece in the correct position (the lowest unoccupied square of that column). |\n",
        "| `winning_player(board)`  | This function takes the board and checks whether a player has won. <br> It should check every vertical, horizontal, and diagonal line of four pieces to see whether they are all of the same player's color. If there is a winner, it should return the winner. |\n",
        "| `start_new_game`       | This function uses the above three functions to run the game logic. <br> It should print the board, ask for the player's move, update the board, and then check whether a player has won. If there is a winner, it should exit; otherwise, it should continue the game. |\n"
      ]
    },
    {
      "cell_type": "markdown",
      "metadata": {
        "id": "D4esIvCDZnHU"
      },
      "source": [
        "## 1. Print board\n",
        "\n",
        "Complete the `print_board` function below.\n",
        "\n",
        "The `print_board` function should print out a visual representation of the board. Recall that we represent the board as a list of lists. Each list is a row in the board, and the first list is the top row. <br/>\n",
        "\n",
        "Each element in each row is stored as an integer `0` or `1` or `2`. <br/>\n",
        "`0` represents an empty tile and can be printed as `.`. <br/>\n",
        "`1` represents `X` tile and can be printed as character `X`. <br/>\n",
        "`2` represents `O` tile and can be printed as character `O`. <br/>\n",
        "The function `print_tile` has already been implemented for you to take care of this.<br/>\n",
        "\n",
        "\n",
        "\n",
        "We would like the printed output to look like:\n",
        "\n",
        "```\n",
        "· · · ·\n",
        "· · O X\n",
        "· · X O\n",
        "· X O O\n",
        "```\n",
        "\n",
        "*Hint*: Use the other given functions `print_tile`, `print_new_line` and `print_space` inside `print_board` for easier and cleaner implementation."
      ]
    },
    {
      "cell_type": "code",
      "execution_count": null,
      "metadata": {
        "id": "TWJ5rvEyaDE2"
      },
      "outputs": [],
      "source": [
        "#########################################\n",
        "# !!! RUN THIS CELL BUT DO NOT EDIT !!! #\n",
        "#########################################\n",
        "\n",
        "EMPTY_TILE = 0\n",
        "X_PIECE = 1\n",
        "O_PIECE = 2\n",
        "NO_WINNER = \"NO_WINNER\"\n",
        "\n",
        "test_board = [\n",
        "    [0, 0, 0, 0],\n",
        "    [0, 0, 2, 1],\n",
        "    [0, 0, 1, 2],\n",
        "    [0, 1, 2, 2],\n",
        "]\n",
        "\n",
        "def print_tile(tile):\n",
        "    \"\"\"\n",
        "    Given a numerical tile, prints its visual representation.\n",
        "\n",
        "    Args:\n",
        "        tile (EMPTY_TILE, X_PIECE, or O_PIECE):\n",
        "            The tile to print.\n",
        "    \"\"\"\n",
        "    if tile == EMPTY_TILE:\n",
        "        # No coloring here because we don't know if it's dark or light mode.\n",
        "        print(\"·\", end = '')\n",
        "    elif tile == X_PIECE:\n",
        "        print(termcolor.colored('X', 'red'), end = '')\n",
        "    elif tile == O_PIECE:\n",
        "        print(termcolor.colored('O', 'blue'), end = '')\n",
        "    else:\n",
        "        raise RuntimeError(f\"Error: the tile given was not 0, 1, or 2 (got {tile})\")\n",
        "\n",
        "def print_new_line():\n",
        "    \"\"\"Prints a new line.\"\"\"\n",
        "    print()\n",
        "\n",
        "def print_space():\n",
        "    \"\"\"Prints a space, without printing a new line.\"\"\"\n",
        "    print(' ', end='')"
      ]
    },
    {
      "cell_type": "markdown",
      "metadata": {
        "id": "TpBzIRkqo642"
      },
      "source": [
        "Complete the `print_board` function below."
      ]
    },
    {
      "cell_type": "code",
      "execution_count": null,
      "metadata": {
        "id": "3O6YqioboxAp"
      },
      "outputs": [],
      "source": [
        "def print_board(board):\n",
        "    \"\"\"\n",
        "    Prints a visual representation of the board.\n",
        "\n",
        "    Args:\n",
        "        board (list of list of int):\n",
        "            The board to print.\n",
        "    \"\"\"\n",
        "    # YOUR CODE HERE\n",
        "\n",
        "\n",
        "print_board(test_board)"
      ]
    },
    {
      "cell_type": "markdown",
      "metadata": {
        "id": "vee_ebm3cLTp"
      },
      "source": [
        "### 1.2 Print with coordinates\n",
        "\n",
        "Running the following code will check whether your `print_board` function is correct. If it is, then we will define `print_board_coords` for you. `print_board_coords` is a function that prints the board called `print_board_coords` that labels each row and column."
      ]
    },
    {
      "cell_type": "code",
      "execution_count": null,
      "metadata": {
        "id": "yc-USQH8baQP"
      },
      "outputs": [],
      "source": [
        "#########################################\n",
        "# !!! RUN THIS CELL BUT DO NOT EDIT !!! #\n",
        "#########################################\n",
        "\n",
        "def print_boards_correct():\n",
        "    from contextlib import redirect_stdout\n",
        "    from io import StringIO\n",
        "\n",
        "    theirs, ours = StringIO(), StringIO()\n",
        "    with redirect_stdout(theirs):\n",
        "        print_board(test_board)\n",
        "\n",
        "    with redirect_stdout(ours):\n",
        "        our_print_board(test_board)\n",
        "    theirs, ours = theirs.getvalue(), ours.getvalue()\n",
        "    correct = True\n",
        "    if (theirs == ''):\n",
        "        print(\"You haven't implemented print_board or your print_board is printing nothing\")\n",
        "        correct = False\n",
        "    for i, (t, o) in enumerate(zip(theirs.splitlines(), ours.splitlines())):\n",
        "\n",
        "        if t.strip() != o.strip():\n",
        "            print(f\"print_board: output row {i} is not correct.\")\n",
        "            print(f\"print_board: output row {i} want '{o}', but got '{t}'\")\n",
        "            correct = False\n",
        "    return correct\n",
        "def print_board_coords(board):\n",
        "            for i, row in enumerate(board):\n",
        "                print(i, end=\" \")\n",
        "                for tile in row:\n",
        "                    print_tile(tile)\n",
        "                    print_space()\n",
        "                print()\n",
        "\n",
        "            if len(board) > 0:\n",
        "                num_items = len(board[0])\n",
        "                print_space()\n",
        "                print_space()\n",
        "                print(\" \".join(str(i) for i in range(num_items)))\n",
        "\n",
        "if print_boards_correct():\n",
        "    print_board_coords(test_board)\n",
        "else:\n",
        "    print(\"The output of print_boards does not match our reference implementation. See the above errors.\")"
      ]
    },
    {
      "cell_type": "markdown",
      "metadata": {
        "id": "qIfMIdAfkiGw"
      },
      "source": [
        "## 2. Update board\n",
        "\n",
        "Here we will define functions to update the board given a player's move."
      ]
    },
    {
      "cell_type": "markdown",
      "metadata": {
        "id": "Jt53H4lak3J_"
      },
      "source": [
        "### 2.1 Get piece on board\n",
        "\n",
        "Complete the `get_piece` function below which returns the board piece at the given row and column.\n",
        "\n",
        "Please do not edit the next code cell.\n",
        "\n",
        "*Hint: how to get an element from a list of lists?*"
      ]
    },
    {
      "cell_type": "code",
      "execution_count": null,
      "metadata": {
        "id": "R1jA5NkUlang"
      },
      "outputs": [],
      "source": [
        "def get_piece(board, row, column):\n",
        "    \"\"\"\n",
        "    Retrieves the piece at the given row and column in the board.\n",
        "\n",
        "    Args:\n",
        "        board (list of list of int):\n",
        "            A 2D list representing the board and the pieces on it.\n",
        "        row (int):\n",
        "            The row index of the piece to retrieve.\n",
        "        column (int):\n",
        "            The column index of the piece to retrieve.\n",
        "    \"\"\"\n",
        "    # YOUR CODE HERE\n",
        "\n",
        "\n",
        "\n",
        "# ------  DO NOT MODIFY ------------\n",
        "# ------  THIS TESTS YOUR CODE -----\n",
        "get_piece_test_board = [\n",
        "    [0, 0, 0, 0],\n",
        "    [0, 0, 2, 1],\n",
        "    [0, 0, 1, 2],\n",
        "    [0, 1, 2, 2],\n",
        "]\n",
        "\n",
        "print_board_coords(get_piece_test_board)\n",
        "\n",
        "print(\"\\nTests:\")\n",
        "assert_equal(EMPTY_TILE, get_piece(get_piece_test_board, 0, 0))\n",
        "assert_equal(X_PIECE, get_piece(get_piece_test_board, 3, 1))\n",
        "assert_equal(O_PIECE, get_piece(get_piece_test_board, 2, 3))"
      ]
    },
    {
      "cell_type": "markdown",
      "metadata": {
        "id": "bxH2YaIynaOQ"
      },
      "source": [
        "### 2.2 Set piece on board\n",
        "\n",
        "Complete the `set_piece` function below to set a position on the board to the given piece. *Hint: this should look similar (but not the same) to `get_piece` above!*"
      ]
    },
    {
      "cell_type": "code",
      "execution_count": null,
      "metadata": {
        "id": "sBi40i8enri7"
      },
      "outputs": [],
      "source": [
        "def set_piece(board, row, column, piece):\n",
        "    \"\"\"Sets the piece on the board at the given row and column.\"\"\"\n",
        "    # YOUR CODE HERE\n",
        "\n",
        "\n",
        "# ------  DO NOT MODIFY ------------\n",
        "# ------  THIS TESTS YOUR CODE -----\n",
        "set_piece_test_board = [\n",
        "    [0, 0, 0, 0],\n",
        "    [0, 0, 2, 1],\n",
        "    [0, 0, 1, 2],\n",
        "    [0, 1, 2, 2],\n",
        "]\n",
        "\n",
        "print_board_coords(set_piece_test_board)\n",
        "\n",
        "print(\"\\nTests:\")\n",
        "\n",
        "set_piece(set_piece_test_board, 0, 0, X_PIECE)\n",
        "assert_equal(X_PIECE, get_piece(set_piece_test_board, 0, 0))\n",
        "\n",
        "set_piece(set_piece_test_board, 0, 1, O_PIECE)\n",
        "assert_equal(O_PIECE, get_piece(set_piece_test_board, 0, 1))\n",
        "\n",
        "set_piece(set_piece_test_board, 0, 1, X_PIECE)\n",
        "assert_equal(X_PIECE, get_piece(set_piece_test_board, 0, 1))\n",
        "\n",
        "set_piece(set_piece_test_board, 0, 1, EMPTY_TILE)\n",
        "assert_equal(EMPTY_TILE, get_piece(set_piece_test_board, 0, 1))"
      ]
    },
    {
      "cell_type": "markdown",
      "metadata": {
        "id": "j9ynS2vKonXd"
      },
      "source": [
        "### 2.3 Update board\n",
        "\n",
        "Complete the `update_board` function below, where given a board, a column, and a piece, update the board as if a player inserted that piece at the top of the board in that column. Recall that the piece's position should be\n",
        "set to the bottommost empty tile of the column the player dropped it in. Use `get_piece` and `set_piece` to help you write this function.\n",
        "\n",
        "*Hint: you can use the `EMPTY_TILE` global variable.*"
      ]
    },
    {
      "cell_type": "code",
      "execution_count": null,
      "metadata": {
        "id": "iCHQE3z8oXtv"
      },
      "outputs": [],
      "source": [
        "def update_board(board, column, piece):\n",
        "    \"\"\"Updates the board as if a player dropped piece into the given column.\n",
        "\n",
        "    If there is no empty tile in that column, does not change the board.\n",
        "    \"\"\"\n",
        "    # NOTE: as an example, remeber `range(2, -1, -1)) = [2, 1, 0]`. You probably want to use range in your solution!\n",
        "    # YOUR CODE HERE\n",
        "\n",
        "\n",
        "# ------  DO NOT MODIFY ------------\n",
        "# ------  THIS TESTS YOUR CODE -----\n",
        "update_board_test_board = [\n",
        "    [0, 0, 0, 0],\n",
        "    [0, 0, 2, 1],\n",
        "    [0, 0, 1, 2],\n",
        "    [0, 1, 2, 2],\n",
        "]\n",
        "\n",
        "print_board_coords(update_board_test_board)\n",
        "\n",
        "print(\"\\nTests:\")\n",
        "update_board(update_board_test_board, 0, X_PIECE)\n",
        "assert_equal(X_PIECE, get_piece(update_board_test_board, 3, 0))\n",
        "\n",
        "update_board(update_board_test_board, 0, O_PIECE)\n",
        "assert_equal(O_PIECE, get_piece(update_board_test_board, 2, 0))\n",
        "\n",
        "update_board(update_board_test_board, 0, X_PIECE)\n",
        "assert_equal(X_PIECE, get_piece(update_board_test_board, 1, 0))\n",
        "\n",
        "update_board(update_board_test_board, 0, O_PIECE)\n",
        "assert_equal(O_PIECE, get_piece(update_board_test_board, 0, 0))\n",
        "\n",
        "update_board(update_board_test_board, 1, O_PIECE)\n",
        "assert_equal(O_PIECE, get_piece(update_board_test_board, 2, 1))"
      ]
    },
    {
      "cell_type": "markdown",
      "metadata": {
        "id": "csVbH9m7oZiZ"
      },
      "source": [
        "## 3. Check winner\n",
        "\n",
        "One important thing a game does is check if there is a winner. In Connect Four, there is a winner if there are four pieces that belong to the same player that are connected vertically, diagonally, or horizontally.\n",
        "\n",
        "We have implemented the code for checking vertical and diagonal checks, as well as a function, `check_winner`, that calls functions for all directions for you. For reference, here are the function skeletons for\n",
        "\n",
        "1. `check_vertical_winner`\n",
        "2. `check_back_diagonal_winner`\n",
        "3. `check_forward_diagonal_winner`\n",
        "4. `check_winner`\n",
        "\n",
        "You do not need to modify or edit these functions; they are here **ONLY** for your reference."
      ]
    },
    {
      "cell_type": "code",
      "execution_count": null,
      "metadata": {
        "id": "Kx036LsPoZia"
      },
      "outputs": [],
      "source": [
        "#########################################\n",
        "# !!! RUN THIS CELL BUT DO NOT EDIT !!! #\n",
        "#########################################\n",
        "\n",
        "\n",
        "def check_vertical_winner(board):\n",
        "    \"\"\"Check whether a player won by *vertically* connecting four pieces.\n",
        "    Input: board (list of lists of ints).\n",
        "    Output: X_PIECE, O_PIECE, or NO_WINNER.\n",
        "    \"\"\"\n",
        "    # You do not need to edit the contents or signature of this function. We have defined it for you.\n",
        "    # <Function Contents Hidden>\n",
        "\n",
        "\n",
        "def check_back_diagonal_winner(board):\n",
        "    \"\"\"Check whether a player won by *diagonally* connecting four pieces going down and right (\\).\n",
        "    Input: board (list of lists of ints).\n",
        "    Output: X_PIECE, O_PIECE, or NO_WINNER.\n",
        "    \"\"\"\n",
        "    # You do not need to edit the contents or signature of this function. We have defined it for you.\n",
        "    # <Function Contents Hidden>\n",
        "\n",
        "\n",
        "def check_forward_diagonal_winner(board):\n",
        "    \"\"\"Check whether a player won by *diagonally* connecting four pieces going down and left (/).\n",
        "    Input: board (list of lists of ints).\n",
        "    Output: X_PIECE, O_PIECE, or NO_WINNER.\n",
        "    \"\"\"\n",
        "    # You do not need to edit the contents or signature of this function. We have defined it for you.\n",
        "    # <Function Contents Hidden>\n",
        "\n",
        "\n",
        "def check_winner(board):\n",
        "    \"\"\"Check whether a player won by connecting four pieces vertically,\n",
        "    horizontally, or diagonally.\n",
        "    Input: board (list of lists of ints).\n",
        "    Output: X_PIECE, O_PIECE, or NO_WINNER.\n",
        "    \"\"\"\n",
        "    # You do not need to edit the contents or signature of this function. We have defined it for you.\n",
        "    vertical_winner = check_vertical_winner(board)\n",
        "    if vertical_winner != NO_WINNER:\n",
        "        return vertical_winner\n",
        "\n",
        "    back_diagonal_winner = check_back_diagonal_winner(board)\n",
        "    if back_diagonal_winner != NO_WINNER:\n",
        "        return back_diagonal_winner\n",
        "\n",
        "    forward_diagonal_winner = check_forward_diagonal_winner(board)\n",
        "    if forward_diagonal_winner != NO_WINNER:\n",
        "        return forward_diagonal_winner\n",
        "\n",
        "    horizontal_winner = check_horizontal_winner(board)\n",
        "    if horizontal_winner != NO_WINNER:\n",
        "        return horizontal_winner\n",
        "\n",
        "    return NO_WINNER\n",
        "\n",
        "check_vertical_winner = make_check_winner([(-1, 0), (-2, 0), (-3, 0)])\n",
        "check_back_diagonal_winner = make_check_winner([(-1, -1), (-2, -2), (-3, -3)])\n",
        "check_forward_diagonal_winner = make_check_winner([(-1, 1), (-2, 2), (-3, 3)])"
      ]
    },
    {
      "cell_type": "markdown",
      "metadata": {
        "id": "OBt50ZCjoZia"
      },
      "source": [
        "Now your job is to complete the function `check_horizontal_winner`, which checks whether the board has a horizontal winner.\n",
        "\n",
        "*Hint: You may assume that the board is 4 by 4, and you may want to use the `get_piece` function we defined in the previous part.).*"
      ]
    },
    {
      "cell_type": "code",
      "execution_count": null,
      "metadata": {
        "id": "z8tJ76qcoZia"
      },
      "outputs": [],
      "source": [
        "def check_horizontal_winner(board):\n",
        "    \"\"\"Check whether a player won by *horizontally* connecting four pieces.\n",
        "    Input: board (list of lists of ints).\n",
        "    Output: X_PIECE, O_PIECE, or NO_WINNER.\n",
        "    \"\"\"\n",
        "    # YOUR CODE HERE\n",
        "    return NO_WINNER\n",
        "\n",
        "# ------  DO NOT MODIFY ------------\n",
        "# ------  THIS TESTS YOUR CODE -----\n",
        "print(\"\\nTests:\")\n",
        "\n",
        "test_board1 = [\n",
        "    [0, 0, 0, 0],\n",
        "    [0, 0, 0, 0],\n",
        "    [1, 1, 1, 1],\n",
        "    [1, 1, 1, 2],\n",
        "]\n",
        "assert_equal(X_PIECE, check_horizontal_winner(test_board1))\n",
        "\n",
        "test_board2 = [\n",
        "    [0, 0, 0, 0],\n",
        "    [0, 0, 0, 0],\n",
        "    [2, 2, 2, 0],\n",
        "    [1, 1, 1, 2],\n",
        "]\n",
        "assert_equal(NO_WINNER, check_horizontal_winner(test_board2))\n",
        "\n",
        "test_board3 = [\n",
        "    [0, 0, 0, 0],\n",
        "    [0, 0, 0, 0],\n",
        "    [1, 1, 1, 2],\n",
        "    [1, 1, 1, 2],\n",
        "]\n",
        "assert_equal(NO_WINNER, check_horizontal_winner(test_board3))"
      ]
    },
    {
      "cell_type": "markdown",
      "metadata": {
        "id": "vtNsNAanoZia"
      },
      "source": [
        "## 4. The game loop\n",
        "\n",
        "Here we'll implement the logic to run the game. To help you, we've implemented some functions. You should NOT edit these functions, and you don't need to understand how they work; just what arguments they take and return.\n",
        "\n",
        "The functions:\n",
        "\n",
        "`player_symbol`:\n",
        "\n",
        "* The function `player_symbol` takes in either `X_PIECE` or `O_PIECE` and returns the corresponding string `'X'` or `'O'`. We use it for printing more easily.\n",
        "\n",
        "`get_input`\n",
        "\n",
        "* The function `get_input` takes in a variable `next_player` which is either `X_PIECE` or `O_PIECE`, and prompts the user to choose a column for their next turn.\n",
        "* If the user doesn't input an `int` then it will print a message and ask for them to try again.\n"
      ]
    },
    {
      "cell_type": "code",
      "execution_count": null,
      "metadata": {
        "id": "5sI0kFVEoZia"
      },
      "outputs": [],
      "source": [
        "#########################################\n",
        "# !!! RUN THIS CELL BUT DO NOT EDIT !!! #\n",
        "#########################################\n",
        "\n",
        "\n",
        "def player_symbol(player_id):\n",
        "    \"\"\"\n",
        "    Given a player, returns the symbol of that player.\n",
        "\n",
        "    Do not modify this function.\n",
        "\n",
        "    Input: player_id (X_PIECE or O_PIECE)\n",
        "    Output: (X_PIECE or O_PIECE)\n",
        "    \"\"\"\n",
        "    if player_id == X_PIECE:\n",
        "        return 'X'\n",
        "    elif player_id == O_PIECE:\n",
        "        return 'O'\n",
        "    assert False, f\"No player with id {player_id}\"\n",
        "\n",
        "def is_valid_column(column):\n",
        "    \"\"\"\n",
        "    Given a column, returns whether it is a valid column.\n",
        "\n",
        "    Input: column (int)\n",
        "    Output: (bool)\n",
        "    \"\"\"\n",
        "    return column in range(4)\n",
        "\n",
        "def get_input(current_player):\n",
        "    \"\"\"Gets input (a move) from the current player.\n",
        "\n",
        "    Do not modify this function.\n",
        "\n",
        "    You are not expected to understand how this function works,\n",
        "    so don't worry if you don't.\n",
        "\n",
        "    Input: current_player (X_PIECE or O_PIECE)\n",
        "    Output: column (int)\n",
        "    \"\"\"\n",
        "    player_str = player_symbol(current_player)\n",
        "    column = None\n",
        "    while column is None:\n",
        "        print(f\"It is player {player_str}'s turn.\")\n",
        "        column_str = input(f\"Choose the column index to place a piece (enter 'exit' to exit the game): \")\n",
        "        if column_str == \"exit\":\n",
        "            print(\"Exiting the game...\")\n",
        "            return None\n",
        "        try:\n",
        "            column = int(column_str)\n",
        "            if not is_valid_column(column):\n",
        "                print(f\"{column} is not a valid column!\")\n",
        "                column = None\n",
        "        except:\n",
        "            print(\"That was not an integer, please try again\")\n",
        "\n",
        "    print(f\"Player {player_str} chose {column}\")\n",
        "    return column"
      ]
    },
    {
      "cell_type": "markdown",
      "metadata": {
        "id": "BxdN_GzIoZib"
      },
      "source": [
        "### **The next step is to complete the function `run_game`, which takes two input variables:**\n",
        "\n",
        "* `board` which is the current state of a game\n",
        "* `next_player` which is either `X_PIECE` or `O_PIECE`\n",
        "\n",
        "**This function uses a `while` loop to repeatedly:**\n",
        "1. Print the board\n",
        "2. Ask the next player to choose their next turn by calling `get_input`\n",
        "3. Update the board with their choice\n",
        "4. Clear the output\n",
        "5. Check if there is a winner, and if there is, display who won and end the game\n",
        "\n",
        "If there is no winner, the process should repeat until there is a winner.\n",
        "\n",
        "**Your job is to complete this function by filling in the blanks _________**\n",
        "\n",
        "*Hint: you might want to use functions you previously wrote, such as `check_winner` or `update_board`*"
      ]
    },
    {
      "cell_type": "code",
      "execution_count": null,
      "metadata": {
        "id": "Ptr78ZQYoZib"
      },
      "outputs": [],
      "source": [
        "#########################################\n",
        "# !!! RUN THIS CELL BUT DO NOT EDIT !!! #\n",
        "#########################################\n",
        "\n",
        "from IPython.display import clear_output\n",
        "\n",
        "# This helper function takes in a player, and returns the opposite player\n",
        "def other_player(current_player):\n",
        "    \"\"\"\n",
        "    Given the current player, returns the other player\n",
        "\n",
        "    Input: current_player (X_PIECE or O_PIECE)\n",
        "    Output: (X_PIECE or O_PIECE)\n",
        "    \"\"\"\n",
        "    if current_player == X_PIECE:\n",
        "        return O_PIECE\n",
        "    elif current_player == O_PIECE:\n",
        "        return X_PIECE"
      ]
    },
    {
      "cell_type": "markdown",
      "metadata": {
        "id": "gkV0z7jGqXmz"
      },
      "source": [
        "Write your code below."
      ]
    },
    {
      "cell_type": "code",
      "execution_count": null,
      "metadata": {
        "id": "KhKSz2GoqOD1"
      },
      "outputs": [],
      "source": [
        "### REPLACE blank spaces like this below: _________\n",
        "\n",
        "def run_game(board, current_player):\n",
        "    winner = NO_WINNER\n",
        "\n",
        "    # Loop till there's no winner of the game.\n",
        "    while winner == _________:                      # YOUR CODE HERE\n",
        "        clear_output()\n",
        "        time.sleep(0.05)\n",
        "        # get the next input from the next player\n",
        "        print_board(board)\n",
        "        column = get_input(current_player)\n",
        "        if column is None:\n",
        "            return\n",
        "        # Update the board using update_board function.\n",
        "        _________(board, column, current_player)    # YOUR CODE HERE\n",
        "\n",
        "        # Check for the winner using the check_winner function.\n",
        "        winner = _________(board)                   # YOUR CODE HERE\n",
        "\n",
        "        # Switch players using other_player function above.\n",
        "        current_player = _________                  # YOUR CODE HERE\n",
        "\n",
        "    clear_output()\n",
        "    # Because we exited the while loop, we know that there is a winner.\n",
        "    print_board(board)\n",
        "    player_str = player_symbol(winner)\n",
        "    print(f\"Player {winner} (playing with {player_str}) won the game!\")\n"
      ]
    },
    {
      "cell_type": "markdown",
      "metadata": {
        "id": "dz-ZzZ15oZib"
      },
      "source": [
        "## 5. A Working Game\n",
        "\n",
        "### Let's put it all together with `start_game`\n",
        "\n",
        "First, this function creates a new, empty `board`. Then, it calls `run_game(board, X_PIECE)` to start the gameplay with Player X."
      ]
    },
    {
      "cell_type": "code",
      "execution_count": null,
      "metadata": {
        "id": "CBhXKXKGoZib"
      },
      "outputs": [],
      "source": [
        "def start_new_game():\n",
        "    board = []\n",
        "    for i in range(4):\n",
        "        board.append([0] * 4)\n",
        "    run_game(board, X_PIECE)\n",
        "\n",
        "start_new_game()"
      ]
    },
    {
      "cell_type": "markdown",
      "metadata": {
        "id": "y4UxkOsNoZib"
      },
      "source": [
        "# Congrats! You've successfully built a game of Connect Four!\n",
        "\n",
        "Pat yourself on the back and take a little break. You deserved it!!! 💪🏿💪🏿💪🏿\n",
        "-\n",
        "-\n",
        "-\n",
        "-\n",
        "-\n",
        "-\n",
        "-\n",
        "-\n",
        "-\n",
        "-\n",
        "-"
      ]
    },
    {
      "cell_type": "markdown",
      "metadata": {
        "id": "yWUMiYJaoZib"
      },
      "source": [
        "### Optional Challenge: check_vertical_winner(), check_back_diagonal_winner(), and check_forward_diagonal_winner()\n",
        "\n",
        "We secretly implemented check_vertical_winner(), check_back_diagonal_winner(), and check_forward_diagonal_winner() for you... but since you've gotten this far, we thought you should try implementing them yourself!"
      ]
    },
    {
      "cell_type": "code",
      "execution_count": null,
      "metadata": {
        "id": "carTLDj0oZib"
      },
      "outputs": [],
      "source": [
        "def challenge_check_vertical_winner(board):\n",
        "    \"\"\"Check whether a player won by *vertically* connecting four pieces.\n",
        "    Input: board (list of lists of ints).\n",
        "    Output: X_PIECE, O_PIECE, or NO_WINNER.\n",
        "    \"\"\"\n",
        "    # YOUOR CODE HERE\n",
        "    return\n",
        "\n",
        "\n",
        "##### TEST CASES #####\n",
        "print(\"\\nTests:\")\n",
        "\n",
        "test_board1 = [\n",
        "    [1, 0, 0, 0],\n",
        "    [1, 0, 0, 0],\n",
        "    [1, 1, 2, 1],\n",
        "    [1, 2, 1, 2],\n",
        "]\n",
        "assert_equal(X_PIECE, challenge_check_vertical_winner(test_board1))\n",
        "\n",
        "test_board2 = [\n",
        "    [0, 0, 0, 0],\n",
        "    [0, 0, 0, 0],\n",
        "    [2, 2, 2, 0],\n",
        "    [1, 1, 1, 1],\n",
        "]\n",
        "assert_equal(NO_WINNER, challenge_check_vertical_winner(test_board2))\n",
        "\n",
        "test_board3 = [\n",
        "    [0, 0, 2, 0],\n",
        "    [0, 0, 2, 0],\n",
        "    [1, 1, 2, 2],\n",
        "    [1, 1, 2, 2],\n",
        "]\n",
        "assert_equal(O_PIECE, challenge_check_vertical_winner(test_board3))"
      ]
    },
    {
      "cell_type": "code",
      "execution_count": null,
      "metadata": {
        "id": "7NA55QNooZic"
      },
      "outputs": [],
      "source": [
        "def check_back_diagonal_winner(board):\n",
        "    \"\"\"Check whether a player won by *diagonally* connecting four pieces going down and right (\\).\n",
        "    Input: board (list of lists of ints).\n",
        "    Output: X_PIECE, O_PIECE, or NO_WINNER.\n",
        "    \"\"\"\n",
        "    # YOUOR CODE HERE\n",
        "    return\n",
        "\n",
        "\n",
        "##### TEST CASES #####\n",
        "print(\"\\nTests:\")\n",
        "\n",
        "test_board1 = [\n",
        "    [1, 0, 0, 0],\n",
        "    [1, 1, 0, 0],\n",
        "    [2, 0, 1, 1],\n",
        "    [1, 2, 1, 1],\n",
        "]\n",
        "assert_equal(X_PIECE, check_back_diagonal_winner(test_board1))\n",
        "\n",
        "test_board2 = [\n",
        "    [0, 0, 0, 0],\n",
        "    [0, 0, 0, 0],\n",
        "    [0, 2, 2, 0],\n",
        "    [1, 1, 1, 1],\n",
        "]\n",
        "assert_equal(NO_WINNER, check_back_diagonal_winner(test_board2))\n",
        "\n",
        "test_board3 = [\n",
        "    [2, 0, 1, 0],\n",
        "    [0, 2, 1, 0],\n",
        "    [1, 1, 2, 2],\n",
        "    [1, 1, 2, 2],\n",
        "]\n",
        "assert_equal(O_PIECE, check_back_diagonal_winner(test_board3))"
      ]
    },
    {
      "cell_type": "code",
      "execution_count": null,
      "metadata": {
        "id": "4D0UFxhBoZic"
      },
      "outputs": [],
      "source": [
        "def check_forward_diagonal_winner(board):\n",
        "    \"\"\"Check whether a player won by *diagonally* connecting four pieces going down and left (/).\n",
        "    Input: board (list of lists of ints).\n",
        "    Output: X_PIECE, O_PIECE, or NO_WINNER.\n",
        "    \"\"\"\n",
        "    # YOUOR CODE HERE\n",
        "    return\n",
        "\n",
        "\n",
        "# ------  DO NOT MODIFY ------------\n",
        "# ------  THIS TESTS YOUR CODE -----\n",
        "print(\"\\nTests:\")\n",
        "\n",
        "test_board1 = [\n",
        "    [0, 0, 0, 1],\n",
        "    [1, 1, 1, 0],\n",
        "    [2, 1, 1, 1],\n",
        "    [1, 2, 1, 1],\n",
        "]\n",
        "assert_equal(X_PIECE, check_forward_diagonal_winner(test_board1))\n",
        "\n",
        "test_board2 = [\n",
        "    [0, 0, 0, 0],\n",
        "    [0, 0, 0, 0],\n",
        "    [2, 0, 2, 0],\n",
        "    [1, 1, 1, 1],\n",
        "]\n",
        "assert_equal(NO_WINNER, check_forward_diagonal_winner(test_board2))\n",
        "\n",
        "test_board3 = [\n",
        "    [0, 0, 0, 2],\n",
        "    [0, 2, 2, 0],\n",
        "    [1, 2, 2, 2],\n",
        "    [2, 1, 1, 1],\n",
        "]\n",
        "assert_equal(O_PIECE, check_forward_diagonal_winner(test_board3))"
      ]
    },
    {
      "cell_type": "markdown",
      "metadata": {
        "id": "dp8eNwMroZic"
      },
      "source": [
        "### 💀 SUPER OPTIONAL MEGA CHALLENGE: 5x5 Connect Four 💀\n",
        "\n",
        "So far, we've built this project based on a 4x4 board. Another more advanced iteration of the game is played with a 5x5 board.\n",
        "\n",
        "**CHALLENGE: By either editting all the code above or adding code blocks below, create a functional Connect Four game with a 5x5 board.**\n",
        "\n",
        "NOTE: Even though the board is 5x5, you only need to connect four to win, not connect five. Good luck :))"
      ]
    },
    {
      "cell_type": "code",
      "execution_count": null,
      "metadata": {
        "id": "GnFS9FVzoZic"
      },
      "outputs": [],
      "source": []
    },
    {
      "cell_type": "code",
      "execution_count": null,
      "metadata": {
        "id": "wYQnXiAkoZic"
      },
      "outputs": [],
      "source": [
        "#Test cases:\n",
        "\n",
        "#You'll know if it works ;)"
      ]
    },
    {
      "cell_type": "code",
      "execution_count": null,
      "metadata": {
        "id": "VlAU7qyqoZid"
      },
      "outputs": [],
      "source": []
    }
  ],
  "metadata": {
    "colab": {
      "provenance": []
    },
    "kernelspec": {
      "display_name": "Python 3",
      "name": "python3"
    },
    "language_info": {
      "codemirror_mode": {
        "name": "ipython",
        "version": 3
      },
      "file_extension": ".py",
      "mimetype": "text/x-python",
      "name": "python",
      "nbconvert_exporter": "python",
      "pygments_lexer": "ipython3",
      "version": "3.13.5"
    }
  },
  "nbformat": 4,
  "nbformat_minor": 0
}
