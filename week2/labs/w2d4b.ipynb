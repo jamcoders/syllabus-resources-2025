{
  "cells": [
    {
      "cell_type": "markdown",
      "metadata": {
        "id": "GDpmW0lzVPkd"
      },
      "source": [
        "![Reminder to Save](https://github.com/jamcoders/jamcoders-public-2025/blob/main/images/warning.png?raw=true)"
      ]
    },
    {
      "cell_type": "code",
      "execution_count": null,
      "metadata": {
        "id": "2mTwp432VPkf"
      },
      "outputs": [],
      "source": [
        "%config InteractiveShell.ast_node_interactivity=\"none\"\n",
        "import sys\n",
        "if 'google.colab' in sys.modules:\n",
        "    !pip install --force-reinstall git+https://github.com/jamcoders/jamcoders-public-2025.git --quiet\n",
        "from jamcoders.base_utils import *\n",
        "from jamcoders.week2.labw2d4a import *"
      ]
    },
    {
      "cell_type": "markdown",
      "metadata": {
        "id": "9RAYrnT0VPkh"
      },
      "source": [
        "# 🚨🚨🚨 **Only do this notebook if you finished all the previous recursion notebooks!**\n",
        "\n",
        "# Week 2 Day 4, Lab B: Even More Recursion\n",
        "\n",
        "🚨🚨🚨 **All of today's exercises should use recursion** unless the question says otherwise. As taught in lecture and previous exercises, make sure to always define your base case(s) and recursive case(s)."
      ]
    },
    {
      "cell_type": "markdown",
      "metadata": {
        "id": "mdXfWdmqVPkh"
      },
      "source": [
        "## 0. Warm-up\n",
        "\n",
        "Count how many upper case characters a string `sentence` contains.\n",
        "\n",
        "*Hint: `str.upper()` is useful for this question*\n"
      ]
    },
    {
      "cell_type": "code",
      "execution_count": null,
      "metadata": {
        "id": "DOL5Zoe8VPki"
      },
      "outputs": [],
      "source": [
        "def how_many_upper_case(sentence):\n",
        "    \"\"\"\n",
        "    Computes the number of upper case letters in the sentence.\n",
        "\n",
        "    Args:\n",
        "        sentence (str):\n",
        "            The given sentence.\n",
        "\n",
        "    Returns (int):\n",
        "        The number of upper case letters in the sentence.\n",
        "    \"\"\"\n",
        "    # Your code here\n",
        "\n",
        "\n",
        "# This tests your solution\n",
        "assert_equal(got=how_many_upper_case(\"Ilikejamcoders\"), want=1)\n",
        "assert_equal(got=how_many_upper_case(\"ilikeJamcodersaLot\"), want=2)\n",
        "assert_equal(got=how_many_upper_case(\"HeLlO\"), want=3)"
      ]
    },
    {
      "cell_type": "markdown",
      "metadata": {
        "id": "Pdq3bNCKVPkj"
      },
      "source": [
        "## 1. Recursion with Lists"
      ]
    },
    {
      "cell_type": "markdown",
      "metadata": {
        "id": "cgO9SPkXVPkk"
      },
      "source": [
        "### 1.1 `spell_check`\n",
        "Spelling can be hard! A TA has accidentally spelled ```Jamcoders``` as ```Jmacoders``` in a few places. Write a recursive function to replace every instance of \"Jmacoders\" in a list with \"Jamcoders\"."
      ]
    },
    {
      "cell_type": "code",
      "execution_count": null,
      "metadata": {
        "id": "zlSk8JK6VPkk"
      },
      "outputs": [],
      "source": [
        "def spell_check(lst):\n",
        "    \"\"\"\n",
        "    Replaces every instance of \"Jmacoders\" in the input with \"Jamcoders\".\n",
        "\n",
        "    Args:\n",
        "        lst (List(str)):\n",
        "            The original list of names.\n",
        "\n",
        "    Returns (List(str)):\n",
        "        A list with all typos corrected.\n",
        "    \"\"\"\n",
        "    # Your code here\n",
        "\n",
        "\n",
        "# This tests your solution\n",
        "assert_equal(got=spell_check([\"Jamcoders\", \"Is\", \"Not\", \"Spelled\", \"Jmacoders\", \"Right?\"]), want=[\"Jamcoders\", \"Is\", \"Not\", \"Spelled\", \"Jamcoders\", \"Right?\"])\n",
        "assert_equal(got=spell_check([\"Jmacoders\", \"Jamcoders\", \"Jmacoders\", \"Jamcoders?\"]), want=[\"Jamcoders\", \"Jamcoders\", \"Jamcoders\", \"Jamcoders?\"])"
      ]
    },
    {
      "cell_type": "markdown",
      "metadata": {
        "id": "YYK-HK1JVPkk"
      },
      "source": [
        "### 1.2 `find_max_population`\n",
        "\n",
        "The following is a list of places in Jamaica and their population. Each entry is a list with two elements: the first is the name of the place, and the second is the population.\n",
        "\n",
        "`[[\"Spanish Town\", 147152], [\"Kingston\", 1041203], [\"Montego Bay\", 110115], [\"Portmore\", 182153]]`.\n",
        "\n",
        "The function should return the population of the most populous city.\n",
        "\n",
        "Note: Do not use the *max* function."
      ]
    },
    {
      "cell_type": "code",
      "execution_count": null,
      "metadata": {
        "id": "JihpX8f4VPkk"
      },
      "outputs": [],
      "source": [
        "def find_max_population(lst):\n",
        "    \"\"\"\n",
        "    Finds the population of the place with the maximum population in a list of places.\n",
        "\n",
        "    Args:\n",
        "        lst (List(List))):\n",
        "            A list of city pairs. The first element each list is the name of the place, and the second element is the population.\n",
        "\n",
        "    Returns (int):\n",
        "        The population of the place with the greatest population.\n",
        "    \"\"\"\n",
        "    # Your code here\n",
        "\n",
        "\n",
        "# This tests your solution\n",
        "assert_equal(got=find_max_population([[\"Spanish Town\", 147152],[\"Kingston\", 1041203], [\"Montego Bay\", 110115], [\"Portmore\", 182153]]), want=1041203)"
      ]
    },
    {
      "cell_type": "markdown",
      "metadata": {
        "id": "FMA8r0aNVPkj"
      },
      "source": [
        "### 1.3 `sort_pairs`\n",
        "\n",
        "Start by writing a function that sorts a pair of numbers (given as a list of size `2`). 🚨 **This function should not be recursive**.\n",
        "\n"
      ]
    },
    {
      "cell_type": "code",
      "source": [
        "def sort_one_pair(pair):\n",
        "    \"\"\"\n",
        "    Sorts a pair of numbers, represented as a list of size 2.\n",
        "\n",
        "    Args:\n",
        "        lst (List(int)):\n",
        "            The pair of numbers to be sorted.\n",
        "\n",
        "    Returns List(int):\n",
        "        The sorted pair of numbers.\n",
        "    \"\"\"\n",
        "    # Your code here\n",
        "\n",
        "\n",
        "# This tests your solution\n",
        "assert_equal(got=sort_one_pair([1, 3]), want=[1, 3])\n",
        "assert_equal(got=sort_one_pair([4, 2]), want=[2, 4])\n",
        "assert_equal(got=sort_one_pair([0, 0]), want=[0, 0])"
      ],
      "metadata": {
        "id": "ZoC5MBDsxpu-"
      },
      "execution_count": null,
      "outputs": []
    },
    {
      "cell_type": "markdown",
      "source": [
        "Now write the `sort_pairs` function: given a list of pairs of integers, sort each member of the pair in ascending order."
      ],
      "metadata": {
        "id": "LkZEBpUpxeO8"
      }
    },
    {
      "cell_type": "code",
      "execution_count": null,
      "metadata": {
        "id": "RGDSJAdXVPkj"
      },
      "outputs": [],
      "source": [
        "def sort_pairs(lst):\n",
        "    \"\"\"\n",
        "    Sorts each pair within lst.\n",
        "\n",
        "    Args:\n",
        "        lst (List(Pair(int, int))):\n",
        "            The list of pairs to sort.\n",
        "\n",
        "    Returns List(Pair(int, int)):\n",
        "        The input list with each pair sorted.\n",
        "    \"\"\"\n",
        "    # Your code here\n",
        "\n",
        "\n",
        "# This tests your solution\n",
        "assert_equal(got=sort_pairs([[1, 3], [5, 2], [3, 0]]), want=[[1, 3], [2, 5], [0, 3]])\n",
        "assert_equal(got=sort_pairs([]), want=[])"
      ]
    },
    {
      "cell_type": "markdown",
      "metadata": {
        "id": "9MbPSgP2VPkj"
      },
      "source": [
        "### 1.4 `deep_add`\n",
        "\n",
        "Add all the integers in the list (whose elements might also be lists of lists).\n",
        "\n",
        "Hint: You can use `type(object) == object_type` to check the type of an object\n"
      ]
    },
    {
      "cell_type": "code",
      "execution_count": null,
      "metadata": {
        "id": "6_ECgDgBVPkk"
      },
      "outputs": [],
      "source": [
        "def deep_add(lst):\n",
        "    \"\"\"\n",
        "    Finds the sum of all integers in a list whose members may be other lists.\n",
        "\n",
        "    Args:\n",
        "        lst (List(int or List)):\n",
        "            A deep list, whose elements are integers or other deep lists.\n",
        "\n",
        "    Returns (int):\n",
        "        The sum of all integers (int).\n",
        "    \"\"\"\n",
        "    # Your code here\n",
        "\n",
        "\n",
        "# This tests your solution\n",
        "assert_equal(got=deep_add([3, 5, [1, 3], 6]), want=18)\n",
        "assert_equal(got=deep_add([2]), want=2)\n",
        "assert_equal(got=deep_add([[[1, 2], 3], [[[5]]]]), want=11)"
      ]
    },
    {
      "cell_type": "markdown",
      "metadata": {
        "id": "iQgu2avVVPkl"
      },
      "source": [
        "## 2. Recursion and Counting\n",
        "### 2.1 `count_arrangements`\n",
        "\n",
        "Suppose there are `n` students in JamCoders. How many different ways can the students sit in the computer lab assuming there are only `n` places to sit?\n",
        "\n",
        "*Hint:* Suppose there are $5$ students (`n = 5`). Then, in the first seat, there are $5$ students who can sit in that seat. In the second seat, there are $4$ remaining students who can sit in that seat. In the third, there are $3$ remaining possible students, and so on. So the total number of arrangements of students is $5 \\times 4 \\times 3 \\times 2 \\times 1 = 5! = 120$.\n",
        "\n",
        "Input: `n = 5`\n",
        "\n",
        "Output: `120`\n",
        "\n",
        "Seems like we have countless options to rearrange your seats! :)"
      ]
    },
    {
      "cell_type": "code",
      "execution_count": null,
      "metadata": {
        "id": "e3bSeokvVPkl"
      },
      "outputs": [],
      "source": [
        "def count_arrangements(n):\n",
        "    \"\"\"\n",
        "    Computes the number of arrangements of students, given n students and n seats.\n",
        "\n",
        "    Args:\n",
        "        n (int):\n",
        "            The number of students and seats.\n",
        "\n",
        "    Returns (int):\n",
        "        The number of arrangements of students(int).\n",
        "    \"\"\"\n",
        "    # Your code here\n",
        "\n",
        "\n",
        "# This tests your solution\n",
        "assert_equal(got=count_arrangements(5), want=120)\n",
        "assert_equal(got=count_arrangements(20), want=2432902008176640000)\n",
        "assert_equal(got=count_arrangements(1), want=1)"
      ]
    },
    {
      "cell_type": "markdown",
      "metadata": {
        "id": "aQ--cMvPVPkl"
      },
      "source": [
        "### 2.2 `count_parking`\n",
        "\n",
        "You have recently built a parking lot and wish to test it out by filling it completely with vehicles.\n",
        "\n",
        "The parking lot can be modelled as a long strip of squares, one next to the other. When a scooter parks, it takes up exactly one square. When a car parks, it takes up exactly two (adjacent) squares.\n",
        "\n",
        "Depending on how many (and in what order) cars and scooters park in the lot, it can look substantially different. You'd like to count how many possible ways there are for cars and scooters to park.\n",
        "\n",
        "For example, suppose your parking lot consists of 5 squares. Then there are 8 ways to fill it:\n",
        "- Scooter, Scooter, Scooter, Scooter, Scooter\n",
        "- Scooter, Scooter, Scooter, Car\n",
        "- Scooter, Scooter, Car, Scooter\n",
        "- Scooter, Car, Scooter, Scooter\n",
        "- Car, Scooter, Scooter, Scooter\n",
        "- Scooter, Car, Car\n",
        "- Car, Scooter, Car\n",
        "- Car, Car, Scooter\n",
        "\n",
        "Write recursive code that calculates the number of parking arrangements.\n",
        "\n",
        "Hint: Think about the first vehicle in the left side of the parking lot. If it's a scooter, how much space is left after it? What if it's a car?\n",
        "\n",
        "Reminder: Write your solution that takes into account a basecase that handles the case where the input `n` can become a negative number during its calculation."
      ]
    },
    {
      "cell_type": "code",
      "execution_count": null,
      "metadata": {
        "id": "Cb1yUuVoVPkl"
      },
      "outputs": [],
      "source": [
        "def count_parking(n):\n",
        "    \"\"\"\n",
        "    Computes the number of arrangements of vehicles in a parking lot with n squares.\n",
        "\n",
        "    Args:\n",
        "        n (int):\n",
        "            The number of squares in the parking lot.\n",
        "\n",
        "    Returns (int):\n",
        "        The number of arrangements of vehicles.\n",
        "    \"\"\"\n",
        "    # Your code here\n",
        "    # Remember that either we place a scooter or a car first\n",
        "\n",
        "\n",
        "# This tests your solution\n",
        "assert_equal(got=count_parking(1), want=1)\n",
        "assert_equal(got=count_parking(2), want=2)\n",
        "assert_equal(got=count_parking(3), want=3)\n",
        "assert_equal(got=count_parking(4), want=5)\n",
        "assert_equal(got=count_parking(5), want=8)\n",
        "assert_equal(got=count_parking(6), want=13)\n",
        "assert_equal(got=count_parking(7), want=21)"
      ]
    },
    {
      "cell_type": "markdown",
      "metadata": {
        "id": "wwW-uJc4VPkl"
      },
      "source": [
        "Have you seen this sequence of numbers before?"
      ]
    },
    {
      "cell_type": "markdown",
      "metadata": {
        "id": "61TGeAB7VPkm"
      },
      "source": [
        "### 2.3 `count_parking2`\n",
        "It turns out that there are way more types of vehicles than just scooters and cars. Given a list of integers, each containing the size of a different vehicle, return the number of ways they can be arranged to fill the parking lot.\n",
        "\n",
        "You may use a `for` loop to iterate through `lst` but a recursive call still needs to be used.\n",
        "\n",
        "Note: `count_parking2(n, [1, 2])` is equivalent to `count_parking(n)`."
      ]
    },
    {
      "cell_type": "code",
      "execution_count": null,
      "metadata": {
        "id": "Ch3Hft9xVPkm"
      },
      "outputs": [],
      "source": [
        "def count_parking2(n, lst):\n",
        "    \"\"\"\n",
        "    Computes the number of arrangements of vehicles in a parking lot with n squares.\n",
        "\n",
        "    Args:\n",
        "        n (int):\n",
        "            The number of squares in the parking lot.\n",
        "        lst (List(int)):\n",
        "            The sizes of available vehicles.\n",
        "\n",
        "    Returns (int):\n",
        "        The number of arrangements of vehicles.\n",
        "    \"\"\"\n",
        "    # Your code here\n",
        "    # For each size of vehicle in lst, we can consider placing that car first\n",
        "\n",
        "\n",
        "# This tests your solution\n",
        "assert_equal(got=count_parking2(2, [3, 4, 6]), want=0)\n",
        "assert_equal(got=count_parking2(5, [1, 2, 3]), want=13)\n",
        "assert_equal(got=count_parking2(20, [5, 5, 6]), want=16)\n",
        "assert_equal(got=count_parking2(15, [1, 1]), want=32768)\n",
        "assert_equal(got=count_parking2(6, [1, 2]), want=13)\n",
        "assert_equal(got=count_parking2(23, [2, 4, 6, 8, 10, 12]), want=0)"
      ]
    },
    {
      "cell_type": "markdown",
      "metadata": {
        "id": "IVm23nBmVPkm"
      },
      "source": [
        "### 2.4 `count_paths`\n",
        "\n",
        "You are stuck in an N x M grid and need to escape! You start at the top left corner of the grid, and the only exit is in the bottom right corner of the grid. In each minute, you can move either one square down or one square to the right (but not up, left, diagonally, etc.). You can already see that it will take you (N - 1) + (M - 1) minutes to escape, but now you're wondering how many different paths you can take to the exit.\n",
        "\n",
        "For example, if you are in a 3 x 3 grid, there are 6 ways to get to the exit:\n",
        "- Right, Right, Down, Down\n",
        "- Right, Down, Right, Down\n",
        "- Right, Down, Down, Right\n",
        "- Down, Right, Right, Down\n",
        "- Down, Right, Down, Right\n",
        "- Down, Down, Right, Right\n",
        "\n",
        "Write recursive code that calculates the number of paths.\n",
        "\n",
        "Hint: Think about your first action. If you move right, what happens to the \"available spaces\" on the grid? What if you move down?"
      ]
    },
    {
      "cell_type": "code",
      "execution_count": null,
      "metadata": {
        "id": "ZcVF41q4VPkm"
      },
      "outputs": [],
      "source": [
        "def count_paths(n, m):\n",
        "    \"\"\"\n",
        "    Computes the number of paths from the start to the exit of an n x m grid.\n",
        "\n",
        "    Args:\n",
        "        n (int):\n",
        "            The height of the grid.\n",
        "        m (int):\n",
        "            The width of the grid.\n",
        "\n",
        "    Returns (int):\n",
        "        The number of paths from the start to the exit.\n",
        "    \"\"\"\n",
        "    # Your code here\n",
        "\n",
        "\n",
        "# This tests your solution\n",
        "assert_equal(got=count_paths(1, 1), want=1)\n",
        "assert_equal(got=count_paths(1, 3), want=1)\n",
        "assert_equal(got=count_paths(3, 3), want=6)\n",
        "assert_equal(got=count_paths(6, 2), want=6)\n",
        "assert_equal(got=count_paths(3, 6), want=21)"
      ]
    }
  ],
  "metadata": {
    "language_info": {
      "name": "python"
    },
    "orig_nbformat": 4,
    "colab": {
      "provenance": []
    },
    "kernelspec": {
      "name": "python3",
      "display_name": "Python 3"
    }
  },
  "nbformat": 4,
  "nbformat_minor": 0
}