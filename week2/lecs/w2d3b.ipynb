{
 "cells": [
  {
   "cell_type": "code",
   "execution_count": 34,
   "id": "3ef33b1e",
   "metadata": {},
   "outputs": [],
   "source": [
    "%config InteractiveShell.ast_node_interactivity=\"none\""
   ]
  },
  {
   "cell_type": "markdown",
   "id": "a2d3412b",
   "metadata": {},
   "source": [
    "### Reminder: Recursion Basics \n",
    "\n",
    "In recursion, a function calls itself. Recursion is used when a problem can be easily divided into smaller problems of the same form.\n",
    "\n",
    "A recursive function has 2 components:\n",
    "\n",
    "**Base case:** Simplest possible input and prevents infinite recursion.\n",
    "\n",
    "**Recursive step:** Call the same function itself with a smaller/easier input to the function and act on the output of the smaller function call.\n",
    "Key steps to making a function recursive: figure out the base case and the recursive step for your problem.\n",
    "\n",
    "The steps of writing a recursive function:\n",
    "\n",
    "1. Given a large instance of a problem, how can you break the problem down into smaller pieces? (ignore the base-case)\n",
    "1. What instances of the problem do you know the answer to? (base case)\n",
    "1. Put them together\n",
    "\n",
    "<span style=\"color:blue\"> NOTE: It is very important to do this with pen and paper because the hardest part about recursion is figuring out the logic rather than writing the code. The code is usually short</span>."
   ]
  },
  {
   "cell_type": "markdown",
   "id": "f11f547c",
   "metadata": {},
   "source": [
    "Remember our function sumAll from the earlier lecture? A student asked what would happen if our base case just didn't return anything, as I write below."
   ]
  },
  {
   "cell_type": "code",
   "execution_count": 63,
   "id": "4355ad81",
   "metadata": {},
   "outputs": [],
   "source": [
    "def sumAll(l):\n",
    "    if len(l)==0:\n",
    "        return\n",
    "    return l[0]+sumAll(l[1:])"
   ]
  },
  {
   "cell_type": "code",
   "execution_count": 64,
   "id": "e0a9e6cb",
   "metadata": {},
   "outputs": [
    {
     "ename": "TypeError",
     "evalue": "unsupported operand type(s) for +: 'int' and 'NoneType'",
     "output_type": "error",
     "traceback": [
      "\u001b[0;31m---------------------------------------------------------------------------\u001b[0m",
      "\u001b[0;31mTypeError\u001b[0m                                 Traceback (most recent call last)",
      "Cell \u001b[0;32mIn [64], line 2\u001b[0m\n\u001b[1;32m      1\u001b[0m L1\u001b[38;5;241m=\u001b[39m[\u001b[38;5;241m1\u001b[39m,\u001b[38;5;241m2\u001b[39m,\u001b[38;5;241m3\u001b[39m]\n\u001b[0;32m----> 2\u001b[0m \u001b[38;5;28mprint\u001b[39m(\u001b[43msumAll\u001b[49m\u001b[43m(\u001b[49m\u001b[43mL1\u001b[49m\u001b[43m)\u001b[49m)\n",
      "Cell \u001b[0;32mIn [63], line 4\u001b[0m, in \u001b[0;36msumAll\u001b[0;34m(l)\u001b[0m\n\u001b[1;32m      2\u001b[0m \u001b[38;5;28;01mif\u001b[39;00m \u001b[38;5;28mlen\u001b[39m(l)\u001b[38;5;241m==\u001b[39m\u001b[38;5;241m0\u001b[39m:\n\u001b[1;32m      3\u001b[0m     \u001b[38;5;28;01mreturn\u001b[39;00m\n\u001b[0;32m----> 4\u001b[0m \u001b[38;5;28;01mreturn\u001b[39;00m l[\u001b[38;5;241m0\u001b[39m]\u001b[38;5;241m+\u001b[39m\u001b[43msumAll\u001b[49m\u001b[43m(\u001b[49m\u001b[43ml\u001b[49m\u001b[43m[\u001b[49m\u001b[38;5;241;43m1\u001b[39;49m\u001b[43m:\u001b[49m\u001b[43m]\u001b[49m\u001b[43m)\u001b[49m\n",
      "Cell \u001b[0;32mIn [63], line 4\u001b[0m, in \u001b[0;36msumAll\u001b[0;34m(l)\u001b[0m\n\u001b[1;32m      2\u001b[0m \u001b[38;5;28;01mif\u001b[39;00m \u001b[38;5;28mlen\u001b[39m(l)\u001b[38;5;241m==\u001b[39m\u001b[38;5;241m0\u001b[39m:\n\u001b[1;32m      3\u001b[0m     \u001b[38;5;28;01mreturn\u001b[39;00m\n\u001b[0;32m----> 4\u001b[0m \u001b[38;5;28;01mreturn\u001b[39;00m l[\u001b[38;5;241m0\u001b[39m]\u001b[38;5;241m+\u001b[39m\u001b[43msumAll\u001b[49m\u001b[43m(\u001b[49m\u001b[43ml\u001b[49m\u001b[43m[\u001b[49m\u001b[38;5;241;43m1\u001b[39;49m\u001b[43m:\u001b[49m\u001b[43m]\u001b[49m\u001b[43m)\u001b[49m\n",
      "Cell \u001b[0;32mIn [63], line 4\u001b[0m, in \u001b[0;36msumAll\u001b[0;34m(l)\u001b[0m\n\u001b[1;32m      2\u001b[0m \u001b[38;5;28;01mif\u001b[39;00m \u001b[38;5;28mlen\u001b[39m(l)\u001b[38;5;241m==\u001b[39m\u001b[38;5;241m0\u001b[39m:\n\u001b[1;32m      3\u001b[0m     \u001b[38;5;28;01mreturn\u001b[39;00m\n\u001b[0;32m----> 4\u001b[0m \u001b[38;5;28;01mreturn\u001b[39;00m \u001b[43ml\u001b[49m\u001b[43m[\u001b[49m\u001b[38;5;241;43m0\u001b[39;49m\u001b[43m]\u001b[49m\u001b[38;5;241;43m+\u001b[39;49m\u001b[43msumAll\u001b[49m\u001b[43m(\u001b[49m\u001b[43ml\u001b[49m\u001b[43m[\u001b[49m\u001b[38;5;241;43m1\u001b[39;49m\u001b[43m:\u001b[49m\u001b[43m]\u001b[49m\u001b[43m)\u001b[49m\n",
      "\u001b[0;31mTypeError\u001b[0m: unsupported operand type(s) for +: 'int' and 'NoneType'"
     ]
    }
   ],
   "source": [
    "L1=[1,2,3]\n",
    "print(sumAll(L1))\n",
    "\n",
    "#What is wrong?"
   ]
  },
  {
   "cell_type": "markdown",
   "id": "0dae118c",
   "metadata": {},
   "source": [
    "Let trace through the code. \n",
    "\n",
    "L1=[1,2,3]\n",
    "Inside the function sumAll, l=[1,2,3]\n",
    "We check if len(l) is zero, which it isn't. \n",
    "We return l[0]+sumAll(l[1:]).\n",
    "So sumAll([1,2,3])=1+sumAll([2,3]).\n",
    "sumAll([2,3])=2+sumAll([3]).\n",
    "sumAll([3])=3+sumAll([]). \n",
    "sumAll([]) returns None because our base case says if len(l)==0 we should return None. \n",
    "\n",
    "Now since sumAll([]) has returned None, \n",
    "sumAll([3])=3+sumAll([])=3+None, which gives an error because we're trying to add an intiger with None. \n",
    "\n",
    "If the input to sumAll is an empty list, we should return None because we shouldn't try to index into an empty list. But we shouldn't recurse until we get to an empty list. We should stop when we have a list with 1 element because we know that the sum of all values in a list with only 1 element is that one element. There is no other necessary operation to compute."
   ]
  },
  {
   "cell_type": "code",
   "execution_count": 60,
   "id": "849c2e78",
   "metadata": {},
   "outputs": [],
   "source": [
    "def sumAll(l):\n",
    "    if len(l)==0:\n",
    "        return\n",
    "    if len(l)==1:   #---->We need to add these lines. \n",
    "        return l[0] #----->\n",
    "    return l[0]+sumAll(l[1:])"
   ]
  },
  {
   "cell_type": "code",
   "execution_count": 61,
   "id": "133f7631",
   "metadata": {},
   "outputs": [
    {
     "name": "stdout",
     "output_type": "stream",
     "text": [
      "6\n"
     ]
    }
   ],
   "source": [
    "L1=[1,2,3]\n",
    "print(sumAll(L1))"
   ]
  },
  {
   "cell_type": "markdown",
   "id": "773a6f18",
   "metadata": {},
   "source": [
    "Remember the function we created to find the minimum value in a list? <br />How would you implement that using recursion?"
   ]
  },
  {
   "cell_type": "markdown",
   "id": "a985c7d3",
   "metadata": {},
   "source": [
    "<span style=\"color:blue\"> HINT: The minimum of a list L is also the minimum between its first value and the minimum of the rest of the elements of the list</span>"
   ]
  },
  {
   "cell_type": "markdown",
   "id": "81424e60",
   "metadata": {},
   "source": [
    "***Base Case:*** If the input to findMin is an empty list, we should return nothing because we shouldn't try to index into an empty list. But we shouldn't recurse until we get to an empty list. We should stop when we have a list with 1 element because we know that the minimum value of a list with one element is that one element. There is no other comparison necessary. <br />\n",
    "\n",
    "***Recursive Case:*** If the first element of the list is less than the minimum of the other elements in the list, then the first element is the minimum of the entire list so return the first element. Otherwise, the first element isn't the minimum of the entire list, so find the minimum of the rest of the list. "
   ]
  },
  {
   "cell_type": "code",
   "execution_count": 65,
   "id": "91edc55b",
   "metadata": {},
   "outputs": [
    {
     "name": "stdout",
     "output_type": "stream",
     "text": [
      "-100\n"
     ]
    }
   ],
   "source": [
    "def findMin(l):\n",
    "    if len(l)==0: \n",
    "        return \n",
    "    if len(l) == 1:\n",
    "        return l[0]\n",
    "    #If first element is less than the minimum of the rest of the elements, \n",
    "    #return first element\n",
    "    if l[0]<findMin(l[1:]):  \n",
    "        return l[0]\n",
    "    #Otherwise return the minimum value in the rest of the elements. \n",
    "    #We know that the first element isn't the minimum value in the list. \n",
    "    return findMin(l[1:])\n",
    "    \n",
    "L1=[1]\n",
    "L2=[1,0]\n",
    "L3=[0,-100,1]\n",
    "print(findMin(L3))"
   ]
  },
  {
   "cell_type": "markdown",
   "id": "0e2fbb4c",
   "metadata": {},
   "source": [
    "Create a function called double_letter(s,l) that takes in two arguments, a string s \n",
    "and a letter l. If the letter is in the string, double_letter(s,l) outputs a string with that letter repeated twice. Otherwise double_letter(s,l) outputs the input string.<br />\n",
    "\n",
    "E.g. double_letter('abcdecc, 'f') should return 'abcdecc'. <br />\n",
    "double_letter('abcdecc', 'a') should return 'aacdecc'. <br />\n",
    "double_letter('adac', 'a') should return 'aadaac'. <br />\n",
    "\n",
    "1. What is the base case?<br />\n",
    "2. What is the recursive case?<br />"
   ]
  },
  {
   "cell_type": "markdown",
   "id": "b1a3e48c",
   "metadata": {},
   "source": [
    "***Base Case:*** If the string is empty, then we should return an empty string. <br />\n",
    "***Recursive Case:*** If the first letter in the string is equal to the input letter l, then we should double the first letter and concatenate it with double_letter of the rest of the string with the same letter. <br />\n",
    "<br />\n",
    "If the first letter isn't the same as the input letter l, then we don't double the first letter and we just concatenate the first letter with double_letter of the rest of the string with the same letter. <br />\n",
    "<br />\n",
    "***Pseudo Code*** <br />\n",
    "if string is empty, <br />\n",
    "&ensp;&ensp;&ensp;&ensp;&ensp;&ensp;return empty string<br />\n",
    "Check if letter is equal to first element of string s<br />\n",
    "if yes, <br />\n",
    "&ensp;&ensp;&ensp;&ensp;&ensp;&ensp;double_letter(s,letter)=s[0]+2*letter+double_letter(s[1:],letter)<br />\n",
    "if no,<br />\n",
    "&ensp;&ensp;&ensp;&ensp;&ensp;&ensp;double_letter(s,letter)=s[0]+double_letter(s[1:],letter)<br />"
   ]
  },
  {
   "cell_type": "code",
   "execution_count": 66,
   "id": "98efdc66",
   "metadata": {},
   "outputs": [],
   "source": [
    "def double_letter(s, l):\n",
    "    if s=='':\n",
    "        return ''\n",
    "    if s[0]==l:\n",
    "        return s[0]*2+double_letter(s[1:],l)\n",
    "    return s[0]+double_letter(s[1:],l)"
   ]
  },
  {
   "cell_type": "code",
   "execution_count": 67,
   "id": "1d05ebda",
   "metadata": {},
   "outputs": [
    {
     "name": "stdout",
     "output_type": "stream",
     "text": [
      "abcdecc\n",
      "aabcdecc\n",
      "aabaac\n"
     ]
    }
   ],
   "source": [
    "print(double_letter('abcdecc','f'))\n",
    "print(double_letter('abcdecc','a'))\n",
    "print(double_letter('abac','a'))"
   ]
  },
  {
   "cell_type": "markdown",
   "id": "15fa6cad",
   "metadata": {},
   "source": [
    "Now create a function called repeat_letter(s,l,n) that takes in three arguments, a string s, a letter l and a number n. If the letter is in the string, repeat_letter outputs a string with that letter repeated n times. Otherwise repeat_letter outputs the input string. <br />\n",
    "\n",
    "E.g. repeat_letter('abcdecc, 'f',3) should return 'abcdecc'. <br />\n",
    "repeat_letter('abcdecc', 'a', 5) should return 'aaaaacdecc'. <br />\n",
    "repeat_letter('abad', 'a', 4) should return 'aaaabaaaad'.<br />\n",
    "\n",
    "1. What is the base case?<br />\n",
    "2. What is the recursive case?<br />\n",
    "\n",
    "<span style=\"color:blue\">HINT: There is a very minor difference between this function and the function double_letter we created above. What is the difference?</span>"
   ]
  },
  {
   "cell_type": "code",
   "execution_count": 49,
   "id": "78241e35",
   "metadata": {},
   "outputs": [
    {
     "name": "stdout",
     "output_type": "stream",
     "text": [
      "\n",
      "abcdecc\n",
      "aaaaabcdaaaaacc\n"
     ]
    }
   ],
   "source": [
    "#1) check if letter is equal to first element of string\n",
    "#2) if yes, \n",
    "#      add_letter_to_string(s)=s[0]+n_times*letter+add_letter_to_string(s[1:])\n",
    "#   if no,\n",
    "#      add_letter_to_string(s)=s[0]+add_letter_to_string(s[1:])\n",
    "#   if string is empty, \n",
    "#       return empty string\n",
    "\n",
    "def repeat_letter(s, l, n):\n",
    "    if s=='':\n",
    "        return ''\n",
    "    if s[0]==l:\n",
    "        return s[0]*n+repeat_letter(s[1:],l,n)\n",
    "    return s[0]+repeat_letter(s[1:],l,n)\n",
    "\n",
    "print(repeat_letter('','d',3))\n",
    "print(repeat_letter('abcdecc','f',3))\n",
    "print(repeat_letter('abcdacc','a',5))"
   ]
  }
 ],
 "metadata": {
  "kernelspec": {
   "display_name": "Python 3 (ipykernel)",
   "language": "python",
   "name": "python3"
  },
  "language_info": {
   "codemirror_mode": {
    "name": "ipython",
    "version": 3
   },
   "file_extension": ".py",
   "mimetype": "text/x-python",
   "name": "python",
   "nbconvert_exporter": "python",
   "pygments_lexer": "ipython3",
   "version": "3.11.0"
  }
 },
 "nbformat": 4,
 "nbformat_minor": 5
}
