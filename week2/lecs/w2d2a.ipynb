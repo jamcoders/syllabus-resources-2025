{
 "cells": [
  {
   "cell_type": "code",
   "execution_count": 166,
   "id": "88a07e75",
   "metadata": {},
   "outputs": [],
   "source": [
    "%config InteractiveShell.ast_node_interactivity=\"none\""
   ]
  },
  {
   "cell_type": "markdown",
   "id": "f9c6aa4d",
   "metadata": {},
   "source": [
    "### Review\n",
    "1. Review converting for loops to while loops <br />\n",
    "2. Debugging <br />\n",
    "3. Nested for loops <br />\n",
    "4. Nested lists <br />"
   ]
  },
  {
   "cell_type": "markdown",
   "id": "993e5f24",
   "metadata": {},
   "source": [
    "### Review: Can you create find_min using a while loop instead of a for loop? Remember the 4 steps\n",
    "## Step 1: Read the question: \n",
    "### This might sound obvious but you need to read and re-read the question a few times to make sure you understand what it is asking. \n",
    "## Step 2: Run a small example: \n",
    "### Have a few scenarios and write out what the question should answer in those scenarios. Think about how you would approach the problem for those few examples. \n",
    "## Step 3: Write pseudo code: \n",
    "### Once you've done step 2, for a small example, think about how you can generalize it for the problem you were given. After you have thought about your approach and potentially even said it out loud, write out your logic in pseudo code. Pseudo code is a combination of English and code but the important thing here is to write out how you would approach the problem. \n",
    "## Step 4: Translate pseudo code to python. \n",
    "### Translate your pseudo code from Step 3 to python code. "
   ]
  },
  {
   "cell_type": "markdown",
   "id": "6c5fca12",
   "metadata": {},
   "source": [
    "Just like before, we need a variable to keep track of the minimum element so far.\n",
    "Just like before, we need to iterate over the list and compare the current element of the list to the minimum variable thus far. \n",
    "But now, the only format we can have is<br />\n",
    "while SOMETHING IS TRUE:&ensp;&ensp;----->What would you be checking for here?<br />\n",
    "&ensp;&ensp;&ensp;&ensp;&ensp;&ensp;Do Something&ensp;&ensp;----->What do you do here?"
   ]
  },
  {
   "cell_type": "code",
   "execution_count": 208,
   "id": "c7d64e90",
   "metadata": {},
   "outputs": [],
   "source": [
    "def find_min(L):\n",
    "    if len(L)==0:   #---->Check if the list is empty, same as when we used the for loop.\n",
    "        return         \n",
    "    current_min=L[0]#---->same as when we used the for loop \n",
    "    i=0  #--->New to while loop because we need to initialize the index\n",
    "    while i<len(L):   \n",
    "        #We are iterating over the indices of the list, \n",
    "        #which go from 0 up to the length of the list-1  \n",
    "        #For example, if L is [5,3,1,200], we want i to be 0,1,2,3. \n",
    "        #We want to stop the loop when i is 4 \n",
    "        #because we don't want to attempt to get the 5th \n",
    "        #element of a list with only 4 elements. \n",
    "        if L[i]<current_min:\n",
    "            current_min=L[i]  \n",
    "            #This if statement is the same as when we used \n",
    "            #a for loop iterating over the list indices.\n",
    "        i+=1   \n",
    "        #This is new to the while loop. \n",
    "        #While the for loops we used were automatically incrementing, \n",
    "        #here, we need to manually increment the index to go to the next value. \n",
    "    return current_min  #--->This part is the same. \n",
    "L1=[3,1,-5,200,1,1]\n",
    "L2=[]   #\n",
    "L3=[1]\n",
    "L4=[5,3,1,200]\n",
    "L5=[2,2,4]\n",
    "print(find_min(L5))"
   ]
  },
  {
   "cell_type": "markdown",
   "id": "5dffc1b0",
   "metadata": {},
   "source": [
    "### What happens when we run the code below?\n",
    "Remeber to slowly trace through the code line by line."
   ]
  },
  {
   "cell_type": "code",
   "execution_count": 306,
   "id": "e606fef9",
   "metadata": {},
   "outputs": [
    {
     "name": "stdout",
     "output_type": "stream",
     "text": [
      "005637291done\n",
      "11637291done\n",
      "2237291done\n",
      "337291done\n",
      "44291done\n",
      "5591done\n",
      "661done\n",
      "77done\n",
      "88one\n",
      "99ne\n",
      "1010e\n",
      "Loop completed!\n"
     ]
    }
   ],
   "source": [
    "def loopInFunction2(x):\n",
    "    for i in range(len(x)):\n",
    "        print(str(i)*2+x[i:])\n",
    "    print('Loop completed!')\n",
    "\n",
    "loopInFunction2('5637291done')"
   ]
  },
  {
   "cell_type": "code",
   "execution_count": 307,
   "id": "1d4853c3",
   "metadata": {},
   "outputs": [
    {
     "name": "stdout",
     "output_type": "stream",
     "text": [
      "005637291done\n",
      "11637291done\n",
      "2237291done\n",
      "337291done\n",
      "44291done\n",
      "5591done\n",
      "661done\n",
      "77done\n",
      "88one\n",
      "99ne\n",
      "1010e\n",
      "Loop completed!\n"
     ]
    }
   ],
   "source": [
    "# Remember how loops over strings work\n",
    "def loopInFunction2(x):\n",
    "    for i in range(len(x)):\n",
    "        print(str(i)*2+x[i:])\n",
    "    print('Loop completed!')#--->what happens with different indentation?\n",
    "\n",
    "loopInFunction2('5637291done')"
   ]
  },
  {
   "cell_type": "code",
   "execution_count": 310,
   "id": "58505821",
   "metadata": {},
   "outputs": [
    {
     "name": "stdout",
     "output_type": "stream",
     "text": [
      "005637291done\n",
      "Loop completed!\n",
      "11637291done\n",
      "Loop completed!\n",
      "2237291done\n",
      "Loop completed!\n",
      "337291done\n",
      "Loop completed!\n",
      "44291done\n",
      "Loop completed!\n",
      "5591done\n",
      "Loop completed!\n",
      "661done\n",
      "Loop completed!\n",
      "77done\n",
      "Loop completed!\n",
      "88one\n",
      "Loop completed!\n",
      "99ne\n",
      "Loop completed!\n",
      "1010e\n",
      "Loop completed!\n"
     ]
    }
   ],
   "source": [
    "# Remember how loops over strings work\n",
    "# What happens here?\n",
    "def loopInFunction2(x):\n",
    "    for i in range(len(x)):\n",
    "        print(str(i)*2+x[i:])\n",
    "        print('Loop completed!') #--->what happens if I change this to return?\n",
    "\n",
    "loopInFunction2('5637291done')"
   ]
  },
  {
   "cell_type": "code",
   "execution_count": 313,
   "id": "6773775f",
   "metadata": {},
   "outputs": [
    {
     "name": "stdout",
     "output_type": "stream",
     "text": [
      "005637291done\n"
     ]
    }
   ],
   "source": [
    "# Remember how loops over strings work\n",
    "# What happens here?\n",
    "def loopInFunction2(x):\n",
    "    for i in range(len(x)):\n",
    "        print(str(i)*2+x[i:])\n",
    "        return('Loop completed!')#--->what happens if I change this to return?\n",
    "\n",
    "loopInFunction2('5637291done')"
   ]
  },
  {
   "cell_type": "code",
   "execution_count": 315,
   "id": "60bc8590",
   "metadata": {},
   "outputs": [
    {
     "ename": "SyntaxError",
     "evalue": "'return' outside function (3242816886.py, line 6)",
     "output_type": "error",
     "traceback": [
      "\u001b[0;36m  Cell \u001b[0;32mIn [315], line 6\u001b[0;36m\u001b[0m\n\u001b[0;31m    return('Loop completed!')#--->What is wrong with this line? How do I fix it?\u001b[0m\n\u001b[0m    ^\u001b[0m\n\u001b[0;31mSyntaxError\u001b[0m\u001b[0;31m:\u001b[0m 'return' outside function\n"
     ]
    }
   ],
   "source": [
    "# Remember how loops over strings work\n",
    "# What happens here?\n",
    "def loopInFunction2(x):\n",
    "    for i in range(len(x)):\n",
    "        print(str(i)*2+x[i:])\n",
    "return('Loop completed!')#--->What is wrong with this line? How do I fix it?\n",
    "\n",
    "loopInFunction2('5637291done')"
   ]
  },
  {
   "cell_type": "code",
   "execution_count": 316,
   "id": "bb07e1b6",
   "metadata": {},
   "outputs": [
    {
     "name": "stdout",
     "output_type": "stream",
     "text": [
      "005637291done\n",
      "11637291done\n",
      "2237291done\n",
      "337291done\n",
      "44291done\n",
      "5591done\n",
      "661done\n",
      "77done\n",
      "88one\n",
      "99ne\n",
      "1010e\n"
     ]
    }
   ],
   "source": [
    "# Remember how loops over strings work\n",
    "# What happens here?\n",
    "def loopInFunction2(x):\n",
    "    for i in range(len(x)):\n",
    "        print(str(i)*2+x[i:])\n",
    "    return('Loop completed!')#--->Return needs to be inside the function \n",
    "\n",
    "loopInFunction2('5637291done')"
   ]
  },
  {
   "cell_type": "markdown",
   "id": "da180f34",
   "metadata": {},
   "source": [
    "### What does this print?\n"
   ]
  },
  {
   "cell_type": "code",
   "execution_count": 317,
   "id": "e01f7238",
   "metadata": {},
   "outputs": [
    {
     "name": "stdout",
     "output_type": "stream",
     "text": [
      "1 1\n",
      "1 2\n",
      "1 3\n",
      "2 1\n",
      "2 2\n",
      "2 3\n",
      "3 1\n",
      "3 2\n",
      "3 3\n"
     ]
    }
   ],
   "source": [
    "for i in [1,2,3]:\n",
    "    for j in [1,2,3]:\n",
    "        print(i,j)"
   ]
  },
  {
   "cell_type": "markdown",
   "id": "0701ad7f",
   "metadata": {},
   "source": [
    "### What about this?\n"
   ]
  },
  {
   "cell_type": "code",
   "execution_count": 318,
   "id": "24ba5449",
   "metadata": {},
   "outputs": [
    {
     "name": "stdout",
     "output_type": "stream",
     "text": [
      "1\n",
      "1\n",
      "1\n",
      "2\n",
      "2\n",
      "2\n",
      "3\n",
      "3\n",
      "3\n"
     ]
    }
   ],
   "source": [
    "for i in [1,2,3]:\n",
    "    for j in [1,2,3]:\n",
    "        print(i)"
   ]
  },
  {
   "cell_type": "markdown",
   "id": "17f0b411",
   "metadata": {},
   "source": [
    "### What about this?"
   ]
  },
  {
   "cell_type": "code",
   "execution_count": 319,
   "id": "697f2714",
   "metadata": {},
   "outputs": [
    {
     "name": "stdout",
     "output_type": "stream",
     "text": [
      "1\n",
      "2\n",
      "3\n",
      "1\n",
      "2\n",
      "3\n",
      "1\n",
      "2\n",
      "3\n"
     ]
    }
   ],
   "source": [
    "for i in [1,2,3]:\n",
    "    for j in [1,2,3]:\n",
    "        print(j)"
   ]
  },
  {
   "cell_type": "markdown",
   "id": "db765084",
   "metadata": {},
   "source": [
    "### What about this?"
   ]
  },
  {
   "cell_type": "code",
   "execution_count": 320,
   "id": "35830242",
   "metadata": {},
   "outputs": [
    {
     "name": "stdout",
     "output_type": "stream",
     "text": [
      "1\n",
      "1\n",
      "2\n",
      "3\n",
      "2\n",
      "1\n",
      "2\n",
      "3\n",
      "3\n",
      "1\n",
      "2\n",
      "3\n"
     ]
    }
   ],
   "source": [
    "for i in [1,2,3]:\n",
    "    print(i)\n",
    "    for j in [1,2,3]:\n",
    "        print(j)"
   ]
  },
  {
   "cell_type": "markdown",
   "id": "3760b623",
   "metadata": {},
   "source": [
    "### How can I print all the numbers in my_list_of_lists one by one?\n"
   ]
  },
  {
   "cell_type": "code",
   "execution_count": null,
   "id": "ccb4d149",
   "metadata": {},
   "outputs": [],
   "source": [
    "my_list_of_lists = [[1 , 2,  3], \n",
    "                 [4, 5, 6], \n",
    "                 [7, 8, 9]]"
   ]
  },
  {
   "cell_type": "markdown",
   "id": "21fbdd26",
   "metadata": {},
   "source": [
    "Use a nested for loop where the outer for loop iterates over the lists and the inner for loop iterates over the elements in each list."
   ]
  },
  {
   "cell_type": "code",
   "execution_count": 321,
   "id": "7c2627c5",
   "metadata": {},
   "outputs": [
    {
     "name": "stdout",
     "output_type": "stream",
     "text": [
      "1\n",
      "2\n",
      "3\n",
      "4\n",
      "5\n",
      "6\n",
      "7\n",
      "8\n",
      "9\n"
     ]
    }
   ],
   "source": [
    "my_list_of_lists = [[1 , 2,  3], \n",
    "                 [4, 5, 6], \n",
    "                 [7, 8, 9]]\n",
    "\n",
    "for lst in my_list_of_lists:\n",
    "    for num in lst:\n",
    "        print(num)"
   ]
  },
  {
   "cell_type": "markdown",
   "id": "fe580968",
   "metadata": {},
   "source": [
    "### How can I print every letter, one letter at a time?\n"
   ]
  },
  {
   "cell_type": "code",
   "execution_count": 234,
   "id": "6f392d38",
   "metadata": {},
   "outputs": [],
   "source": [
    "list_of_strings = ['nested', 'loops', 'are', 'very', 'useful']\n"
   ]
  },
  {
   "cell_type": "markdown",
   "id": "d65d6b24",
   "metadata": {},
   "source": [
    "Use the same methodology as before, a nested for loop where the outer for loop iterates over the strings and the inner for loop iterates over the letters in each string."
   ]
  },
  {
   "cell_type": "code",
   "execution_count": 322,
   "id": "85d1a425",
   "metadata": {},
   "outputs": [
    {
     "name": "stdout",
     "output_type": "stream",
     "text": [
      "n\n",
      "e\n",
      "s\n",
      "t\n",
      "e\n",
      "d\n",
      "l\n",
      "o\n",
      "o\n",
      "p\n",
      "s\n",
      "a\n",
      "r\n",
      "e\n",
      "v\n",
      "e\n",
      "r\n",
      "y\n",
      "u\n",
      "s\n",
      "e\n",
      "f\n",
      "u\n",
      "l\n"
     ]
    }
   ],
   "source": [
    "list_of_strings = ['nested', 'loops', 'are', 'very', 'useful']\n",
    "\n",
    "for lst in list_of_strings:\n",
    "    for s in lst:\n",
    "        print(s) "
   ]
  }
 ],
 "metadata": {
  "colab": {
   "provenance": []
  },
  "kernelspec": {
   "display_name": "Python 3 (ipykernel)",
   "language": "python",
   "name": "python3"
  },
  "language_info": {
   "codemirror_mode": {
    "name": "ipython",
    "version": 3
   },
   "file_extension": ".py",
   "mimetype": "text/x-python",
   "name": "python",
   "nbconvert_exporter": "python",
   "pygments_lexer": "ipython3",
   "version": "3.11.0"
  }
 },
 "nbformat": 4,
 "nbformat_minor": 5
}
