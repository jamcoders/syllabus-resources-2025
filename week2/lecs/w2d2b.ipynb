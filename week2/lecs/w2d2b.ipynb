{
 "cells": [
  {
   "cell_type": "code",
   "execution_count": 9,
   "id": "4641d43a",
   "metadata": {},
   "outputs": [],
   "source": [
    "%config InteractiveShell.ast_node_interactivity=\"none\""
   ]
  },
  {
   "cell_type": "markdown",
   "id": "30506d23",
   "metadata": {},
   "source": [
    "### Functions"
   ]
  },
  {
   "cell_type": "code",
   "execution_count": 46,
   "id": "d4427fe4",
   "metadata": {},
   "outputs": [],
   "source": [
    "#Here, I'm defining the function, in order to use the function, I have to call it.\n",
    "def sumTwo(x, y):\n",
    "    return x + y"
   ]
  },
  {
   "cell_type": "code",
   "execution_count": 33,
   "id": "769a89fa",
   "metadata": {},
   "outputs": [
    {
     "name": "stdout",
     "output_type": "stream",
     "text": [
      "3\n"
     ]
    }
   ],
   "source": [
    "print(sumTwo(1, 2)) \n",
    "#I'm calling the function sumTwo with arguments 1 and 2, and then I print the value that sumTwo returns. \n",
    "#In this case, sumTwo returns 1+2 which is 3. "
   ]
  },
  {
   "cell_type": "code",
   "execution_count": 50,
   "id": "610febf0",
   "metadata": {},
   "outputs": [],
   "source": [
    "def sumTwo(x,y):\n",
    "    z=x+y  #--->I use the variable z to store the value of x+y, and I return that value which is stored in z\n",
    "    return z"
   ]
  },
  {
   "cell_type": "code",
   "execution_count": 51,
   "id": "e2298130",
   "metadata": {},
   "outputs": [
    {
     "name": "stdout",
     "output_type": "stream",
     "text": [
      "15\n"
     ]
    }
   ],
   "source": [
    "ans=sumTwo(5,10)  \n",
    "print(ans)"
   ]
  },
  {
   "cell_type": "markdown",
   "id": "26d0c6f9",
   "metadata": {},
   "source": [
    "### Functions can call other functions"
   ]
  },
  {
   "cell_type": "code",
   "execution_count": 52,
   "id": "96cf5367",
   "metadata": {},
   "outputs": [],
   "source": [
    "def sumTwo(x, y):\n",
    "    return(x + y) #--->What happens if I change this to print instead?\n",
    "\n",
    "def sumThree(x, y, z):\n",
    "    return x + sumTwo(y, z)"
   ]
  },
  {
   "cell_type": "code",
   "execution_count": 53,
   "id": "786dfa25",
   "metadata": {},
   "outputs": [],
   "source": [
    "def sumTwo(x, y):\n",
    "    print(x + y) \n",
    "\n",
    "def sumThree(x, y, z):\n",
    "    return x + sumTwo(y, z)"
   ]
  },
  {
   "cell_type": "code",
   "execution_count": 54,
   "id": "6facf7fe",
   "metadata": {},
   "outputs": [
    {
     "name": "stdout",
     "output_type": "stream",
     "text": [
      "5\n"
     ]
    },
    {
     "ename": "TypeError",
     "evalue": "unsupported operand type(s) for +: 'int' and 'NoneType'",
     "output_type": "error",
     "traceback": [
      "\u001b[0;31m---------------------------------------------------------------------------\u001b[0m",
      "\u001b[0;31mTypeError\u001b[0m                                 Traceback (most recent call last)",
      "Cell \u001b[0;32mIn [54], line 3\u001b[0m\n\u001b[1;32m      1\u001b[0m \u001b[38;5;66;03m#When I call sumThree, I get an error. I don't get an erorr when I define the function above. \u001b[39;00m\n\u001b[0;32m----> 3\u001b[0m x\u001b[38;5;241m=\u001b[39m\u001b[43msumThree\u001b[49m\u001b[43m(\u001b[49m\u001b[38;5;241;43m1\u001b[39;49m\u001b[43m,\u001b[49m\u001b[43m \u001b[49m\u001b[38;5;241;43m2\u001b[39;49m\u001b[43m,\u001b[49m\u001b[43m \u001b[49m\u001b[38;5;241;43m3\u001b[39;49m\u001b[43m)\u001b[49m\n\u001b[1;32m      4\u001b[0m \u001b[38;5;28mprint\u001b[39m(x)\n",
      "Cell \u001b[0;32mIn [53], line 5\u001b[0m, in \u001b[0;36msumThree\u001b[0;34m(x, y, z)\u001b[0m\n\u001b[1;32m      4\u001b[0m \u001b[38;5;28;01mdef\u001b[39;00m \u001b[38;5;21msumThree\u001b[39m(x, y, z):\n\u001b[0;32m----> 5\u001b[0m     \u001b[38;5;28;01mreturn\u001b[39;00m \u001b[43mx\u001b[49m\u001b[43m \u001b[49m\u001b[38;5;241;43m+\u001b[39;49m\u001b[43m \u001b[49m\u001b[43msumTwo\u001b[49m\u001b[43m(\u001b[49m\u001b[43my\u001b[49m\u001b[43m,\u001b[49m\u001b[43m \u001b[49m\u001b[43mz\u001b[49m\u001b[43m)\u001b[49m\n",
      "\u001b[0;31mTypeError\u001b[0m: unsupported operand type(s) for +: 'int' and 'NoneType'"
     ]
    }
   ],
   "source": [
    "#When I call sumThree, I get an error. I don't get an erorr when I define the function above. \n",
    "\n",
    "x=sumThree(1, 2, 3)\n",
    "print(x)"
   ]
  },
  {
   "cell_type": "markdown",
   "id": "750f3b0a",
   "metadata": {},
   "source": [
    "Reading the error above, we see that it happens inside of sumThree, in the line x+sumTwo(y,z). Because I changed the return statement into a print statement, the function sumTwo(x,y) now doesn't return anything, i.e., it returns None. The function sumThree tries to add 1 which is an int,  to None, which results in a type error."
   ]
  },
  {
   "cell_type": "markdown",
   "id": "1fc155d3",
   "metadata": {},
   "source": [
    "### You can have functions that call functions that call functions\n"
   ]
  },
  {
   "cell_type": "code",
   "execution_count": 56,
   "id": "173ada0d",
   "metadata": {},
   "outputs": [],
   "source": [
    "def sumTwo(x, y):\n",
    "    return x + y \n",
    "\n",
    "def sumThree(x, y, z):\n",
    "    return x + sumTwo(y, z)\n",
    "\n",
    "def sumFour(a, b, c, d):\n",
    "    return a + sumThree(b, c, d)"
   ]
  },
  {
   "cell_type": "code",
   "execution_count": 57,
   "id": "d7b5ef35",
   "metadata": {},
   "outputs": [
    {
     "name": "stdout",
     "output_type": "stream",
     "text": [
      "10\n"
     ]
    }
   ],
   "source": [
    "print(sumFour(1, 2, 3, 4))"
   ]
  },
  {
   "cell_type": "markdown",
   "id": "d45348b4",
   "metadata": {},
   "source": [
    "sumFour(1,2,3,4)=1+sumThree(2,3,4) <br />\n",
    "sumThree(2,3,4)=2+sumTwo(3,4) <br />\n",
    "sumTwo(3,4)=3+4 <br /> \n",
    "\n",
    "sumTwo(3,4)returns 3+4=7--->sumThree(2,3,4)returns 2+7=9--->sumFour(1,2,3,4)returns 1+9 which is 10.  <br /> \n",
    "print(sumFour(1,2,3,4) prints 10. \n"
   ]
  },
  {
   "cell_type": "markdown",
   "id": "79f0ca44",
   "metadata": {},
   "source": [
    "### Write function that takes in a list and returns the sum of all the elements in the list\n",
    "Step 1: Read the question <br />\n",
    "Step 2: Run a small example <br />\n",
    "Step 3: Write pseudo code <br /> \n",
    "Step 4: Translate pseudo code to python. <br />"
   ]
  },
  {
   "cell_type": "code",
   "execution_count": 44,
   "id": "8d899859",
   "metadata": {},
   "outputs": [
    {
     "name": "stdout",
     "output_type": "stream",
     "text": [
      "15\n"
     ]
    }
   ],
   "source": [
    "#We go through each element in the list, and add it to the sum of the prior elements in the list. \n",
    "#So if our list is [1,5,6,7], we first have 1, then we add 5 to 1, then we add 6 to 5+1 etc. \n",
    "#Just like we did for find min, we want a variable to keep track of things, \n",
    "#this time the variable doesn't track the minimum so far but it tracks the sum so far. \n",
    "#We use a for loop to iterate over the elements of the list. \n",
    "\n",
    "def sum_list_for(l):\n",
    "    sum_so_far = 0\n",
    "    for n in l:\n",
    "        sum_so_far += n\n",
    "    return sum_so_far\n",
    "\n",
    "print(sum_list_for([1,2,3,4,5]))"
   ]
  },
  {
   "cell_type": "markdown",
   "id": "18a35a08",
   "metadata": {},
   "source": [
    "### Write a function called sumAll that takes in an intiger and returns the sum of all the numbers less than or equal to that intiger. \n",
    "\n",
    "For example <br />\n",
    "sumAll(3) should return 0+1+2+3=6  <br />\n",
    "sumAll(4) should return 0+1+2+3+4=10"
   ]
  },
  {
   "cell_type": "code",
   "execution_count": 58,
   "id": "2eb94d2c",
   "metadata": {},
   "outputs": [],
   "source": [
    "#The only difference between this one and the prior function is that here, we don't want to iterate over the \n",
    "#elements of a list. We want to iterate over the intigers between 0 and the input intiger, \n",
    "#including the input intiger. The way to have numbers between 0 and a given intiger n, is range (n). \n",
    "#E.g., range(4) gives us [0,1,2,3]. However, I also want to add the number 4, so I want \n",
    "#range(4+1) instead of range(4). So in my forloop I iterate over range(n+1) for the given intiger n. \n",
    "#Other than that I do the same thing above. I initialive a variable that keeps track of the sum so far. \n",
    "#I add the sum thus far to that variable as I go through the for loop and I return that variable. \n",
    "\n",
    "def sumAll(n):\n",
    "    sum_so_far=0\n",
    "    for x in range(n+1):\n",
    "        sum_so_far+=x\n",
    "    return sum_so_far"
   ]
  },
  {
   "cell_type": "code",
   "execution_count": 59,
   "id": "de667481",
   "metadata": {},
   "outputs": [
    {
     "name": "stdout",
     "output_type": "stream",
     "text": [
      "10\n"
     ]
    }
   ],
   "source": [
    "print(sumAll(4))"
   ]
  },
  {
   "cell_type": "markdown",
   "id": "bf5dfc31",
   "metadata": {},
   "source": [
    "### Can you guess what this function is doing?\n",
    "Step 1: Read the question <br /> \n",
    "Step 2: Run a small example and trace through the code<br />"
   ]
  },
  {
   "cell_type": "markdown",
   "id": "f7f748ca",
   "metadata": {},
   "source": [
    "Lets print a to see what is going on in this function"
   ]
  },
  {
   "cell_type": "code",
   "execution_count": null,
   "id": "9ed4bd73",
   "metadata": {},
   "outputs": [],
   "source": [
    "def mystery(a):\n",
    "    if a == 0:\n",
    "        return 0\n",
    "    else:\n",
    "        return a + (mystery(a-1))"
   ]
  },
  {
   "cell_type": "code",
   "execution_count": null,
   "id": "5d13e1d3",
   "metadata": {},
   "outputs": [],
   "source": [
    "#Lets run a small example and call mystery(a) with the argument 4.\n",
    "print(mystery(4))"
   ]
  },
  {
   "cell_type": "markdown",
   "id": "6eb68563",
   "metadata": {},
   "source": [
    "Lets trace through the code. We call myster(a) with the argument 4, so a is 4. \n",
    "Since a is not zero we don't return anything. We go to the else statement and return <br />\n",
    "a+mystery(a-1), which is 4+mystery(4-1)--->4+mystery(3). <br />\n",
    "So, mystery(4)=4+mystery(3) <br />\n",
    "mystery(3)=3+mystery(2) <br />\n",
    "mystery(2)=2+mystery(1) <br />\n",
    "mystery(1)=1+mystery(0) <br />\n",
    "mystery(0)=0 --->Here a is 0, and we go inside the if statement and return 0. <br />\n",
    "\n",
    "Now that mystery(0) has returned a value 0, mystery(1) returns 1+0=1 <br />\n",
    "Mystery(2) then returns 2+mystery(1)=2+1=3 <br />\n",
    "Mystery(3) then returns 3+mystery(2)=3+3=6 <br />\n",
    "Mystery(4) then returns 4+mystery(3)=4+6=10<br />\n",
    "\n",
    "We print mystery(4) which is 10. "
   ]
  },
  {
   "cell_type": "code",
   "execution_count": 60,
   "id": "f0fb8668",
   "metadata": {},
   "outputs": [],
   "source": [
    "def mystery(a):\n",
    "    if a == 0:          #--->What happens if I remove the if statement?\n",
    "        return 0      \n",
    "    else:\n",
    "        return a + (mystery(a-1))"
   ]
  },
  {
   "cell_type": "code",
   "execution_count": 61,
   "id": "4b730d39",
   "metadata": {},
   "outputs": [],
   "source": [
    "def mystery(a):\n",
    "        return a + (mystery(a-1))"
   ]
  },
  {
   "cell_type": "markdown",
   "id": "8fda8963",
   "metadata": {},
   "source": [
    "mystery(4)=4+mystery(3) <br />\n",
    "mystery(3)=3+mystery(2) <br />\n",
    "mystery(2)=2+mystery(1) <br />\n",
    "mystery(1)=1+mystery(0) <br />\n",
    "mystery(0)=0+mystery(-1)<br />\n",
    "mystery(-1)=-1+mystery(-2)<br />\n",
    "\n",
    "\n",
    "It keeps on going like this and doesn't stop. "
   ]
  }
 ],
 "metadata": {
  "kernelspec": {
   "display_name": "Python 3 (ipykernel)",
   "language": "python",
   "name": "python3"
  },
  "language_info": {
   "codemirror_mode": {
    "name": "ipython",
    "version": 3
   },
   "file_extension": ".py",
   "mimetype": "text/x-python",
   "name": "python",
   "nbconvert_exporter": "python",
   "pygments_lexer": "ipython3",
   "version": "3.11.0"
  }
 },
 "nbformat": 4,
 "nbformat_minor": 5
}
