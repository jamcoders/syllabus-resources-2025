{
 "cells": [
  {
   "cell_type": "code",
   "execution_count": 3,
   "id": "c971803d",
   "metadata": {},
   "outputs": [],
   "source": [
    "%config InteractiveShell.ast_node_interactivity=\"none\""
   ]
  },
  {
   "cell_type": "code",
   "execution_count": 38,
   "id": "fc97d77c",
   "metadata": {},
   "outputs": [],
   "source": [
    "#Reverse a string\n",
    "\n",
    "#How do you reverse a string?\n",
    "\n",
    "#Hint: reverse of \"abc\" is \"cba\"= \"c\" + (\"ba\")\n",
    "\n",
    "#reverse of \"abc\" is also \"cba\" = (\"cb\") + a"
   ]
  },
  {
   "cell_type": "code",
   "execution_count": 39,
   "id": "24e313de",
   "metadata": {},
   "outputs": [
    {
     "name": "stdout",
     "output_type": "stream",
     "text": [
      "cba\n"
     ]
    }
   ],
   "source": [
    "def reverse(s):\n",
    "    if s == '':\n",
    "        return ''\n",
    "    return reverse(s[1:]) + s[0]    \n",
    "print(reverse(\"abc\"))"
   ]
  },
  {
   "cell_type": "markdown",
   "id": "7cda90e6",
   "metadata": {},
   "source": [
    "How did we get the code above? <br />\n",
    "What is the reverse of \"abc\"? It is 'cb' + 'a'.<br />\n",
    "'cb' is the reverse of the string 'bc'.<br />\n",
    "For any string s, the reverse of that string is the reverse of all the elements in the string except fo the first element, concatenated with the first element. That is, <br />\n",
    "<br />\n",
    "reverse(s)=reverse(s[1:])+s[0]"
   ]
  },
  {
   "cell_type": "markdown",
   "id": "a1d1eb6c",
   "metadata": {},
   "source": [
    "There is another way to do this. Reverse of a string is also the last element of the string concatenated with the reverse of the string except for the last element. That is, <br />\n",
    "<br />\n",
    "reverse(s)=s[-1]+reverse(s[:-1])"
   ]
  },
  {
   "cell_type": "code",
   "execution_count": 40,
   "id": "050c8093",
   "metadata": {},
   "outputs": [
    {
     "name": "stdout",
     "output_type": "stream",
     "text": [
      "hgfedcba\n"
     ]
    }
   ],
   "source": [
    "def reverse(s):\n",
    "    if s == '':\n",
    "        return ''\n",
    "    return s[-1]+reverse(s[:-1])\n",
    "print(reverse(\"abcdefgh\"))"
   ]
  },
  {
   "cell_type": "markdown",
   "id": "ee416553",
   "metadata": {},
   "source": [
    "Write a function that returns True if a string is a palindrome and False otherwise e.g. is_palindrome('abccba') returns True is_palindrome('apple') returns False. <br />\n",
    "\n",
    "<span style=\"color:blue\">Hint to check if a string is a palindrome, we can first check if the first and last element of the string are the same. If they are, then we check if the string in the middle is a palindrome. If not, then the string is not a palindrome.</span>\n",
    "<br />\n",
    "1.What is the base case?<br />\n",
    "2 What is the recursive case?<br />"
   ]
  },
  {
   "cell_type": "markdown",
   "id": "1686c914",
   "metadata": {},
   "source": [
    "Lets look at a few examples. \n",
    "'abcde' is not a palinddrom. We can tell by just looking at the first letter 'a', and the last letter 'e'. We can immediately say its not a palindrome because 'a' is not the same as 'e'.<br />\n",
    "'racecar' is a palindrome. We check the first and last letters of 'racecar'<br />\n",
    "'r' is the same as 'r'. Then we check the first and last letters of 'aceca'<br />\n",
    "'a' is the same as 'a'. Then we check the first and last letters of 'cec'<br />\n",
    "'c' is the same as 'c'. We are now only left with one letter, 'e', and we know a letter is a palindrome of itslef because there is only one letter. So we return True. That is our base case. <br />\n",
    "However, we can also have a word with an even number of letters. E.g. with the string 'raceecar,' we would be left with 'ee' rather than 'e' as before. In this case, we compare the first an last letters of 'ee', which are the same, and we now call the function on an empty string. If we recurse until we reach an empty string, then we should return True. "
   ]
  },
  {
   "cell_type": "code",
   "execution_count": 13,
   "id": "4b50687f",
   "metadata": {},
   "outputs": [
    {
     "name": "stdout",
     "output_type": "stream",
     "text": [
      "True\n"
     ]
    }
   ],
   "source": [
    "def is_palindrome(s):\n",
    "    if len(s)<=1:\n",
    "        return True\n",
    "    if s[0]==s[-1]:\n",
    "        return is_palindrome(s[1:-1])\n",
    "    return False\n",
    "\n",
    "s1='abcde'\n",
    "s2='apple'\n",
    "s3='abcb'\n",
    "s4='racecar'\n",
    "s5='abccba'\n",
    "print(is_palindrome(s5))"
   ]
  },
  {
   "cell_type": "markdown",
   "id": "7bd64050",
   "metadata": {},
   "source": [
    "Can you write is_palindrome using the reverse function you created earlier?<br />\n",
    "<span style=\"color:blue\">Hint: it is a one line solution</span>"
   ]
  },
  {
   "cell_type": "code",
   "execution_count": 16,
   "id": "b49f67cd",
   "metadata": {},
   "outputs": [
    {
     "name": "stdout",
     "output_type": "stream",
     "text": [
      "True\n"
     ]
    }
   ],
   "source": [
    "def is_palindrome(s):\n",
    "    return s==reverse(s)\n",
    "\n",
    "s1='abcde'\n",
    "s2='apple'\n",
    "s3='abcb'\n",
    "s4='racecar'\n",
    "s5='abccba'\n",
    "print(is_palindrome(s4))"
   ]
  },
  {
   "cell_type": "markdown",
   "id": "e0ed4b75",
   "metadata": {},
   "source": [
    "# The Fibonacci sequence\n"
   ]
  },
  {
   "cell_type": "markdown",
   "id": "1463ccca",
   "metadata": {},
   "source": [
    "Lets see another example. consider the Fibonacci sequence: <br /><br />\n",
    "1, 1, 2, 3, 5, 8, 13, . . ..<br /> <br />\n",
    "This sequence is defined by the 0th and 1st Fibonacci numbers both being 1, and subsequent Fibonacci numbers being the sum of the previous two.\n",
    "\n",
    "The Fibonacci sequence is very well known in math and appears frequently in nature. It also has applications in various computer science algorithms.<br />\n",
    "\n",
    "We will not discuss the Fibonacci sequence in detail in this class but if you are interested in learning more,  you can read the Wikipedia page at https://en.wikipedia.org/wiki/Fibonacci_number"
   ]
  },
  {
   "cell_type": "markdown",
   "id": "52b38834",
   "metadata": {},
   "source": [
    "Lets watch a short video about the Fibonacci sequence\n",
    "https://www.youtube.com/watch?v=2tv6Ej6JVho"
   ]
  },
  {
   "cell_type": "markdown",
   "id": "195e2769",
   "metadata": {},
   "source": [
    "The Fibonacci sequence is defined by the 0th and 1st Fibonacci numbers both being 1, and subsequent Fibonacci numbers being the sum of the previous two Fibonacci numbers.<br /><br /> \n",
    "F(i) is 1 if i=0 or i=1 <br />  \n",
    "F(i) is F(i−1) + F(i−2) otherwise. <br /><br />\n",
    "What is F(0)?<br />\n",
    "1 because i is 0<br /><br />\n",
    "What is F(1)?<br />\n",
    "1 because i is 1<br /><br />\n",
    "What is F(2)?<br />\n",
    "i=2, and F(i)= F(i-1) + F(i-2)=F(1)+F(0), which is 1+1=2<br /><br />\n",
    "F(3) is F(i-1)+F(i-2)=F(3-1)+F(3-2), which is F(2)+F(1)=2+1=3<br /><br />\n",
    "F(4) is F(4-1)+F(4-2)=F(3)+F(2)=3+2=5<br /><br />\n",
    "....And it continues this way"
   ]
  },
  {
   "cell_type": "markdown",
   "id": "6fce061c",
   "metadata": {},
   "source": [
    "Now let us make a function that takes i and returns the ith Fibonacci number. Use a for loop to create that function. <span style=\"color:blue\">HINT: you need a for loop and three variables to keep track of fibonacci(i), fibonaccci(i-1), and fibonacci(i-2). \n"
   ]
  },
  {
   "cell_type": "code",
   "execution_count": 14,
   "id": "17a11391",
   "metadata": {},
   "outputs": [
    {
     "name": "stdout",
     "output_type": "stream",
     "text": [
      "8\n"
     ]
    }
   ],
   "source": [
    "def fibonacci(i):\n",
    "    fib_i=1           #----->Keeping track of fibonacci(i)\n",
    "    fib_i_prev=1      #----->Keeping track of fibonacci(i-1)\n",
    "    fib_i_prev_prev=1 #----->Keeping track of fibonacci(i-2)\n",
    "    \n",
    "    if i==0 or i==1:\n",
    "        return 1\n",
    "    for x in range(2,i+1): #[2,3,4....i]\n",
    "        fib_i = fib_i_prev + fib_i_prev_prev #--->fibonacci(i)=fibonacci(i-1)+fibonacci(i-2)\n",
    "        #These next two lines update the variables for the next \n",
    "        #iteration of the for loop, the next fibonacci(i-2) is the current fibonacci(i-1)\n",
    "        #because i will be incremented by 1. \n",
    "        #The next fibonacci(i-1) is the current fibonacci(i) \n",
    "        #because i will be incremented by 1. \n",
    "        fib_i_prev_prev=fib_i_prev           \n",
    "        fib_i_prev=fib_i                     \n",
    "    return fib_i\n",
    "print(fibonacci(5))"
   ]
  },
  {
   "cell_type": "markdown",
   "id": "c274182c",
   "metadata": {},
   "source": [
    "Let's look at the recursive way to get the ith fibonacci number. <br />\n",
    "Remember the formula. <br /><br />\n",
    "if i=0, or i=1, fibonacci(i)=1. <br />\n",
    "Ohterwise, fibonacci(i)=fibonacci(i-1)+fibonacci(i-2)<br /><br />\n",
    "fibonacci(0)=1 <br />\n",
    "fibonacci(1)=1 <br />\n",
    "fibonacci(2)=fibonacci(1)+fibonacci(0)<br />\n",
    "fibonacci(3)=fibonacci(2)+fibonacci(1)<br /><br />\n",
    "and it continues..."
   ]
  },
  {
   "cell_type": "code",
   "execution_count": 25,
   "id": "aceffe25",
   "metadata": {},
   "outputs": [
    {
     "name": "stdout",
     "output_type": "stream",
     "text": [
      "8\n"
     ]
    }
   ],
   "source": [
    "def fibonacci(i): \n",
    "    if i==0 or i==1:\n",
    "        return 1\n",
    "    return fibonacci(i-1)+fibonacci(i-2)  \n",
    "print(fibonacci(5))\n",
    "#fibonacci(5)=fibonacci(4)+fibonacci(3) #8\n",
    "#fibonacci(4)=fibonacci(3)+fibonacci(2) #5\n",
    "#fibonacci(3)=fibonacci(2)+fibonacci(1) #3\n",
    "#fibonacci(2)=fibonacci(1)+fibonacci(0) #2\n",
    "#fibonacci(1)=1"
   ]
  },
  {
   "cell_type": "code",
   "execution_count": 27,
   "id": "d883b935",
   "metadata": {},
   "outputs": [
    {
     "name": "stdout",
     "output_type": "stream",
     "text": [
      "8\n"
     ]
    }
   ],
   "source": [
    "def fibonacci(i):\n",
    "    if i<2:\n",
    "        return 1\n",
    "    return fibonacci(i-1) + fibonacci(i-2)\n",
    "print(fibonacci(5))"
   ]
  },
  {
   "cell_type": "markdown",
   "id": "27c6912a",
   "metadata": {},
   "source": [
    "Compare the recursive function to the function we wrote using a for loop. <br />\n",
    "\n",
    "Although we could implement the Fibonacci sequence in a more complicated way without using recursion, the function using recursion is very simple and easier to understand."
   ]
  },
  {
   "cell_type": "markdown",
   "id": "bc02170f",
   "metadata": {},
   "source": [
    "# Sudoku solver with recursion (\"brute force search\")\n",
    "\n",
    "*Stolen from Jelani's 2024 JamCoders lecture."
   ]
  },
  {
   "cell_type": "code",
   "execution_count": 10,
   "id": "84caec77",
   "metadata": {},
   "outputs": [],
   "source": [
    "# is it valid to set table[a][b] to v?\n",
    "#a is row, b is column, v is number. Table is a list of lists. \n",
    "def valid(a, b, v, table):\n",
    "    \n",
    "    # clash in the same row?\n",
    "    for i in range(9):\n",
    "        if table[a][i] == v:\n",
    "            return False\n",
    "    \n",
    "    # clash in the same column?\n",
    "    for i in range(9):\n",
    "        if table[i][b] == v:\n",
    "            return False\n",
    "    \n",
    "    # clash in the same 3 x 3 square?\n",
    "    s = a//3\n",
    "    t = b//3\n",
    "    for i in range(3):\n",
    "        for j in range(3):\n",
    "            if table[3*s+i][3*t+j] == v:\n",
    "                return False\n",
    "    \n",
    "    return True"
   ]
  },
  {
   "cell_type": "code",
   "execution_count": 16,
   "id": "30bfa0cf",
   "metadata": {},
   "outputs": [],
   "source": [
    "def sudoku_solve(table):\n",
    "    # find an empty cell to try to fill\n",
    "    for i in range(9): #iterate over every row and every column \n",
    "        for j in range(9):\n",
    "            if table[i][j] == 0: #if cell is empty \n",
    "                for v in range(1, 10): #try out all numbers from 1-9\n",
    "                    if valid(i, j, v, table): #if there's no clash for a specific number\n",
    "                        table[i][j] = v #put that number in the cell\n",
    "                        if sudoku_solve(table): #solve the new table with that new number\n",
    "                            return True #-->if its solved with that number return true\n",
    "                        table[i][j] = 0 #-->if we its not solved \n",
    "                        #remove that number from the cell\n",
    "                return False #if we're tried every number from 1-9 \n",
    "                #without returning true then the possle isn't solved\n",
    "    return True"
   ]
  },
  {
   "cell_type": "markdown",
   "id": "f0e2b1c9",
   "metadata": {},
   "source": [
    "This code is implementing the backtracking algorithm discussed here: https://en.wikipedia.org/wiki/Sudoku_solving_algorithms. You can see the animation that shows you how it works:https://en.wikipedia.org/wiki/Sudoku_solving_algorithms#/media/File:Sudoku_solved_by_bactracking.gif"
   ]
  },
  {
   "cell_type": "code",
   "execution_count": 20,
   "id": "fb9bffa5",
   "metadata": {},
   "outputs": [],
   "source": [
    "table = [\n",
    "    [0,0,0,0,0,0,0,2,8],\n",
    "    [0,6,0,0,0,0,0,0,7],\n",
    "    [0,0,0,4,0,1,0,0,0],\n",
    "    [5,0,0,9,7,0,3,0,0],\n",
    "    [2,0,4,0,0,8,0,0,0],\n",
    "    [3,0,0,0,0,4,5,0,0],\n",
    "    [1,3,0,0,9,0,0,0,0],\n",
    "    [0,5,7,0,0,0,0,9,0],\n",
    "    [0,0,8,3,1,7,0,0,0]\n",
    "]"
   ]
  },
  {
   "cell_type": "code",
   "execution_count": 19,
   "id": "ec5d5702",
   "metadata": {},
   "outputs": [],
   "source": [
    "def list_to_str(L):\n",
    "    ans = ''\n",
    "    for x in L:\n",
    "        ans += str(x)\n",
    "    return ans\n",
    "\n",
    "def pretty_print(table):\n",
    "    for i in range(3):\n",
    "        for r in range(3):\n",
    "            s = list_to_str(table[i*3+r][:3]) + ' ' + list_to_str(table[i*3+r][3:6]) + ' ' + list_to_str(table[i*3+r][6:])\n",
    "            print(s)\n",
    "        print('')"
   ]
  },
  {
   "cell_type": "code",
   "execution_count": 6,
   "id": "ddff526d",
   "metadata": {},
   "outputs": [
    {
     "name": "stdout",
     "output_type": "stream",
     "text": [
      "000 000 028\n",
      "060 000 007\n",
      "000 401 000\n",
      "\n",
      "500 970 300\n",
      "204 008 000\n",
      "300 004 500\n",
      "\n",
      "130 090 000\n",
      "057 000 090\n",
      "008 317 000\n",
      "\n"
     ]
    }
   ],
   "source": [
    "pretty_print(table) #Input Table"
   ]
  },
  {
   "cell_type": "code",
   "execution_count": 22,
   "id": "5952c11e",
   "metadata": {},
   "outputs": [
    {
     "name": "stdout",
     "output_type": "stream",
     "text": [
      "415 763 928\n",
      "863 259 417\n",
      "729 481 635\n",
      "\n",
      "581 976 342\n",
      "294 538 761\n",
      "376 124 589\n",
      "\n",
      "132 695 874\n",
      "657 842 193\n",
      "948 317 256\n",
      "\n"
     ]
    }
   ],
   "source": [
    "sudoku_solve(table) \n",
    "pretty_print(table) #Solved table"
   ]
  }
 ],
 "metadata": {
  "kernelspec": {
   "display_name": "Python 3 (ipykernel)",
   "language": "python",
   "name": "python3"
  },
  "language_info": {
   "codemirror_mode": {
    "name": "ipython",
    "version": 3
   },
   "file_extension": ".py",
   "mimetype": "text/x-python",
   "name": "python",
   "nbconvert_exporter": "python",
   "pygments_lexer": "ipython3",
   "version": "3.11.0"
  }
 },
 "nbformat": 4,
 "nbformat_minor": 5
}
