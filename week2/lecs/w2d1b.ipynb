{
 "cells": [
  {
   "cell_type": "code",
   "execution_count": 3,
   "id": "1272e39c",
   "metadata": {},
   "outputs": [],
   "source": [
    "%config InteractiveShell.ast_node_interactivity=\"none\""
   ]
  },
  {
   "cell_type": "markdown",
   "id": "b6088252",
   "metadata": {},
   "source": [
    "### You have all the tools to do some pretty cool things, e.g. draw the Jamaican flag. We will go through the components to do this if we have time and if not I'll give you the notebook so that you can go over it on your own."
   ]
  },
  {
   "cell_type": "code",
   "execution_count": 2,
   "id": "a3b045e6",
   "metadata": {},
   "outputs": [
    {
     "name": "stdout",
     "output_type": "stream",
     "text": [
      "\u001b[33m█\u001b[0m\u001b[32m█\u001b[0m\u001b[32m█\u001b[0m\u001b[32m█\u001b[0m\u001b[32m█\u001b[0m\u001b[32m█\u001b[0m\u001b[32m█\u001b[0m\u001b[32m█\u001b[0m\u001b[32m█\u001b[0m\u001b[32m█\u001b[0m\u001b[32m█\u001b[0m\u001b[32m█\u001b[0m\u001b[32m█\u001b[0m\u001b[32m█\u001b[0m\u001b[32m█\u001b[0m\u001b[32m█\u001b[0m\u001b[32m█\u001b[0m\u001b[32m█\u001b[0m\u001b[32m█\u001b[0m\u001b[32m█\u001b[0m\u001b[32m█\u001b[0m\u001b[32m█\u001b[0m\u001b[32m█\u001b[0m\u001b[32m█\u001b[0m\u001b[32m█\u001b[0m\u001b[32m█\u001b[0m\u001b[32m█\u001b[0m\u001b[32m█\u001b[0m\u001b[32m█\u001b[0m\u001b[32m█\u001b[0m\u001b[32m█\u001b[0m\u001b[32m█\u001b[0m\u001b[32m█\u001b[0m\u001b[32m█\u001b[0m\u001b[32m█\u001b[0m\u001b[32m█\u001b[0m\u001b[32m█\u001b[0m\u001b[32m█\u001b[0m\u001b[32m█\u001b[0m\u001b[32m█\u001b[0m\u001b[32m█\u001b[0m\u001b[32m█\u001b[0m\u001b[32m█\u001b[0m\u001b[32m█\u001b[0m\u001b[32m█\u001b[0m\u001b[32m█\u001b[0m\u001b[32m█\u001b[0m\u001b[32m█\u001b[0m\u001b[32m█\u001b[0m\u001b[32m█\u001b[0m\u001b[32m█\u001b[0m\u001b[32m█\u001b[0m\u001b[32m█\u001b[0m\u001b[32m█\u001b[0m\u001b[32m█\u001b[0m\u001b[32m█\u001b[0m\u001b[32m█\u001b[0m\u001b[32m█\u001b[0m\u001b[32m█\u001b[0m\u001b[32m█\u001b[0m\u001b[33m█\u001b[0m█\u001b[0m█\u001b[0m\n",
      "█\u001b[0m█\u001b[0m█\u001b[0m\u001b[33m█\u001b[0m\u001b[32m█\u001b[0m\u001b[32m█\u001b[0m\u001b[32m█\u001b[0m\u001b[32m█\u001b[0m\u001b[32m█\u001b[0m\u001b[32m█\u001b[0m\u001b[32m█\u001b[0m\u001b[32m█\u001b[0m\u001b[32m█\u001b[0m\u001b[32m█\u001b[0m\u001b[32m█\u001b[0m\u001b[32m█\u001b[0m\u001b[32m█\u001b[0m\u001b[32m█\u001b[0m\u001b[32m█\u001b[0m\u001b[32m█\u001b[0m\u001b[32m█\u001b[0m\u001b[32m█\u001b[0m\u001b[32m█\u001b[0m\u001b[32m█\u001b[0m\u001b[32m█\u001b[0m\u001b[32m█\u001b[0m\u001b[32m█\u001b[0m\u001b[32m█\u001b[0m\u001b[32m█\u001b[0m\u001b[32m█\u001b[0m\u001b[32m█\u001b[0m\u001b[32m█\u001b[0m\u001b[32m█\u001b[0m\u001b[32m█\u001b[0m\u001b[32m█\u001b[0m\u001b[32m█\u001b[0m\u001b[32m█\u001b[0m\u001b[32m█\u001b[0m\u001b[32m█\u001b[0m\u001b[32m█\u001b[0m\u001b[32m█\u001b[0m\u001b[32m█\u001b[0m\u001b[32m█\u001b[0m\u001b[32m█\u001b[0m\u001b[32m█\u001b[0m\u001b[32m█\u001b[0m\u001b[32m█\u001b[0m\u001b[32m█\u001b[0m\u001b[32m█\u001b[0m\u001b[32m█\u001b[0m\u001b[32m█\u001b[0m\u001b[32m█\u001b[0m\u001b[32m█\u001b[0m\u001b[32m█\u001b[0m\u001b[32m█\u001b[0m\u001b[32m█\u001b[0m\u001b[32m█\u001b[0m\u001b[33m█\u001b[0m█\u001b[0m█\u001b[0m█\u001b[0m█\u001b[0m█\u001b[0m\n",
      "█\u001b[0m█\u001b[0m█\u001b[0m█\u001b[0m█\u001b[0m█\u001b[0m\u001b[33m█\u001b[0m\u001b[32m█\u001b[0m\u001b[32m█\u001b[0m\u001b[32m█\u001b[0m\u001b[32m█\u001b[0m\u001b[32m█\u001b[0m\u001b[32m█\u001b[0m\u001b[32m█\u001b[0m\u001b[32m█\u001b[0m\u001b[32m█\u001b[0m\u001b[32m█\u001b[0m\u001b[32m█\u001b[0m\u001b[32m█\u001b[0m\u001b[32m█\u001b[0m\u001b[32m█\u001b[0m\u001b[32m█\u001b[0m\u001b[32m█\u001b[0m\u001b[32m█\u001b[0m\u001b[32m█\u001b[0m\u001b[32m█\u001b[0m\u001b[32m█\u001b[0m\u001b[32m█\u001b[0m\u001b[32m█\u001b[0m\u001b[32m█\u001b[0m\u001b[32m█\u001b[0m\u001b[32m█\u001b[0m\u001b[32m█\u001b[0m\u001b[32m█\u001b[0m\u001b[32m█\u001b[0m\u001b[32m█\u001b[0m\u001b[32m█\u001b[0m\u001b[32m█\u001b[0m\u001b[32m█\u001b[0m\u001b[32m█\u001b[0m\u001b[32m█\u001b[0m\u001b[32m█\u001b[0m\u001b[32m█\u001b[0m\u001b[32m█\u001b[0m\u001b[32m█\u001b[0m\u001b[32m█\u001b[0m\u001b[32m█\u001b[0m\u001b[32m█\u001b[0m\u001b[32m█\u001b[0m\u001b[32m█\u001b[0m\u001b[32m█\u001b[0m\u001b[32m█\u001b[0m\u001b[32m█\u001b[0m\u001b[32m█\u001b[0m\u001b[33m█\u001b[0m█\u001b[0m█\u001b[0m█\u001b[0m█\u001b[0m█\u001b[0m█\u001b[0m█\u001b[0m█\u001b[0m\n",
      "█\u001b[0m█\u001b[0m█\u001b[0m█\u001b[0m█\u001b[0m█\u001b[0m█\u001b[0m█\u001b[0m█\u001b[0m\u001b[33m█\u001b[0m\u001b[32m█\u001b[0m\u001b[32m█\u001b[0m\u001b[32m█\u001b[0m\u001b[32m█\u001b[0m\u001b[32m█\u001b[0m\u001b[32m█\u001b[0m\u001b[32m█\u001b[0m\u001b[32m█\u001b[0m\u001b[32m█\u001b[0m\u001b[32m█\u001b[0m\u001b[32m█\u001b[0m\u001b[32m█\u001b[0m\u001b[32m█\u001b[0m\u001b[32m█\u001b[0m\u001b[32m█\u001b[0m\u001b[32m█\u001b[0m\u001b[32m█\u001b[0m\u001b[32m█\u001b[0m\u001b[32m█\u001b[0m\u001b[32m█\u001b[0m\u001b[32m█\u001b[0m\u001b[32m█\u001b[0m\u001b[32m█\u001b[0m\u001b[32m█\u001b[0m\u001b[32m█\u001b[0m\u001b[32m█\u001b[0m\u001b[32m█\u001b[0m\u001b[32m█\u001b[0m\u001b[32m█\u001b[0m\u001b[32m█\u001b[0m\u001b[32m█\u001b[0m\u001b[32m█\u001b[0m\u001b[32m█\u001b[0m\u001b[32m█\u001b[0m\u001b[32m█\u001b[0m\u001b[32m█\u001b[0m\u001b[32m█\u001b[0m\u001b[32m█\u001b[0m\u001b[32m█\u001b[0m\u001b[32m█\u001b[0m\u001b[32m█\u001b[0m\u001b[33m█\u001b[0m█\u001b[0m█\u001b[0m█\u001b[0m█\u001b[0m█\u001b[0m█\u001b[0m█\u001b[0m█\u001b[0m█\u001b[0m█\u001b[0m█\u001b[0m\n",
      "█\u001b[0m█\u001b[0m█\u001b[0m█\u001b[0m█\u001b[0m█\u001b[0m█\u001b[0m█\u001b[0m█\u001b[0m█\u001b[0m█\u001b[0m█\u001b[0m\u001b[33m█\u001b[0m\u001b[32m█\u001b[0m\u001b[32m█\u001b[0m\u001b[32m█\u001b[0m\u001b[32m█\u001b[0m\u001b[32m█\u001b[0m\u001b[32m█\u001b[0m\u001b[32m█\u001b[0m\u001b[32m█\u001b[0m\u001b[32m█\u001b[0m\u001b[32m█\u001b[0m\u001b[32m█\u001b[0m\u001b[32m█\u001b[0m\u001b[32m█\u001b[0m\u001b[32m█\u001b[0m\u001b[32m█\u001b[0m\u001b[32m█\u001b[0m\u001b[32m█\u001b[0m\u001b[32m█\u001b[0m\u001b[32m█\u001b[0m\u001b[32m█\u001b[0m\u001b[32m█\u001b[0m\u001b[32m█\u001b[0m\u001b[32m█\u001b[0m\u001b[32m█\u001b[0m\u001b[32m█\u001b[0m\u001b[32m█\u001b[0m\u001b[32m█\u001b[0m\u001b[32m█\u001b[0m\u001b[32m█\u001b[0m\u001b[32m█\u001b[0m\u001b[32m█\u001b[0m\u001b[32m█\u001b[0m\u001b[32m█\u001b[0m\u001b[32m█\u001b[0m\u001b[32m█\u001b[0m\u001b[33m█\u001b[0m█\u001b[0m█\u001b[0m█\u001b[0m█\u001b[0m█\u001b[0m█\u001b[0m█\u001b[0m█\u001b[0m█\u001b[0m█\u001b[0m█\u001b[0m█\u001b[0m█\u001b[0m█\u001b[0m\n",
      "█\u001b[0m█\u001b[0m█\u001b[0m█\u001b[0m█\u001b[0m█\u001b[0m█\u001b[0m█\u001b[0m█\u001b[0m█\u001b[0m█\u001b[0m█\u001b[0m█\u001b[0m█\u001b[0m█\u001b[0m\u001b[33m█\u001b[0m\u001b[32m█\u001b[0m\u001b[32m█\u001b[0m\u001b[32m█\u001b[0m\u001b[32m█\u001b[0m\u001b[32m█\u001b[0m\u001b[32m█\u001b[0m\u001b[32m█\u001b[0m\u001b[32m█\u001b[0m\u001b[32m█\u001b[0m\u001b[32m█\u001b[0m\u001b[32m█\u001b[0m\u001b[32m█\u001b[0m\u001b[32m█\u001b[0m\u001b[32m█\u001b[0m\u001b[32m█\u001b[0m\u001b[32m█\u001b[0m\u001b[32m█\u001b[0m\u001b[32m█\u001b[0m\u001b[32m█\u001b[0m\u001b[32m█\u001b[0m\u001b[32m█\u001b[0m\u001b[32m█\u001b[0m\u001b[32m█\u001b[0m\u001b[32m█\u001b[0m\u001b[32m█\u001b[0m\u001b[32m█\u001b[0m\u001b[32m█\u001b[0m\u001b[32m█\u001b[0m\u001b[32m█\u001b[0m\u001b[33m█\u001b[0m█\u001b[0m█\u001b[0m█\u001b[0m█\u001b[0m█\u001b[0m█\u001b[0m█\u001b[0m█\u001b[0m█\u001b[0m█\u001b[0m█\u001b[0m█\u001b[0m█\u001b[0m█\u001b[0m█\u001b[0m█\u001b[0m█\u001b[0m\n",
      "█\u001b[0m█\u001b[0m█\u001b[0m█\u001b[0m█\u001b[0m█\u001b[0m█\u001b[0m█\u001b[0m█\u001b[0m█\u001b[0m█\u001b[0m█\u001b[0m█\u001b[0m█\u001b[0m█\u001b[0m█\u001b[0m█\u001b[0m█\u001b[0m\u001b[33m█\u001b[0m\u001b[32m█\u001b[0m\u001b[32m█\u001b[0m\u001b[32m█\u001b[0m\u001b[32m█\u001b[0m\u001b[32m█\u001b[0m\u001b[32m█\u001b[0m\u001b[32m█\u001b[0m\u001b[32m█\u001b[0m\u001b[32m█\u001b[0m\u001b[32m█\u001b[0m\u001b[32m█\u001b[0m\u001b[32m█\u001b[0m\u001b[32m█\u001b[0m\u001b[32m█\u001b[0m\u001b[32m█\u001b[0m\u001b[32m█\u001b[0m\u001b[32m█\u001b[0m\u001b[32m█\u001b[0m\u001b[32m█\u001b[0m\u001b[32m█\u001b[0m\u001b[32m█\u001b[0m\u001b[32m█\u001b[0m\u001b[32m█\u001b[0m\u001b[33m█\u001b[0m█\u001b[0m█\u001b[0m█\u001b[0m█\u001b[0m█\u001b[0m█\u001b[0m█\u001b[0m█\u001b[0m█\u001b[0m█\u001b[0m█\u001b[0m█\u001b[0m█\u001b[0m█\u001b[0m█\u001b[0m█\u001b[0m█\u001b[0m█\u001b[0m█\u001b[0m█\u001b[0m\n",
      "█\u001b[0m█\u001b[0m█\u001b[0m█\u001b[0m█\u001b[0m█\u001b[0m█\u001b[0m█\u001b[0m█\u001b[0m█\u001b[0m█\u001b[0m█\u001b[0m█\u001b[0m█\u001b[0m█\u001b[0m█\u001b[0m█\u001b[0m█\u001b[0m█\u001b[0m█\u001b[0m█\u001b[0m\u001b[33m█\u001b[0m\u001b[32m█\u001b[0m\u001b[32m█\u001b[0m\u001b[32m█\u001b[0m\u001b[32m█\u001b[0m\u001b[32m█\u001b[0m\u001b[32m█\u001b[0m\u001b[32m█\u001b[0m\u001b[32m█\u001b[0m\u001b[32m█\u001b[0m\u001b[32m█\u001b[0m\u001b[32m█\u001b[0m\u001b[32m█\u001b[0m\u001b[32m█\u001b[0m\u001b[32m█\u001b[0m\u001b[32m█\u001b[0m\u001b[32m█\u001b[0m\u001b[32m█\u001b[0m\u001b[33m█\u001b[0m█\u001b[0m█\u001b[0m█\u001b[0m█\u001b[0m█\u001b[0m█\u001b[0m█\u001b[0m█\u001b[0m█\u001b[0m█\u001b[0m█\u001b[0m█\u001b[0m█\u001b[0m█\u001b[0m█\u001b[0m█\u001b[0m█\u001b[0m█\u001b[0m█\u001b[0m█\u001b[0m█\u001b[0m█\u001b[0m█\u001b[0m\n",
      "█\u001b[0m█\u001b[0m█\u001b[0m█\u001b[0m█\u001b[0m█\u001b[0m█\u001b[0m█\u001b[0m█\u001b[0m█\u001b[0m█\u001b[0m█\u001b[0m█\u001b[0m█\u001b[0m█\u001b[0m█\u001b[0m█\u001b[0m█\u001b[0m█\u001b[0m█\u001b[0m█\u001b[0m█\u001b[0m█\u001b[0m█\u001b[0m\u001b[33m█\u001b[0m\u001b[32m█\u001b[0m\u001b[32m█\u001b[0m\u001b[32m█\u001b[0m\u001b[32m█\u001b[0m\u001b[32m█\u001b[0m\u001b[32m█\u001b[0m\u001b[32m█\u001b[0m\u001b[32m█\u001b[0m\u001b[32m█\u001b[0m\u001b[32m█\u001b[0m\u001b[32m█\u001b[0m\u001b[33m█\u001b[0m█\u001b[0m█\u001b[0m█\u001b[0m█\u001b[0m█\u001b[0m█\u001b[0m█\u001b[0m█\u001b[0m█\u001b[0m█\u001b[0m█\u001b[0m█\u001b[0m█\u001b[0m█\u001b[0m█\u001b[0m█\u001b[0m█\u001b[0m█\u001b[0m█\u001b[0m█\u001b[0m█\u001b[0m█\u001b[0m█\u001b[0m█\u001b[0m█\u001b[0m█\u001b[0m\n",
      "█\u001b[0m█\u001b[0m█\u001b[0m█\u001b[0m█\u001b[0m█\u001b[0m█\u001b[0m█\u001b[0m█\u001b[0m█\u001b[0m█\u001b[0m█\u001b[0m█\u001b[0m█\u001b[0m█\u001b[0m█\u001b[0m█\u001b[0m█\u001b[0m█\u001b[0m█\u001b[0m█\u001b[0m█\u001b[0m█\u001b[0m█\u001b[0m█\u001b[0m█\u001b[0m█\u001b[0m\u001b[33m█\u001b[0m\u001b[32m█\u001b[0m\u001b[32m█\u001b[0m\u001b[32m█\u001b[0m\u001b[32m█\u001b[0m\u001b[32m█\u001b[0m\u001b[33m█\u001b[0m█\u001b[0m█\u001b[0m█\u001b[0m█\u001b[0m█\u001b[0m█\u001b[0m█\u001b[0m█\u001b[0m█\u001b[0m█\u001b[0m█\u001b[0m█\u001b[0m█\u001b[0m█\u001b[0m█\u001b[0m█\u001b[0m█\u001b[0m█\u001b[0m█\u001b[0m█\u001b[0m█\u001b[0m█\u001b[0m█\u001b[0m█\u001b[0m█\u001b[0m█\u001b[0m█\u001b[0m█\u001b[0m█\u001b[0m\n",
      "█\u001b[0m█\u001b[0m█\u001b[0m█\u001b[0m█\u001b[0m█\u001b[0m█\u001b[0m█\u001b[0m█\u001b[0m█\u001b[0m█\u001b[0m█\u001b[0m█\u001b[0m█\u001b[0m█\u001b[0m█\u001b[0m█\u001b[0m█\u001b[0m█\u001b[0m█\u001b[0m█\u001b[0m█\u001b[0m█\u001b[0m█\u001b[0m█\u001b[0m█\u001b[0m█\u001b[0m█\u001b[0m█\u001b[0m█\u001b[0m\u001b[33m█\u001b[0m█\u001b[0m█\u001b[0m█\u001b[0m█\u001b[0m█\u001b[0m█\u001b[0m█\u001b[0m█\u001b[0m█\u001b[0m█\u001b[0m█\u001b[0m█\u001b[0m█\u001b[0m█\u001b[0m█\u001b[0m█\u001b[0m█\u001b[0m█\u001b[0m█\u001b[0m█\u001b[0m█\u001b[0m█\u001b[0m█\u001b[0m█\u001b[0m█\u001b[0m█\u001b[0m█\u001b[0m█\u001b[0m█\u001b[0m█\u001b[0m█\u001b[0m█\u001b[0m\n",
      "█\u001b[0m█\u001b[0m█\u001b[0m█\u001b[0m█\u001b[0m█\u001b[0m█\u001b[0m█\u001b[0m█\u001b[0m█\u001b[0m█\u001b[0m█\u001b[0m█\u001b[0m█\u001b[0m█\u001b[0m█\u001b[0m█\u001b[0m█\u001b[0m█\u001b[0m█\u001b[0m█\u001b[0m█\u001b[0m█\u001b[0m█\u001b[0m█\u001b[0m█\u001b[0m█\u001b[0m\u001b[33m█\u001b[0m\u001b[32m█\u001b[0m\u001b[32m█\u001b[0m\u001b[32m█\u001b[0m\u001b[32m█\u001b[0m\u001b[32m█\u001b[0m\u001b[33m█\u001b[0m█\u001b[0m█\u001b[0m█\u001b[0m█\u001b[0m█\u001b[0m█\u001b[0m█\u001b[0m█\u001b[0m█\u001b[0m█\u001b[0m█\u001b[0m█\u001b[0m█\u001b[0m█\u001b[0m█\u001b[0m█\u001b[0m█\u001b[0m█\u001b[0m█\u001b[0m█\u001b[0m█\u001b[0m█\u001b[0m█\u001b[0m█\u001b[0m█\u001b[0m█\u001b[0m█\u001b[0m█\u001b[0m█\u001b[0m\n",
      "█\u001b[0m█\u001b[0m█\u001b[0m█\u001b[0m█\u001b[0m█\u001b[0m█\u001b[0m█\u001b[0m█\u001b[0m█\u001b[0m█\u001b[0m█\u001b[0m█\u001b[0m█\u001b[0m█\u001b[0m█\u001b[0m█\u001b[0m█\u001b[0m█\u001b[0m█\u001b[0m█\u001b[0m█\u001b[0m█\u001b[0m█\u001b[0m\u001b[33m█\u001b[0m\u001b[32m█\u001b[0m\u001b[32m█\u001b[0m\u001b[32m█\u001b[0m\u001b[32m█\u001b[0m\u001b[32m█\u001b[0m\u001b[32m█\u001b[0m\u001b[32m█\u001b[0m\u001b[32m█\u001b[0m\u001b[32m█\u001b[0m\u001b[32m█\u001b[0m\u001b[32m█\u001b[0m\u001b[33m█\u001b[0m█\u001b[0m█\u001b[0m█\u001b[0m█\u001b[0m█\u001b[0m█\u001b[0m█\u001b[0m█\u001b[0m█\u001b[0m█\u001b[0m█\u001b[0m█\u001b[0m█\u001b[0m█\u001b[0m█\u001b[0m█\u001b[0m█\u001b[0m█\u001b[0m█\u001b[0m█\u001b[0m█\u001b[0m█\u001b[0m█\u001b[0m█\u001b[0m█\u001b[0m█\u001b[0m\n",
      "█\u001b[0m█\u001b[0m█\u001b[0m█\u001b[0m█\u001b[0m█\u001b[0m█\u001b[0m█\u001b[0m█\u001b[0m█\u001b[0m█\u001b[0m█\u001b[0m█\u001b[0m█\u001b[0m█\u001b[0m█\u001b[0m█\u001b[0m█\u001b[0m█\u001b[0m█\u001b[0m█\u001b[0m\u001b[33m█\u001b[0m\u001b[32m█\u001b[0m\u001b[32m█\u001b[0m\u001b[32m█\u001b[0m\u001b[32m█\u001b[0m\u001b[32m█\u001b[0m\u001b[32m█\u001b[0m\u001b[32m█\u001b[0m\u001b[32m█\u001b[0m\u001b[32m█\u001b[0m\u001b[32m█\u001b[0m\u001b[32m█\u001b[0m\u001b[32m█\u001b[0m\u001b[32m█\u001b[0m\u001b[32m█\u001b[0m\u001b[32m█\u001b[0m\u001b[32m█\u001b[0m\u001b[32m█\u001b[0m\u001b[33m█\u001b[0m█\u001b[0m█\u001b[0m█\u001b[0m█\u001b[0m█\u001b[0m█\u001b[0m█\u001b[0m█\u001b[0m█\u001b[0m█\u001b[0m█\u001b[0m█\u001b[0m█\u001b[0m█\u001b[0m█\u001b[0m█\u001b[0m█\u001b[0m█\u001b[0m█\u001b[0m█\u001b[0m█\u001b[0m█\u001b[0m█\u001b[0m\n",
      "█\u001b[0m█\u001b[0m█\u001b[0m█\u001b[0m█\u001b[0m█\u001b[0m█\u001b[0m█\u001b[0m█\u001b[0m█\u001b[0m█\u001b[0m█\u001b[0m█\u001b[0m█\u001b[0m█\u001b[0m█\u001b[0m█\u001b[0m█\u001b[0m\u001b[33m█\u001b[0m\u001b[32m█\u001b[0m\u001b[32m█\u001b[0m\u001b[32m█\u001b[0m\u001b[32m█\u001b[0m\u001b[32m█\u001b[0m\u001b[32m█\u001b[0m\u001b[32m█\u001b[0m\u001b[32m█\u001b[0m\u001b[32m█\u001b[0m\u001b[32m█\u001b[0m\u001b[32m█\u001b[0m\u001b[32m█\u001b[0m\u001b[32m█\u001b[0m\u001b[32m█\u001b[0m\u001b[32m█\u001b[0m\u001b[32m█\u001b[0m\u001b[32m█\u001b[0m\u001b[32m█\u001b[0m\u001b[32m█\u001b[0m\u001b[32m█\u001b[0m\u001b[32m█\u001b[0m\u001b[32m█\u001b[0m\u001b[32m█\u001b[0m\u001b[33m█\u001b[0m█\u001b[0m█\u001b[0m█\u001b[0m█\u001b[0m█\u001b[0m█\u001b[0m█\u001b[0m█\u001b[0m█\u001b[0m█\u001b[0m█\u001b[0m█\u001b[0m█\u001b[0m█\u001b[0m█\u001b[0m█\u001b[0m█\u001b[0m█\u001b[0m█\u001b[0m█\u001b[0m\n",
      "█\u001b[0m█\u001b[0m█\u001b[0m█\u001b[0m█\u001b[0m█\u001b[0m█\u001b[0m█\u001b[0m█\u001b[0m█\u001b[0m█\u001b[0m█\u001b[0m█\u001b[0m█\u001b[0m█\u001b[0m\u001b[33m█\u001b[0m\u001b[32m█\u001b[0m\u001b[32m█\u001b[0m\u001b[32m█\u001b[0m\u001b[32m█\u001b[0m\u001b[32m█\u001b[0m\u001b[32m█\u001b[0m\u001b[32m█\u001b[0m\u001b[32m█\u001b[0m\u001b[32m█\u001b[0m\u001b[32m█\u001b[0m\u001b[32m█\u001b[0m\u001b[32m█\u001b[0m\u001b[32m█\u001b[0m\u001b[32m█\u001b[0m\u001b[32m█\u001b[0m\u001b[32m█\u001b[0m\u001b[32m█\u001b[0m\u001b[32m█\u001b[0m\u001b[32m█\u001b[0m\u001b[32m█\u001b[0m\u001b[32m█\u001b[0m\u001b[32m█\u001b[0m\u001b[32m█\u001b[0m\u001b[32m█\u001b[0m\u001b[32m█\u001b[0m\u001b[32m█\u001b[0m\u001b[32m█\u001b[0m\u001b[32m█\u001b[0m\u001b[32m█\u001b[0m\u001b[33m█\u001b[0m█\u001b[0m█\u001b[0m█\u001b[0m█\u001b[0m█\u001b[0m█\u001b[0m█\u001b[0m█\u001b[0m█\u001b[0m█\u001b[0m█\u001b[0m█\u001b[0m█\u001b[0m█\u001b[0m█\u001b[0m█\u001b[0m█\u001b[0m\n",
      "█\u001b[0m█\u001b[0m█\u001b[0m█\u001b[0m█\u001b[0m█\u001b[0m█\u001b[0m█\u001b[0m█\u001b[0m█\u001b[0m█\u001b[0m█\u001b[0m\u001b[33m█\u001b[0m\u001b[32m█\u001b[0m\u001b[32m█\u001b[0m\u001b[32m█\u001b[0m\u001b[32m█\u001b[0m\u001b[32m█\u001b[0m\u001b[32m█\u001b[0m\u001b[32m█\u001b[0m\u001b[32m█\u001b[0m\u001b[32m█\u001b[0m\u001b[32m█\u001b[0m\u001b[32m█\u001b[0m\u001b[32m█\u001b[0m\u001b[32m█\u001b[0m\u001b[32m█\u001b[0m\u001b[32m█\u001b[0m\u001b[32m█\u001b[0m\u001b[32m█\u001b[0m\u001b[32m█\u001b[0m\u001b[32m█\u001b[0m\u001b[32m█\u001b[0m\u001b[32m█\u001b[0m\u001b[32m█\u001b[0m\u001b[32m█\u001b[0m\u001b[32m█\u001b[0m\u001b[32m█\u001b[0m\u001b[32m█\u001b[0m\u001b[32m█\u001b[0m\u001b[32m█\u001b[0m\u001b[32m█\u001b[0m\u001b[32m█\u001b[0m\u001b[32m█\u001b[0m\u001b[32m█\u001b[0m\u001b[32m█\u001b[0m\u001b[32m█\u001b[0m\u001b[32m█\u001b[0m\u001b[33m█\u001b[0m█\u001b[0m█\u001b[0m█\u001b[0m█\u001b[0m█\u001b[0m█\u001b[0m█\u001b[0m█\u001b[0m█\u001b[0m█\u001b[0m█\u001b[0m█\u001b[0m█\u001b[0m█\u001b[0m\n",
      "█\u001b[0m█\u001b[0m█\u001b[0m█\u001b[0m█\u001b[0m█\u001b[0m█\u001b[0m█\u001b[0m█\u001b[0m\u001b[33m█\u001b[0m\u001b[32m█\u001b[0m\u001b[32m█\u001b[0m\u001b[32m█\u001b[0m\u001b[32m█\u001b[0m\u001b[32m█\u001b[0m\u001b[32m█\u001b[0m\u001b[32m█\u001b[0m\u001b[32m█\u001b[0m\u001b[32m█\u001b[0m\u001b[32m█\u001b[0m\u001b[32m█\u001b[0m\u001b[32m█\u001b[0m\u001b[32m█\u001b[0m\u001b[32m█\u001b[0m\u001b[32m█\u001b[0m\u001b[32m█\u001b[0m\u001b[32m█\u001b[0m\u001b[32m█\u001b[0m\u001b[32m█\u001b[0m\u001b[32m█\u001b[0m\u001b[32m█\u001b[0m\u001b[32m█\u001b[0m\u001b[32m█\u001b[0m\u001b[32m█\u001b[0m\u001b[32m█\u001b[0m\u001b[32m█\u001b[0m\u001b[32m█\u001b[0m\u001b[32m█\u001b[0m\u001b[32m█\u001b[0m\u001b[32m█\u001b[0m\u001b[32m█\u001b[0m\u001b[32m█\u001b[0m\u001b[32m█\u001b[0m\u001b[32m█\u001b[0m\u001b[32m█\u001b[0m\u001b[32m█\u001b[0m\u001b[32m█\u001b[0m\u001b[32m█\u001b[0m\u001b[32m█\u001b[0m\u001b[32m█\u001b[0m\u001b[32m█\u001b[0m\u001b[33m█\u001b[0m█\u001b[0m█\u001b[0m█\u001b[0m█\u001b[0m█\u001b[0m█\u001b[0m█\u001b[0m█\u001b[0m█\u001b[0m█\u001b[0m█\u001b[0m\n",
      "█\u001b[0m█\u001b[0m█\u001b[0m█\u001b[0m█\u001b[0m█\u001b[0m\u001b[33m█\u001b[0m\u001b[32m█\u001b[0m\u001b[32m█\u001b[0m\u001b[32m█\u001b[0m\u001b[32m█\u001b[0m\u001b[32m█\u001b[0m\u001b[32m█\u001b[0m\u001b[32m█\u001b[0m\u001b[32m█\u001b[0m\u001b[32m█\u001b[0m\u001b[32m█\u001b[0m\u001b[32m█\u001b[0m\u001b[32m█\u001b[0m\u001b[32m█\u001b[0m\u001b[32m█\u001b[0m\u001b[32m█\u001b[0m\u001b[32m█\u001b[0m\u001b[32m█\u001b[0m\u001b[32m█\u001b[0m\u001b[32m█\u001b[0m\u001b[32m█\u001b[0m\u001b[32m█\u001b[0m\u001b[32m█\u001b[0m\u001b[32m█\u001b[0m\u001b[32m█\u001b[0m\u001b[32m█\u001b[0m\u001b[32m█\u001b[0m\u001b[32m█\u001b[0m\u001b[32m█\u001b[0m\u001b[32m█\u001b[0m\u001b[32m█\u001b[0m\u001b[32m█\u001b[0m\u001b[32m█\u001b[0m\u001b[32m█\u001b[0m\u001b[32m█\u001b[0m\u001b[32m█\u001b[0m\u001b[32m█\u001b[0m\u001b[32m█\u001b[0m\u001b[32m█\u001b[0m\u001b[32m█\u001b[0m\u001b[32m█\u001b[0m\u001b[32m█\u001b[0m\u001b[32m█\u001b[0m\u001b[32m█\u001b[0m\u001b[32m█\u001b[0m\u001b[32m█\u001b[0m\u001b[32m█\u001b[0m\u001b[32m█\u001b[0m\u001b[33m█\u001b[0m█\u001b[0m█\u001b[0m█\u001b[0m█\u001b[0m█\u001b[0m█\u001b[0m█\u001b[0m█\u001b[0m\n",
      "█\u001b[0m█\u001b[0m█\u001b[0m\u001b[33m█\u001b[0m\u001b[32m█\u001b[0m\u001b[32m█\u001b[0m\u001b[32m█\u001b[0m\u001b[32m█\u001b[0m\u001b[32m█\u001b[0m\u001b[32m█\u001b[0m\u001b[32m█\u001b[0m\u001b[32m█\u001b[0m\u001b[32m█\u001b[0m\u001b[32m█\u001b[0m\u001b[32m█\u001b[0m\u001b[32m█\u001b[0m\u001b[32m█\u001b[0m\u001b[32m█\u001b[0m\u001b[32m█\u001b[0m\u001b[32m█\u001b[0m\u001b[32m█\u001b[0m\u001b[32m█\u001b[0m\u001b[32m█\u001b[0m\u001b[32m█\u001b[0m\u001b[32m█\u001b[0m\u001b[32m█\u001b[0m\u001b[32m█\u001b[0m\u001b[32m█\u001b[0m\u001b[32m█\u001b[0m\u001b[32m█\u001b[0m\u001b[32m█\u001b[0m\u001b[32m█\u001b[0m\u001b[32m█\u001b[0m\u001b[32m█\u001b[0m\u001b[32m█\u001b[0m\u001b[32m█\u001b[0m\u001b[32m█\u001b[0m\u001b[32m█\u001b[0m\u001b[32m█\u001b[0m\u001b[32m█\u001b[0m\u001b[32m█\u001b[0m\u001b[32m█\u001b[0m\u001b[32m█\u001b[0m\u001b[32m█\u001b[0m\u001b[32m█\u001b[0m\u001b[32m█\u001b[0m\u001b[32m█\u001b[0m\u001b[32m█\u001b[0m\u001b[32m█\u001b[0m\u001b[32m█\u001b[0m\u001b[32m█\u001b[0m\u001b[32m█\u001b[0m\u001b[32m█\u001b[0m\u001b[32m█\u001b[0m\u001b[32m█\u001b[0m\u001b[32m█\u001b[0m\u001b[32m█\u001b[0m\u001b[33m█\u001b[0m█\u001b[0m█\u001b[0m█\u001b[0m█\u001b[0m█\u001b[0m\n",
      "\u001b[33m█\u001b[0m\u001b[32m█\u001b[0m\u001b[32m█\u001b[0m\u001b[32m█\u001b[0m\u001b[32m█\u001b[0m\u001b[32m█\u001b[0m\u001b[32m█\u001b[0m\u001b[32m█\u001b[0m\u001b[32m█\u001b[0m\u001b[32m█\u001b[0m\u001b[32m█\u001b[0m\u001b[32m█\u001b[0m\u001b[32m█\u001b[0m\u001b[32m█\u001b[0m\u001b[32m█\u001b[0m\u001b[32m█\u001b[0m\u001b[32m█\u001b[0m\u001b[32m█\u001b[0m\u001b[32m█\u001b[0m\u001b[32m█\u001b[0m\u001b[32m█\u001b[0m\u001b[32m█\u001b[0m\u001b[32m█\u001b[0m\u001b[32m█\u001b[0m\u001b[32m█\u001b[0m\u001b[32m█\u001b[0m\u001b[32m█\u001b[0m\u001b[32m█\u001b[0m\u001b[32m█\u001b[0m\u001b[32m█\u001b[0m\u001b[32m█\u001b[0m\u001b[32m█\u001b[0m\u001b[32m█\u001b[0m\u001b[32m█\u001b[0m\u001b[32m█\u001b[0m\u001b[32m█\u001b[0m\u001b[32m█\u001b[0m\u001b[32m█\u001b[0m\u001b[32m█\u001b[0m\u001b[32m█\u001b[0m\u001b[32m█\u001b[0m\u001b[32m█\u001b[0m\u001b[32m█\u001b[0m\u001b[32m█\u001b[0m\u001b[32m█\u001b[0m\u001b[32m█\u001b[0m\u001b[32m█\u001b[0m\u001b[32m█\u001b[0m\u001b[32m█\u001b[0m\u001b[32m█\u001b[0m\u001b[32m█\u001b[0m\u001b[32m█\u001b[0m\u001b[32m█\u001b[0m\u001b[32m█\u001b[0m\u001b[32m█\u001b[0m\u001b[32m█\u001b[0m\u001b[32m█\u001b[0m\u001b[32m█\u001b[0m\u001b[32m█\u001b[0m\u001b[32m█\u001b[0m\u001b[33m█\u001b[0m█\u001b[0m█\u001b[0m\n"
     ]
    }
   ],
   "source": [
    "import termcolor\n",
    "from termcolor import colored # colored(text,color) returns text in the color\n",
    "#Jamaican flag\n",
    "# What will be printed?  \n",
    "n = 21\n",
    "for i in range(n):\n",
    "    line = \"\"\n",
    "    for j in range(3*n):\n",
    "        if (j<3*i) and j< 3*(n-1-i) or j>3*i and j>3*(n-1-i): \n",
    "            color= None # black\n",
    "        else:\n",
    "            color = \"green\"\n",
    "        if j == 3*i or j==3*(n-1-i): \n",
    "            color=\"yellow\"\n",
    "        line += colored(\"█\",color)\n",
    "    print(line)"
   ]
  },
  {
   "cell_type": "markdown",
   "id": "f329672b",
   "metadata": {},
   "source": [
    "### You can already implement the logic for this machine that sorts tomatoes using functions, loops and if/else statements. If I give you a list with a bunch of strings denoting green tomoatoes and red tomatoes, what code would you write to return two lists, one with all the red tomatoes and one with all the green tomatoes?\n",
    "\n",
    "https://www.reddit.com/r/Damnthatsinteresting/comments/9elhs0/this_machine_gets_rid_of_the_green_tomatoes_by/    \n"
   ]
  },
  {
   "cell_type": "markdown",
   "id": "f6b32372",
   "metadata": {},
   "source": [
    "\n",
    "## How to trace through your code\n",
    "\n",
    "## How to execute code line by line\n",
    "\n",
    "## How to figure out a question your stuck on\n"
   ]
  },
  {
   "cell_type": "markdown",
   "id": "9bac5a65",
   "metadata": {},
   "source": [
    "### What happens with the code below?"
   ]
  },
  {
   "cell_type": "code",
   "execution_count": 6,
   "id": "c7327c20",
   "metadata": {},
   "outputs": [
    {
     "ename": "UnboundLocalError",
     "evalue": "cannot access local variable 'i' where it is not associated with a value",
     "output_type": "error",
     "traceback": [
      "\u001b[0;31m---------------------------------------------------------------------------\u001b[0m",
      "\u001b[0;31mUnboundLocalError\u001b[0m                         Traceback (most recent call last)",
      "Cell \u001b[0;32mIn [6], line 10\u001b[0m\n\u001b[1;32m      6\u001b[0m             L[i]\u001b[38;5;241m=\u001b[39mfirst_num\n\u001b[1;32m      8\u001b[0m L6\u001b[38;5;241m=\u001b[39m[\u001b[38;5;241m1\u001b[39m,\u001b[38;5;241m0\u001b[39m]\n\u001b[0;32m---> 10\u001b[0m \u001b[38;5;28mprint\u001b[39m(\u001b[43mfind_min\u001b[49m\u001b[43m(\u001b[49m\u001b[43mL6\u001b[49m\u001b[43m)\u001b[49m)\n",
      "Cell \u001b[0;32mIn [6], line 3\u001b[0m, in \u001b[0;36mfind_min\u001b[0;34m(L)\u001b[0m\n\u001b[1;32m      2\u001b[0m \u001b[38;5;28;01mdef\u001b[39;00m \u001b[38;5;21mfind_min\u001b[39m(L): \n\u001b[0;32m----> 3\u001b[0m     first_num\u001b[38;5;241m=\u001b[39m\u001b[43mi\u001b[49m \n\u001b[1;32m      4\u001b[0m     \u001b[38;5;28;01mfor\u001b[39;00m i \u001b[38;5;129;01min\u001b[39;00m \u001b[38;5;28mrange\u001b[39m(\u001b[38;5;28mlen\u001b[39m(L)):\n\u001b[1;32m      5\u001b[0m         \u001b[38;5;28;01mif\u001b[39;00m i\u001b[38;5;241m<\u001b[39mfirst_num: \n",
      "\u001b[0;31mUnboundLocalError\u001b[0m: cannot access local variable 'i' where it is not associated with a value"
     ]
    }
   ],
   "source": [
    "#A student answer\n",
    "def find_min(L): \n",
    "    first_num=i \n",
    "    for i in range(len(L)):\n",
    "        if i<first_num: \n",
    "            L[i]=first_num\n",
    "        \n",
    "L6=[1,0]\n",
    "\n",
    "print(find_min(L6))"
   ]
  },
  {
   "cell_type": "markdown",
   "id": "fe822f7c",
   "metadata": {},
   "source": [
    "Tracing through the code, we see that L=[1,0].\n",
    "first_num=i. We haven't defined i anywhere and we're trying to assign it to a variable, first_num. \n",
    "So we get an error. We want to assign first_num to the first element of the list, L[0]."
   ]
  },
  {
   "cell_type": "code",
   "execution_count": 8,
   "id": "64270e7e",
   "metadata": {},
   "outputs": [],
   "source": [
    "def find_min(L): \n",
    "    first_num=L[0] \n",
    "    for i in range(len(L)):\n",
    "        if i<first_num: \n",
    "            L[i]=first_num\n",
    "        \n",
    "L6=[1,0]\n",
    "\n",
    "print(find_min(L6))"
   ]
  },
  {
   "cell_type": "markdown",
   "id": "f97f6cf5",
   "metadata": {},
   "source": [
    "Now what happens?"
   ]
  },
  {
   "cell_type": "code",
   "execution_count": null,
   "id": "48ecfd69",
   "metadata": {},
   "outputs": [],
   "source": [
    "#A student answer\n",
    "def find_min(L): \n",
    "    first_num=L[0] \n",
    "    for i in range(len(L)):\n",
    "        if i<first_num: \n",
    "            L[i]=first_num\n",
    "        \n",
    "L6=[1,0]\n",
    "\n",
    "print(find_min(L6))"
   ]
  },
  {
   "cell_type": "markdown",
   "id": "28b1ccf3",
   "metadata": {},
   "source": [
    "Let trace through the code line by line to see. \n",
    "When we call find_min(L6), the function's argument, L becomes [1,0].<br />\n",
    "first_num=L[0]---->first_num=1 because L[0]=1.<br />\n",
    "len(L)=2. <br />\n",
    "range(2)=[0,1].<br />\n",
    "i iterates over [0,1]. i is first 0.<br />\n",
    "if i<first_num ---->if 0<1, which is true,<br />\n",
    "L[0]=first_num --->L[0]=1. <br />\n",
    "\n",
    "Our logic says that if <span style=\"color:red\"> the index</span> of the current element of the list we're iterating on is less than first_num which \n",
    "we're using to keep track of the minimum element thus far, we change the current element of the list to be the minimum element thus far. 1) We don't want to compare to the index of the current element. We want to compare to the  <span style=\"color:red\"> current element</span>. 2) We don't want to change the list. We only want a function that returns the minimum value in the list. So we need to change two li nes. 1) if i<first_num should change to if L[i]<first_num. 2) L[i]=first_num, to be first_num=L[i] instead. "
   ]
  },
  {
   "cell_type": "code",
   "execution_count": 14,
   "id": "1e66243e",
   "metadata": {},
   "outputs": [
    {
     "name": "stdout",
     "output_type": "stream",
     "text": [
      "None\n"
     ]
    }
   ],
   "source": [
    "def find_min(L): \n",
    "    first_num=L[0] \n",
    "    for i in range(len(L)):\n",
    "        if L[i]<first_num: \n",
    "            first_num=L[i]\n",
    "        \n",
    "L6=[1,0]\n",
    "\n",
    "print(find_min(L6))"
   ]
  },
  {
   "cell_type": "markdown",
   "id": "03e36f33",
   "metadata": {},
   "source": [
    "After tracing through the code line by line again, we see that the issue of the list being changed is fixed. We now change first_num instead. We can check by printing both the list and first_num to see how they are being changed in the for loop. However, now, we see that our function isn't returning anything. Its supposed to return the minimum element in the list once it iterates over the list. So we need to return the minimum element thus far after we've looked through all elements in the list, that is, after we have finished the for loop that iterates over the list. "
   ]
  },
  {
   "cell_type": "code",
   "execution_count": 20,
   "id": "3bb725c9",
   "metadata": {},
   "outputs": [
    {
     "name": "stdout",
     "output_type": "stream",
     "text": [
      "0\n"
     ]
    }
   ],
   "source": [
    "def find_min(L): \n",
    "    first_num=L[0] \n",
    "    for i in range(len(L)):\n",
    "        if L[i]<first_num: \n",
    "            first_num=L[i]\n",
    "    return first_num   \n",
    "L6=[1,0]\n",
    "\n",
    "print(find_min(L6))"
   ]
  },
  {
   "cell_type": "markdown",
   "id": "15cdb86e",
   "metadata": {},
   "source": [
    "### What happens now?"
   ]
  },
  {
   "cell_type": "code",
   "execution_count": 23,
   "id": "3653caf7",
   "metadata": {},
   "outputs": [],
   "source": [
    "def find_min(L): \n",
    "    first_num=L[0] \n",
    "    for i in range(len(L)):\n",
    "        if L[i]<first_num: \n",
    "            first_num=L[i]\n",
    "    return first_num   \n",
    "L6=[]\n",
    "\n",
    "print(find_min(L6))"
   ]
  },
  {
   "cell_type": "markdown",
   "id": "667bbcc2",
   "metadata": {},
   "source": [
    "We are trying to get the first element of an empty list. We should first check whether or not the list L input into the function is empty before trying to index into it. If its empty, we should just return without trying to find the minimum element. If its not empty, we can continue on to initializing first_num and finding the minimum element in the list. "
   ]
  },
  {
   "cell_type": "code",
   "execution_count": 24,
   "id": "7636c27e",
   "metadata": {},
   "outputs": [
    {
     "name": "stdout",
     "output_type": "stream",
     "text": [
      "There are no elements in this list\n",
      "None\n"
     ]
    }
   ],
   "source": [
    "#A student suggested the below. What is wrong?\n",
    "#A student answer\n",
    "def find_min(L): \n",
    "    if len(L)==0:\n",
    "        print(\"There are no elements in this list\")\n",
    "    return \n",
    "    first_num=L[0] \n",
    "    for i in range(len(L)):\n",
    "        if L[i]<first_num: \n",
    "            first_num=L[i]\n",
    "    return first_num   \n",
    "L6=[]\n",
    "\n",
    "\n",
    "print(find_min(L6))"
   ]
  },
  {
   "cell_type": "markdown",
   "id": "a22d67ea",
   "metadata": {},
   "source": [
    "It correctly tells us that there are no elements in the list and returns none when we input an empty list. But what happens when we input a list that is not empty? "
   ]
  },
  {
   "cell_type": "code",
   "execution_count": null,
   "id": "34f78ed0",
   "metadata": {},
   "outputs": [],
   "source": [
    "#A student suggested the below. What is wrong?\n",
    "#A student answer\n",
    "def find_min(L): \n",
    "    if len(L)==0:\n",
    "        print(\"There are no elements in this list\")\n",
    "    return \n",
    "    first_num=L[0] \n",
    "    for i in range(len(L)):\n",
    "        if L[i]<first_num: \n",
    "            first_num=L[i]\n",
    "    return first_num   \n",
    "\n",
    "L6=[-1,100,23,-100]\n",
    "\n",
    "print(find_min(L6))"
   ]
  },
  {
   "cell_type": "markdown",
   "id": "e7e0a35f",
   "metadata": {},
   "source": [
    "It also tells us that there are no elements in this list. We return from the function regardless of whether the inputted list is empty or not, because our return function is outside of the if statement checking whether the list is empty. The return statement should be moved to inside the if statement checking for an empty list. "
   ]
  },
  {
   "cell_type": "code",
   "execution_count": 25,
   "id": "368c5cc0",
   "metadata": {},
   "outputs": [
    {
     "name": "stdout",
     "output_type": "stream",
     "text": [
      "-100\n"
     ]
    }
   ],
   "source": [
    "#A student suggested the below. What is wrong?\n",
    "#A student answer\n",
    "def find_min(L): \n",
    "    if len(L)==0:\n",
    "        print(\"There are no elements in this list\")\n",
    "        return \n",
    "    first_num=L[0] \n",
    "    for i in range(len(L)):\n",
    "        if L[i]<first_num: \n",
    "            first_num=L[i]\n",
    "    return first_num   \n",
    "\n",
    "L6=[-1,100,23,-100]\n",
    "\n",
    "print(find_min(L6))"
   ]
  },
  {
   "cell_type": "markdown",
   "id": "bed40fec",
   "metadata": {},
   "source": [
    "### Can you create find_min using a while loop instead of a for loop? Remember the 4 steps\n",
    "## Step 1: Read the question: \n",
    "### This might sound obvious but you need to read and re-read the question a few times to make sure you understand what it is asking. \n",
    "## Step 2: Run a small example: \n",
    "### Have a few scenarios and write out what the question should answer in those scenarios. Think about how you would approach the problem for those few examples. \n",
    "## Step 3: Write pseudo code: \n",
    "### Once you've done step 2, for a small example, think about how you can generalize it for the problem you were given. After you have thought about your approach and potentially even said it out loud, write out your logic in pseudo code. Pseudo code is a combination of English and code but the important thing here is to write out how you would approach the problem. \n",
    "## Step 4: Translate pseudo code to python. \n",
    "### Translate your pseudo code from Step 3 to python code. "
   ]
  },
  {
   "cell_type": "markdown",
   "id": "54b928a4",
   "metadata": {},
   "source": [
    "Just like before, we need a variable to keep track of the minimum element so far.\n",
    "Just like before, we need to iterate over the list and compare the current element of the list to the minimum variable thus far. \n",
    "But now, the only format we can have is<br />\n",
    "while SOMETHING IS TRUE:&ensp;&ensp;----->What would you be checking for here?<br />\n",
    "&ensp;&ensp;&ensp;&ensp;&ensp;&ensp;Do Something&ensp;&ensp;----->What do you do here?"
   ]
  },
  {
   "cell_type": "code",
   "execution_count": 31,
   "id": "e1b89a41",
   "metadata": {},
   "outputs": [
    {
     "name": "stdout",
     "output_type": "stream",
     "text": [
      "2\n"
     ]
    }
   ],
   "source": [
    "def find_min(L):\n",
    "    if len(L)==0:   #---->Check if the list is empty, same as when we used the for loop.\n",
    "        return         \n",
    "    current_min=L[0]#---->same as when we used the for loop \n",
    "    i=0          \n",
    "    while i<len(L):   \n",
    "        #We are iterating over the indices of the list, which go from 0 up to the length of the list-1  \n",
    "        #For example, if L is [5,3,1,200], we want i to be 0,1,2,3. We want to stop the loop when i is 4 \n",
    "        #because we don't want to attempt to get the 5th element of a list with only 4 elements. \n",
    "        if L[i]<current_min:\n",
    "            current_min=L[i]  \n",
    "            #This if statement is the same as when we used a for loop iterating over the list indices.\n",
    "        i+=1   \n",
    "        #This is new to the while loop. While the for loops we used were automatically incrementing, \n",
    "        #here, we need to manually increment the index to go to the next value. \n",
    "    return current_min  #--->This part is the same. \n",
    "L1=[3,1,-5,200,1,1]\n",
    "L2=[]   #\n",
    "L3=[1]\n",
    "L4=[5,3,1,200]\n",
    "L5=[2,2,4]\n",
    "print(find_min(L5))"
   ]
  }
 ],
 "metadata": {
  "kernelspec": {
   "display_name": "Python 3 (ipykernel)",
   "language": "python",
   "name": "python3"
  },
  "language_info": {
   "codemirror_mode": {
    "name": "ipython",
    "version": 3
   },
   "file_extension": ".py",
   "mimetype": "text/x-python",
   "name": "python",
   "nbconvert_exporter": "python",
   "pygments_lexer": "ipython3",
   "version": "3.11.0"
  }
 },
 "nbformat": 4,
 "nbformat_minor": 5
}
