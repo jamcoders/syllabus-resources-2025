{
 "cells": [
  {
   "cell_type": "code",
   "execution_count": 3,
   "id": "cc33394d",
   "metadata": {},
   "outputs": [],
   "source": [
    "%config InteractiveShell.ast_node_interactivity=\"none\""
   ]
  },
  {
   "cell_type": "markdown",
   "id": "0a318bd8",
   "metadata": {},
   "source": [
    "#### Review of lab question <br />\n",
    "Write a function called remove_letter(s,l) which takes in a string and a letter and returns the letter removed from the string if the letter exists in the string. <br /><br />\n",
    "E.g. remove_letter('starts','s') should return 'tart'.<br />"
   ]
  },
  {
   "cell_type": "markdown",
   "id": "a3d07c3b",
   "metadata": {},
   "source": [
    "***Recursive Case:*** If the first letter of the string is the same as the letter to be removed, then we want to return the rest of the string with that letter removed. But if the first letter of the string isn't the same as the letter to be removed, we want to return the first letter of the string concatenated with the letter removed from the rest of the string.<br /><br />\n",
    "\n",
    "***Base Case:*** When the string is an empty string, we know that whatever letter we get isn't in the string, so we just return an empty string. "
   ]
  },
  {
   "cell_type": "code",
   "execution_count": 81,
   "id": "3691b2f5",
   "metadata": {},
   "outputs": [],
   "source": [
    "def remove_letter(s,l):\n",
    "    if s=='':\n",
    "        return ''\n",
    "    if s[0]==l:\n",
    "        return remove_letter(s[1:],l)\n",
    "    return s[0]+remove_letter(s[1:],l)"
   ]
  },
  {
   "cell_type": "code",
   "execution_count": 82,
   "id": "dfa92825",
   "metadata": {},
   "outputs": [
    {
     "name": "stdout",
     "output_type": "stream",
     "text": [
      "tart\n",
      "starts\n"
     ]
    }
   ],
   "source": [
    "print(remove_letter('starts','s'))\n",
    "print(remove_letter('starts','d'))"
   ]
  },
  {
   "cell_type": "markdown",
   "id": "114826b0",
   "metadata": {},
   "source": [
    "Write a function called num_times(l,s) which takes in a string and a letter and returns the number of times the letter exists in the string. <br /><br />\n",
    "E.g. num_times('s','starts') should return 2.<br /><br />\n",
    "num_times('a', 'apple') should return 1.<br />\n",
    "num_times('t', 'apple') should return 0. "
   ]
  },
  {
   "cell_type": "markdown",
   "id": "8cb7c442",
   "metadata": {},
   "source": [
    "Write a function called skip_print that prints every other number starting from the number and going to zero.<br />\n",
    "\n",
    "E.g. skip_print(5) prints 5,3,1<br />\n",
    "skip_print(6) prints 6,4,2,0<br />\n",
    "skip_print(0) prints 0<br />"
   ]
  },
  {
   "cell_type": "code",
   "execution_count": 36,
   "id": "708811c6",
   "metadata": {},
   "outputs": [
    {
     "name": "stdout",
     "output_type": "stream",
     "text": [
      "8\n",
      "6\n",
      "4\n",
      "2\n",
      "0\n"
     ]
    }
   ],
   "source": [
    "def skip_print(num):\n",
    "    if num==0 or num==1: #-->what's another way to write this?\n",
    "        print(num)\n",
    "    else:\n",
    "        print(num)\n",
    "        skip_print(num-2)\n",
    "skip_print(8)"
   ]
  },
  {
   "cell_type": "markdown",
   "id": "c295a9c0",
   "metadata": {},
   "source": [
    "***Recursive Case:*** All we gotta do here is print the input number n and then run skip_print(n-2). We first want to print the number n, and then we want to do the same for n-2 and contue on like that...<br /><br />\n",
    "\n",
    "***Base Case:*** If the number is 0 or the number is 1, then we want to print the number and that's it.  "
   ]
  },
  {
   "cell_type": "code",
   "execution_count": 83,
   "id": "9738a590",
   "metadata": {},
   "outputs": [],
   "source": [
    "#A student wrote this solution. What is wrong?\n",
    "def skip_print(n):\n",
    "    if n<=0: \n",
    "        return\n",
    "    else:\n",
    "        return n, skip_print(n-2)"
   ]
  },
  {
   "cell_type": "code",
   "execution_count": null,
   "id": "4a493438",
   "metadata": {},
   "outputs": [],
   "source": [
    "skip_print(8) #Nothing is printed when we run the function above. "
   ]
  },
  {
   "cell_type": "code",
   "execution_count": 88,
   "id": "59409181",
   "metadata": {},
   "outputs": [],
   "source": [
    "#A student wrote this solution. What is wrong?\n",
    "\n",
    "#First off, nothing is being printed here. \n",
    "#We were asked to print the number n and every other number below n, \n",
    "#going down to 0 or 1 \n",
    "def skip_print(n):\n",
    "    if n<=0: \n",
    "        print(n) #--->we should print n. \n",
    "        #return\n",
    "    else: #we only go here if n is greater than zero \n",
    "        print(n) #--->we also should print n here. \n",
    "        #return n --->we also don't need to return n\n",
    "        skip_print(n-2)\n",
    "    \n",
    "#what happens when we call this function?"
   ]
  },
  {
   "cell_type": "code",
   "execution_count": 87,
   "id": "af36a859",
   "metadata": {},
   "outputs": [
    {
     "name": "stdout",
     "output_type": "stream",
     "text": [
      "6\n",
      "4\n",
      "2\n",
      "0\n"
     ]
    }
   ],
   "source": [
    "skip_print(6) #it works just fine with 6. What about with 5?"
   ]
  },
  {
   "cell_type": "code",
   "execution_count": 89,
   "id": "3c3d9960",
   "metadata": {},
   "outputs": [
    {
     "name": "stdout",
     "output_type": "stream",
     "text": [
      "5\n",
      "3\n",
      "1\n",
      "-1\n"
     ]
    }
   ],
   "source": [
    "skip_print(5) #It still prints -1. We want it to stop at 1. "
   ]
  },
  {
   "cell_type": "code",
   "execution_count": 97,
   "id": "57b558d7",
   "metadata": {},
   "outputs": [],
   "source": [
    "#A student wrote this solution. What is wrong?\n",
    "\n",
    "#First off, nothing is being printed here. \n",
    "#We were asked to print the number n and every other number below n, \n",
    "#going down to 0 or 1 \n",
    "def skip_print(n):\n",
    "    if n<=1: \n",
    "        print(n) #--->we should print n. \n",
    "        #return\n",
    "    else: #we only go here if n is greater than zero \n",
    "        print(n) #--->we also should print n here. \n",
    "        #return n --->we also don't need to return n\n",
    "        skip_print(n-2)"
   ]
  },
  {
   "cell_type": "code",
   "execution_count": 98,
   "id": "1fab1694",
   "metadata": {},
   "outputs": [
    {
     "name": "stdout",
     "output_type": "stream",
     "text": [
      "5\n",
      "3\n",
      "1\n"
     ]
    }
   ],
   "source": [
    "skip_print(5) #Now we get the right output. "
   ]
  },
  {
   "cell_type": "markdown",
   "id": "70c98f64",
   "metadata": {},
   "source": [
    "Write a function called skip_print_forward that prints every other number starting from 0 or 1 and then going to the number.<br />\n",
    "\n",
    "e.g. skip_print(5) prints 1,3,5<br />\n",
    "skip_print(6) prints 0,2,4,6<br />\n",
    "skip_print(0) prints 0<br />"
   ]
  },
  {
   "cell_type": "code",
   "execution_count": 96,
   "id": "f57fa4fc",
   "metadata": {},
   "outputs": [],
   "source": [
    "def skip_print_forward(n):\n",
    "    if n<=1: \n",
    "        print(n) \n",
    "    else: \n",
    "        skip_print_forward(n-2)\n",
    "        print(n) "
   ]
  },
  {
   "cell_type": "markdown",
   "id": "5072a299",
   "metadata": {},
   "source": [
    "The only difference here is that while in skip_print we first print the number and then call the function on n-2, here we first want to call the function on n-2 and then print the number. For example, if n=6, we want to print 0,2,4,6. We don't want to print the number 6 until we have printed all the other numbers (0,2,4). How do we print all the other numbers? We run skip_print_forward (4). Lets trace through the code.<br /><br />\n",
    "skip_print_forward(6)--->calls skip_print_forward(4)--->which calls skip_print_forward(2)-->which calls skip_print_forward(0). <br />\n",
    "skip_print_forwrad(0) prints 0 and now we're back at skip_print_forward(2), at the line right after we called skip_print_forward(0). That line says to print 2, so we print 2.<br />\n",
    "Then we're back at skip_print_forward(4)at the line right after we call skip_print_forward(2). That line says to print 4. So we print 4.<br />\n",
    "Finally we're back at skip_print_forward(6) at the line right after we call skip_print_forward(4). That line prints 6. "
   ]
  }
 ],
 "metadata": {
  "kernelspec": {
   "display_name": "Python 3 (ipykernel)",
   "language": "python",
   "name": "python3"
  },
  "language_info": {
   "codemirror_mode": {
    "name": "ipython",
    "version": 3
   },
   "file_extension": ".py",
   "mimetype": "text/x-python",
   "name": "python",
   "nbconvert_exporter": "python",
   "pygments_lexer": "ipython3",
   "version": "3.11.0"
  }
 },
 "nbformat": 4,
 "nbformat_minor": 5
}
