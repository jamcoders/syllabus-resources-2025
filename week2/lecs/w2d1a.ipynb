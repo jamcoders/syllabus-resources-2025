{
 "cells": [
  {
   "cell_type": "code",
   "execution_count": 1,
   "id": "b6130950",
   "metadata": {},
   "outputs": [],
   "source": [
    "%config InteractiveShell.ast_node_interactivity=\"none\""
   ]
  },
  {
   "cell_type": "markdown",
   "id": "bc694fdc",
   "metadata": {},
   "source": [
    "## How to trace through your code\n",
    "\n",
    "## How to execute code line by line\n",
    "\n",
    "## How to figure out a question your stuck on"
   ]
  },
  {
   "cell_type": "code",
   "execution_count": 9,
   "id": "0be81a64",
   "metadata": {},
   "outputs": [],
   "source": [
    "# Remember how loops over strings work\n",
    "# What happens here?\n",
    "def loopInFunction2(x):\n",
    "    for i in range(len(x)):\n",
    "        print(i*2+x[i:])\n",
    "    print('Loop completed!')\n",
    "\n",
    "loopInFunction2('5637291done')"
   ]
  },
  {
   "cell_type": "markdown",
   "id": "46f55d25",
   "metadata": {},
   "source": [
    "# Error messages are very important. They tell you \n",
    "\n",
    "## 1. Where in your code there is a problem and\n",
    "## 2. What type of problem exists. \n",
    "### In this case, I was trying to add a variable which is an intiger type to one that is a string type. If I traced my code line by line, I may have caught the error before running the code. \n",
    "\n",
    "### For the code in the next cell, write out what is output will be using pen and paper. But don't just write out the final answer. Write out the intermediate steps. For example, \n",
    "\n",
    "### What is x? \n",
    "### What is len(x)? \n",
    "### What is range(len(x))? \n",
    "### What values does i iterate over?\n",
    "### What is str(i*2)?\n",
    "### What is x[i:]?\n",
    "### What is str(i*2)+x[i:]?\n",
    "\n",
    "### Write out these values for each value that i iterates over. That is, trace through the code <span style=\"color:red\">DO NOT rush to write out the final answer without writing out the values above for each value of i and tracing through the code line by line. </span>."
   ]
  },
  {
   "cell_type": "code",
   "execution_count": 8,
   "id": "0e31fcc8",
   "metadata": {},
   "outputs": [],
   "source": [
    "# Remember how loops over strings work\n",
    "# What happens here?\n",
    "def loopInFunction2(x):\n",
    "    for i in range(len(x)):\n",
    "        print(str(i*2)+x[i:])\n",
    "    print('Loop completed!')\n",
    "\n",
    "loopInFunction2('5637291done')"
   ]
  },
  {
   "cell_type": "markdown",
   "id": "347b1c69",
   "metadata": {},
   "source": [
    "### The most important thing you'll learn in this program is how to think logically and slowly and sequentially work through a problem. <span style=\"color:red\">DO NOT rush to write out the final answer or write python code without going through the following steps</span>.\n",
    "\n",
    "## Step 1: Read the question: \n",
    "### This might sound obvious but you need to read and re-read the question a few times to make sure you understand what it is asking. \n",
    "## Step 2: \n",
    "### Run a small example: Have a few scenarios and write out what the question should answer in those scenarios. Think about how you would approach the problem for those few examples. \n",
    "## Step 3: \n",
    "### Write pseudo code: Once you've done step 2, for a small example, think about how you can generalize it for the problem you were given. After you have thought about your approach and potentially even said it out loud, write out your logic in pseudo code. Pseudo code is a combination of English and code but the important thing here is to write out how you would approach the problem. \n",
    "## Step 4: \n",
    "### Translate pseudo code to python. Translate your pseudo code from Step 3 to python code. "
   ]
  },
  {
   "cell_type": "markdown",
   "id": "4a37a7d7",
   "metadata": {},
   "source": [
    "## Now go through steps 1 to 4 to perform the following task. \n",
    "### Write a function find_min which takes in a list as input, and returns the minimum number in the list as output. "
   ]
  },
  {
   "cell_type": "markdown",
   "id": "178166f6",
   "metadata": {},
   "source": [
    "## Step1: Have you read the question multiple time to understand what it is asking?\n",
    "## Step2: What are the small examples you are running? \n",
    "### We might want examples where the minimum element in the list is the first element in the list, \n",
    "\n",
    "\n",
    "### Examples where the minimum is in the middle\n",
    "L1=[3,1,0,200,1,1]\n",
    "L2=[0,-10,3]\n",
    "\n",
    "\n",
    "### Examples where there list contains multiple elements with the same value\n",
    "L1=[0,2,2,4]\n",
    "L2=[2,2,2]\n",
    "\n",
    "\n",
    "### Examples where the input is an empty list, \n",
    "L=[]\n",
    "\n",
    "### Examples where the minimum is a positive number and in the middle of the list\n",
    "\n",
    "L4=[5,3,1,200]\n",
    "\n",
    "\n",
    "### Examples where the list only has one value\n",
    "L3=[1]\n",
    "\n",
    "### Write out what the output of find_min should be for each of these examples. What is the logic for finding this minimum? Think about it without writing code. "
   ]
  },
  {
   "cell_type": "markdown",
   "id": "243bed8b",
   "metadata": {},
   "source": [
    "### We need to go through each element in the list and check whether this element is the minimum one we have seen so far. To do that, we need to keep track of the minimum elelement we have seen thus far. Variables are how we store things, and loops are how we iterate over lists. So my pseudo code looks something like this. \n",
    "\n",
    "### min_var=first element of input list.  \n",
    "### For each element in the input list: \n",
    "### &ensp;&ensp;&ensp;&ensp;if element is less than min_var:\n",
    "###  &ensp;&ensp;&ensp;&ensp; &ensp;&ensp; min_var now takes on element\n",
    "### return min_var\n"
   ]
  },
  {
   "cell_type": "code",
   "execution_count": 25,
   "id": "751f7b29",
   "metadata": {},
   "outputs": [
    {
     "name": "stdout",
     "output_type": "stream",
     "text": [
      "1\n"
     ]
    }
   ],
   "source": [
    "def find_min(L):\n",
    "    current_min=L[0]\n",
    "    for x in L:   #--->x iterating over list \n",
    "        if x<current_min:\n",
    "            current_min=x\n",
    "    return current_min\n",
    "L1=[3,1,-5,200,1,1]\n",
    "L2=[]\n",
    "L3=[1]\n",
    "L4=[5,3,1,200]\n",
    "L5=[2,2,4]\n",
    "\n",
    "print(find_min(L4))\n",
    "\n",
    "#What happens when I have print(find_min(L2))? What do I need to change to fix the issue?"
   ]
  },
  {
   "cell_type": "code",
   "execution_count": 33,
   "id": "d534370f",
   "metadata": {},
   "outputs": [
    {
     "name": "stdout",
     "output_type": "stream",
     "text": [
      "-5\n"
     ]
    }
   ],
   "source": [
    "#Another student answer\n",
    "def find_min(L):\n",
    "    current_min=L[0]\n",
    "    for x in range(len(L)):   #--->x iterating over indexes of list   \n",
    "        if L[x]<current_min:\n",
    "            current_min=L[x]\n",
    "    return current_min\n",
    "L1=[3,1,-5,200,1,1]\n",
    "L2=[]   \n",
    "L3=[1]\n",
    "L4=[5,3,1,200]\n",
    "L5=[2,2,4]\n",
    "\n",
    "print(find_min(L1))\n",
    "\n",
    "#What happens when I have print(find_min(L2))? What do I need to change to fix the issue?"
   ]
  }
 ],
 "metadata": {
  "kernelspec": {
   "display_name": "Python 3 (ipykernel)",
   "language": "python",
   "name": "python3"
  },
  "language_info": {
   "codemirror_mode": {
    "name": "ipython",
    "version": 3
   },
   "file_extension": ".py",
   "mimetype": "text/x-python",
   "name": "python",
   "nbconvert_exporter": "python",
   "pygments_lexer": "ipython3",
   "version": "3.11.0"
  }
 },
 "nbformat": 4,
 "nbformat_minor": 5
}
